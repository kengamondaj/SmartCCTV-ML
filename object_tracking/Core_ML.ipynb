{
 "cells": [
  {
   "cell_type": "code",
   "execution_count": 1,
   "metadata": {},
   "outputs": [],
   "source": [
    "import warnings\n",
    "warnings.filterwarnings(\"ignore\")"
   ]
  },
  {
   "cell_type": "code",
   "execution_count": 2,
   "metadata": {},
   "outputs": [
    {
     "name": "stderr",
     "output_type": "stream",
     "text": [
      "c:\\users\\kengamd\\appdata\\local\\programs\\python\\python37\\lib\\site-packages\\sklearn\\utils\\linear_assignment_.py:21: DeprecationWarning: The linear_assignment_ module is deprecated in 0.21 and will be removed from 0.23. Use scipy.optimize.linear_sum_assignment instead.\n",
      "  DeprecationWarning)\n"
     ]
    }
   ],
   "source": [
    "from __future__ import division, print_function, absolute_import\n",
    "\n",
    "import numpy as np\n",
    "import os\n",
    "import sys\n",
    "import cv2\n",
    "import csv\n",
    "import tensorflow as tf\n",
    "import tensorflow.contrib.slim as slim\n",
    "\n",
    "import pandas as pd\n",
    "import time\n",
    "from tqdm import tqdm\n",
    "\n",
    "from collections import defaultdict\n",
    "from io import StringIO\n",
    "\n",
    "import argparse\n",
    "from application_util import preprocessing\n",
    "from application_util import visualization\n",
    "from deep_sort import nn_matching\n",
    "from deep_sort.detection import Detection\n",
    "from deep_sort.tracker import Tracker\n",
    "from time import sleep\n",
    "\n",
    "sys.path.insert(0, os.path.abspath(\"..\"))\n",
    "from object_detection.utils import label_map_util\n",
    "from object_detection.utils import visualization_utils as vis_util"
   ]
  },
  {
   "cell_type": "code",
   "execution_count": 3,
   "metadata": {},
   "outputs": [],
   "source": [
    "from math import factorial\n",
    "from deep_sort.iou_matching import iou\n",
    "from application_util import visualization\n",
    "from matplotlib import pyplot as plt\n",
    "from tqdm import tqdm\n",
    "from PIL import Image\n",
    "\n",
    "from sklearn.preprocessing import MinMaxScaler\n",
    "from sklearn.preprocessing import normalize\n",
    "from sklearn.linear_model import Ridge\n",
    "from sklearn.preprocessing import PolynomialFeatures\n",
    "from sklearn.pipeline import make_pipeline\n",
    "from sklearn.linear_model import LinearRegression"
   ]
  },
  {
   "cell_type": "code",
   "execution_count": 4,
   "metadata": {},
   "outputs": [],
   "source": [
    "# ================================================================================\n",
    "\n",
    "def detection(sess, video_path, det_path):\n",
    "    points_objs = []\n",
    "    start = time.time()\n",
    "    \n",
    "    skip = 0\n",
    "    id_frame = 1\n",
    "    id_center = 0\n",
    "    \n",
    "    cap = cv2.VideoCapture(video_path)\n",
    "    length = int(cap.get(cv2.CAP_PROP_FRAME_COUNT))\n",
    "    pbar = tqdm(total=length)\n",
    "    while(True):\n",
    "        ret, frame = cap.read()\n",
    "        if cv2.waitKey(1) & 0xFF == ord('q'): break\n",
    "        \n",
    "        image_np = np.array(frame)\n",
    "        if(image_np.shape == ()): break\n",
    "\n",
    "        print('Frame ID:', id_frame, '\\tTime:', '{0:.2f}'.format(time.time()-start), 'seconds')\n",
    "\n",
    "        image_np_expanded = np.expand_dims(image_np, axis=0)\n",
    "\n",
    "\n",
    "        image_tensor = detection_graph.get_tensor_by_name('image_tensor:0')\n",
    "        boxes = detection_graph.get_tensor_by_name('detection_boxes:0')\n",
    "        scores = detection_graph.get_tensor_by_name('detection_scores:0')\n",
    "        classes = detection_graph.get_tensor_by_name('detection_classes:0')\n",
    "        num_detections = detection_graph.get_tensor_by_name('num_detections:0')\n",
    "\n",
    "        (boxes, scores, classes, num_detections) = sess.run([boxes, scores, classes, num_detections],\n",
    "            feed_dict={image_tensor: image_np_expanded})\n",
    "\n",
    "        boxes = np.squeeze(boxes)\n",
    "        classes = np.squeeze(classes).astype(np.int32)\n",
    "        scores = np.squeeze(scores)\n",
    "\n",
    "        count_boxes = 0\n",
    "        thresh = 0.2\n",
    "        max_boxes = 50\n",
    "\n",
    "        for i, c in enumerate(classes):\n",
    "            if (c == 1 and (scores[i] > thresh) and (count_boxes < max_boxes)):\n",
    "                im_height = image_np.shape[0]\n",
    "                im_width = image_np.shape[1]\n",
    "                ymin, xmin, ymax, xmax = boxes[i]\n",
    "                \n",
    "                (left, right, top, bottom) = (int(xmin*im_width),  int(xmax*im_width),\n",
    "                                              int(ymin*im_height), int(ymax*im_height))\n",
    "                \n",
    "                \n",
    "                points_objs.append([\n",
    "                    id_frame, -1,\n",
    "                    left, top, right-left, bottom-top,\n",
    "                    scores[i],\n",
    "                    -1, -1, -1\n",
    "                ])\n",
    "                count_boxes += 1\n",
    "\n",
    "        id_frame += 1\n",
    "        pbar.update(1)\n",
    "    pbar.close()\n",
    "\n",
    "    cap.release()\n",
    "    cv2.destroyAllWindows()\n",
    "\n",
    "    # write detection\n",
    "\n",
    "    with open(det_path[:-3]+'csv', 'w') as file:\n",
    "        writer = csv.writer(file, lineterminator='\\n')\n",
    "        writer.writerows(points_objs)\n",
    "\n",
    "# ==============================================================================\n",
    "\n",
    "\"\"\"Parse command line arguments.\"\"\"\n",
    "def parse_args():\n",
    "    parser = argparse.ArgumentParser(description=\"Re-ID feature extractor\")\n",
    "    parser.add_argument(\n",
    "        \"--test_video\", \n",
    "        help=\"To run specific one\", \n",
    "        default=''\n",
    "    )\n",
    "    parser.add_argument(\n",
    "        \"--video_dir\", \n",
    "        help=\"Video directory.\", \n",
    "        default=\"../dataset/videos\"\n",
    "    )\n",
    "    parser.add_argument(\n",
    "        \"--det_dir\", \n",
    "        help=\"Detection directory. Will be created if it does not exist.\", \n",
    "        default=\"../dataset/detections\"\n",
    "    )\n",
    "    return parser.parse_args()"
   ]
  },
  {
   "cell_type": "code",
   "execution_count": 5,
   "metadata": {},
   "outputs": [],
   "source": [
    "def _batch_norm_fn(x, scope=None):\n",
    "    if scope is None:\n",
    "        scope = tf.get_variable_scope().name + \"/bn\"\n",
    "    return slim.batch_norm(x, scope=scope)\n",
    "\n",
    "\n",
    "def create_link(\n",
    "        incoming, network_builder, scope, nonlinearity=tf.nn.elu,\n",
    "        weights_initializer=tf.truncated_normal_initializer(stddev=1e-3),\n",
    "        regularizer=None, is_first=False, summarize_activations=True):\n",
    "    if is_first:\n",
    "        network = incoming\n",
    "    else:\n",
    "        network = _batch_norm_fn(incoming, scope=scope + \"/bn\")\n",
    "        network = nonlinearity(network)\n",
    "        if summarize_activations:\n",
    "            tf.summary.histogram(scope+\"/activations\", network)\n",
    "\n",
    "    pre_block_network = network\n",
    "    post_block_network = network_builder(pre_block_network, scope)\n",
    "\n",
    "    incoming_dim = pre_block_network.get_shape().as_list()[-1]\n",
    "    outgoing_dim = post_block_network.get_shape().as_list()[-1]\n",
    "    if incoming_dim != outgoing_dim:\n",
    "        assert outgoing_dim == 2 * incoming_dim, \\\n",
    "            \"%d != %d\" % (outgoing_dim, 2 * incoming)\n",
    "        projection = slim.conv2d(\n",
    "            incoming, outgoing_dim, 1, 2, padding=\"SAME\", activation_fn=None,\n",
    "            scope=scope+\"/projection\", weights_initializer=weights_initializer,\n",
    "            biases_initializer=None, weights_regularizer=regularizer)\n",
    "        network = projection + post_block_network\n",
    "    else:\n",
    "        network = incoming + post_block_network\n",
    "    return network\n",
    "\n",
    "\n",
    "def create_inner_block(\n",
    "        incoming, scope, nonlinearity=tf.nn.elu,\n",
    "        weights_initializer=tf.truncated_normal_initializer(1e-3),\n",
    "        bias_initializer=tf.zeros_initializer(), regularizer=None,\n",
    "        increase_dim=False, summarize_activations=True):\n",
    "    n = incoming.get_shape().as_list()[-1]\n",
    "    stride = 1\n",
    "    if increase_dim:\n",
    "        n *= 2\n",
    "        stride = 2\n",
    "\n",
    "    incoming = slim.conv2d(\n",
    "        incoming, n, [3, 3], stride, activation_fn=nonlinearity, padding=\"SAME\",\n",
    "        normalizer_fn=_batch_norm_fn, weights_initializer=weights_initializer,\n",
    "        biases_initializer=bias_initializer, weights_regularizer=regularizer,\n",
    "        scope=scope + \"/1\")\n",
    "    if summarize_activations:\n",
    "        tf.summary.histogram(incoming.name + \"/activations\", incoming)\n",
    "\n",
    "    incoming = slim.dropout(incoming, keep_prob=0.6)\n",
    "\n",
    "    incoming = slim.conv2d(\n",
    "        incoming, n, [3, 3], 1, activation_fn=None, padding=\"SAME\",\n",
    "        normalizer_fn=None, weights_initializer=weights_initializer,\n",
    "        biases_initializer=bias_initializer, weights_regularizer=regularizer,\n",
    "        scope=scope + \"/2\")\n",
    "    return incoming\n",
    "\n",
    "\n",
    "def residual_block(incoming, scope, nonlinearity=tf.nn.elu,\n",
    "                   weights_initializer=tf.truncated_normal_initializer(1e3),\n",
    "                   bias_initializer=tf.zeros_initializer(), regularizer=None,\n",
    "                   increase_dim=False, is_first=False,\n",
    "                   summarize_activations=True):\n",
    "\n",
    "    def network_builder(x, s):\n",
    "        return create_inner_block(\n",
    "            x, s, nonlinearity, weights_initializer, bias_initializer,\n",
    "            regularizer, increase_dim, summarize_activations)\n",
    "\n",
    "    return create_link(\n",
    "        incoming, network_builder, scope, nonlinearity, weights_initializer,\n",
    "        regularizer, is_first, summarize_activations)\n",
    "\n",
    "\n",
    "def _create_network(incoming, num_classes, reuse=None, l2_normalize=True,\n",
    "                   create_summaries=True, weight_decay=1e-8):\n",
    "    nonlinearity = tf.nn.elu\n",
    "    conv_weight_init = tf.truncated_normal_initializer(stddev=1e-3)\n",
    "    conv_bias_init = tf.zeros_initializer()\n",
    "    conv_regularizer = slim.l2_regularizer(weight_decay)\n",
    "    fc_weight_init = tf.truncated_normal_initializer(stddev=1e-3)\n",
    "    fc_bias_init = tf.zeros_initializer()\n",
    "    fc_regularizer = slim.l2_regularizer(weight_decay)\n",
    "\n",
    "    def batch_norm_fn(x):\n",
    "        return slim.batch_norm(x, scope=tf.get_variable_scope().name + \"/bn\")\n",
    "\n",
    "    network = incoming\n",
    "    network = slim.conv2d(\n",
    "        network, 32, [3, 3], stride=1, activation_fn=nonlinearity,\n",
    "        padding=\"SAME\", normalizer_fn=batch_norm_fn, scope=\"conv1_1\",\n",
    "        weights_initializer=conv_weight_init, biases_initializer=conv_bias_init,\n",
    "        weights_regularizer=conv_regularizer)\n",
    "    if create_summaries:\n",
    "        tf.summary.histogram(network.name + \"/activations\", network)\n",
    "        tf.summary.image(\"conv1_1/weights\", tf.transpose(\n",
    "            slim.get_variables(\"conv1_1/weights:0\")[0], [3, 0, 1, 2]),\n",
    "                         max_images=128)\n",
    "    network = slim.conv2d(\n",
    "        network, 32, [3, 3], stride=1, activation_fn=nonlinearity,\n",
    "        padding=\"SAME\", normalizer_fn=batch_norm_fn, scope=\"conv1_2\",\n",
    "        weights_initializer=conv_weight_init, biases_initializer=conv_bias_init,\n",
    "        weights_regularizer=conv_regularizer)\n",
    "    if create_summaries:\n",
    "        tf.summary.histogram(network.name + \"/activations\", network)\n",
    "\n",
    "    network = slim.max_pool2d(network, [3, 3], [2, 2], scope=\"pool1\")\n",
    "\n",
    "    network = residual_block(\n",
    "        network, \"conv2_1\", nonlinearity, conv_weight_init, conv_bias_init,\n",
    "        conv_regularizer, increase_dim=False, is_first=True,\n",
    "        summarize_activations=create_summaries)\n",
    "    network = residual_block(\n",
    "        network, \"conv2_3\", nonlinearity, conv_weight_init, conv_bias_init,\n",
    "        conv_regularizer, increase_dim=False,\n",
    "        summarize_activations=create_summaries)\n",
    "\n",
    "    network = residual_block(\n",
    "        network, \"conv3_1\", nonlinearity, conv_weight_init, conv_bias_init,\n",
    "        conv_regularizer, increase_dim=True,\n",
    "        summarize_activations=create_summaries)\n",
    "    network = residual_block(\n",
    "        network, \"conv3_3\", nonlinearity, conv_weight_init, conv_bias_init,\n",
    "        conv_regularizer, increase_dim=False,\n",
    "        summarize_activations=create_summaries)\n",
    "\n",
    "    network = residual_block(\n",
    "        network, \"conv4_1\", nonlinearity, conv_weight_init, conv_bias_init,\n",
    "        conv_regularizer, increase_dim=True,\n",
    "        summarize_activations=create_summaries)\n",
    "    network = residual_block(\n",
    "        network, \"conv4_3\", nonlinearity, conv_weight_init, conv_bias_init,\n",
    "        conv_regularizer, increase_dim=False,\n",
    "        summarize_activations=create_summaries)\n",
    "\n",
    "    feature_dim = network.get_shape().as_list()[-1]\n",
    "    print(\"feature dimensionality: \", feature_dim)\n",
    "    network = slim.flatten(network)\n",
    "\n",
    "    network = slim.dropout(network, keep_prob=0.6)\n",
    "    network = slim.fully_connected(\n",
    "        network, feature_dim, activation_fn=nonlinearity,\n",
    "        normalizer_fn=batch_norm_fn, weights_regularizer=fc_regularizer,\n",
    "        scope=\"fc1\", weights_initializer=fc_weight_init,\n",
    "        biases_initializer=fc_bias_init)\n",
    "\n",
    "    features = network\n",
    "\n",
    "    if l2_normalize:\n",
    "        # Features in rows, normalize axis 1.\n",
    "        features = slim.batch_norm(features, scope=\"ball\", reuse=reuse)\n",
    "        feature_norm = tf.sqrt(\n",
    "            tf.constant(1e-8, tf.float32) +\n",
    "            tf.reduce_sum(tf.square(features), [1], keep_dims=True))\n",
    "        features = features / feature_norm\n",
    "\n",
    "        with slim.variable_scope.variable_scope(\"ball\", reuse=reuse):\n",
    "            weights = slim.model_variable(\n",
    "                \"mean_vectors\", (feature_dim, num_classes),\n",
    "                initializer=tf.truncated_normal_initializer(stddev=1e-3),\n",
    "                regularizer=None)\n",
    "            scale = slim.model_variable(\n",
    "                \"scale\", (num_classes, ), tf.float32,\n",
    "                tf.constant_initializer(0., tf.float32), regularizer=None)\n",
    "            if create_summaries:\n",
    "                tf.summary.histogram(\"scale\", scale)\n",
    "\n",
    "            scale = tf.nn.softplus(scale)\n",
    "\n",
    "        # Each mean vector in columns, normalize axis 0.\n",
    "        weight_norm = tf.sqrt(\n",
    "            tf.constant(1e-8, tf.float32) +\n",
    "            tf.reduce_sum(tf.square(weights), [0], keep_dims=True))\n",
    "        logits = scale * tf.matmul(features, weights / weight_norm)\n",
    "\n",
    "    else:\n",
    "        logits = slim.fully_connected(\n",
    "            features, num_classes, activation_fn=None,\n",
    "            normalizer_fn=None, weights_regularizer=fc_regularizer,\n",
    "            scope=\"softmax\", weights_initializer=fc_weight_init,\n",
    "            biases_initializer=fc_bias_init)\n",
    "\n",
    "    return features, logits\n",
    "\n",
    "\n",
    "def _network_factory(num_classes, is_training, weight_decay=1e-8):\n",
    "\n",
    "    def factory_fn(image, reuse, l2_normalize):\n",
    "            with slim.arg_scope([slim.batch_norm, slim.dropout],\n",
    "                                is_training=is_training):\n",
    "                with slim.arg_scope([slim.conv2d, slim.fully_connected,\n",
    "                                     slim.batch_norm, slim.layer_norm],\n",
    "                                    reuse=reuse):\n",
    "                    features, logits = _create_network(\n",
    "                        image, num_classes, l2_normalize=l2_normalize,\n",
    "                        reuse=reuse, create_summaries=is_training,\n",
    "                        weight_decay=weight_decay)\n",
    "                    return features, logits\n",
    "\n",
    "    return factory_fn\n",
    "\n",
    "\n",
    "def _preprocess(image, is_training=False, enable_more_augmentation=True):\n",
    "    image = image[:, :, ::-1]  # BGR to RGB\n",
    "    if is_training:\n",
    "        image = tf.image.random_flip_left_right(image)\n",
    "        if enable_more_augmentation:\n",
    "            image = tf.image.random_brightness(image, max_delta=50)\n",
    "            image = tf.image.random_contrast(image, lower=0.8, upper=1.2)\n",
    "            image = tf.image.random_saturation(image, lower=0.8, upper=1.2)\n",
    "    return image\n",
    "\n",
    "\n",
    "def _run_in_batches(f, data_dict, out, batch_size):\n",
    "    data_len = len(out)\n",
    "    num_batches = int(data_len / batch_size)\n",
    "\n",
    "    s, e = 0, 0\n",
    "    for i in range(num_batches):\n",
    "        s, e = i * batch_size, (i + 1) * batch_size\n",
    "        batch_data_dict = {k: v[s:e] for k, v in data_dict.items()}\n",
    "        out[s:e] = f(batch_data_dict)\n",
    "    if e < len(out):\n",
    "        batch_data_dict = {k: v[e:] for k, v in data_dict.items()}\n",
    "        out[e:] = f(batch_data_dict)\n",
    "\n",
    "\n",
    "def extract_image_patch(image, bbox, patch_shape):\n",
    "    bbox = np.array(bbox)\n",
    "    if patch_shape is not None:\n",
    "        # correct aspect ratio to patch shape\n",
    "        target_aspect = float(patch_shape[1]) / patch_shape[0]\n",
    "        new_width = target_aspect * bbox[3]\n",
    "        bbox[0] -= (new_width - bbox[2]) / 2\n",
    "        bbox[2] = new_width\n",
    "\n",
    "    # convert to top left, bottom right\n",
    "    bbox[2:] += bbox[:2]\n",
    "    bbox = bbox.astype(np.int)\n",
    "\n",
    "    # clip at image boundaries\n",
    "    bbox[:2] = np.maximum(0, bbox[:2])\n",
    "    bbox[2:] = np.minimum(np.asarray(image.shape[:2][::-1]) - 1, bbox[2:])\n",
    "    if np.any(bbox[:2] >= bbox[2:]):\n",
    "        return None\n",
    "    sx, sy, ex, ey = bbox\n",
    "    image = image[sy:ey, sx:ex]\n",
    "    image = cv2.resize(image, patch_shape[::-1])\n",
    "\n",
    "    return image\n",
    "\n",
    "\n",
    "def _create_image_encoder(preprocess_fn, factory_fn, image_shape, batch_size=32,\n",
    "                         session=None, checkpoint_path=None,\n",
    "                         loss_mode=\"cosine\"):\n",
    "    image_var = tf.placeholder(tf.uint8, (None, ) + image_shape)\n",
    "\n",
    "    preprocessed_image_var = tf.map_fn(\n",
    "        lambda x: preprocess_fn(x, is_training=False),\n",
    "        tf.cast(image_var, tf.float32))\n",
    "\n",
    "    l2_normalize = loss_mode == \"cosine\"\n",
    "    feature_var, _ = factory_fn(\n",
    "        preprocessed_image_var, l2_normalize=l2_normalize, reuse=None)\n",
    "    feature_dim = feature_var.get_shape().as_list()[-1]\n",
    "\n",
    "    if session is None:\n",
    "        session = tf.Session()\n",
    "    if checkpoint_path is not None:\n",
    "        slim.get_or_create_global_step()\n",
    "        init_assign_op, init_feed_dict = slim.assign_from_checkpoint(\n",
    "            checkpoint_path, slim.get_variables_to_restore())\n",
    "        session.run(init_assign_op, feed_dict=init_feed_dict)\n",
    "\n",
    "    def encoder(data_x):\n",
    "        out = np.zeros((len(data_x), feature_dim), np.float32)\n",
    "        _run_in_batches(\n",
    "            lambda x: session.run(feature_var, feed_dict=x),\n",
    "            {image_var: data_x}, out, batch_size)\n",
    "        return out\n",
    "\n",
    "    return encoder\n",
    "\n",
    "\n",
    "def create_image_encoder(model_filename, batch_size=32, loss_mode=\"cosine\",\n",
    "                         session=None):\n",
    "    image_shape = 128, 64, 3\n",
    "    factory_fn = _network_factory(num_classes=1501, is_training=False, weight_decay=1e-8)\n",
    "\n",
    "    return _create_image_encoder(_preprocess, factory_fn, image_shape, batch_size, session,\n",
    "        model_filename, loss_mode)\n",
    "\n",
    "\n",
    "def create_box_encoder(model_filename, batch_size=32, loss_mode=\"cosine\"):\n",
    "    image_shape = 128, 64, 3\n",
    "    image_encoder = create_image_encoder(model_filename, batch_size, loss_mode)\n",
    "\n",
    "    def encoder(image, boxes):\n",
    "        image_patches = []\n",
    "        for box in boxes:\n",
    "            patch = extract_image_patch(image, box, image_shape[:2])\n",
    "            if patch is None:\n",
    "                print(\"WARNING: Failed to extract image patch: %s.\" % str(box))\n",
    "                patch = np.random.uniform(\n",
    "                    0., 255., image_shape).astype(np.uint8)\n",
    "            image_patches.append(patch)\n",
    "        image_patches = np.asarray(image_patches)\n",
    "        return image_encoder(image_patches)\n",
    "\n",
    "    return encoder\n",
    "\n",
    "\n",
    "def generate_detections(encoder, video_dir, det_dir, feat_dir):    \n",
    "    videos = os.listdir(video_dir)\n",
    "    videos.sort()\n",
    "    for video_name in videos:\n",
    "\n",
    "        if(video_name != test_video and test_video != '' ): \n",
    "            continue\n",
    "\n",
    "        print(\"Processing %s\" % video_name)\n",
    "\n",
    "        detection_file = os.path.join(det_dir, video_name[:-3]+'csv')\n",
    "        detections_in = np.loadtxt(detection_file, delimiter=',')\n",
    "        detections_out = []\n",
    "\n",
    "        cap = cv2.VideoCapture(os.path.join(video_dir, video_name))\n",
    "\n",
    "        frame_indices = detections_in[:, 0].astype(np.int)\n",
    "        min_frame_idx = frame_indices.astype(np.int).min()\n",
    "        max_frame_idx = frame_indices.astype(np.int).max()\n",
    "        for frame_idx in tqdm(range(min_frame_idx, max_frame_idx + 1)):\n",
    "            print(\"Frame %05d/%05d\" % (frame_idx, max_frame_idx))\n",
    "            mask = frame_indices == frame_idx\n",
    "            rows = detections_in[mask]\n",
    "            ret, bgr_image = cap.read()\n",
    "            features = encoder(bgr_image, rows[:, 2:6].copy())\n",
    "            detections_out += [np.r_[(row, feature)] for row, feature in zip(rows, features)]\n",
    "\n",
    "        feature_filename = os.path.join(feat_dir, \"%s.npy\" % video_name[:-4])\n",
    "        np.save(feature_filename, np.asarray(detections_out), allow_pickle=False)"
   ]
  },
  {
   "cell_type": "code",
   "execution_count": 6,
   "metadata": {},
   "outputs": [],
   "source": [
    "def gather_sequence_info(video_name, video_path, feat_path):\n",
    "    detections = np.load(feat_path)\n",
    "\n",
    "    cap = cv2.VideoCapture(video_path)\n",
    "    ret, frame = cap.read()\n",
    "    cap.release()\n",
    "\n",
    "    image_size = np.array(frame).shape[:-1] \n",
    "    # print(image_size)\n",
    "\n",
    "    min_frame_idx = int(detections[:, 0].min())\n",
    "    max_frame_idx = int(detections[:, 0].max())\n",
    "\n",
    "    feature_dim = detections.shape[1] - 10 if detections is not None else 0\n",
    "    seq_info = {\n",
    "        \"sequence_name\": video_name,\n",
    "        \"detections\": detections,\n",
    "        \"image_size\": image_size,\n",
    "        \"min_frame_idx\": min_frame_idx,\n",
    "        \"max_frame_idx\": max_frame_idx,\n",
    "        \"feature_dim\": feature_dim,\n",
    "        \"update_ms\": None\n",
    "    }\n",
    "    return seq_info\n",
    "\n",
    "\n",
    "def create_detections(detection_mat, frame_idx, min_height=0):\n",
    "    frame_indices = detection_mat[:, 0].astype(np.int)\n",
    "    mask = frame_indices == frame_idx\n",
    "\n",
    "    detection_list = []\n",
    "    for row in detection_mat[mask]:\n",
    "        bbox, confidence, feature = row[2:6], row[6], row[10:]\n",
    "        if bbox[3] < min_height:\n",
    "            continue\n",
    "        detection_list.append(Detection(bbox, confidence, feature))\n",
    "    return detection_list\n",
    "\n",
    "\n",
    "def run_deepsort(video_name, video_path, feat_path, track_path, min_confidence,\n",
    "        nms_max_overlap, min_detection_height, max_cosine_distance,\n",
    "        nn_budget, display):\n",
    "\n",
    "    seq_info = gather_sequence_info(video_name, video_path, feat_path)\n",
    "    metric = nn_matching.NearestNeighborDistanceMetric(\"cosine\", max_cosine_distance, nn_budget)\n",
    "    tracker = Tracker(metric, max_age=50, n_init=5)\n",
    "    results = []\n",
    "    cap = cv2.VideoCapture(video_path)\n",
    "    print('Video Path:', video_path,'\\tFeatures:', feat_path)\n",
    "\n",
    "    def frame_callback(vis, frame_idx):\n",
    "        # print(\"Processing frame %05d\" % frame_idx)\n",
    "\n",
    "        # Load image and generate detections.\n",
    "        detections = create_detections(seq_info[\"detections\"], frame_idx, min_detection_height)\n",
    "        detections = [d for d in detections if d.confidence >= min_confidence]\n",
    "\n",
    "        # Run non-maxima suppression.\n",
    "        boxes = np.array([d.tlwh for d in detections])\n",
    "        scores = np.array([d.confidence for d in detections])\n",
    "        indices = preprocessing.non_max_suppression(boxes, nms_max_overlap, scores)\n",
    "        detections = [detections[i] for i in indices]\n",
    "\n",
    "        # Update tracker.\n",
    "        tracker.predict()\n",
    "        tracker.update(detections)\n",
    "\n",
    "        # Update visualization.\n",
    "        if display:\n",
    "            vis.set_image(cap.read()[1])\n",
    "            \n",
    "            # vis.draw_detections(detections)\n",
    "            count_human = vis.draw_trackers(tracker.tracks)\n",
    "        else:\n",
    "            count_human = vis.draw_trackers(tracker.tracks)\n",
    "\n",
    "        # Store results.\n",
    "        for track in tracker.tracks:\n",
    "            if not track.is_confirmed() or track.time_since_update > 1:\n",
    "                continue\n",
    "            bbox = track.to_tlwh()\n",
    "            \n",
    "            ID = count_human.index(track.track_id) + 1\n",
    "            results.append([frame_idx, ID, bbox[0], bbox[1], bbox[2], bbox[3]])\n",
    "\n",
    "    # Run tracker.\n",
    "    if display:\n",
    "        visualizer = visualization.Visualization(seq_info, update_ms=50)\n",
    "    else:\n",
    "        visualizer = visualization.NoVisualization(seq_info)\n",
    "\n",
    "    visualizer.run(frame_callback)\n",
    "\n",
    "    cap.release()\n",
    "    # Store results.\n",
    "    f = open(track_path, 'w')\n",
    "    for row in results:\n",
    "        print('%d,%d,%.2f,%.2f,%.2f,%.2f,1,-1,-1,-1' % (\n",
    "            row[0], row[1], row[2], row[3], row[4], row[5]),file=f)\n",
    "\n",
    "def parse_args():\n",
    "    \"\"\"Parse command line arguments.\"\"\"\n",
    "    parser = argparse.ArgumentParser(description=\"Re-ID feature extractor\")\n",
    "\n",
    "    parser.add_argument(\n",
    "        \"--test_video\", \n",
    "        help=\"To run specific one\", \n",
    "        default=''\n",
    "    )\n",
    "    parser.add_argument(\n",
    "        \"--video_dir\", \n",
    "        help=\"Video directory.\", \n",
    "        default=\"../dataset/videos\"\n",
    "    )\n",
    "    parser.add_argument(\n",
    "        \"--det_dir\", help=\"Path to detection directory\",\n",
    "        default='../dataset/detections'\n",
    "    )\n",
    "    parser.add_argument(\n",
    "        \"--feat_dir\", \n",
    "        help=\"Features directory.\",\n",
    "        default=\"../dataset/features\"\n",
    "    )\n",
    "    parser.add_argument(\n",
    "        \"--tracks_dir\", help=\"Path to the tracking output file. This file will\"\n",
    "        \" contain the tracking results on completion.\",\n",
    "        default=\"../dataset/tracks\"\n",
    "    )\n",
    "    parser.add_argument(\n",
    "        \"--min_confidence\", help=\"Detection confidence threshold. Disregard \"\n",
    "        \"all detections that have a confidence lower than this value.\",\n",
    "        default=0.7, type=float\n",
    "    )\n",
    "    parser.add_argument(\n",
    "        \"--min_detection_height\", help=\"Threshold on the detection bounding \"\n",
    "        \"box height. Detections with height smaller than this value are \"\n",
    "        \"disregarded\", default=0, type=int\n",
    "    )\n",
    "    parser.add_argument(\n",
    "        \"--nms_max_overlap\",  help=\"Non-maxima suppression threshold: Maximum \"\n",
    "        \"detection overlap.\", default=1.0, type=float\n",
    "    )\n",
    "    parser.add_argument(\n",
    "        \"--max_cosine_distance\", help=\"Gating threshold for cosine distance \"\n",
    "        \"metric (object appearance).\", type=float, default=0.25\n",
    "    )\n",
    "    parser.add_argument(\n",
    "        \"--nn_budget\", help=\"Maximum size of the appearance descriptors \"\n",
    "        \"gallery. If None, no budget is enforced.\", type=int, default=None\n",
    "    )\n",
    "    parser.add_argument(\n",
    "        \"--display\", help=\"Show intermediate tracking results\",\n",
    "        default=False, type=bool\n",
    "    )\n",
    "\n",
    "    return parser.parse_args()"
   ]
  },
  {
   "cell_type": "code",
   "execution_count": 7,
   "metadata": {},
   "outputs": [],
   "source": [
    "def join(df_track):\n",
    "    prev_frame_idx = min(df_track['track_id'].index)\n",
    "    results = []\n",
    "    for frame_idx, currrent_row in df_track.iterrows():\n",
    "        gap = frame_idx - prev_frame_idx\n",
    "        if(gap > 1):\n",
    "            results.append(str(prev_frame_idx)+' -> '+ str(frame_idx))\n",
    "            currrent_row = np.array(currrent_row)\n",
    "            previous_row = np.array(df_track.loc[prev_frame_idx].values)\n",
    "            steps = (currrent_row - previous_row) / gap\n",
    "\n",
    "            for i, frame in enumerate(range(prev_frame_idx+1,frame_idx)):\n",
    "                df_track.loc[frame] = np.array(previous_row + (i+1) * steps).astype(int)\n",
    "\n",
    "        prev_frame_idx = frame_idx\n",
    "    df_track = df_track.sort_index()\n",
    "\n",
    "    misses = np.squeeze(list(set(range(min(df_track.index), \n",
    "                                       max(df_track.index) + 1)).difference(df_track.index)))\n",
    "    if(len(misses)==0 and len(results) > 0):\n",
    "        print('Track:', int(df_track['track_id'].iloc[0]),', concatenation complete, ',results)\n",
    "    elif(len(misses)!=0):\n",
    "        print('Warning!! Frame:', int(df_track['track_id'].iloc[0]), ', concatenation incomplete\\n')\n",
    "    return df_track\n",
    "\n",
    "def run_concatenate(track_path):\n",
    "    concat_track_file = track_path[:-4]+'_join.csv'\n",
    "    try: os.remove(concat_track_file)\n",
    "    except OSError: pass\n",
    "\n",
    "    df = pd.read_csv(track_path, header=None)\n",
    "    df.columns = ['frame_id','track_id','xmin','ymin','width','height', \n",
    "                  'confidence','neg_1', 'neg_2', 'neg_3']\n",
    "    df.index = df['frame_id']\n",
    "    df = df.drop(['frame_id'], axis=1)\n",
    "\n",
    "    concat = []\n",
    "    From, To = min(df['track_id']), max(df['track_id'])+1\n",
    "    for track_id in range(From, To):\n",
    "        concat.append(join(df.loc[df['track_id']==track_id].copy()))\n",
    "        \n",
    "    df_concat = pd.concat(concat)\n",
    "    df_concat = df_concat.sort_index() \n",
    "    df_concat.to_csv(concat_track_file, header=None)\n",
    "    print('=================')\n"
   ]
  },
  {
   "cell_type": "code",
   "execution_count": 8,
   "metadata": {},
   "outputs": [],
   "source": [
    "def gather_sequence_info(video_name, video_path, feat_path):\n",
    "    detections = np.load(feat_path)\n",
    "\n",
    "    cap = cv2.VideoCapture(video_path)\n",
    "    ret, frame = cap.read()\n",
    "    cap.release()\n",
    "\n",
    "    image_size = np.array(frame).shape[:-1] \n",
    "    # print(image_size)\n",
    "\n",
    "    min_frame_idx = int(detections[:, 0].min())\n",
    "    max_frame_idx = int(detections[:, 0].max())\n",
    "\n",
    "    feature_dim = detections.shape[1] - 10 if detections is not None else 0\n",
    "    seq_info = {\n",
    "        \"sequence_name\": video_name,\n",
    "        \"detections\": detections,\n",
    "        \"image_size\": image_size,\n",
    "        \"min_frame_idx\": min_frame_idx,\n",
    "        \"max_frame_idx\": max_frame_idx,\n",
    "        \"feature_dim\": feature_dim,\n",
    "        \"update_ms\": None\n",
    "    }\n",
    "    return seq_info\n",
    "\n",
    "# ========================================================================================================\n",
    "\n",
    "\n",
    "def capture(video_path, cap_dir, results, seq_info, is_plot=False):\n",
    "\n",
    "    if os.path.exists(cap_dir):\n",
    "        shutil.rmtree(cap_dir)\n",
    "    os.makedirs(cap_dir)\n",
    "\n",
    "    cap = cv2.VideoCapture(video_path)\n",
    "\n",
    "    N_track = int(max(results[:,1]))\n",
    "    subplot_x = 6\n",
    "    subplot_y = int(math.ceil(N_track/subplot_x))\n",
    "    print('Total Tracks:', N_track)\n",
    "    print('Subplot', subplot_y, subplot_x)\n",
    "\n",
    "    image_size = seq_info['image_size']\n",
    "    points = {}\n",
    "    captured = []\n",
    "\n",
    "    with tf.Session() as sess:\n",
    "        for frame_idx in tqdm(range(\n",
    "                            seq_info['min_frame_idx'], \n",
    "                            seq_info['max_frame_idx'] + 1), 'capturing output'):\n",
    "        \n",
    "            image_np = np.array(cap.read()[1])\n",
    "\n",
    "            mask = results[:, 0].astype(np.int) == frame_idx\n",
    "            track_ids = results[mask, 1].astype(np.int)\n",
    "            boxes = results[mask, 2:6]\n",
    "\n",
    "            for track_id, box in zip(track_ids, boxes):\n",
    "                if(track_id not in captured):\n",
    "                    captured.append(track_id)\n",
    "\n",
    "                    l,t,w,h = np.array(box).astype(int)\n",
    "                    if(l<0): l=0 # if xmin is negative \n",
    "                    if(t<0): t=0 # if ymin is negative\n",
    "\n",
    "                    if(l+w > image_size[1]): w=image_size[1]-l # if xmax exceeds width\n",
    "                    if(t+h > image_size[0]): h=image_size[0]-t # if ymax exceeds height\n",
    "\n",
    "                    cropped_image = sess.run(tf.image.crop_to_bounding_box(image_np, t, l, h, w))\n",
    "                    cropped_image = cv2.cvtColor(cropped_image, cv2.COLOR_BGR2RGB)\n",
    "\n",
    "                    img = Image.fromarray(cropped_image)\n",
    "                    img.save(os.path.join(cap_dir, str(track_id)+'.jpg'))\n",
    "\n",
    "                    if(is_plot):\n",
    "                        plt.subplot(subplot_y, subplot_x, len(captured))\n",
    "                        plt.imshow(cropped_image)\n",
    "                        plt.title(str(track_id)+', '+str(frame_idx))\n",
    "\n",
    "    cap.release()\n",
    "\n",
    "    if(is_plot):\n",
    "        plt.subplots_adjust(top=0.92, bottom=0.08, left=0.1, right=0.95, hspace=0.5, wspace=0.8)\n",
    "        plt.show()\n",
    "\n",
    "# ========================================================================================================\n",
    "   \n",
    "def savitzky_golay(y, window_size, order, deriv=0, rate=1):\n",
    "    window_size = np.abs(np.int(window_size))\n",
    "    order = np.abs(np.int(order))\n",
    "   \n",
    "    if window_size % 2 != 1 or window_size < 1:\n",
    "        raise TypeError(\"window_size size must be a positive odd number\")\n",
    "    if window_size < order + 2: # order should be less than or equal window-2\n",
    "        raise TypeError(\"window_size is too small for the polynomials order\")\n",
    "        \n",
    "    order_range = range(order+1)\n",
    "    half_window = (window_size -1) // 2\n",
    "    \n",
    "    # precompute coefficients\n",
    "    b = np.mat([[k**i for i in order_range] for k in range(-half_window, half_window+1)])\n",
    "    m = np.linalg.pinv(b).A[deriv] * rate**deriv * factorial(deriv)\n",
    "    \n",
    "    # pad the signal at the extremes with\n",
    "    # values taken from the signal itself\n",
    "    firstvals = y[0] - np.abs( y[1:half_window+1][::-1] - y[0] )\n",
    "    lastvals = y[-1] + np.abs(y[-half_window-1:-1][::-1] - y[-1])\n",
    "    y = np.concatenate((firstvals, y, lastvals))\n",
    "    \n",
    "    return np.convolve( m[::-1], y, mode='valid')\n",
    "\n",
    "# ========================================================================================================\n",
    "\n",
    "def golay_filter(df_track, window_size=45, order=5):\n",
    "    if(len(df_track) <= window_size):\n",
    "        return df_track\n",
    "    df_track[2] = savitzky_golay(df_track[2].values, window_size=window_size, order=order, deriv=0, rate=1)\n",
    "    df_track[3] = savitzky_golay(df_track[3].values, window_size=window_size, order=order, deriv=0, rate=1)\n",
    "    df_track[4] = savitzky_golay(df_track[4].values, window_size=window_size, order=order, deriv=0, rate=1)\n",
    "    df_track[5] = savitzky_golay(df_track[5].values, window_size=window_size, order=order, deriv=0, rate=1)\n",
    "    return df_track\n",
    "    \n",
    "def poly_interpolate(df_track):\n",
    "    model = make_pipeline(PolynomialFeatures(5), Ridge(solver='svd'))\n",
    "    X = np.array(df_track.index).reshape(-1, 1)\n",
    "    df_track[2] = model.fit(X, df_track[2]).predict(X)\n",
    "    df_track[3] = model.fit(X, df_track[3]).predict(X)\n",
    "    df_track[4] = model.fit(X, df_track[4]).predict(X)\n",
    "    df_track[5] = model.fit(X, df_track[5]).predict(X)\n",
    "    return df_track\n",
    "\n",
    "def moving_avg(df_track, window=5):\n",
    "    df_haed = df_track[[2,3,4,5]][:window-1]\n",
    "    df_tail = df_track[[2,3,4,5]].rolling(window=window).mean()[window-1:]\n",
    "    df_track[[2,3,4,5]] = pd.concat([df_haed, df_tail], axis=0)\n",
    "    return df_track\n",
    "\n",
    "def smooth(df, smooth_method):\n",
    "    polynomials = []\n",
    "    From, To = min(df[1]), max(df[1])+1\n",
    "    for track_id in range(From, To):\n",
    "        df_track = df.loc[df[1]==track_id].copy()\n",
    "\n",
    "        if(smooth_method == 'poly'): df_track = poly_interpolate(df_track)\n",
    "        elif(smooth_method == 'moving'): df_track = moving_avg(df_track)\n",
    "        elif(smooth_method == 'golay'): df_track = golay_filter(df_track)\n",
    "            \n",
    "        polynomials.append(df_track)\n",
    "\n",
    "    df_smooth = pd.concat(polynomials)\n",
    "    df_smooth = df_smooth.sort_index()\n",
    "    return df_smooth.values\n",
    "\n",
    "# ========================================================================================================\n",
    "\n",
    "def run_showresult(video_path, track_path, feat_path, save_output, out_dir, cap_dir, concat, smoothing, save_fig, is_plot, lag = 30):\n",
    "    video_name = os.path.basename(video_path)\n",
    "    seq_info = gather_sequence_info(video_name, video_path, feat_path)\n",
    "   \n",
    "    if(concat): track_path = track_path[:-4]+'_join.csv'\n",
    "\n",
    "    df = pd.read_csv(track_path, header=None)\n",
    "\n",
    "    if(smoothing): results = smooth(df, smooth_method='golay')\n",
    "    else: results = df.values\n",
    "\n",
    "    if(save_fig):\n",
    "        capture(video_path, cap_dir, results, seq_info, is_plot=is_plot)\n",
    "        return\n",
    "\n",
    "\n",
    "    cap = cv2.VideoCapture(video_path)\n",
    "    print('Video Path:', video_path,'\\tFeatures:', feat_path)\n",
    "\n",
    "    print(lag)\n",
    "    points = {}\n",
    "\n",
    "    def frame_callback(vis, frame_idx):\n",
    "        # print(\"Frame idx\", frame_idx)\n",
    "        image_np = np.array(cap.read()[1])\n",
    "        vis.set_image(image_np)\n",
    "\n",
    "        mask = results[:, 0].astype(np.int) == frame_idx\n",
    "        track_ids = results[mask, 1].astype(np.int)\n",
    "        boxes = results[mask, 2:6]\n",
    "\n",
    "        points[frame_idx] = []\n",
    "        for track_id, box in zip(track_ids, boxes):\n",
    "            l,t,w,h = np.array(box).astype(int)\n",
    "            x, y = int(l+w/2), int(t+h)\n",
    "            points[frame_idx].append([track_id, x, y])\n",
    "\n",
    "        if(frame_idx > lag):\n",
    "            remove_idx = frame_idx-lag\n",
    "            if remove_idx in points:\n",
    "                del points[remove_idx]\n",
    "\n",
    "        vis.draw_groundtruth(track_ids, boxes, points)\n",
    "\n",
    "    visualizer = visualization.Visualization(seq_info, update_ms=50)\n",
    "\n",
    "    if save_output:\n",
    "        if(concat):\n",
    "            visualizer.viewer.enable_videowriter(os.path.join(out_dir, video_name[:-4]+'_opt.mp4'))\n",
    "        else:\n",
    "            visualizer.viewer.enable_videowriter(os.path.join(out_dir, video_name[:-4]+'_reg.mp4'))\n",
    "\n",
    "    visualizer.run(frame_callback)\n",
    "\n",
    "    cap.release()\n",
    "    cv2.destroyAllWindows()\n",
    "    \n",
    "def parse_args():\n",
    "\n",
    "    parser = argparse.ArgumentParser(description=\"Siamese Tracking\")\n",
    "    parser.add_argument(\n",
    "        \"--test_video\", \n",
    "        help=\"To run specific one\", \n",
    "        default=''\n",
    "    )\n",
    "    parser.add_argument(\n",
    "        \"--video_dir\", \n",
    "        help=\"Path to video directory.\", \n",
    "        default=\"../dataset/videos\"\n",
    "    )\n",
    "    parser.add_argument(\n",
    "        \"--tracks_dir\", help=\"Path to the tracking output file. This file will\"\n",
    "        \" contain the tracking results on completion.\",\n",
    "        default=\"../dataset/tracks\"\n",
    "    )\n",
    "    parser.add_argument(\n",
    "        \"--feat_dir\", \n",
    "        help=\"Features directory.\",\n",
    "        default=\"../dataset/features\"\n",
    "    )\n",
    "    parser.add_argument(\n",
    "        \"--save_output\", help=\"Save output of the tracking video (bool).\",\n",
    "        default=False, type=bool)\n",
    "    parser.add_argument(\n",
    "        \"--out_dir\", help=\"Output directory\",\n",
    "        default='../dataset/outputs'\n",
    "    )\n",
    "    parser.add_argument(\n",
    "        \"--cap_dir\", help=\"Captures directory\",\n",
    "        default='../dataset/captures'\n",
    "    )\n",
    "    parser.add_argument(\n",
    "        \"--concat\", help=\"Show concatenated points\",\n",
    "        default=False, type=bool\n",
    "    ),\n",
    "    parser.add_argument(\n",
    "        \"--smoothing\", help=\"Show concatenated points\",\n",
    "        default=False, type=bool\n",
    "    )\n",
    "    parser.add_argument(\n",
    "        \"--save_fig\", help=\"Save captured human\",\n",
    "        default=False, type=bool\n",
    "    )\n",
    "    parser.add_argument(\n",
    "        \"--is_plot\", help=\"Plot captured human\",\n",
    "        default=False, type=bool\n",
    "    )\n",
    "\n",
    "    return parser.parse_args()"
   ]
  },
  {
   "cell_type": "code",
   "execution_count": null,
   "metadata": {},
   "outputs": [],
   "source": []
  },
  {
   "cell_type": "code",
   "execution_count": 10,
   "metadata": {
    "scrolled": true
   },
   "outputs": [
    {
     "name": "stdout",
     "output_type": "stream",
     "text": [
      "loading model..\n",
      "Processing Video: test_15-30Copy.avi..\n"
     ]
    },
    {
     "name": "stderr",
     "output_type": "stream",
     "text": [
      "\n",
      "  0%|                                                                                          | 0/285 [00:00<?, ?it/s]"
     ]
    },
    {
     "name": "stdout",
     "output_type": "stream",
     "text": [
      "Frame ID: 1 \tTime: 0.02 seconds\n"
     ]
    },
    {
     "name": "stderr",
     "output_type": "stream",
     "text": [
      "\n",
      "  0%|▎                                                                               | 1/285 [00:14<1:06:43, 14.10s/it]"
     ]
    },
    {
     "name": "stdout",
     "output_type": "stream",
     "text": [
      "Frame ID: 2 \tTime: 14.12 seconds\n"
     ]
    },
    {
     "name": "stderr",
     "output_type": "stream",
     "text": [
      "\n",
      "  1%|▌                                                                                 | 2/285 [00:14<46:46,  9.92s/it]"
     ]
    },
    {
     "name": "stdout",
     "output_type": "stream",
     "text": [
      "Frame ID: 3 \tTime: 14.28 seconds\n"
     ]
    },
    {
     "name": "stderr",
     "output_type": "stream",
     "text": [
      "\n",
      "  1%|▊                                                                                 | 3/285 [00:14<32:50,  6.99s/it]"
     ]
    },
    {
     "name": "stdout",
     "output_type": "stream",
     "text": [
      "Frame ID: 4 \tTime: 14.44 seconds\n"
     ]
    },
    {
     "name": "stderr",
     "output_type": "stream",
     "text": [
      "\n",
      "  1%|█▏                                                                                | 4/285 [00:14<23:08,  4.94s/it]"
     ]
    },
    {
     "name": "stdout",
     "output_type": "stream",
     "text": [
      "Frame ID: 5 \tTime: 14.60 seconds\n"
     ]
    },
    {
     "name": "stderr",
     "output_type": "stream",
     "text": [
      "\n",
      "  2%|█▍                                                                                | 5/285 [00:14<16:21,  3.51s/it]"
     ]
    },
    {
     "name": "stdout",
     "output_type": "stream",
     "text": [
      "Frame ID: 6 \tTime: 14.76 seconds\n"
     ]
    },
    {
     "name": "stderr",
     "output_type": "stream",
     "text": [
      "\n",
      "  2%|█▋                                                                                | 6/285 [00:14<11:38,  2.50s/it]"
     ]
    },
    {
     "name": "stdout",
     "output_type": "stream",
     "text": [
      "Frame ID: 7 \tTime: 14.92 seconds\n"
     ]
    },
    {
     "name": "stderr",
     "output_type": "stream",
     "text": [
      "\n",
      "  2%|██                                                                                | 7/285 [00:15<08:20,  1.80s/it]"
     ]
    },
    {
     "name": "stdout",
     "output_type": "stream",
     "text": [
      "Frame ID: 8 \tTime: 15.08 seconds\n"
     ]
    },
    {
     "name": "stderr",
     "output_type": "stream",
     "text": [
      "\n",
      "  3%|██▎                                                                               | 8/285 [00:15<06:02,  1.31s/it]"
     ]
    },
    {
     "name": "stdout",
     "output_type": "stream",
     "text": [
      "Frame ID: 9 \tTime: 15.24 seconds\n"
     ]
    },
    {
     "name": "stderr",
     "output_type": "stream",
     "text": [
      "\n",
      "  3%|██▌                                                                               | 9/285 [00:15<04:26,  1.04it/s]"
     ]
    },
    {
     "name": "stdout",
     "output_type": "stream",
     "text": [
      "Frame ID: 10 \tTime: 15.40 seconds\n"
     ]
    },
    {
     "name": "stderr",
     "output_type": "stream",
     "text": [
      "\n",
      "  4%|██▊                                                                              | 10/285 [00:15<03:18,  1.38it/s]"
     ]
    },
    {
     "name": "stdout",
     "output_type": "stream",
     "text": [
      "Frame ID: 11 \tTime: 15.56 seconds\n"
     ]
    },
    {
     "name": "stderr",
     "output_type": "stream",
     "text": [
      "\n",
      "  4%|███▏                                                                             | 11/285 [00:15<02:31,  1.81it/s]"
     ]
    },
    {
     "name": "stdout",
     "output_type": "stream",
     "text": [
      "Frame ID: 12 \tTime: 15.72 seconds\n"
     ]
    },
    {
     "name": "stderr",
     "output_type": "stream",
     "text": [
      "\n",
      "  4%|███▍                                                                             | 12/285 [00:15<01:58,  2.30it/s]"
     ]
    },
    {
     "name": "stdout",
     "output_type": "stream",
     "text": [
      "Frame ID: 13 \tTime: 15.88 seconds\n"
     ]
    },
    {
     "name": "stderr",
     "output_type": "stream",
     "text": [
      "\n",
      "  5%|███▋                                                                             | 13/285 [00:16<01:35,  2.84it/s]"
     ]
    },
    {
     "name": "stdout",
     "output_type": "stream",
     "text": [
      "Frame ID: 14 \tTime: 16.04 seconds\n"
     ]
    },
    {
     "name": "stderr",
     "output_type": "stream",
     "text": [
      "\n",
      "  5%|███▉                                                                             | 14/285 [00:16<01:19,  3.40it/s]"
     ]
    },
    {
     "name": "stdout",
     "output_type": "stream",
     "text": [
      "Frame ID: 15 \tTime: 16.20 seconds\n"
     ]
    },
    {
     "name": "stderr",
     "output_type": "stream",
     "text": [
      "\n",
      "  5%|████▎                                                                            | 15/285 [00:16<01:08,  3.95it/s]"
     ]
    },
    {
     "name": "stdout",
     "output_type": "stream",
     "text": [
      "Frame ID: 16 \tTime: 16.35 seconds\n"
     ]
    },
    {
     "name": "stderr",
     "output_type": "stream",
     "text": [
      "\n",
      "  6%|████▌                                                                            | 16/285 [00:16<01:00,  4.45it/s]"
     ]
    },
    {
     "name": "stdout",
     "output_type": "stream",
     "text": [
      "Frame ID: 17 \tTime: 16.51 seconds\n"
     ]
    },
    {
     "name": "stderr",
     "output_type": "stream",
     "text": [
      "\n",
      "  6%|████▊                                                                            | 17/285 [00:16<00:54,  4.89it/s]"
     ]
    },
    {
     "name": "stdout",
     "output_type": "stream",
     "text": [
      "Frame ID: 18 \tTime: 16.67 seconds\n"
     ]
    },
    {
     "name": "stderr",
     "output_type": "stream",
     "text": [
      "\n",
      "  6%|█████                                                                            | 18/285 [00:16<00:51,  5.20it/s]"
     ]
    },
    {
     "name": "stdout",
     "output_type": "stream",
     "text": [
      "Frame ID: 19 \tTime: 16.83 seconds\n"
     ]
    },
    {
     "name": "stderr",
     "output_type": "stream",
     "text": [
      "\n",
      "  7%|█████▍                                                                           | 19/285 [00:16<00:48,  5.50it/s]"
     ]
    },
    {
     "name": "stdout",
     "output_type": "stream",
     "text": [
      "Frame ID: 20 \tTime: 16.99 seconds\n"
     ]
    },
    {
     "name": "stderr",
     "output_type": "stream",
     "text": [
      "\n",
      "  7%|█████▋                                                                           | 20/285 [00:17<00:46,  5.73it/s]"
     ]
    },
    {
     "name": "stdout",
     "output_type": "stream",
     "text": [
      "Frame ID: 21 \tTime: 17.15 seconds\n"
     ]
    },
    {
     "name": "stderr",
     "output_type": "stream",
     "text": [
      "\n",
      "  7%|█████▉                                                                           | 21/285 [00:17<00:44,  5.88it/s]"
     ]
    },
    {
     "name": "stdout",
     "output_type": "stream",
     "text": [
      "Frame ID: 22 \tTime: 17.31 seconds\n"
     ]
    },
    {
     "name": "stderr",
     "output_type": "stream",
     "text": [
      "\n",
      "  8%|██████▎                                                                          | 22/285 [00:17<00:43,  6.02it/s]"
     ]
    },
    {
     "name": "stdout",
     "output_type": "stream",
     "text": [
      "Frame ID: 23 \tTime: 17.47 seconds\n"
     ]
    },
    {
     "name": "stderr",
     "output_type": "stream",
     "text": [
      "\n",
      "  8%|██████▌                                                                          | 23/285 [00:17<00:42,  6.09it/s]"
     ]
    },
    {
     "name": "stdout",
     "output_type": "stream",
     "text": [
      "Frame ID: 24 \tTime: 17.63 seconds\n"
     ]
    },
    {
     "name": "stderr",
     "output_type": "stream",
     "text": [
      "\n",
      "  8%|██████▊                                                                          | 24/285 [00:17<00:43,  6.04it/s]"
     ]
    },
    {
     "name": "stdout",
     "output_type": "stream",
     "text": [
      "Frame ID: 25 \tTime: 17.79 seconds\n"
     ]
    },
    {
     "name": "stderr",
     "output_type": "stream",
     "text": [
      "\n",
      "  9%|███████                                                                          | 25/285 [00:17<00:42,  6.09it/s]"
     ]
    },
    {
     "name": "stdout",
     "output_type": "stream",
     "text": [
      "Frame ID: 26 \tTime: 17.95 seconds\n"
     ]
    },
    {
     "name": "stderr",
     "output_type": "stream",
     "text": [
      "\n",
      "  9%|███████▍                                                                         | 26/285 [00:18<00:42,  6.15it/s]"
     ]
    },
    {
     "name": "stdout",
     "output_type": "stream",
     "text": [
      "Frame ID: 27 \tTime: 18.11 seconds\n"
     ]
    },
    {
     "name": "stderr",
     "output_type": "stream",
     "text": [
      "\n",
      "  9%|███████▋                                                                         | 27/285 [00:18<00:41,  6.18it/s]"
     ]
    },
    {
     "name": "stdout",
     "output_type": "stream",
     "text": [
      "Frame ID: 28 \tTime: 18.27 seconds\n"
     ]
    },
    {
     "name": "stderr",
     "output_type": "stream",
     "text": [
      "\n",
      " 10%|███████▉                                                                         | 28/285 [00:18<00:41,  6.21it/s]"
     ]
    },
    {
     "name": "stdout",
     "output_type": "stream",
     "text": [
      "Frame ID: 29 \tTime: 18.43 seconds\n"
     ]
    },
    {
     "name": "stderr",
     "output_type": "stream",
     "text": [
      "\n",
      " 10%|████████▏                                                                        | 29/285 [00:18<00:41,  6.23it/s]"
     ]
    },
    {
     "name": "stdout",
     "output_type": "stream",
     "text": [
      "Frame ID: 30 \tTime: 18.59 seconds\n"
     ]
    },
    {
     "name": "stderr",
     "output_type": "stream",
     "text": [
      "\n",
      " 11%|████████▌                                                                        | 30/285 [00:18<00:40,  6.25it/s]"
     ]
    },
    {
     "name": "stdout",
     "output_type": "stream",
     "text": [
      "Frame ID: 31 \tTime: 18.75 seconds\n"
     ]
    },
    {
     "name": "stderr",
     "output_type": "stream",
     "text": [
      "\n",
      " 11%|████████▊                                                                        | 31/285 [00:18<00:40,  6.24it/s]"
     ]
    },
    {
     "name": "stdout",
     "output_type": "stream",
     "text": [
      "Frame ID: 32 \tTime: 18.91 seconds\n"
     ]
    },
    {
     "name": "stderr",
     "output_type": "stream",
     "text": [
      "\n",
      " 11%|█████████                                                                        | 32/285 [00:19<00:40,  6.27it/s]"
     ]
    },
    {
     "name": "stdout",
     "output_type": "stream",
     "text": [
      "Frame ID: 33 \tTime: 19.07 seconds\n"
     ]
    },
    {
     "name": "stderr",
     "output_type": "stream",
     "text": [
      "\n",
      " 12%|█████████▍                                                                       | 33/285 [00:19<00:40,  6.20it/s]"
     ]
    },
    {
     "name": "stdout",
     "output_type": "stream",
     "text": [
      "Frame ID: 34 \tTime: 19.23 seconds\n"
     ]
    },
    {
     "name": "stderr",
     "output_type": "stream",
     "text": [
      "\n",
      " 12%|█████████▋                                                                       | 34/285 [00:19<00:40,  6.24it/s]"
     ]
    },
    {
     "name": "stdout",
     "output_type": "stream",
     "text": [
      "Frame ID: 35 \tTime: 19.39 seconds\n"
     ]
    },
    {
     "name": "stderr",
     "output_type": "stream",
     "text": [
      "\n",
      " 12%|█████████▉                                                                       | 35/285 [00:19<00:40,  6.25it/s]"
     ]
    },
    {
     "name": "stdout",
     "output_type": "stream",
     "text": [
      "Frame ID: 36 \tTime: 19.55 seconds\n"
     ]
    },
    {
     "name": "stderr",
     "output_type": "stream",
     "text": [
      "\n",
      " 13%|██████████▏                                                                      | 36/285 [00:19<00:39,  6.24it/s]"
     ]
    },
    {
     "name": "stdout",
     "output_type": "stream",
     "text": [
      "Frame ID: 37 \tTime: 19.71 seconds\n"
     ]
    },
    {
     "name": "stderr",
     "output_type": "stream",
     "text": [
      "\n",
      " 13%|██████████▌                                                                      | 37/285 [00:19<00:39,  6.22it/s]"
     ]
    },
    {
     "name": "stdout",
     "output_type": "stream",
     "text": [
      "Frame ID: 38 \tTime: 19.87 seconds\n"
     ]
    },
    {
     "name": "stderr",
     "output_type": "stream",
     "text": [
      "\n",
      " 13%|██████████▊                                                                      | 38/285 [00:20<00:39,  6.21it/s]"
     ]
    },
    {
     "name": "stdout",
     "output_type": "stream",
     "text": [
      "Frame ID: 39 \tTime: 20.04 seconds\n"
     ]
    },
    {
     "name": "stderr",
     "output_type": "stream",
     "text": [
      "\n",
      " 14%|███████████                                                                      | 39/285 [00:20<00:39,  6.23it/s]"
     ]
    },
    {
     "name": "stdout",
     "output_type": "stream",
     "text": [
      "Frame ID: 40 \tTime: 20.20 seconds\n"
     ]
    },
    {
     "name": "stderr",
     "output_type": "stream",
     "text": [
      "\n",
      " 14%|███████████▎                                                                     | 40/285 [00:20<00:39,  6.24it/s]"
     ]
    },
    {
     "name": "stdout",
     "output_type": "stream",
     "text": [
      "Frame ID: 41 \tTime: 20.36 seconds\n"
     ]
    },
    {
     "name": "stderr",
     "output_type": "stream",
     "text": [
      "\n",
      " 14%|███████████▋                                                                     | 41/285 [00:20<00:39,  6.25it/s]"
     ]
    },
    {
     "name": "stdout",
     "output_type": "stream",
     "text": [
      "Frame ID: 42 \tTime: 20.52 seconds\n"
     ]
    },
    {
     "name": "stderr",
     "output_type": "stream",
     "text": [
      "\n",
      " 15%|███████████▉                                                                     | 42/285 [00:20<00:39,  6.13it/s]"
     ]
    },
    {
     "name": "stdout",
     "output_type": "stream",
     "text": [
      "Frame ID: 43 \tTime: 20.69 seconds\n"
     ]
    },
    {
     "name": "stderr",
     "output_type": "stream",
     "text": [
      "\n",
      " 15%|████████████▏                                                                    | 43/285 [00:20<00:39,  6.08it/s]"
     ]
    },
    {
     "name": "stdout",
     "output_type": "stream",
     "text": [
      "Frame ID: 44 \tTime: 20.85 seconds\n"
     ]
    },
    {
     "name": "stderr",
     "output_type": "stream",
     "text": [
      "\n",
      " 15%|████████████▌                                                                    | 44/285 [00:20<00:39,  6.13it/s]"
     ]
    },
    {
     "name": "stdout",
     "output_type": "stream",
     "text": [
      "Frame ID: 45 \tTime: 21.01 seconds\n"
     ]
    },
    {
     "name": "stderr",
     "output_type": "stream",
     "text": [
      "\n",
      " 16%|████████████▊                                                                    | 45/285 [00:21<00:38,  6.16it/s]"
     ]
    },
    {
     "name": "stdout",
     "output_type": "stream",
     "text": [
      "Frame ID: 46 \tTime: 21.17 seconds\n"
     ]
    },
    {
     "name": "stderr",
     "output_type": "stream",
     "text": [
      "\n",
      " 16%|█████████████                                                                    | 46/285 [00:21<00:38,  6.21it/s]"
     ]
    },
    {
     "name": "stdout",
     "output_type": "stream",
     "text": [
      "Frame ID: 47 \tTime: 21.33 seconds\n"
     ]
    },
    {
     "name": "stderr",
     "output_type": "stream",
     "text": [
      "\n",
      " 16%|█████████████▎                                                                   | 47/285 [00:21<00:38,  6.23it/s]"
     ]
    },
    {
     "name": "stdout",
     "output_type": "stream",
     "text": [
      "Frame ID: 48 \tTime: 21.49 seconds\n"
     ]
    },
    {
     "name": "stderr",
     "output_type": "stream",
     "text": [
      "\n",
      " 17%|█████████████▋                                                                   | 48/285 [00:21<00:38,  6.15it/s]"
     ]
    },
    {
     "name": "stdout",
     "output_type": "stream",
     "text": [
      "Frame ID: 49 \tTime: 21.66 seconds\n"
     ]
    },
    {
     "name": "stderr",
     "output_type": "stream",
     "text": [
      "\n",
      " 17%|█████████████▉                                                                   | 49/285 [00:21<00:38,  6.21it/s]"
     ]
    },
    {
     "name": "stdout",
     "output_type": "stream",
     "text": [
      "Frame ID: 50 \tTime: 21.82 seconds\n"
     ]
    },
    {
     "name": "stderr",
     "output_type": "stream",
     "text": [
      "\n",
      " 18%|██████████████▏                                                                  | 50/285 [00:21<00:37,  6.25it/s]"
     ]
    },
    {
     "name": "stdout",
     "output_type": "stream",
     "text": [
      "Frame ID: 51 \tTime: 21.97 seconds\n"
     ]
    },
    {
     "name": "stderr",
     "output_type": "stream",
     "text": [
      "\n",
      " 18%|██████████████▍                                                                  | 51/285 [00:22<00:37,  6.23it/s]"
     ]
    },
    {
     "name": "stdout",
     "output_type": "stream",
     "text": [
      "Frame ID: 52 \tTime: 22.14 seconds\n"
     ]
    },
    {
     "name": "stderr",
     "output_type": "stream",
     "text": [
      "\n",
      " 18%|██████████████▊                                                                  | 52/285 [00:22<00:37,  6.18it/s]"
     ]
    },
    {
     "name": "stdout",
     "output_type": "stream",
     "text": [
      "Frame ID: 53 \tTime: 22.30 seconds\n"
     ]
    },
    {
     "name": "stderr",
     "output_type": "stream",
     "text": [
      "\n",
      " 19%|███████████████                                                                  | 53/285 [00:22<00:38,  6.10it/s]"
     ]
    },
    {
     "name": "stdout",
     "output_type": "stream",
     "text": [
      "Frame ID: 54 \tTime: 22.47 seconds\n"
     ]
    },
    {
     "name": "stderr",
     "output_type": "stream",
     "text": [
      "\n",
      " 19%|███████████████▎                                                                 | 54/285 [00:22<00:37,  6.15it/s]"
     ]
    },
    {
     "name": "stdout",
     "output_type": "stream",
     "text": [
      "Frame ID: 55 \tTime: 22.63 seconds\n"
     ]
    },
    {
     "name": "stderr",
     "output_type": "stream",
     "text": [
      "\n",
      " 19%|███████████████▋                                                                 | 55/285 [00:22<00:37,  6.18it/s]"
     ]
    },
    {
     "name": "stdout",
     "output_type": "stream",
     "text": [
      "Frame ID: 56 \tTime: 22.79 seconds\n"
     ]
    },
    {
     "name": "stderr",
     "output_type": "stream",
     "text": [
      "\n",
      " 20%|███████████████▉                                                                 | 56/285 [00:22<00:36,  6.20it/s]"
     ]
    },
    {
     "name": "stdout",
     "output_type": "stream",
     "text": [
      "Frame ID: 57 \tTime: 22.95 seconds\n"
     ]
    },
    {
     "name": "stderr",
     "output_type": "stream",
     "text": [
      "\n",
      " 20%|████████████████▏                                                                | 57/285 [00:23<00:36,  6.25it/s]"
     ]
    },
    {
     "name": "stdout",
     "output_type": "stream",
     "text": [
      "Frame ID: 58 \tTime: 23.11 seconds\n"
     ]
    },
    {
     "name": "stderr",
     "output_type": "stream",
     "text": [
      "\n",
      " 20%|████████████████▍                                                                | 58/285 [00:23<00:36,  6.27it/s]"
     ]
    },
    {
     "name": "stdout",
     "output_type": "stream",
     "text": [
      "Frame ID: 59 \tTime: 23.26 seconds\n"
     ]
    },
    {
     "name": "stderr",
     "output_type": "stream",
     "text": [
      "\n",
      " 21%|████████████████▊                                                                | 59/285 [00:23<00:36,  6.27it/s]"
     ]
    },
    {
     "name": "stdout",
     "output_type": "stream",
     "text": [
      "Frame ID: 60 \tTime: 23.42 seconds\n"
     ]
    },
    {
     "name": "stderr",
     "output_type": "stream",
     "text": [
      "\n",
      " 21%|█████████████████                                                                | 60/285 [00:23<00:35,  6.26it/s]"
     ]
    },
    {
     "name": "stdout",
     "output_type": "stream",
     "text": [
      "Frame ID: 61 \tTime: 23.58 seconds\n"
     ]
    },
    {
     "name": "stderr",
     "output_type": "stream",
     "text": [
      "\n",
      " 21%|█████████████████▎                                                               | 61/285 [00:23<00:35,  6.28it/s]"
     ]
    },
    {
     "name": "stdout",
     "output_type": "stream",
     "text": [
      "Frame ID: 62 \tTime: 23.74 seconds\n"
     ]
    },
    {
     "name": "stderr",
     "output_type": "stream",
     "text": [
      "\n",
      " 22%|█████████████████▌                                                               | 62/285 [00:23<00:35,  6.29it/s]"
     ]
    },
    {
     "name": "stdout",
     "output_type": "stream",
     "text": [
      "Frame ID: 63 \tTime: 23.90 seconds\n"
     ]
    },
    {
     "name": "stderr",
     "output_type": "stream",
     "text": [
      "\n",
      " 22%|█████████████████▉                                                               | 63/285 [00:24<00:35,  6.27it/s]"
     ]
    },
    {
     "name": "stdout",
     "output_type": "stream",
     "text": [
      "Frame ID: 64 \tTime: 24.06 seconds\n"
     ]
    },
    {
     "name": "stderr",
     "output_type": "stream",
     "text": [
      "\n",
      " 22%|██████████████████▏                                                              | 64/285 [00:24<00:35,  6.14it/s]"
     ]
    },
    {
     "name": "stdout",
     "output_type": "stream",
     "text": [
      "Frame ID: 65 \tTime: 24.23 seconds\n"
     ]
    },
    {
     "name": "stderr",
     "output_type": "stream",
     "text": [
      "\n",
      " 23%|██████████████████▍                                                              | 65/285 [00:24<00:35,  6.17it/s]"
     ]
    },
    {
     "name": "stdout",
     "output_type": "stream",
     "text": [
      "Frame ID: 66 \tTime: 24.39 seconds\n"
     ]
    },
    {
     "name": "stderr",
     "output_type": "stream",
     "text": [
      "\n",
      " 23%|██████████████████▊                                                              | 66/285 [00:24<00:35,  6.18it/s]"
     ]
    },
    {
     "name": "stdout",
     "output_type": "stream",
     "text": [
      "Frame ID: 67 \tTime: 24.55 seconds\n"
     ]
    },
    {
     "name": "stderr",
     "output_type": "stream",
     "text": [
      "\n",
      " 24%|███████████████████                                                              | 67/285 [00:24<00:35,  6.16it/s]"
     ]
    },
    {
     "name": "stdout",
     "output_type": "stream",
     "text": [
      "Frame ID: 68 \tTime: 24.72 seconds\n"
     ]
    },
    {
     "name": "stderr",
     "output_type": "stream",
     "text": [
      "\n",
      " 24%|███████████████████▎                                                             | 68/285 [00:24<00:35,  6.09it/s]"
     ]
    },
    {
     "name": "stdout",
     "output_type": "stream",
     "text": [
      "Frame ID: 69 \tTime: 24.89 seconds\n"
     ]
    },
    {
     "name": "stderr",
     "output_type": "stream",
     "text": [
      "\n",
      " 24%|███████████████████▌                                                             | 69/285 [00:25<00:35,  6.04it/s]"
     ]
    },
    {
     "name": "stdout",
     "output_type": "stream",
     "text": [
      "Frame ID: 70 \tTime: 25.05 seconds\n"
     ]
    },
    {
     "name": "stderr",
     "output_type": "stream",
     "text": [
      "\n",
      " 25%|███████████████████▉                                                             | 70/285 [00:25<00:35,  6.06it/s]"
     ]
    },
    {
     "name": "stdout",
     "output_type": "stream",
     "text": [
      "Frame ID: 71 \tTime: 25.22 seconds\n"
     ]
    },
    {
     "name": "stderr",
     "output_type": "stream",
     "text": [
      "\n",
      " 25%|████████████████████▏                                                            | 71/285 [00:25<00:35,  6.08it/s]"
     ]
    },
    {
     "name": "stdout",
     "output_type": "stream",
     "text": [
      "Frame ID: 72 \tTime: 25.38 seconds\n"
     ]
    },
    {
     "name": "stderr",
     "output_type": "stream",
     "text": [
      "\n",
      " 25%|████████████████████▍                                                            | 72/285 [00:25<00:35,  6.08it/s]"
     ]
    },
    {
     "name": "stdout",
     "output_type": "stream",
     "text": [
      "Frame ID: 73 \tTime: 25.54 seconds\n"
     ]
    },
    {
     "name": "stderr",
     "output_type": "stream",
     "text": [
      "\n",
      " 26%|████████████████████▋                                                            | 73/285 [00:25<00:35,  6.03it/s]"
     ]
    },
    {
     "name": "stdout",
     "output_type": "stream",
     "text": [
      "Frame ID: 74 \tTime: 25.71 seconds\n"
     ]
    },
    {
     "name": "stderr",
     "output_type": "stream",
     "text": [
      "\n",
      " 26%|█████████████████████                                                            | 74/285 [00:25<00:35,  5.98it/s]"
     ]
    },
    {
     "name": "stdout",
     "output_type": "stream",
     "text": [
      "Frame ID: 75 \tTime: 25.89 seconds\n"
     ]
    },
    {
     "name": "stderr",
     "output_type": "stream",
     "text": [
      "\n",
      " 26%|█████████████████████▎                                                           | 75/285 [00:26<00:36,  5.80it/s]"
     ]
    },
    {
     "name": "stdout",
     "output_type": "stream",
     "text": [
      "Frame ID: 76 \tTime: 26.07 seconds\n"
     ]
    },
    {
     "name": "stderr",
     "output_type": "stream",
     "text": [
      "\n",
      " 27%|█████████████████████▌                                                           | 76/285 [00:26<00:36,  5.76it/s]"
     ]
    },
    {
     "name": "stdout",
     "output_type": "stream",
     "text": [
      "Frame ID: 77 \tTime: 26.25 seconds\n"
     ]
    },
    {
     "name": "stderr",
     "output_type": "stream",
     "text": [
      "\n",
      " 27%|█████████████████████▉                                                           | 77/285 [00:26<00:36,  5.76it/s]"
     ]
    },
    {
     "name": "stdout",
     "output_type": "stream",
     "text": [
      "Frame ID: 78 \tTime: 26.42 seconds\n"
     ]
    },
    {
     "name": "stderr",
     "output_type": "stream",
     "text": [
      "\n",
      " 27%|██████████████████████▏                                                          | 78/285 [00:26<00:35,  5.77it/s]"
     ]
    },
    {
     "name": "stdout",
     "output_type": "stream",
     "text": [
      "Frame ID: 79 \tTime: 26.59 seconds\n"
     ]
    },
    {
     "name": "stderr",
     "output_type": "stream",
     "text": [
      "\n",
      " 28%|██████████████████████▍                                                          | 79/285 [00:26<00:35,  5.78it/s]"
     ]
    },
    {
     "name": "stdout",
     "output_type": "stream",
     "text": [
      "Frame ID: 80 \tTime: 26.76 seconds\n"
     ]
    },
    {
     "name": "stderr",
     "output_type": "stream",
     "text": [
      "\n",
      " 28%|██████████████████████▋                                                          | 80/285 [00:26<00:35,  5.81it/s]"
     ]
    },
    {
     "name": "stdout",
     "output_type": "stream",
     "text": [
      "Frame ID: 81 \tTime: 26.93 seconds\n"
     ]
    },
    {
     "name": "stderr",
     "output_type": "stream",
     "text": [
      "\n",
      " 28%|███████████████████████                                                          | 81/285 [00:27<00:34,  5.83it/s]"
     ]
    },
    {
     "name": "stdout",
     "output_type": "stream",
     "text": [
      "Frame ID: 82 \tTime: 27.10 seconds\n"
     ]
    },
    {
     "name": "stderr",
     "output_type": "stream",
     "text": [
      "\n",
      " 29%|███████████████████████▎                                                         | 82/285 [00:27<00:34,  5.89it/s]"
     ]
    },
    {
     "name": "stdout",
     "output_type": "stream",
     "text": [
      "Frame ID: 83 \tTime: 27.27 seconds\n"
     ]
    },
    {
     "name": "stderr",
     "output_type": "stream",
     "text": [
      "\n",
      " 29%|███████████████████████▌                                                         | 83/285 [00:27<00:33,  5.94it/s]"
     ]
    },
    {
     "name": "stdout",
     "output_type": "stream",
     "text": [
      "Frame ID: 84 \tTime: 27.43 seconds\n"
     ]
    },
    {
     "name": "stderr",
     "output_type": "stream",
     "text": [
      "\n",
      " 29%|███████████████████████▊                                                         | 84/285 [00:27<00:33,  6.00it/s]"
     ]
    },
    {
     "name": "stdout",
     "output_type": "stream",
     "text": [
      "Frame ID: 85 \tTime: 27.60 seconds\n"
     ]
    },
    {
     "name": "stderr",
     "output_type": "stream",
     "text": [
      "\n",
      " 30%|████████████████████████▏                                                        | 85/285 [00:27<00:33,  6.04it/s]"
     ]
    },
    {
     "name": "stdout",
     "output_type": "stream",
     "text": [
      "Frame ID: 86 \tTime: 27.76 seconds\n"
     ]
    },
    {
     "name": "stderr",
     "output_type": "stream",
     "text": [
      "\n",
      " 30%|████████████████████████▍                                                        | 86/285 [00:27<00:32,  6.09it/s]"
     ]
    },
    {
     "name": "stdout",
     "output_type": "stream",
     "text": [
      "Frame ID: 87 \tTime: 27.92 seconds\n"
     ]
    },
    {
     "name": "stderr",
     "output_type": "stream",
     "text": [
      "\n",
      " 31%|████████████████████████▋                                                        | 87/285 [00:28<00:32,  6.09it/s]"
     ]
    },
    {
     "name": "stdout",
     "output_type": "stream",
     "text": [
      "Frame ID: 88 \tTime: 28.09 seconds\n"
     ]
    },
    {
     "name": "stderr",
     "output_type": "stream",
     "text": [
      "\n",
      " 31%|█████████████████████████                                                        | 88/285 [00:28<00:32,  6.03it/s]"
     ]
    },
    {
     "name": "stdout",
     "output_type": "stream",
     "text": [
      "Frame ID: 89 \tTime: 28.25 seconds\n"
     ]
    },
    {
     "name": "stderr",
     "output_type": "stream",
     "text": [
      "\n",
      " 31%|█████████████████████████▎                                                       | 89/285 [00:28<00:32,  6.06it/s]"
     ]
    },
    {
     "name": "stdout",
     "output_type": "stream",
     "text": [
      "Frame ID: 90 \tTime: 28.42 seconds\n"
     ]
    },
    {
     "name": "stderr",
     "output_type": "stream",
     "text": [
      "\n",
      " 32%|█████████████████████████▌                                                       | 90/285 [00:28<00:32,  6.05it/s]"
     ]
    },
    {
     "name": "stdout",
     "output_type": "stream",
     "text": [
      "Frame ID: 91 \tTime: 28.58 seconds\n"
     ]
    },
    {
     "name": "stderr",
     "output_type": "stream",
     "text": [
      "\n",
      " 32%|█████████████████████████▊                                                       | 91/285 [00:28<00:32,  6.05it/s]"
     ]
    },
    {
     "name": "stdout",
     "output_type": "stream",
     "text": [
      "Frame ID: 92 \tTime: 28.75 seconds\n"
     ]
    },
    {
     "name": "stderr",
     "output_type": "stream",
     "text": [
      "\n",
      " 32%|██████████████████████████▏                                                      | 92/285 [00:28<00:31,  6.05it/s]"
     ]
    },
    {
     "name": "stdout",
     "output_type": "stream",
     "text": [
      "Frame ID: 93 \tTime: 28.92 seconds\n"
     ]
    },
    {
     "name": "stderr",
     "output_type": "stream",
     "text": [
      "\n",
      " 33%|██████████████████████████▍                                                      | 93/285 [00:29<00:31,  6.04it/s]"
     ]
    },
    {
     "name": "stdout",
     "output_type": "stream",
     "text": [
      "Frame ID: 94 \tTime: 29.08 seconds\n"
     ]
    },
    {
     "name": "stderr",
     "output_type": "stream",
     "text": [
      "\n",
      " 33%|██████████████████████████▋                                                      | 94/285 [00:29<00:31,  6.05it/s]"
     ]
    },
    {
     "name": "stdout",
     "output_type": "stream",
     "text": [
      "Frame ID: 95 \tTime: 29.24 seconds\n"
     ]
    },
    {
     "name": "stderr",
     "output_type": "stream",
     "text": [
      "\n",
      " 33%|███████████████████████████                                                      | 95/285 [00:29<00:31,  6.08it/s]"
     ]
    },
    {
     "name": "stdout",
     "output_type": "stream",
     "text": [
      "Frame ID: 96 \tTime: 29.41 seconds\n"
     ]
    },
    {
     "name": "stderr",
     "output_type": "stream",
     "text": [
      "\n",
      " 34%|███████████████████████████▎                                                     | 96/285 [00:29<00:30,  6.12it/s]"
     ]
    },
    {
     "name": "stdout",
     "output_type": "stream",
     "text": [
      "Frame ID: 97 \tTime: 29.57 seconds\n"
     ]
    },
    {
     "name": "stderr",
     "output_type": "stream",
     "text": [
      "\n",
      " 34%|███████████████████████████▌                                                     | 97/285 [00:29<00:30,  6.15it/s]"
     ]
    },
    {
     "name": "stdout",
     "output_type": "stream",
     "text": [
      "Frame ID: 98 \tTime: 29.73 seconds\n"
     ]
    },
    {
     "name": "stderr",
     "output_type": "stream",
     "text": [
      "\n",
      " 34%|███████████████████████████▊                                                     | 98/285 [00:29<00:30,  6.20it/s]"
     ]
    },
    {
     "name": "stdout",
     "output_type": "stream",
     "text": [
      "Frame ID: 99 \tTime: 29.89 seconds\n"
     ]
    },
    {
     "name": "stderr",
     "output_type": "stream",
     "text": [
      "\n",
      " 35%|████████████████████████████▏                                                    | 99/285 [00:30<00:29,  6.21it/s]"
     ]
    },
    {
     "name": "stdout",
     "output_type": "stream",
     "text": [
      "Frame ID: 100 \tTime: 30.05 seconds\n"
     ]
    },
    {
     "name": "stderr",
     "output_type": "stream",
     "text": [
      "\n",
      " 35%|████████████████████████████                                                    | 100/285 [00:30<00:29,  6.22it/s]"
     ]
    },
    {
     "name": "stdout",
     "output_type": "stream",
     "text": [
      "Frame ID: 101 \tTime: 30.21 seconds\n"
     ]
    },
    {
     "name": "stderr",
     "output_type": "stream",
     "text": [
      "\n",
      " 35%|████████████████████████████▎                                                   | 101/285 [00:30<00:29,  6.23it/s]"
     ]
    },
    {
     "name": "stdout",
     "output_type": "stream",
     "text": [
      "Frame ID: 102 \tTime: 30.37 seconds\n"
     ]
    },
    {
     "name": "stderr",
     "output_type": "stream",
     "text": [
      "\n",
      " 36%|████████████████████████████▋                                                   | 102/285 [00:30<00:29,  6.26it/s]"
     ]
    },
    {
     "name": "stdout",
     "output_type": "stream",
     "text": [
      "Frame ID: 103 \tTime: 30.53 seconds\n"
     ]
    },
    {
     "name": "stderr",
     "output_type": "stream",
     "text": [
      "\n",
      " 36%|████████████████████████████▉                                                   | 103/285 [00:30<00:29,  6.27it/s]"
     ]
    },
    {
     "name": "stdout",
     "output_type": "stream",
     "text": [
      "Frame ID: 104 \tTime: 30.69 seconds\n"
     ]
    },
    {
     "name": "stderr",
     "output_type": "stream",
     "text": [
      "\n",
      " 36%|█████████████████████████████▏                                                  | 104/285 [00:30<00:29,  6.13it/s]"
     ]
    },
    {
     "name": "stdout",
     "output_type": "stream",
     "text": [
      "Frame ID: 105 \tTime: 30.86 seconds\n"
     ]
    },
    {
     "name": "stderr",
     "output_type": "stream",
     "text": [
      "\n",
      " 37%|█████████████████████████████▍                                                  | 105/285 [00:30<00:29,  6.16it/s]"
     ]
    },
    {
     "name": "stdout",
     "output_type": "stream",
     "text": [
      "Frame ID: 106 \tTime: 31.02 seconds\n"
     ]
    },
    {
     "name": "stderr",
     "output_type": "stream",
     "text": [
      "\n",
      " 37%|█████████████████████████████▊                                                  | 106/285 [00:31<00:28,  6.20it/s]"
     ]
    },
    {
     "name": "stdout",
     "output_type": "stream",
     "text": [
      "Frame ID: 107 \tTime: 31.18 seconds\n"
     ]
    },
    {
     "name": "stderr",
     "output_type": "stream",
     "text": [
      "\n",
      " 38%|██████████████████████████████                                                  | 107/285 [00:31<00:28,  6.24it/s]"
     ]
    },
    {
     "name": "stdout",
     "output_type": "stream",
     "text": [
      "Frame ID: 108 \tTime: 31.33 seconds\n"
     ]
    },
    {
     "name": "stderr",
     "output_type": "stream",
     "text": [
      "\n",
      " 38%|██████████████████████████████▎                                                 | 108/285 [00:31<00:28,  6.21it/s]"
     ]
    },
    {
     "name": "stdout",
     "output_type": "stream",
     "text": [
      "Frame ID: 109 \tTime: 31.50 seconds\n"
     ]
    },
    {
     "name": "stderr",
     "output_type": "stream",
     "text": [
      "\n",
      " 38%|██████████████████████████████▌                                                 | 109/285 [00:31<00:28,  6.23it/s]"
     ]
    },
    {
     "name": "stdout",
     "output_type": "stream",
     "text": [
      "Frame ID: 110 \tTime: 31.66 seconds\n"
     ]
    },
    {
     "name": "stderr",
     "output_type": "stream",
     "text": [
      "\n",
      " 39%|██████████████████████████████▉                                                 | 110/285 [00:31<00:28,  6.23it/s]"
     ]
    },
    {
     "name": "stdout",
     "output_type": "stream",
     "text": [
      "Frame ID: 111 \tTime: 31.82 seconds\n"
     ]
    },
    {
     "name": "stderr",
     "output_type": "stream",
     "text": [
      "\n",
      " 39%|███████████████████████████████▏                                                | 111/285 [00:31<00:27,  6.26it/s]"
     ]
    },
    {
     "name": "stdout",
     "output_type": "stream",
     "text": [
      "Frame ID: 112 \tTime: 31.98 seconds\n"
     ]
    },
    {
     "name": "stderr",
     "output_type": "stream",
     "text": [
      "\n",
      " 39%|███████████████████████████████▍                                                | 112/285 [00:32<00:28,  6.18it/s]"
     ]
    },
    {
     "name": "stdout",
     "output_type": "stream",
     "text": [
      "Frame ID: 113 \tTime: 32.14 seconds\n"
     ]
    },
    {
     "name": "stderr",
     "output_type": "stream",
     "text": [
      "\n",
      " 40%|███████████████████████████████▋                                                | 113/285 [00:32<00:27,  6.22it/s]"
     ]
    },
    {
     "name": "stdout",
     "output_type": "stream",
     "text": [
      "Frame ID: 114 \tTime: 32.30 seconds\n"
     ]
    },
    {
     "name": "stderr",
     "output_type": "stream",
     "text": [
      "\n",
      " 40%|████████████████████████████████                                                | 114/285 [00:32<00:27,  6.22it/s]"
     ]
    },
    {
     "name": "stdout",
     "output_type": "stream",
     "text": [
      "Frame ID: 115 \tTime: 32.46 seconds\n"
     ]
    },
    {
     "name": "stderr",
     "output_type": "stream",
     "text": [
      "\n",
      " 40%|████████████████████████████████▎                                               | 115/285 [00:32<00:27,  6.21it/s]"
     ]
    },
    {
     "name": "stdout",
     "output_type": "stream",
     "text": [
      "Frame ID: 116 \tTime: 32.62 seconds\n"
     ]
    },
    {
     "name": "stderr",
     "output_type": "stream",
     "text": [
      "\n",
      " 41%|████████████████████████████████▌                                               | 116/285 [00:32<00:27,  6.22it/s]"
     ]
    },
    {
     "name": "stdout",
     "output_type": "stream",
     "text": [
      "Frame ID: 117 \tTime: 32.78 seconds\n"
     ]
    },
    {
     "name": "stderr",
     "output_type": "stream",
     "text": [
      "\n",
      " 41%|████████████████████████████████▊                                               | 117/285 [00:32<00:26,  6.24it/s]"
     ]
    },
    {
     "name": "stdout",
     "output_type": "stream",
     "text": [
      "Frame ID: 118 \tTime: 32.94 seconds\n"
     ]
    },
    {
     "name": "stderr",
     "output_type": "stream",
     "text": [
      "\n",
      " 41%|█████████████████████████████████                                               | 118/285 [00:33<00:26,  6.22it/s]"
     ]
    },
    {
     "name": "stdout",
     "output_type": "stream",
     "text": [
      "Frame ID: 119 \tTime: 33.10 seconds\n"
     ]
    },
    {
     "name": "stderr",
     "output_type": "stream",
     "text": [
      "\n",
      " 42%|█████████████████████████████████▍                                              | 119/285 [00:33<00:26,  6.25it/s]"
     ]
    },
    {
     "name": "stdout",
     "output_type": "stream",
     "text": [
      "Frame ID: 120 \tTime: 33.26 seconds\n"
     ]
    },
    {
     "name": "stderr",
     "output_type": "stream",
     "text": [
      "\n",
      " 42%|█████████████████████████████████▋                                              | 120/285 [00:33<00:26,  6.24it/s]"
     ]
    },
    {
     "name": "stdout",
     "output_type": "stream",
     "text": [
      "Frame ID: 121 \tTime: 33.42 seconds\n"
     ]
    },
    {
     "name": "stderr",
     "output_type": "stream",
     "text": [
      "\n",
      " 42%|█████████████████████████████████▉                                              | 121/285 [00:33<00:26,  6.23it/s]"
     ]
    },
    {
     "name": "stdout",
     "output_type": "stream",
     "text": [
      "Frame ID: 122 \tTime: 33.58 seconds\n"
     ]
    },
    {
     "name": "stderr",
     "output_type": "stream",
     "text": [
      "\n",
      " 43%|██████████████████████████████████▏                                             | 122/285 [00:33<00:25,  6.28it/s]"
     ]
    },
    {
     "name": "stdout",
     "output_type": "stream",
     "text": [
      "Frame ID: 123 \tTime: 33.74 seconds\n"
     ]
    },
    {
     "name": "stderr",
     "output_type": "stream",
     "text": [
      "\n",
      " 43%|██████████████████████████████████▌                                             | 123/285 [00:33<00:26,  6.18it/s]"
     ]
    },
    {
     "name": "stdout",
     "output_type": "stream",
     "text": [
      "Frame ID: 124 \tTime: 33.91 seconds\n"
     ]
    },
    {
     "name": "stderr",
     "output_type": "stream",
     "text": [
      "\n",
      " 44%|██████████████████████████████████▊                                             | 124/285 [00:34<00:26,  6.18it/s]"
     ]
    },
    {
     "name": "stdout",
     "output_type": "stream",
     "text": [
      "Frame ID: 125 \tTime: 34.07 seconds\n"
     ]
    },
    {
     "name": "stderr",
     "output_type": "stream",
     "text": [
      "\n",
      " 44%|███████████████████████████████████                                             | 125/285 [00:34<00:26,  6.08it/s]"
     ]
    },
    {
     "name": "stdout",
     "output_type": "stream",
     "text": [
      "Frame ID: 126 \tTime: 34.24 seconds\n"
     ]
    },
    {
     "name": "stderr",
     "output_type": "stream",
     "text": [
      "\n",
      " 44%|███████████████████████████████████▎                                            | 126/285 [00:34<00:26,  6.12it/s]"
     ]
    },
    {
     "name": "stdout",
     "output_type": "stream",
     "text": [
      "Frame ID: 127 \tTime: 34.40 seconds\n"
     ]
    },
    {
     "name": "stderr",
     "output_type": "stream",
     "text": [
      "\n",
      " 45%|███████████████████████████████████▋                                            | 127/285 [00:34<00:25,  6.16it/s]"
     ]
    },
    {
     "name": "stdout",
     "output_type": "stream",
     "text": [
      "Frame ID: 128 \tTime: 34.56 seconds\n"
     ]
    },
    {
     "name": "stderr",
     "output_type": "stream",
     "text": [
      "\n",
      " 45%|███████████████████████████████████▉                                            | 128/285 [00:34<00:25,  6.09it/s]"
     ]
    },
    {
     "name": "stdout",
     "output_type": "stream",
     "text": [
      "Frame ID: 129 \tTime: 34.73 seconds\n"
     ]
    },
    {
     "name": "stderr",
     "output_type": "stream",
     "text": [
      "\n",
      " 45%|████████████████████████████████████▏                                           | 129/285 [00:34<00:25,  6.13it/s]"
     ]
    },
    {
     "name": "stdout",
     "output_type": "stream",
     "text": [
      "Frame ID: 130 \tTime: 34.89 seconds\n"
     ]
    },
    {
     "name": "stderr",
     "output_type": "stream",
     "text": [
      "\n",
      " 46%|████████████████████████████████████▍                                           | 130/285 [00:35<00:25,  6.15it/s]"
     ]
    },
    {
     "name": "stdout",
     "output_type": "stream",
     "text": [
      "Frame ID: 131 \tTime: 35.05 seconds\n"
     ]
    },
    {
     "name": "stderr",
     "output_type": "stream",
     "text": [
      "\n",
      " 46%|████████████████████████████████████▊                                           | 131/285 [00:35<00:24,  6.16it/s]"
     ]
    },
    {
     "name": "stdout",
     "output_type": "stream",
     "text": [
      "Frame ID: 132 \tTime: 35.21 seconds\n"
     ]
    },
    {
     "name": "stderr",
     "output_type": "stream",
     "text": [
      "\n",
      " 46%|█████████████████████████████████████                                           | 132/285 [00:35<00:24,  6.18it/s]"
     ]
    },
    {
     "name": "stdout",
     "output_type": "stream",
     "text": [
      "Frame ID: 133 \tTime: 35.37 seconds\n"
     ]
    },
    {
     "name": "stderr",
     "output_type": "stream",
     "text": [
      "\n",
      " 47%|█████████████████████████████████████▎                                          | 133/285 [00:35<00:24,  6.21it/s]"
     ]
    },
    {
     "name": "stdout",
     "output_type": "stream",
     "text": [
      "Frame ID: 134 \tTime: 35.53 seconds\n"
     ]
    },
    {
     "name": "stderr",
     "output_type": "stream",
     "text": [
      "\n",
      " 47%|█████████████████████████████████████▌                                          | 134/285 [00:35<00:24,  6.23it/s]"
     ]
    },
    {
     "name": "stdout",
     "output_type": "stream",
     "text": [
      "Frame ID: 135 \tTime: 35.69 seconds\n"
     ]
    },
    {
     "name": "stderr",
     "output_type": "stream",
     "text": [
      "\n",
      " 47%|█████████████████████████████████████▉                                          | 135/285 [00:35<00:24,  6.21it/s]"
     ]
    },
    {
     "name": "stdout",
     "output_type": "stream",
     "text": [
      "Frame ID: 136 \tTime: 35.85 seconds\n"
     ]
    },
    {
     "name": "stderr",
     "output_type": "stream",
     "text": [
      "\n",
      " 48%|██████████████████████████████████████▏                                         | 136/285 [00:35<00:23,  6.21it/s]"
     ]
    },
    {
     "name": "stdout",
     "output_type": "stream",
     "text": [
      "Frame ID: 137 \tTime: 36.02 seconds\n"
     ]
    },
    {
     "name": "stderr",
     "output_type": "stream",
     "text": [
      "\n",
      " 48%|██████████████████████████████████████▍                                         | 137/285 [00:36<00:24,  6.13it/s]"
     ]
    },
    {
     "name": "stdout",
     "output_type": "stream",
     "text": [
      "Frame ID: 138 \tTime: 36.18 seconds\n"
     ]
    },
    {
     "name": "stderr",
     "output_type": "stream",
     "text": [
      "\n",
      " 48%|██████████████████████████████████████▋                                         | 138/285 [00:36<00:23,  6.15it/s]"
     ]
    },
    {
     "name": "stdout",
     "output_type": "stream",
     "text": [
      "Frame ID: 139 \tTime: 36.34 seconds\n"
     ]
    },
    {
     "name": "stderr",
     "output_type": "stream",
     "text": [
      "\n",
      " 49%|███████████████████████████████████████                                         | 139/285 [00:36<00:23,  6.18it/s]"
     ]
    },
    {
     "name": "stdout",
     "output_type": "stream",
     "text": [
      "Frame ID: 140 \tTime: 36.50 seconds\n"
     ]
    },
    {
     "name": "stderr",
     "output_type": "stream",
     "text": [
      "\n",
      " 49%|███████████████████████████████████████▎                                        | 140/285 [00:36<00:23,  6.18it/s]"
     ]
    },
    {
     "name": "stdout",
     "output_type": "stream",
     "text": [
      "Frame ID: 141 \tTime: 36.67 seconds\n"
     ]
    },
    {
     "name": "stderr",
     "output_type": "stream",
     "text": [
      "\n",
      " 49%|███████████████████████████████████████▌                                        | 141/285 [00:36<00:23,  6.21it/s]"
     ]
    },
    {
     "name": "stdout",
     "output_type": "stream",
     "text": [
      "Frame ID: 142 \tTime: 36.82 seconds\n"
     ]
    },
    {
     "name": "stderr",
     "output_type": "stream",
     "text": [
      "\n",
      " 50%|███████████████████████████████████████▊                                        | 142/285 [00:36<00:23,  6.21it/s]"
     ]
    },
    {
     "name": "stdout",
     "output_type": "stream",
     "text": [
      "Frame ID: 143 \tTime: 36.99 seconds\n"
     ]
    },
    {
     "name": "stderr",
     "output_type": "stream",
     "text": [
      "\n",
      " 50%|████████████████████████████████████████▏                                       | 143/285 [00:37<00:22,  6.23it/s]"
     ]
    },
    {
     "name": "stdout",
     "output_type": "stream",
     "text": [
      "Frame ID: 144 \tTime: 37.14 seconds\n"
     ]
    },
    {
     "name": "stderr",
     "output_type": "stream",
     "text": [
      "\n",
      " 51%|████████████████████████████████████████▍                                       | 144/285 [00:37<00:22,  6.23it/s]"
     ]
    },
    {
     "name": "stdout",
     "output_type": "stream",
     "text": [
      "Frame ID: 145 \tTime: 37.31 seconds\n"
     ]
    },
    {
     "name": "stderr",
     "output_type": "stream",
     "text": [
      "\n",
      " 51%|████████████████████████████████████████▋                                       | 145/285 [00:37<00:22,  6.22it/s]"
     ]
    },
    {
     "name": "stdout",
     "output_type": "stream",
     "text": [
      "Frame ID: 146 \tTime: 37.47 seconds\n"
     ]
    },
    {
     "name": "stderr",
     "output_type": "stream",
     "text": [
      "\n",
      " 51%|████████████████████████████████████████▉                                       | 146/285 [00:37<00:22,  6.24it/s]"
     ]
    },
    {
     "name": "stdout",
     "output_type": "stream",
     "text": [
      "Frame ID: 147 \tTime: 37.63 seconds\n"
     ]
    },
    {
     "name": "stderr",
     "output_type": "stream",
     "text": [
      "\n",
      " 52%|█████████████████████████████████████████▎                                      | 147/285 [00:37<00:22,  6.20it/s]"
     ]
    },
    {
     "name": "stdout",
     "output_type": "stream",
     "text": [
      "Frame ID: 148 \tTime: 37.79 seconds\n"
     ]
    },
    {
     "name": "stderr",
     "output_type": "stream",
     "text": [
      "\n",
      " 52%|█████████████████████████████████████████▌                                      | 148/285 [00:37<00:22,  6.18it/s]"
     ]
    },
    {
     "name": "stdout",
     "output_type": "stream",
     "text": [
      "Frame ID: 149 \tTime: 37.95 seconds\n"
     ]
    },
    {
     "name": "stderr",
     "output_type": "stream",
     "text": [
      "\n",
      " 52%|█████████████████████████████████████████▊                                      | 149/285 [00:38<00:22,  6.15it/s]"
     ]
    },
    {
     "name": "stdout",
     "output_type": "stream",
     "text": [
      "Frame ID: 150 \tTime: 38.12 seconds\n"
     ]
    },
    {
     "name": "stderr",
     "output_type": "stream",
     "text": [
      "\n",
      " 53%|██████████████████████████████████████████                                      | 150/285 [00:38<00:22,  6.11it/s]"
     ]
    },
    {
     "name": "stdout",
     "output_type": "stream",
     "text": [
      "Frame ID: 151 \tTime: 38.28 seconds\n"
     ]
    },
    {
     "name": "stderr",
     "output_type": "stream",
     "text": [
      "\n",
      " 53%|██████████████████████████████████████████▍                                     | 151/285 [00:38<00:22,  6.09it/s]"
     ]
    },
    {
     "name": "stdout",
     "output_type": "stream",
     "text": [
      "Frame ID: 152 \tTime: 38.45 seconds\n"
     ]
    },
    {
     "name": "stderr",
     "output_type": "stream",
     "text": [
      "\n",
      " 53%|██████████████████████████████████████████▋                                     | 152/285 [00:38<00:21,  6.06it/s]"
     ]
    },
    {
     "name": "stdout",
     "output_type": "stream",
     "text": [
      "Frame ID: 153 \tTime: 38.62 seconds\n"
     ]
    },
    {
     "name": "stderr",
     "output_type": "stream",
     "text": [
      "\n",
      " 54%|██████████████████████████████████████████▉                                     | 153/285 [00:38<00:21,  6.05it/s]"
     ]
    },
    {
     "name": "stdout",
     "output_type": "stream",
     "text": [
      "Frame ID: 154 \tTime: 38.78 seconds\n"
     ]
    },
    {
     "name": "stderr",
     "output_type": "stream",
     "text": [
      "\n",
      " 54%|███████████████████████████████████████████▏                                    | 154/285 [00:38<00:21,  6.05it/s]"
     ]
    },
    {
     "name": "stdout",
     "output_type": "stream",
     "text": [
      "Frame ID: 155 \tTime: 38.95 seconds\n"
     ]
    },
    {
     "name": "stderr",
     "output_type": "stream",
     "text": [
      "\n",
      " 54%|███████████████████████████████████████████▌                                    | 155/285 [00:39<00:21,  6.07it/s]"
     ]
    },
    {
     "name": "stdout",
     "output_type": "stream",
     "text": [
      "Frame ID: 156 \tTime: 39.11 seconds\n"
     ]
    },
    {
     "name": "stderr",
     "output_type": "stream",
     "text": [
      "\n",
      " 55%|███████████████████████████████████████████▊                                    | 156/285 [00:39<00:21,  6.09it/s]"
     ]
    },
    {
     "name": "stdout",
     "output_type": "stream",
     "text": [
      "Frame ID: 157 \tTime: 39.27 seconds\n"
     ]
    },
    {
     "name": "stderr",
     "output_type": "stream",
     "text": [
      "\n",
      " 55%|████████████████████████████████████████████                                    | 157/285 [00:39<00:20,  6.12it/s]"
     ]
    },
    {
     "name": "stdout",
     "output_type": "stream",
     "text": [
      "Frame ID: 158 \tTime: 39.44 seconds\n"
     ]
    },
    {
     "name": "stderr",
     "output_type": "stream",
     "text": [
      "\n",
      " 55%|████████████████████████████████████████████▎                                   | 158/285 [00:39<00:20,  6.11it/s]"
     ]
    },
    {
     "name": "stdout",
     "output_type": "stream",
     "text": [
      "Frame ID: 159 \tTime: 39.60 seconds\n"
     ]
    },
    {
     "name": "stderr",
     "output_type": "stream",
     "text": [
      "\n",
      " 56%|████████████████████████████████████████████▋                                   | 159/285 [00:39<00:20,  6.13it/s]"
     ]
    },
    {
     "name": "stdout",
     "output_type": "stream",
     "text": [
      "Frame ID: 160 \tTime: 39.76 seconds\n"
     ]
    },
    {
     "name": "stderr",
     "output_type": "stream",
     "text": [
      "\n",
      " 56%|████████████████████████████████████████████▉                                   | 160/285 [00:39<00:20,  6.14it/s]"
     ]
    },
    {
     "name": "stdout",
     "output_type": "stream",
     "text": [
      "Frame ID: 161 \tTime: 39.92 seconds\n"
     ]
    },
    {
     "name": "stderr",
     "output_type": "stream",
     "text": [
      "\n",
      " 56%|█████████████████████████████████████████████▏                                  | 161/285 [00:40<00:20,  6.14it/s]"
     ]
    },
    {
     "name": "stdout",
     "output_type": "stream",
     "text": [
      "Frame ID: 162 \tTime: 40.09 seconds\n"
     ]
    },
    {
     "name": "stderr",
     "output_type": "stream",
     "text": [
      "\n",
      " 57%|█████████████████████████████████████████████▍                                  | 162/285 [00:40<00:19,  6.17it/s]"
     ]
    },
    {
     "name": "stdout",
     "output_type": "stream",
     "text": [
      "Frame ID: 163 \tTime: 40.25 seconds\n"
     ]
    },
    {
     "name": "stderr",
     "output_type": "stream",
     "text": [
      "\n",
      " 57%|█████████████████████████████████████████████▊                                  | 163/285 [00:40<00:19,  6.18it/s]"
     ]
    },
    {
     "name": "stdout",
     "output_type": "stream",
     "text": [
      "Frame ID: 164 \tTime: 40.41 seconds\n"
     ]
    },
    {
     "name": "stderr",
     "output_type": "stream",
     "text": [
      "\n",
      " 58%|██████████████████████████████████████████████                                  | 164/285 [00:40<00:19,  6.22it/s]"
     ]
    },
    {
     "name": "stdout",
     "output_type": "stream",
     "text": [
      "Frame ID: 165 \tTime: 40.57 seconds\n"
     ]
    },
    {
     "name": "stderr",
     "output_type": "stream",
     "text": [
      "\n",
      " 58%|██████████████████████████████████████████████▎                                 | 165/285 [00:40<00:19,  6.23it/s]"
     ]
    },
    {
     "name": "stdout",
     "output_type": "stream",
     "text": [
      "Frame ID: 166 \tTime: 40.73 seconds\n"
     ]
    },
    {
     "name": "stderr",
     "output_type": "stream",
     "text": [
      "\n",
      " 58%|██████████████████████████████████████████████▌                                 | 166/285 [00:40<00:19,  6.25it/s]"
     ]
    },
    {
     "name": "stdout",
     "output_type": "stream",
     "text": [
      "Frame ID: 167 \tTime: 40.89 seconds\n"
     ]
    },
    {
     "name": "stderr",
     "output_type": "stream",
     "text": [
      "\n",
      " 59%|██████████████████████████████████████████████▉                                 | 167/285 [00:41<00:18,  6.25it/s]"
     ]
    },
    {
     "name": "stdout",
     "output_type": "stream",
     "text": [
      "Frame ID: 168 \tTime: 41.04 seconds\n"
     ]
    },
    {
     "name": "stderr",
     "output_type": "stream",
     "text": [
      "\n",
      " 59%|███████████████████████████████████████████████▏                                | 168/285 [00:41<00:18,  6.26it/s]"
     ]
    },
    {
     "name": "stdout",
     "output_type": "stream",
     "text": [
      "Frame ID: 169 \tTime: 41.20 seconds\n"
     ]
    },
    {
     "name": "stderr",
     "output_type": "stream",
     "text": [
      "\n",
      " 59%|███████████████████████████████████████████████▍                                | 169/285 [00:41<00:18,  6.28it/s]"
     ]
    },
    {
     "name": "stdout",
     "output_type": "stream",
     "text": [
      "Frame ID: 170 \tTime: 41.36 seconds\n"
     ]
    },
    {
     "name": "stderr",
     "output_type": "stream",
     "text": [
      "\n",
      " 60%|███████████████████████████████████████████████▋                                | 170/285 [00:41<00:18,  6.27it/s]"
     ]
    },
    {
     "name": "stdout",
     "output_type": "stream",
     "text": [
      "Frame ID: 171 \tTime: 41.52 seconds\n"
     ]
    },
    {
     "name": "stderr",
     "output_type": "stream",
     "text": [
      "\n",
      " 60%|████████████████████████████████████████████████                                | 171/285 [00:41<00:18,  6.28it/s]"
     ]
    },
    {
     "name": "stdout",
     "output_type": "stream",
     "text": [
      "Frame ID: 172 \tTime: 41.68 seconds\n"
     ]
    },
    {
     "name": "stderr",
     "output_type": "stream",
     "text": [
      "\n",
      " 60%|████████████████████████████████████████████████▎                               | 172/285 [00:41<00:17,  6.29it/s]"
     ]
    },
    {
     "name": "stdout",
     "output_type": "stream",
     "text": [
      "Frame ID: 173 \tTime: 41.84 seconds\n"
     ]
    },
    {
     "name": "stderr",
     "output_type": "stream",
     "text": [
      "\n",
      " 61%|████████████████████████████████████████████████▌                               | 173/285 [00:41<00:18,  6.18it/s]"
     ]
    },
    {
     "name": "stdout",
     "output_type": "stream",
     "text": [
      "Frame ID: 174 \tTime: 42.01 seconds\n"
     ]
    },
    {
     "name": "stderr",
     "output_type": "stream",
     "text": [
      "\n",
      " 61%|████████████████████████████████████████████████▊                               | 174/285 [00:42<00:17,  6.21it/s]"
     ]
    },
    {
     "name": "stdout",
     "output_type": "stream",
     "text": [
      "Frame ID: 175 \tTime: 42.17 seconds\n"
     ]
    },
    {
     "name": "stderr",
     "output_type": "stream",
     "text": [
      "\n",
      " 61%|█████████████████████████████████████████████████                               | 175/285 [00:42<00:17,  6.23it/s]"
     ]
    },
    {
     "name": "stdout",
     "output_type": "stream",
     "text": [
      "Frame ID: 176 \tTime: 42.33 seconds\n"
     ]
    },
    {
     "name": "stderr",
     "output_type": "stream",
     "text": [
      "\n",
      " 62%|█████████████████████████████████████████████████▍                              | 176/285 [00:42<00:17,  6.26it/s]"
     ]
    },
    {
     "name": "stdout",
     "output_type": "stream",
     "text": [
      "Frame ID: 177 \tTime: 42.49 seconds\n"
     ]
    },
    {
     "name": "stderr",
     "output_type": "stream",
     "text": [
      "\n",
      " 62%|█████████████████████████████████████████████████▋                              | 177/285 [00:42<00:17,  6.28it/s]"
     ]
    },
    {
     "name": "stdout",
     "output_type": "stream",
     "text": [
      "Frame ID: 178 \tTime: 42.64 seconds\n"
     ]
    },
    {
     "name": "stderr",
     "output_type": "stream",
     "text": [
      "\n",
      " 62%|█████████████████████████████████████████████████▉                              | 178/285 [00:42<00:17,  6.29it/s]"
     ]
    },
    {
     "name": "stdout",
     "output_type": "stream",
     "text": [
      "Frame ID: 179 \tTime: 42.80 seconds\n"
     ]
    },
    {
     "name": "stderr",
     "output_type": "stream",
     "text": [
      "\n",
      " 63%|██████████████████████████████████████████████████▏                             | 179/285 [00:42<00:16,  6.27it/s]"
     ]
    },
    {
     "name": "stdout",
     "output_type": "stream",
     "text": [
      "Frame ID: 180 \tTime: 42.96 seconds\n"
     ]
    },
    {
     "name": "stderr",
     "output_type": "stream",
     "text": [
      "\n",
      " 63%|██████████████████████████████████████████████████▌                             | 180/285 [00:43<00:16,  6.29it/s]"
     ]
    },
    {
     "name": "stdout",
     "output_type": "stream",
     "text": [
      "Frame ID: 181 \tTime: 43.12 seconds\n"
     ]
    },
    {
     "name": "stderr",
     "output_type": "stream",
     "text": [
      "\n",
      " 64%|██████████████████████████████████████████████████▊                             | 181/285 [00:43<00:16,  6.19it/s]"
     ]
    },
    {
     "name": "stdout",
     "output_type": "stream",
     "text": [
      "Frame ID: 182 \tTime: 43.29 seconds\n"
     ]
    },
    {
     "name": "stderr",
     "output_type": "stream",
     "text": [
      "\n",
      " 64%|███████████████████████████████████████████████████                             | 182/285 [00:43<00:16,  6.22it/s]"
     ]
    },
    {
     "name": "stdout",
     "output_type": "stream",
     "text": [
      "Frame ID: 183 \tTime: 43.45 seconds\n"
     ]
    },
    {
     "name": "stderr",
     "output_type": "stream",
     "text": [
      "\n",
      " 64%|███████████████████████████████████████████████████▎                            | 183/285 [00:43<00:16,  6.23it/s]"
     ]
    },
    {
     "name": "stdout",
     "output_type": "stream",
     "text": [
      "Frame ID: 184 \tTime: 43.61 seconds\n"
     ]
    },
    {
     "name": "stderr",
     "output_type": "stream",
     "text": [
      "\n",
      " 65%|███████████████████████████████████████████████████▋                            | 184/285 [00:43<00:16,  6.24it/s]"
     ]
    },
    {
     "name": "stdout",
     "output_type": "stream",
     "text": [
      "Frame ID: 185 \tTime: 43.77 seconds\n"
     ]
    },
    {
     "name": "stderr",
     "output_type": "stream",
     "text": [
      "\n",
      " 65%|███████████████████████████████████████████████████▉                            | 185/285 [00:43<00:15,  6.27it/s]"
     ]
    },
    {
     "name": "stdout",
     "output_type": "stream",
     "text": [
      "Frame ID: 186 \tTime: 43.92 seconds\n"
     ]
    },
    {
     "name": "stderr",
     "output_type": "stream",
     "text": [
      "\n",
      " 65%|████████████████████████████████████████████████████▏                           | 186/285 [00:44<00:15,  6.29it/s]"
     ]
    },
    {
     "name": "stdout",
     "output_type": "stream",
     "text": [
      "Frame ID: 187 \tTime: 44.08 seconds\n"
     ]
    },
    {
     "name": "stderr",
     "output_type": "stream",
     "text": [
      "\n",
      " 66%|████████████████████████████████████████████████████▍                           | 187/285 [00:44<00:15,  6.27it/s]"
     ]
    },
    {
     "name": "stdout",
     "output_type": "stream",
     "text": [
      "Frame ID: 188 \tTime: 44.24 seconds\n"
     ]
    },
    {
     "name": "stderr",
     "output_type": "stream",
     "text": [
      "\n",
      " 66%|████████████████████████████████████████████████████▊                           | 188/285 [00:44<00:15,  6.27it/s]"
     ]
    },
    {
     "name": "stdout",
     "output_type": "stream",
     "text": [
      "Frame ID: 189 \tTime: 44.40 seconds\n"
     ]
    },
    {
     "name": "stderr",
     "output_type": "stream",
     "text": [
      "\n",
      " 66%|█████████████████████████████████████████████████████                           | 189/285 [00:44<00:15,  6.27it/s]"
     ]
    },
    {
     "name": "stdout",
     "output_type": "stream",
     "text": [
      "Frame ID: 190 \tTime: 44.56 seconds\n"
     ]
    },
    {
     "name": "stderr",
     "output_type": "stream",
     "text": [
      "\n",
      " 67%|█████████████████████████████████████████████████████▎                          | 190/285 [00:44<00:15,  6.18it/s]"
     ]
    },
    {
     "name": "stdout",
     "output_type": "stream",
     "text": [
      "Frame ID: 191 \tTime: 44.73 seconds\n"
     ]
    },
    {
     "name": "stderr",
     "output_type": "stream",
     "text": [
      "\n",
      " 67%|█████████████████████████████████████████████████████▌                          | 191/285 [00:44<00:15,  6.19it/s]"
     ]
    },
    {
     "name": "stdout",
     "output_type": "stream",
     "text": [
      "Frame ID: 192 \tTime: 44.89 seconds\n"
     ]
    },
    {
     "name": "stderr",
     "output_type": "stream",
     "text": [
      "\n",
      " 67%|█████████████████████████████████████████████████████▉                          | 192/285 [00:45<00:15,  6.19it/s]"
     ]
    },
    {
     "name": "stdout",
     "output_type": "stream",
     "text": [
      "Frame ID: 193 \tTime: 45.05 seconds\n"
     ]
    },
    {
     "name": "stderr",
     "output_type": "stream",
     "text": [
      "\n",
      " 68%|██████████████████████████████████████████████████████▏                         | 193/285 [00:45<00:14,  6.23it/s]"
     ]
    },
    {
     "name": "stdout",
     "output_type": "stream",
     "text": [
      "Frame ID: 194 \tTime: 45.21 seconds\n"
     ]
    },
    {
     "name": "stderr",
     "output_type": "stream",
     "text": [
      "\n",
      " 68%|██████████████████████████████████████████████████████▍                         | 194/285 [00:45<00:14,  6.24it/s]"
     ]
    },
    {
     "name": "stdout",
     "output_type": "stream",
     "text": [
      "Frame ID: 195 \tTime: 45.37 seconds\n"
     ]
    },
    {
     "name": "stderr",
     "output_type": "stream",
     "text": [
      "\n",
      " 68%|██████████████████████████████████████████████████████▋                         | 195/285 [00:45<00:14,  6.26it/s]"
     ]
    },
    {
     "name": "stdout",
     "output_type": "stream",
     "text": [
      "Frame ID: 196 \tTime: 45.53 seconds\n"
     ]
    },
    {
     "name": "stderr",
     "output_type": "stream",
     "text": [
      "\n",
      " 69%|███████████████████████████████████████████████████████                         | 196/285 [00:45<00:14,  6.26it/s]"
     ]
    },
    {
     "name": "stdout",
     "output_type": "stream",
     "text": [
      "Frame ID: 197 \tTime: 45.69 seconds\n"
     ]
    },
    {
     "name": "stderr",
     "output_type": "stream",
     "text": [
      "\n",
      " 69%|███████████████████████████████████████████████████████▎                        | 197/285 [00:45<00:13,  6.29it/s]"
     ]
    },
    {
     "name": "stdout",
     "output_type": "stream",
     "text": [
      "Frame ID: 198 \tTime: 45.84 seconds\n"
     ]
    },
    {
     "name": "stderr",
     "output_type": "stream",
     "text": [
      "\n",
      " 69%|███████████████████████████████████████████████████████▌                        | 198/285 [00:45<00:13,  6.27it/s]"
     ]
    },
    {
     "name": "stdout",
     "output_type": "stream",
     "text": [
      "Frame ID: 199 \tTime: 46.00 seconds\n"
     ]
    },
    {
     "name": "stderr",
     "output_type": "stream",
     "text": [
      "\n",
      " 70%|███████████████████████████████████████████████████████▊                        | 199/285 [00:46<00:13,  6.29it/s]"
     ]
    },
    {
     "name": "stdout",
     "output_type": "stream",
     "text": [
      "Frame ID: 200 \tTime: 46.16 seconds\n"
     ]
    },
    {
     "name": "stderr",
     "output_type": "stream",
     "text": [
      "\n",
      " 70%|████████████████████████████████████████████████████████▏                       | 200/285 [00:46<00:13,  6.27it/s]"
     ]
    },
    {
     "name": "stdout",
     "output_type": "stream",
     "text": [
      "Frame ID: 201 \tTime: 46.32 seconds\n"
     ]
    },
    {
     "name": "stderr",
     "output_type": "stream",
     "text": [
      "\n",
      " 71%|████████████████████████████████████████████████████████▍                       | 201/285 [00:46<00:13,  6.28it/s]"
     ]
    },
    {
     "name": "stdout",
     "output_type": "stream",
     "text": [
      "Frame ID: 202 \tTime: 46.48 seconds\n"
     ]
    },
    {
     "name": "stderr",
     "output_type": "stream",
     "text": [
      "\n",
      " 71%|████████████████████████████████████████████████████████▋                       | 202/285 [00:46<00:13,  6.27it/s]"
     ]
    },
    {
     "name": "stdout",
     "output_type": "stream",
     "text": [
      "Frame ID: 203 \tTime: 46.64 seconds\n"
     ]
    },
    {
     "name": "stderr",
     "output_type": "stream",
     "text": [
      "\n",
      " 71%|████████████████████████████████████████████████████████▉                       | 203/285 [00:46<00:13,  6.26it/s]"
     ]
    },
    {
     "name": "stdout",
     "output_type": "stream",
     "text": [
      "Frame ID: 204 \tTime: 46.80 seconds\n"
     ]
    },
    {
     "name": "stderr",
     "output_type": "stream",
     "text": [
      "\n",
      " 72%|█████████████████████████████████████████████████████████▎                      | 204/285 [00:46<00:12,  6.27it/s]"
     ]
    },
    {
     "name": "stdout",
     "output_type": "stream",
     "text": [
      "Frame ID: 205 \tTime: 46.96 seconds\n"
     ]
    },
    {
     "name": "stderr",
     "output_type": "stream",
     "text": [
      "\n",
      " 72%|█████████████████████████████████████████████████████████▌                      | 205/285 [00:47<00:12,  6.26it/s]"
     ]
    },
    {
     "name": "stdout",
     "output_type": "stream",
     "text": [
      "Frame ID: 206 \tTime: 47.12 seconds\n"
     ]
    },
    {
     "name": "stderr",
     "output_type": "stream",
     "text": [
      "\n",
      " 72%|█████████████████████████████████████████████████████████▊                      | 206/285 [00:47<00:12,  6.26it/s]"
     ]
    },
    {
     "name": "stdout",
     "output_type": "stream",
     "text": [
      "Frame ID: 207 \tTime: 47.28 seconds\n"
     ]
    },
    {
     "name": "stderr",
     "output_type": "stream",
     "text": [
      "\n",
      " 73%|██████████████████████████████████████████████████████████                      | 207/285 [00:47<00:12,  6.28it/s]"
     ]
    },
    {
     "name": "stdout",
     "output_type": "stream",
     "text": [
      "Frame ID: 208 \tTime: 47.44 seconds\n"
     ]
    },
    {
     "name": "stderr",
     "output_type": "stream",
     "text": [
      "\n",
      " 73%|██████████████████████████████████████████████████████████▍                     | 208/285 [00:47<00:12,  6.31it/s]"
     ]
    },
    {
     "name": "stdout",
     "output_type": "stream",
     "text": [
      "Frame ID: 209 \tTime: 47.59 seconds\n"
     ]
    },
    {
     "name": "stderr",
     "output_type": "stream",
     "text": [
      "\n",
      " 73%|██████████████████████████████████████████████████████████▋                     | 209/285 [00:47<00:12,  6.31it/s]"
     ]
    },
    {
     "name": "stdout",
     "output_type": "stream",
     "text": [
      "Frame ID: 210 \tTime: 47.76 seconds\n"
     ]
    },
    {
     "name": "stderr",
     "output_type": "stream",
     "text": [
      "\n",
      " 74%|██████████████████████████████████████████████████████████▉                     | 210/285 [00:47<00:12,  6.18it/s]"
     ]
    },
    {
     "name": "stdout",
     "output_type": "stream",
     "text": [
      "Frame ID: 211 \tTime: 47.92 seconds\n"
     ]
    },
    {
     "name": "stderr",
     "output_type": "stream",
     "text": [
      "\n",
      " 74%|███████████████████████████████████████████████████████████▏                    | 211/285 [00:48<00:11,  6.20it/s]"
     ]
    },
    {
     "name": "stdout",
     "output_type": "stream",
     "text": [
      "Frame ID: 212 \tTime: 48.08 seconds\n"
     ]
    },
    {
     "name": "stderr",
     "output_type": "stream",
     "text": [
      "\n",
      " 74%|███████████████████████████████████████████████████████████▌                    | 212/285 [00:48<00:11,  6.24it/s]"
     ]
    },
    {
     "name": "stdout",
     "output_type": "stream",
     "text": [
      "Frame ID: 213 \tTime: 48.24 seconds\n"
     ]
    },
    {
     "name": "stderr",
     "output_type": "stream",
     "text": [
      "\n",
      " 75%|███████████████████████████████████████████████████████████▊                    | 213/285 [00:48<00:11,  6.24it/s]"
     ]
    },
    {
     "name": "stdout",
     "output_type": "stream",
     "text": [
      "Frame ID: 214 \tTime: 48.40 seconds\n"
     ]
    },
    {
     "name": "stderr",
     "output_type": "stream",
     "text": [
      "\n",
      " 75%|████████████████████████████████████████████████████████████                    | 214/285 [00:48<00:11,  6.28it/s]"
     ]
    },
    {
     "name": "stdout",
     "output_type": "stream",
     "text": [
      "Frame ID: 215 \tTime: 48.56 seconds\n"
     ]
    },
    {
     "name": "stderr",
     "output_type": "stream",
     "text": [
      "\n",
      " 75%|████████████████████████████████████████████████████████████▎                   | 215/285 [00:48<00:11,  6.30it/s]"
     ]
    },
    {
     "name": "stdout",
     "output_type": "stream",
     "text": [
      "Frame ID: 216 \tTime: 48.72 seconds\n"
     ]
    },
    {
     "name": "stderr",
     "output_type": "stream",
     "text": [
      "\n",
      " 76%|████████████████████████████████████████████████████████████▋                   | 216/285 [00:48<00:10,  6.30it/s]"
     ]
    },
    {
     "name": "stdout",
     "output_type": "stream",
     "text": [
      "Frame ID: 217 \tTime: 48.88 seconds\n"
     ]
    },
    {
     "name": "stderr",
     "output_type": "stream",
     "text": [
      "\n",
      " 76%|████████████████████████████████████████████████████████████▉                   | 217/285 [00:49<00:10,  6.21it/s]"
     ]
    },
    {
     "name": "stdout",
     "output_type": "stream",
     "text": [
      "Frame ID: 218 \tTime: 49.04 seconds\n"
     ]
    },
    {
     "name": "stderr",
     "output_type": "stream",
     "text": [
      "\n",
      " 76%|█████████████████████████████████████████████████████████████▏                  | 218/285 [00:49<00:10,  6.23it/s]"
     ]
    },
    {
     "name": "stdout",
     "output_type": "stream",
     "text": [
      "Frame ID: 219 \tTime: 49.20 seconds\n"
     ]
    },
    {
     "name": "stderr",
     "output_type": "stream",
     "text": [
      "\n",
      " 77%|█████████████████████████████████████████████████████████████▍                  | 219/285 [00:49<00:10,  6.23it/s]"
     ]
    },
    {
     "name": "stdout",
     "output_type": "stream",
     "text": [
      "Frame ID: 220 \tTime: 49.36 seconds\n"
     ]
    },
    {
     "name": "stderr",
     "output_type": "stream",
     "text": [
      "\n",
      " 77%|█████████████████████████████████████████████████████████████▊                  | 220/285 [00:49<00:10,  6.23it/s]"
     ]
    },
    {
     "name": "stdout",
     "output_type": "stream",
     "text": [
      "Frame ID: 221 \tTime: 49.52 seconds\n"
     ]
    },
    {
     "name": "stderr",
     "output_type": "stream",
     "text": [
      "\n",
      " 78%|██████████████████████████████████████████████████████████████                  | 221/285 [00:49<00:10,  6.23it/s]"
     ]
    },
    {
     "name": "stdout",
     "output_type": "stream",
     "text": [
      "Frame ID: 222 \tTime: 49.68 seconds\n"
     ]
    },
    {
     "name": "stderr",
     "output_type": "stream",
     "text": [
      "\n",
      " 78%|██████████████████████████████████████████████████████████████▎                 | 222/285 [00:49<00:10,  6.24it/s]"
     ]
    },
    {
     "name": "stdout",
     "output_type": "stream",
     "text": [
      "Frame ID: 223 \tTime: 49.84 seconds\n"
     ]
    },
    {
     "name": "stderr",
     "output_type": "stream",
     "text": [
      "\n",
      " 78%|██████████████████████████████████████████████████████████████▌                 | 223/285 [00:49<00:09,  6.24it/s]"
     ]
    },
    {
     "name": "stdout",
     "output_type": "stream",
     "text": [
      "Frame ID: 224 \tTime: 50.00 seconds\n"
     ]
    },
    {
     "name": "stderr",
     "output_type": "stream",
     "text": [
      "\n",
      " 79%|██████████████████████████████████████████████████████████████▉                 | 224/285 [00:50<00:09,  6.23it/s]"
     ]
    },
    {
     "name": "stdout",
     "output_type": "stream",
     "text": [
      "Frame ID: 225 \tTime: 50.16 seconds\n"
     ]
    },
    {
     "name": "stderr",
     "output_type": "stream",
     "text": [
      "\n",
      " 79%|███████████████████████████████████████████████████████████████▏                | 225/285 [00:50<00:09,  6.24it/s]"
     ]
    },
    {
     "name": "stdout",
     "output_type": "stream",
     "text": [
      "Frame ID: 226 \tTime: 50.32 seconds\n"
     ]
    },
    {
     "name": "stderr",
     "output_type": "stream",
     "text": [
      "\n",
      " 79%|███████████████████████████████████████████████████████████████▍                | 226/285 [00:50<00:09,  6.25it/s]"
     ]
    },
    {
     "name": "stdout",
     "output_type": "stream",
     "text": [
      "Frame ID: 227 \tTime: 50.48 seconds\n"
     ]
    },
    {
     "name": "stderr",
     "output_type": "stream",
     "text": [
      "\n",
      " 80%|███████████████████████████████████████████████████████████████▋                | 227/285 [00:50<00:09,  6.25it/s]"
     ]
    },
    {
     "name": "stdout",
     "output_type": "stream",
     "text": [
      "Frame ID: 228 \tTime: 50.64 seconds\n"
     ]
    },
    {
     "name": "stderr",
     "output_type": "stream",
     "text": [
      "\n",
      " 80%|████████████████████████████████████████████████████████████████                | 228/285 [00:50<00:09,  6.25it/s]"
     ]
    },
    {
     "name": "stdout",
     "output_type": "stream",
     "text": [
      "Frame ID: 229 \tTime: 50.80 seconds\n"
     ]
    },
    {
     "name": "stderr",
     "output_type": "stream",
     "text": [
      "\n",
      " 80%|████████████████████████████████████████████████████████████████▎               | 229/285 [00:50<00:08,  6.29it/s]"
     ]
    },
    {
     "name": "stdout",
     "output_type": "stream",
     "text": [
      "Frame ID: 230 \tTime: 50.96 seconds\n"
     ]
    },
    {
     "name": "stderr",
     "output_type": "stream",
     "text": [
      "\n",
      " 81%|████████████████████████████████████████████████████████████████▌               | 230/285 [00:51<00:08,  6.30it/s]"
     ]
    },
    {
     "name": "stdout",
     "output_type": "stream",
     "text": [
      "Frame ID: 231 \tTime: 51.12 seconds\n"
     ]
    },
    {
     "name": "stderr",
     "output_type": "stream",
     "text": [
      "\n",
      " 81%|████████████████████████████████████████████████████████████████▊               | 231/285 [00:51<00:08,  6.30it/s]"
     ]
    },
    {
     "name": "stdout",
     "output_type": "stream",
     "text": [
      "Frame ID: 232 \tTime: 51.28 seconds\n"
     ]
    },
    {
     "name": "stderr",
     "output_type": "stream",
     "text": [
      "\n",
      " 81%|█████████████████████████████████████████████████████████████████               | 232/285 [00:51<00:08,  6.33it/s]"
     ]
    },
    {
     "name": "stdout",
     "output_type": "stream",
     "text": [
      "Frame ID: 233 \tTime: 51.43 seconds\n"
     ]
    },
    {
     "name": "stderr",
     "output_type": "stream",
     "text": [
      "\n",
      " 82%|█████████████████████████████████████████████████████████████████▍              | 233/285 [00:51<00:08,  6.26it/s]"
     ]
    },
    {
     "name": "stdout",
     "output_type": "stream",
     "text": [
      "Frame ID: 234 \tTime: 51.60 seconds\n"
     ]
    },
    {
     "name": "stderr",
     "output_type": "stream",
     "text": [
      "\n",
      " 82%|█████████████████████████████████████████████████████████████████▋              | 234/285 [00:51<00:08,  6.28it/s]"
     ]
    },
    {
     "name": "stdout",
     "output_type": "stream",
     "text": [
      "Frame ID: 235 \tTime: 51.75 seconds\n"
     ]
    },
    {
     "name": "stderr",
     "output_type": "stream",
     "text": [
      "\n",
      " 82%|█████████████████████████████████████████████████████████████████▉              | 235/285 [00:51<00:07,  6.27it/s]"
     ]
    },
    {
     "name": "stdout",
     "output_type": "stream",
     "text": [
      "Frame ID: 236 \tTime: 51.91 seconds\n"
     ]
    },
    {
     "name": "stderr",
     "output_type": "stream",
     "text": [
      "\n",
      " 83%|██████████████████████████████████████████████████████████████████▏             | 236/285 [00:52<00:07,  6.27it/s]"
     ]
    },
    {
     "name": "stdout",
     "output_type": "stream",
     "text": [
      "Frame ID: 237 \tTime: 52.07 seconds\n"
     ]
    },
    {
     "name": "stderr",
     "output_type": "stream",
     "text": [
      "\n",
      " 83%|██████████████████████████████████████████████████████████████████▌             | 237/285 [00:52<00:07,  6.27it/s]"
     ]
    },
    {
     "name": "stdout",
     "output_type": "stream",
     "text": [
      "Frame ID: 238 \tTime: 52.23 seconds\n"
     ]
    },
    {
     "name": "stderr",
     "output_type": "stream",
     "text": [
      "\n",
      " 84%|██████████████████████████████████████████████████████████████████▊             | 238/285 [00:52<00:07,  6.25it/s]"
     ]
    },
    {
     "name": "stdout",
     "output_type": "stream",
     "text": [
      "Frame ID: 239 \tTime: 52.39 seconds\n"
     ]
    },
    {
     "name": "stderr",
     "output_type": "stream",
     "text": [
      "\n",
      " 84%|███████████████████████████████████████████████████████████████████             | 239/285 [00:52<00:07,  6.24it/s]"
     ]
    },
    {
     "name": "stdout",
     "output_type": "stream",
     "text": [
      "Frame ID: 240 \tTime: 52.56 seconds\n"
     ]
    },
    {
     "name": "stderr",
     "output_type": "stream",
     "text": [
      "\n",
      " 84%|███████████████████████████████████████████████████████████████████▎            | 240/285 [00:52<00:07,  6.17it/s]"
     ]
    },
    {
     "name": "stdout",
     "output_type": "stream",
     "text": [
      "Frame ID: 241 \tTime: 52.72 seconds\n"
     ]
    },
    {
     "name": "stderr",
     "output_type": "stream",
     "text": [
      "\n",
      " 85%|███████████████████████████████████████████████████████████████████▋            | 241/285 [00:52<00:07,  6.20it/s]"
     ]
    },
    {
     "name": "stdout",
     "output_type": "stream",
     "text": [
      "Frame ID: 242 \tTime: 52.88 seconds\n"
     ]
    },
    {
     "name": "stderr",
     "output_type": "stream",
     "text": [
      "\n",
      " 85%|███████████████████████████████████████████████████████████████████▉            | 242/285 [00:53<00:06,  6.21it/s]"
     ]
    },
    {
     "name": "stdout",
     "output_type": "stream",
     "text": [
      "Frame ID: 243 \tTime: 53.04 seconds\n"
     ]
    },
    {
     "name": "stderr",
     "output_type": "stream",
     "text": [
      "\n",
      " 85%|████████████████████████████████████████████████████████████████████▏           | 243/285 [00:53<00:06,  6.22it/s]"
     ]
    },
    {
     "name": "stdout",
     "output_type": "stream",
     "text": [
      "Frame ID: 244 \tTime: 53.20 seconds\n"
     ]
    },
    {
     "name": "stderr",
     "output_type": "stream",
     "text": [
      "\n",
      " 86%|████████████████████████████████████████████████████████████████████▍           | 244/285 [00:53<00:06,  6.22it/s]"
     ]
    },
    {
     "name": "stdout",
     "output_type": "stream",
     "text": [
      "Frame ID: 245 \tTime: 53.36 seconds\n"
     ]
    },
    {
     "name": "stderr",
     "output_type": "stream",
     "text": [
      "\n",
      " 86%|████████████████████████████████████████████████████████████████████▊           | 245/285 [00:53<00:06,  6.23it/s]"
     ]
    },
    {
     "name": "stdout",
     "output_type": "stream",
     "text": [
      "Frame ID: 246 \tTime: 53.52 seconds\n"
     ]
    },
    {
     "name": "stderr",
     "output_type": "stream",
     "text": [
      "\n",
      " 86%|█████████████████████████████████████████████████████████████████████           | 246/285 [00:53<00:06,  6.21it/s]"
     ]
    },
    {
     "name": "stdout",
     "output_type": "stream",
     "text": [
      "Frame ID: 247 \tTime: 53.68 seconds\n"
     ]
    },
    {
     "name": "stderr",
     "output_type": "stream",
     "text": [
      "\n",
      " 87%|█████████████████████████████████████████████████████████████████████▎          | 247/285 [00:53<00:06,  6.23it/s]"
     ]
    },
    {
     "name": "stdout",
     "output_type": "stream",
     "text": [
      "Frame ID: 248 \tTime: 53.84 seconds\n"
     ]
    },
    {
     "name": "stderr",
     "output_type": "stream",
     "text": [
      "\n",
      " 87%|█████████████████████████████████████████████████████████████████████▌          | 248/285 [00:53<00:05,  6.23it/s]"
     ]
    },
    {
     "name": "stdout",
     "output_type": "stream",
     "text": [
      "Frame ID: 249 \tTime: 54.00 seconds\n"
     ]
    },
    {
     "name": "stderr",
     "output_type": "stream",
     "text": [
      "\n",
      " 87%|█████████████████████████████████████████████████████████████████████▉          | 249/285 [00:54<00:05,  6.23it/s]"
     ]
    },
    {
     "name": "stdout",
     "output_type": "stream",
     "text": [
      "Frame ID: 250 \tTime: 54.16 seconds\n"
     ]
    },
    {
     "name": "stderr",
     "output_type": "stream",
     "text": [
      "\n",
      " 88%|██████████████████████████████████████████████████████████████████████▏         | 250/285 [00:54<00:05,  6.24it/s]"
     ]
    },
    {
     "name": "stdout",
     "output_type": "stream",
     "text": [
      "Frame ID: 251 \tTime: 54.32 seconds\n"
     ]
    },
    {
     "name": "stderr",
     "output_type": "stream",
     "text": [
      "\n",
      " 88%|██████████████████████████████████████████████████████████████████████▍         | 251/285 [00:54<00:05,  6.21it/s]"
     ]
    },
    {
     "name": "stdout",
     "output_type": "stream",
     "text": [
      "Frame ID: 252 \tTime: 54.49 seconds\n"
     ]
    },
    {
     "name": "stderr",
     "output_type": "stream",
     "text": [
      "\n",
      " 88%|██████████████████████████████████████████████████████████████████████▋         | 252/285 [00:54<00:05,  6.22it/s]"
     ]
    },
    {
     "name": "stdout",
     "output_type": "stream",
     "text": [
      "Frame ID: 253 \tTime: 54.65 seconds\n"
     ]
    },
    {
     "name": "stderr",
     "output_type": "stream",
     "text": [
      "\n",
      " 89%|███████████████████████████████████████████████████████████████████████         | 253/285 [00:54<00:05,  6.21it/s]"
     ]
    },
    {
     "name": "stdout",
     "output_type": "stream",
     "text": [
      "Frame ID: 254 \tTime: 54.81 seconds\n"
     ]
    },
    {
     "name": "stderr",
     "output_type": "stream",
     "text": [
      "\n",
      " 89%|███████████████████████████████████████████████████████████████████████▎        | 254/285 [00:54<00:05,  6.19it/s]"
     ]
    },
    {
     "name": "stdout",
     "output_type": "stream",
     "text": [
      "Frame ID: 255 \tTime: 54.97 seconds\n"
     ]
    },
    {
     "name": "stderr",
     "output_type": "stream",
     "text": [
      "\n",
      " 89%|███████████████████████████████████████████████████████████████████████▌        | 255/285 [00:55<00:04,  6.15it/s]"
     ]
    },
    {
     "name": "stdout",
     "output_type": "stream",
     "text": [
      "Frame ID: 256 \tTime: 55.14 seconds\n"
     ]
    },
    {
     "name": "stderr",
     "output_type": "stream",
     "text": [
      "\n",
      " 90%|███████████████████████████████████████████████████████████████████████▊        | 256/285 [00:55<00:04,  6.12it/s]"
     ]
    },
    {
     "name": "stdout",
     "output_type": "stream",
     "text": [
      "Frame ID: 257 \tTime: 55.30 seconds\n"
     ]
    },
    {
     "name": "stderr",
     "output_type": "stream",
     "text": [
      "\n",
      " 90%|████████████████████████████████████████████████████████████████████████▏       | 257/285 [00:55<00:04,  6.11it/s]"
     ]
    },
    {
     "name": "stdout",
     "output_type": "stream",
     "text": [
      "Frame ID: 258 \tTime: 55.47 seconds\n"
     ]
    },
    {
     "name": "stderr",
     "output_type": "stream",
     "text": [
      "\n",
      " 91%|████████████████████████████████████████████████████████████████████████▍       | 258/285 [00:55<00:04,  6.10it/s]"
     ]
    },
    {
     "name": "stdout",
     "output_type": "stream",
     "text": [
      "Frame ID: 259 \tTime: 55.63 seconds\n"
     ]
    },
    {
     "name": "stderr",
     "output_type": "stream",
     "text": [
      "\n",
      " 91%|████████████████████████████████████████████████████████████████████████▋       | 259/285 [00:55<00:04,  6.08it/s]"
     ]
    },
    {
     "name": "stdout",
     "output_type": "stream",
     "text": [
      "Frame ID: 260 \tTime: 55.80 seconds\n"
     ]
    },
    {
     "name": "stderr",
     "output_type": "stream",
     "text": [
      "\n",
      " 91%|████████████████████████████████████████████████████████████████████████▉       | 260/285 [00:55<00:04,  6.10it/s]"
     ]
    },
    {
     "name": "stdout",
     "output_type": "stream",
     "text": [
      "Frame ID: 261 \tTime: 55.96 seconds\n"
     ]
    },
    {
     "name": "stderr",
     "output_type": "stream",
     "text": [
      "\n",
      " 92%|█████████████████████████████████████████████████████████████████████████▎      | 261/285 [00:56<00:03,  6.11it/s]"
     ]
    },
    {
     "name": "stdout",
     "output_type": "stream",
     "text": [
      "Frame ID: 262 \tTime: 56.12 seconds\n"
     ]
    },
    {
     "name": "stderr",
     "output_type": "stream",
     "text": [
      "\n",
      " 92%|█████████████████████████████████████████████████████████████████████████▌      | 262/285 [00:56<00:03,  6.13it/s]"
     ]
    },
    {
     "name": "stdout",
     "output_type": "stream",
     "text": [
      "Frame ID: 263 \tTime: 56.28 seconds\n"
     ]
    },
    {
     "name": "stderr",
     "output_type": "stream",
     "text": [
      "\n",
      " 92%|█████████████████████████████████████████████████████████████████████████▊      | 263/285 [00:56<00:03,  6.13it/s]"
     ]
    },
    {
     "name": "stdout",
     "output_type": "stream",
     "text": [
      "Frame ID: 264 \tTime: 56.45 seconds\n"
     ]
    },
    {
     "name": "stderr",
     "output_type": "stream",
     "text": [
      "\n",
      " 93%|██████████████████████████████████████████████████████████████████████████      | 264/285 [00:56<00:03,  6.14it/s]"
     ]
    },
    {
     "name": "stdout",
     "output_type": "stream",
     "text": [
      "Frame ID: 265 \tTime: 56.61 seconds\n"
     ]
    },
    {
     "name": "stderr",
     "output_type": "stream",
     "text": [
      "\n",
      " 93%|██████████████████████████████████████████████████████████████████████████▍     | 265/285 [00:56<00:03,  6.13it/s]"
     ]
    },
    {
     "name": "stdout",
     "output_type": "stream",
     "text": [
      "Frame ID: 266 \tTime: 56.77 seconds\n"
     ]
    },
    {
     "name": "stderr",
     "output_type": "stream",
     "text": [
      "\n",
      " 93%|██████████████████████████████████████████████████████████████████████████▋     | 266/285 [00:56<00:03,  6.12it/s]"
     ]
    },
    {
     "name": "stdout",
     "output_type": "stream",
     "text": [
      "Frame ID: 267 \tTime: 56.94 seconds\n"
     ]
    },
    {
     "name": "stderr",
     "output_type": "stream",
     "text": [
      "\n",
      " 94%|██████████████████████████████████████████████████████████████████████████▉     | 267/285 [00:57<00:02,  6.11it/s]"
     ]
    },
    {
     "name": "stdout",
     "output_type": "stream",
     "text": [
      "Frame ID: 268 \tTime: 57.10 seconds\n"
     ]
    },
    {
     "name": "stderr",
     "output_type": "stream",
     "text": [
      "\n",
      " 94%|███████████████████████████████████████████████████████████████████████████▏    | 268/285 [00:57<00:02,  6.13it/s]"
     ]
    },
    {
     "name": "stdout",
     "output_type": "stream",
     "text": [
      "Frame ID: 269 \tTime: 57.26 seconds\n"
     ]
    },
    {
     "name": "stderr",
     "output_type": "stream",
     "text": [
      "\n",
      " 94%|███████████████████████████████████████████████████████████████████████████▌    | 269/285 [00:57<00:02,  6.14it/s]"
     ]
    },
    {
     "name": "stdout",
     "output_type": "stream",
     "text": [
      "Frame ID: 270 \tTime: 57.42 seconds\n"
     ]
    },
    {
     "name": "stderr",
     "output_type": "stream",
     "text": [
      "\n",
      " 95%|███████████████████████████████████████████████████████████████████████████▊    | 270/285 [00:57<00:02,  6.08it/s]"
     ]
    },
    {
     "name": "stdout",
     "output_type": "stream",
     "text": [
      "Frame ID: 271 \tTime: 57.59 seconds\n"
     ]
    },
    {
     "name": "stderr",
     "output_type": "stream",
     "text": [
      "\n",
      " 95%|████████████████████████████████████████████████████████████████████████████    | 271/285 [00:57<00:02,  6.09it/s]"
     ]
    },
    {
     "name": "stdout",
     "output_type": "stream",
     "text": [
      "Frame ID: 272 \tTime: 57.76 seconds\n"
     ]
    },
    {
     "name": "stderr",
     "output_type": "stream",
     "text": [
      "\n",
      " 95%|████████████████████████████████████████████████████████████████████████████▎   | 272/285 [00:57<00:02,  6.10it/s]"
     ]
    },
    {
     "name": "stdout",
     "output_type": "stream",
     "text": [
      "Frame ID: 273 \tTime: 57.92 seconds\n"
     ]
    },
    {
     "name": "stderr",
     "output_type": "stream",
     "text": [
      "\n",
      " 96%|████████████████████████████████████████████████████████████████████████████▋   | 273/285 [00:58<00:01,  6.00it/s]"
     ]
    },
    {
     "name": "stdout",
     "output_type": "stream",
     "text": [
      "Frame ID: 274 \tTime: 58.09 seconds\n"
     ]
    },
    {
     "name": "stderr",
     "output_type": "stream",
     "text": [
      "\n",
      " 96%|████████████████████████████████████████████████████████████████████████████▉   | 274/285 [00:58<00:01,  6.04it/s]"
     ]
    },
    {
     "name": "stdout",
     "output_type": "stream",
     "text": [
      "Frame ID: 275 \tTime: 58.26 seconds\n"
     ]
    },
    {
     "name": "stderr",
     "output_type": "stream",
     "text": [
      "\n",
      " 96%|█████████████████████████████████████████████████████████████████████████████▏  | 275/285 [00:58<00:01,  6.07it/s]"
     ]
    },
    {
     "name": "stdout",
     "output_type": "stream",
     "text": [
      "Frame ID: 276 \tTime: 58.42 seconds\n"
     ]
    },
    {
     "name": "stderr",
     "output_type": "stream",
     "text": [
      "\n",
      " 97%|█████████████████████████████████████████████████████████████████████████████▍  | 276/285 [00:58<00:01,  6.10it/s]"
     ]
    },
    {
     "name": "stdout",
     "output_type": "stream",
     "text": [
      "Frame ID: 277 \tTime: 58.58 seconds\n"
     ]
    },
    {
     "name": "stderr",
     "output_type": "stream",
     "text": [
      "\n",
      " 97%|█████████████████████████████████████████████████████████████████████████████▊  | 277/285 [00:58<00:01,  6.12it/s]"
     ]
    },
    {
     "name": "stdout",
     "output_type": "stream",
     "text": [
      "Frame ID: 278 \tTime: 58.74 seconds\n"
     ]
    },
    {
     "name": "stderr",
     "output_type": "stream",
     "text": [
      "\n",
      " 98%|██████████████████████████████████████████████████████████████████████████████  | 278/285 [00:58<00:01,  6.12it/s]"
     ]
    },
    {
     "name": "stdout",
     "output_type": "stream",
     "text": [
      "Frame ID: 279 \tTime: 58.91 seconds\n"
     ]
    },
    {
     "name": "stderr",
     "output_type": "stream",
     "text": [
      "\n",
      " 98%|██████████████████████████████████████████████████████████████████████████████▎ | 279/285 [00:59<00:00,  6.16it/s]"
     ]
    },
    {
     "name": "stdout",
     "output_type": "stream",
     "text": [
      "Frame ID: 280 \tTime: 59.06 seconds\n"
     ]
    },
    {
     "name": "stderr",
     "output_type": "stream",
     "text": [
      "\n",
      " 98%|██████████████████████████████████████████████████████████████████████████████▌ | 280/285 [00:59<00:00,  6.19it/s]"
     ]
    },
    {
     "name": "stdout",
     "output_type": "stream",
     "text": [
      "Frame ID: 281 \tTime: 59.23 seconds\n"
     ]
    },
    {
     "name": "stderr",
     "output_type": "stream",
     "text": [
      "\n",
      " 99%|██████████████████████████████████████████████████████████████████████████████▉ | 281/285 [00:59<00:00,  6.22it/s]"
     ]
    },
    {
     "name": "stdout",
     "output_type": "stream",
     "text": [
      "Frame ID: 282 \tTime: 59.39 seconds\n"
     ]
    },
    {
     "name": "stderr",
     "output_type": "stream",
     "text": [
      "\n",
      " 99%|███████████████████████████████████████████████████████████████████████████████▏| 282/285 [00:59<00:00,  6.16it/s]"
     ]
    },
    {
     "name": "stdout",
     "output_type": "stream",
     "text": [
      "Frame ID: 283 \tTime: 59.55 seconds\n"
     ]
    },
    {
     "name": "stderr",
     "output_type": "stream",
     "text": [
      "\n",
      " 99%|███████████████████████████████████████████████████████████████████████████████▍| 283/285 [00:59<00:00,  6.17it/s]"
     ]
    },
    {
     "name": "stdout",
     "output_type": "stream",
     "text": [
      "Frame ID: 284 \tTime: 59.71 seconds\n"
     ]
    },
    {
     "name": "stderr",
     "output_type": "stream",
     "text": [
      "\n",
      "100%|███████████████████████████████████████████████████████████████████████████████▋| 284/285 [00:59<00:00,  6.18it/s]"
     ]
    },
    {
     "name": "stdout",
     "output_type": "stream",
     "text": [
      "Frame ID: 285 \tTime: 59.87 seconds\n"
     ]
    },
    {
     "name": "stderr",
     "output_type": "stream",
     "text": [
      "\n",
      "100%|████████████████████████████████████████████████████████████████████████████████| 285/285 [01:00<00:00,  4.75it/s]\n"
     ]
    },
    {
     "name": "stdout",
     "output_type": "stream",
     "text": [
      "WARNING:tensorflow:Entity <bound method Conv.call of <tensorflow.python.layers.convolutional.Conv2D object at 0x000001ECC89E5548>> could not be transformed and will be executed as-is. Please report this to the AutgoGraph team. When filing the bug, set the verbosity to 10 (on Linux, `export AUTOGRAPH_VERBOSITY=10`) and attach the full output. Cause: converting <bound method Conv.call of <tensorflow.python.layers.convolutional.Conv2D object at 0x000001ECC89E5548>>: AssertionError: Bad argument number for Name: 3, expecting 4\n",
      "WARNING: Entity <bound method Conv.call of <tensorflow.python.layers.convolutional.Conv2D object at 0x000001ECC89E5548>> could not be transformed and will be executed as-is. Please report this to the AutgoGraph team. When filing the bug, set the verbosity to 10 (on Linux, `export AUTOGRAPH_VERBOSITY=10`) and attach the full output. Cause: converting <bound method Conv.call of <tensorflow.python.layers.convolutional.Conv2D object at 0x000001ECC89E5548>>: AssertionError: Bad argument number for Name: 3, expecting 4\n",
      "WARNING:tensorflow:Entity <bound method BatchNormalization.call of <tensorflow.python.layers.normalization.BatchNormalization object at 0x000001ECC8B25DC8>> could not be transformed and will be executed as-is. Please report this to the AutgoGraph team. When filing the bug, set the verbosity to 10 (on Linux, `export AUTOGRAPH_VERBOSITY=10`) and attach the full output. Cause: converting <bound method BatchNormalization.call of <tensorflow.python.layers.normalization.BatchNormalization object at 0x000001ECC8B25DC8>>: AssertionError: Bad argument number for Name: 3, expecting 4\n",
      "WARNING: Entity <bound method BatchNormalization.call of <tensorflow.python.layers.normalization.BatchNormalization object at 0x000001ECC8B25DC8>> could not be transformed and will be executed as-is. Please report this to the AutgoGraph team. When filing the bug, set the verbosity to 10 (on Linux, `export AUTOGRAPH_VERBOSITY=10`) and attach the full output. Cause: converting <bound method BatchNormalization.call of <tensorflow.python.layers.normalization.BatchNormalization object at 0x000001ECC8B25DC8>>: AssertionError: Bad argument number for Name: 3, expecting 4\n",
      "WARNING:tensorflow:Entity <bound method Conv.call of <tensorflow.python.layers.convolutional.Conv2D object at 0x000001ECC8A0E948>> could not be transformed and will be executed as-is. Please report this to the AutgoGraph team. When filing the bug, set the verbosity to 10 (on Linux, `export AUTOGRAPH_VERBOSITY=10`) and attach the full output. Cause: converting <bound method Conv.call of <tensorflow.python.layers.convolutional.Conv2D object at 0x000001ECC8A0E948>>: AssertionError: Bad argument number for Name: 3, expecting 4\n",
      "WARNING: Entity <bound method Conv.call of <tensorflow.python.layers.convolutional.Conv2D object at 0x000001ECC8A0E948>> could not be transformed and will be executed as-is. Please report this to the AutgoGraph team. When filing the bug, set the verbosity to 10 (on Linux, `export AUTOGRAPH_VERBOSITY=10`) and attach the full output. Cause: converting <bound method Conv.call of <tensorflow.python.layers.convolutional.Conv2D object at 0x000001ECC8A0E948>>: AssertionError: Bad argument number for Name: 3, expecting 4\n",
      "WARNING:tensorflow:Entity <bound method BatchNormalization.call of <tensorflow.python.layers.normalization.BatchNormalization object at 0x000001ECC8B36BC8>> could not be transformed and will be executed as-is. Please report this to the AutgoGraph team. When filing the bug, set the verbosity to 10 (on Linux, `export AUTOGRAPH_VERBOSITY=10`) and attach the full output. Cause: converting <bound method BatchNormalization.call of <tensorflow.python.layers.normalization.BatchNormalization object at 0x000001ECC8B36BC8>>: AssertionError: Bad argument number for Name: 3, expecting 4\n",
      "WARNING: Entity <bound method BatchNormalization.call of <tensorflow.python.layers.normalization.BatchNormalization object at 0x000001ECC8B36BC8>> could not be transformed and will be executed as-is. Please report this to the AutgoGraph team. When filing the bug, set the verbosity to 10 (on Linux, `export AUTOGRAPH_VERBOSITY=10`) and attach the full output. Cause: converting <bound method BatchNormalization.call of <tensorflow.python.layers.normalization.BatchNormalization object at 0x000001ECC8B36BC8>>: AssertionError: Bad argument number for Name: 3, expecting 4\n",
      "WARNING:tensorflow:Entity <bound method Pooling2D.call of <tensorflow.python.layers.pooling.MaxPooling2D object at 0x000001ECC89E5B08>> could not be transformed and will be executed as-is. Please report this to the AutgoGraph team. When filing the bug, set the verbosity to 10 (on Linux, `export AUTOGRAPH_VERBOSITY=10`) and attach the full output. Cause: converting <bound method Pooling2D.call of <tensorflow.python.layers.pooling.MaxPooling2D object at 0x000001ECC89E5B08>>: AssertionError: Bad argument number for Name: 3, expecting 4\n",
      "WARNING: Entity <bound method Pooling2D.call of <tensorflow.python.layers.pooling.MaxPooling2D object at 0x000001ECC89E5B08>> could not be transformed and will be executed as-is. Please report this to the AutgoGraph team. When filing the bug, set the verbosity to 10 (on Linux, `export AUTOGRAPH_VERBOSITY=10`) and attach the full output. Cause: converting <bound method Pooling2D.call of <tensorflow.python.layers.pooling.MaxPooling2D object at 0x000001ECC89E5B08>>: AssertionError: Bad argument number for Name: 3, expecting 4\n",
      "WARNING:tensorflow:Entity <bound method Conv.call of <tensorflow.python.layers.convolutional.Conv2D object at 0x000001EC8929B8C8>> could not be transformed and will be executed as-is. Please report this to the AutgoGraph team. When filing the bug, set the verbosity to 10 (on Linux, `export AUTOGRAPH_VERBOSITY=10`) and attach the full output. Cause: converting <bound method Conv.call of <tensorflow.python.layers.convolutional.Conv2D object at 0x000001EC8929B8C8>>: AssertionError: Bad argument number for Name: 3, expecting 4\n",
      "WARNING: Entity <bound method Conv.call of <tensorflow.python.layers.convolutional.Conv2D object at 0x000001EC8929B8C8>> could not be transformed and will be executed as-is. Please report this to the AutgoGraph team. When filing the bug, set the verbosity to 10 (on Linux, `export AUTOGRAPH_VERBOSITY=10`) and attach the full output. Cause: converting <bound method Conv.call of <tensorflow.python.layers.convolutional.Conv2D object at 0x000001EC8929B8C8>>: AssertionError: Bad argument number for Name: 3, expecting 4\n",
      "WARNING:tensorflow:Entity <bound method BatchNormalization.call of <tensorflow.python.layers.normalization.BatchNormalization object at 0x000001ECC8BAD788>> could not be transformed and will be executed as-is. Please report this to the AutgoGraph team. When filing the bug, set the verbosity to 10 (on Linux, `export AUTOGRAPH_VERBOSITY=10`) and attach the full output. Cause: converting <bound method BatchNormalization.call of <tensorflow.python.layers.normalization.BatchNormalization object at 0x000001ECC8BAD788>>: AssertionError: Bad argument number for Name: 3, expecting 4\n",
      "WARNING: Entity <bound method BatchNormalization.call of <tensorflow.python.layers.normalization.BatchNormalization object at 0x000001ECC8BAD788>> could not be transformed and will be executed as-is. Please report this to the AutgoGraph team. When filing the bug, set the verbosity to 10 (on Linux, `export AUTOGRAPH_VERBOSITY=10`) and attach the full output. Cause: converting <bound method BatchNormalization.call of <tensorflow.python.layers.normalization.BatchNormalization object at 0x000001ECC8BAD788>>: AssertionError: Bad argument number for Name: 3, expecting 4\n",
      "WARNING:tensorflow:Entity <bound method Dropout.call of <tensorflow.python.layers.core.Dropout object at 0x000001ECC8AFECC8>> could not be transformed and will be executed as-is. Please report this to the AutgoGraph team. When filing the bug, set the verbosity to 10 (on Linux, `export AUTOGRAPH_VERBOSITY=10`) and attach the full output. Cause: converting <bound method Dropout.call of <tensorflow.python.layers.core.Dropout object at 0x000001ECC8AFECC8>>: AssertionError: Bad argument number for Name: 3, expecting 4\n"
     ]
    },
    {
     "name": "stdout",
     "output_type": "stream",
     "text": [
      "WARNING: Entity <bound method Dropout.call of <tensorflow.python.layers.core.Dropout object at 0x000001ECC8AFECC8>> could not be transformed and will be executed as-is. Please report this to the AutgoGraph team. When filing the bug, set the verbosity to 10 (on Linux, `export AUTOGRAPH_VERBOSITY=10`) and attach the full output. Cause: converting <bound method Dropout.call of <tensorflow.python.layers.core.Dropout object at 0x000001ECC8AFECC8>>: AssertionError: Bad argument number for Name: 3, expecting 4\n",
      "WARNING:tensorflow:Entity <bound method Conv.call of <tensorflow.python.layers.convolutional.Conv2D object at 0x000001EC8929B8C8>> could not be transformed and will be executed as-is. Please report this to the AutgoGraph team. When filing the bug, set the verbosity to 10 (on Linux, `export AUTOGRAPH_VERBOSITY=10`) and attach the full output. Cause: converting <bound method Conv.call of <tensorflow.python.layers.convolutional.Conv2D object at 0x000001EC8929B8C8>>: AssertionError: Bad argument number for Name: 3, expecting 4\n",
      "WARNING: Entity <bound method Conv.call of <tensorflow.python.layers.convolutional.Conv2D object at 0x000001EC8929B8C8>> could not be transformed and will be executed as-is. Please report this to the AutgoGraph team. When filing the bug, set the verbosity to 10 (on Linux, `export AUTOGRAPH_VERBOSITY=10`) and attach the full output. Cause: converting <bound method Conv.call of <tensorflow.python.layers.convolutional.Conv2D object at 0x000001EC8929B8C8>>: AssertionError: Bad argument number for Name: 3, expecting 4\n",
      "WARNING:tensorflow:Entity <bound method BatchNormalization.call of <tensorflow.python.layers.normalization.BatchNormalization object at 0x000001ECC8CA01C8>> could not be transformed and will be executed as-is. Please report this to the AutgoGraph team. When filing the bug, set the verbosity to 10 (on Linux, `export AUTOGRAPH_VERBOSITY=10`) and attach the full output. Cause: converting <bound method BatchNormalization.call of <tensorflow.python.layers.normalization.BatchNormalization object at 0x000001ECC8CA01C8>>: AssertionError: Bad argument number for Name: 3, expecting 4\n",
      "WARNING: Entity <bound method BatchNormalization.call of <tensorflow.python.layers.normalization.BatchNormalization object at 0x000001ECC8CA01C8>> could not be transformed and will be executed as-is. Please report this to the AutgoGraph team. When filing the bug, set the verbosity to 10 (on Linux, `export AUTOGRAPH_VERBOSITY=10`) and attach the full output. Cause: converting <bound method BatchNormalization.call of <tensorflow.python.layers.normalization.BatchNormalization object at 0x000001ECC8CA01C8>>: AssertionError: Bad argument number for Name: 3, expecting 4\n",
      "WARNING:tensorflow:Entity <bound method Conv.call of <tensorflow.python.layers.convolutional.Conv2D object at 0x000001ECC8BADF08>> could not be transformed and will be executed as-is. Please report this to the AutgoGraph team. When filing the bug, set the verbosity to 10 (on Linux, `export AUTOGRAPH_VERBOSITY=10`) and attach the full output. Cause: converting <bound method Conv.call of <tensorflow.python.layers.convolutional.Conv2D object at 0x000001ECC8BADF08>>: AssertionError: Bad argument number for Name: 3, expecting 4\n",
      "WARNING: Entity <bound method Conv.call of <tensorflow.python.layers.convolutional.Conv2D object at 0x000001ECC8BADF08>> could not be transformed and will be executed as-is. Please report this to the AutgoGraph team. When filing the bug, set the verbosity to 10 (on Linux, `export AUTOGRAPH_VERBOSITY=10`) and attach the full output. Cause: converting <bound method Conv.call of <tensorflow.python.layers.convolutional.Conv2D object at 0x000001ECC8BADF08>>: AssertionError: Bad argument number for Name: 3, expecting 4\n",
      "WARNING:tensorflow:Entity <bound method BatchNormalization.call of <tensorflow.python.layers.normalization.BatchNormalization object at 0x000001ECC8D2D2C8>> could not be transformed and will be executed as-is. Please report this to the AutgoGraph team. When filing the bug, set the verbosity to 10 (on Linux, `export AUTOGRAPH_VERBOSITY=10`) and attach the full output. Cause: converting <bound method BatchNormalization.call of <tensorflow.python.layers.normalization.BatchNormalization object at 0x000001ECC8D2D2C8>>: AssertionError: Bad argument number for Name: 3, expecting 4\n",
      "WARNING: Entity <bound method BatchNormalization.call of <tensorflow.python.layers.normalization.BatchNormalization object at 0x000001ECC8D2D2C8>> could not be transformed and will be executed as-is. Please report this to the AutgoGraph team. When filing the bug, set the verbosity to 10 (on Linux, `export AUTOGRAPH_VERBOSITY=10`) and attach the full output. Cause: converting <bound method BatchNormalization.call of <tensorflow.python.layers.normalization.BatchNormalization object at 0x000001ECC8D2D2C8>>: AssertionError: Bad argument number for Name: 3, expecting 4\n",
      "WARNING:tensorflow:Entity <bound method Dropout.call of <tensorflow.python.layers.core.Dropout object at 0x000001ECC8CD5908>> could not be transformed and will be executed as-is. Please report this to the AutgoGraph team. When filing the bug, set the verbosity to 10 (on Linux, `export AUTOGRAPH_VERBOSITY=10`) and attach the full output. Cause: converting <bound method Dropout.call of <tensorflow.python.layers.core.Dropout object at 0x000001ECC8CD5908>>: AssertionError: Bad argument number for Name: 3, expecting 4\n",
      "WARNING: Entity <bound method Dropout.call of <tensorflow.python.layers.core.Dropout object at 0x000001ECC8CD5908>> could not be transformed and will be executed as-is. Please report this to the AutgoGraph team. When filing the bug, set the verbosity to 10 (on Linux, `export AUTOGRAPH_VERBOSITY=10`) and attach the full output. Cause: converting <bound method Dropout.call of <tensorflow.python.layers.core.Dropout object at 0x000001ECC8CD5908>>: AssertionError: Bad argument number for Name: 3, expecting 4\n",
      "WARNING:tensorflow:Entity <bound method Conv.call of <tensorflow.python.layers.convolutional.Conv2D object at 0x000001ECC8B36C08>> could not be transformed and will be executed as-is. Please report this to the AutgoGraph team. When filing the bug, set the verbosity to 10 (on Linux, `export AUTOGRAPH_VERBOSITY=10`) and attach the full output. Cause: converting <bound method Conv.call of <tensorflow.python.layers.convolutional.Conv2D object at 0x000001ECC8B36C08>>: AssertionError: Bad argument number for Name: 3, expecting 4\n",
      "WARNING: Entity <bound method Conv.call of <tensorflow.python.layers.convolutional.Conv2D object at 0x000001ECC8B36C08>> could not be transformed and will be executed as-is. Please report this to the AutgoGraph team. When filing the bug, set the verbosity to 10 (on Linux, `export AUTOGRAPH_VERBOSITY=10`) and attach the full output. Cause: converting <bound method Conv.call of <tensorflow.python.layers.convolutional.Conv2D object at 0x000001ECC8B36C08>>: AssertionError: Bad argument number for Name: 3, expecting 4\n",
      "WARNING:tensorflow:Entity <bound method BatchNormalization.call of <tensorflow.python.layers.normalization.BatchNormalization object at 0x000001ECC8DE3F48>> could not be transformed and will be executed as-is. Please report this to the AutgoGraph team. When filing the bug, set the verbosity to 10 (on Linux, `export AUTOGRAPH_VERBOSITY=10`) and attach the full output. Cause: converting <bound method BatchNormalization.call of <tensorflow.python.layers.normalization.BatchNormalization object at 0x000001ECC8DE3F48>>: AssertionError: Bad argument number for Name: 3, expecting 4\n",
      "WARNING: Entity <bound method BatchNormalization.call of <tensorflow.python.layers.normalization.BatchNormalization object at 0x000001ECC8DE3F48>> could not be transformed and will be executed as-is. Please report this to the AutgoGraph team. When filing the bug, set the verbosity to 10 (on Linux, `export AUTOGRAPH_VERBOSITY=10`) and attach the full output. Cause: converting <bound method BatchNormalization.call of <tensorflow.python.layers.normalization.BatchNormalization object at 0x000001ECC8DE3F48>>: AssertionError: Bad argument number for Name: 3, expecting 4\n",
      "WARNING:tensorflow:Entity <bound method Conv.call of <tensorflow.python.layers.convolutional.Conv2D object at 0x000001ECC8D43348>> could not be transformed and will be executed as-is. Please report this to the AutgoGraph team. When filing the bug, set the verbosity to 10 (on Linux, `export AUTOGRAPH_VERBOSITY=10`) and attach the full output. Cause: converting <bound method Conv.call of <tensorflow.python.layers.convolutional.Conv2D object at 0x000001ECC8D43348>>: AssertionError: Bad argument number for Name: 3, expecting 4\n"
     ]
    },
    {
     "name": "stdout",
     "output_type": "stream",
     "text": [
      "WARNING: Entity <bound method Conv.call of <tensorflow.python.layers.convolutional.Conv2D object at 0x000001ECC8D43348>> could not be transformed and will be executed as-is. Please report this to the AutgoGraph team. When filing the bug, set the verbosity to 10 (on Linux, `export AUTOGRAPH_VERBOSITY=10`) and attach the full output. Cause: converting <bound method Conv.call of <tensorflow.python.layers.convolutional.Conv2D object at 0x000001ECC8D43348>>: AssertionError: Bad argument number for Name: 3, expecting 4\n",
      "WARNING:tensorflow:Entity <bound method BatchNormalization.call of <tensorflow.python.layers.normalization.BatchNormalization object at 0x000001ECC8E9D908>> could not be transformed and will be executed as-is. Please report this to the AutgoGraph team. When filing the bug, set the verbosity to 10 (on Linux, `export AUTOGRAPH_VERBOSITY=10`) and attach the full output. Cause: converting <bound method BatchNormalization.call of <tensorflow.python.layers.normalization.BatchNormalization object at 0x000001ECC8E9D908>>: AssertionError: Bad argument number for Name: 3, expecting 4\n",
      "WARNING: Entity <bound method BatchNormalization.call of <tensorflow.python.layers.normalization.BatchNormalization object at 0x000001ECC8E9D908>> could not be transformed and will be executed as-is. Please report this to the AutgoGraph team. When filing the bug, set the verbosity to 10 (on Linux, `export AUTOGRAPH_VERBOSITY=10`) and attach the full output. Cause: converting <bound method BatchNormalization.call of <tensorflow.python.layers.normalization.BatchNormalization object at 0x000001ECC8E9D908>>: AssertionError: Bad argument number for Name: 3, expecting 4\n",
      "WARNING:tensorflow:Entity <bound method Dropout.call of <tensorflow.python.layers.core.Dropout object at 0x000001ECC8CC8608>> could not be transformed and will be executed as-is. Please report this to the AutgoGraph team. When filing the bug, set the verbosity to 10 (on Linux, `export AUTOGRAPH_VERBOSITY=10`) and attach the full output. Cause: converting <bound method Dropout.call of <tensorflow.python.layers.core.Dropout object at 0x000001ECC8CC8608>>: AssertionError: Bad argument number for Name: 3, expecting 4\n",
      "WARNING: Entity <bound method Dropout.call of <tensorflow.python.layers.core.Dropout object at 0x000001ECC8CC8608>> could not be transformed and will be executed as-is. Please report this to the AutgoGraph team. When filing the bug, set the verbosity to 10 (on Linux, `export AUTOGRAPH_VERBOSITY=10`) and attach the full output. Cause: converting <bound method Dropout.call of <tensorflow.python.layers.core.Dropout object at 0x000001ECC8CC8608>>: AssertionError: Bad argument number for Name: 3, expecting 4\n",
      "WARNING:tensorflow:Entity <bound method Conv.call of <tensorflow.python.layers.convolutional.Conv2D object at 0x000001ECC8E9DFC8>> could not be transformed and will be executed as-is. Please report this to the AutgoGraph team. When filing the bug, set the verbosity to 10 (on Linux, `export AUTOGRAPH_VERBOSITY=10`) and attach the full output. Cause: converting <bound method Conv.call of <tensorflow.python.layers.convolutional.Conv2D object at 0x000001ECC8E9DFC8>>: AssertionError: Bad argument number for Name: 3, expecting 4\n",
      "WARNING: Entity <bound method Conv.call of <tensorflow.python.layers.convolutional.Conv2D object at 0x000001ECC8E9DFC8>> could not be transformed and will be executed as-is. Please report this to the AutgoGraph team. When filing the bug, set the verbosity to 10 (on Linux, `export AUTOGRAPH_VERBOSITY=10`) and attach the full output. Cause: converting <bound method Conv.call of <tensorflow.python.layers.convolutional.Conv2D object at 0x000001ECC8E9DFC8>>: AssertionError: Bad argument number for Name: 3, expecting 4\n",
      "WARNING:tensorflow:Entity <bound method Conv.call of <tensorflow.python.layers.convolutional.Conv2D object at 0x000001ECC8D50BC8>> could not be transformed and will be executed as-is. Please report this to the AutgoGraph team. When filing the bug, set the verbosity to 10 (on Linux, `export AUTOGRAPH_VERBOSITY=10`) and attach the full output. Cause: converting <bound method Conv.call of <tensorflow.python.layers.convolutional.Conv2D object at 0x000001ECC8D50BC8>>: AssertionError: Bad argument number for Name: 3, expecting 4\n",
      "WARNING: Entity <bound method Conv.call of <tensorflow.python.layers.convolutional.Conv2D object at 0x000001ECC8D50BC8>> could not be transformed and will be executed as-is. Please report this to the AutgoGraph team. When filing the bug, set the verbosity to 10 (on Linux, `export AUTOGRAPH_VERBOSITY=10`) and attach the full output. Cause: converting <bound method Conv.call of <tensorflow.python.layers.convolutional.Conv2D object at 0x000001ECC8D50BC8>>: AssertionError: Bad argument number for Name: 3, expecting 4\n",
      "WARNING:tensorflow:Entity <bound method BatchNormalization.call of <tensorflow.python.layers.normalization.BatchNormalization object at 0x000001ECC8DEC7C8>> could not be transformed and will be executed as-is. Please report this to the AutgoGraph team. When filing the bug, set the verbosity to 10 (on Linux, `export AUTOGRAPH_VERBOSITY=10`) and attach the full output. Cause: converting <bound method BatchNormalization.call of <tensorflow.python.layers.normalization.BatchNormalization object at 0x000001ECC8DEC7C8>>: AssertionError: Bad argument number for Name: 3, expecting 4\n",
      "WARNING: Entity <bound method BatchNormalization.call of <tensorflow.python.layers.normalization.BatchNormalization object at 0x000001ECC8DEC7C8>> could not be transformed and will be executed as-is. Please report this to the AutgoGraph team. When filing the bug, set the verbosity to 10 (on Linux, `export AUTOGRAPH_VERBOSITY=10`) and attach the full output. Cause: converting <bound method BatchNormalization.call of <tensorflow.python.layers.normalization.BatchNormalization object at 0x000001ECC8DEC7C8>>: AssertionError: Bad argument number for Name: 3, expecting 4\n",
      "WARNING:tensorflow:Entity <bound method Conv.call of <tensorflow.python.layers.convolutional.Conv2D object at 0x000001ECC8E9DA48>> could not be transformed and will be executed as-is. Please report this to the AutgoGraph team. When filing the bug, set the verbosity to 10 (on Linux, `export AUTOGRAPH_VERBOSITY=10`) and attach the full output. Cause: converting <bound method Conv.call of <tensorflow.python.layers.convolutional.Conv2D object at 0x000001ECC8E9DA48>>: AssertionError: Bad argument number for Name: 3, expecting 4\n",
      "WARNING: Entity <bound method Conv.call of <tensorflow.python.layers.convolutional.Conv2D object at 0x000001ECC8E9DA48>> could not be transformed and will be executed as-is. Please report this to the AutgoGraph team. When filing the bug, set the verbosity to 10 (on Linux, `export AUTOGRAPH_VERBOSITY=10`) and attach the full output. Cause: converting <bound method Conv.call of <tensorflow.python.layers.convolutional.Conv2D object at 0x000001ECC8E9DA48>>: AssertionError: Bad argument number for Name: 3, expecting 4\n",
      "WARNING:tensorflow:Entity <bound method BatchNormalization.call of <tensorflow.python.layers.normalization.BatchNormalization object at 0x000001ECC8F2BFC8>> could not be transformed and will be executed as-is. Please report this to the AutgoGraph team. When filing the bug, set the verbosity to 10 (on Linux, `export AUTOGRAPH_VERBOSITY=10`) and attach the full output. Cause: converting <bound method BatchNormalization.call of <tensorflow.python.layers.normalization.BatchNormalization object at 0x000001ECC8F2BFC8>>: AssertionError: Bad argument number for Name: 3, expecting 4\n",
      "WARNING: Entity <bound method BatchNormalization.call of <tensorflow.python.layers.normalization.BatchNormalization object at 0x000001ECC8F2BFC8>> could not be transformed and will be executed as-is. Please report this to the AutgoGraph team. When filing the bug, set the verbosity to 10 (on Linux, `export AUTOGRAPH_VERBOSITY=10`) and attach the full output. Cause: converting <bound method BatchNormalization.call of <tensorflow.python.layers.normalization.BatchNormalization object at 0x000001ECC8F2BFC8>>: AssertionError: Bad argument number for Name: 3, expecting 4\n",
      "WARNING:tensorflow:Entity <bound method Dropout.call of <tensorflow.python.layers.core.Dropout object at 0x000001ECC8E9DA48>> could not be transformed and will be executed as-is. Please report this to the AutgoGraph team. When filing the bug, set the verbosity to 10 (on Linux, `export AUTOGRAPH_VERBOSITY=10`) and attach the full output. Cause: converting <bound method Dropout.call of <tensorflow.python.layers.core.Dropout object at 0x000001ECC8E9DA48>>: AssertionError: Bad argument number for Name: 3, expecting 4\n"
     ]
    },
    {
     "name": "stdout",
     "output_type": "stream",
     "text": [
      "WARNING: Entity <bound method Dropout.call of <tensorflow.python.layers.core.Dropout object at 0x000001ECC8E9DA48>> could not be transformed and will be executed as-is. Please report this to the AutgoGraph team. When filing the bug, set the verbosity to 10 (on Linux, `export AUTOGRAPH_VERBOSITY=10`) and attach the full output. Cause: converting <bound method Dropout.call of <tensorflow.python.layers.core.Dropout object at 0x000001ECC8E9DA48>>: AssertionError: Bad argument number for Name: 3, expecting 4\n",
      "WARNING:tensorflow:Entity <bound method Conv.call of <tensorflow.python.layers.convolutional.Conv2D object at 0x000001ECC8B5EB48>> could not be transformed and will be executed as-is. Please report this to the AutgoGraph team. When filing the bug, set the verbosity to 10 (on Linux, `export AUTOGRAPH_VERBOSITY=10`) and attach the full output. Cause: converting <bound method Conv.call of <tensorflow.python.layers.convolutional.Conv2D object at 0x000001ECC8B5EB48>>: AssertionError: Bad argument number for Name: 3, expecting 4\n",
      "WARNING: Entity <bound method Conv.call of <tensorflow.python.layers.convolutional.Conv2D object at 0x000001ECC8B5EB48>> could not be transformed and will be executed as-is. Please report this to the AutgoGraph team. When filing the bug, set the verbosity to 10 (on Linux, `export AUTOGRAPH_VERBOSITY=10`) and attach the full output. Cause: converting <bound method Conv.call of <tensorflow.python.layers.convolutional.Conv2D object at 0x000001ECC8B5EB48>>: AssertionError: Bad argument number for Name: 3, expecting 4\n",
      "WARNING:tensorflow:Entity <bound method BatchNormalization.call of <tensorflow.python.layers.normalization.BatchNormalization object at 0x000001ECC8B9D1C8>> could not be transformed and will be executed as-is. Please report this to the AutgoGraph team. When filing the bug, set the verbosity to 10 (on Linux, `export AUTOGRAPH_VERBOSITY=10`) and attach the full output. Cause: converting <bound method BatchNormalization.call of <tensorflow.python.layers.normalization.BatchNormalization object at 0x000001ECC8B9D1C8>>: AssertionError: Bad argument number for Name: 3, expecting 4\n",
      "WARNING: Entity <bound method BatchNormalization.call of <tensorflow.python.layers.normalization.BatchNormalization object at 0x000001ECC8B9D1C8>> could not be transformed and will be executed as-is. Please report this to the AutgoGraph team. When filing the bug, set the verbosity to 10 (on Linux, `export AUTOGRAPH_VERBOSITY=10`) and attach the full output. Cause: converting <bound method BatchNormalization.call of <tensorflow.python.layers.normalization.BatchNormalization object at 0x000001ECC8B9D1C8>>: AssertionError: Bad argument number for Name: 3, expecting 4\n",
      "WARNING:tensorflow:Entity <bound method Conv.call of <tensorflow.python.layers.convolutional.Conv2D object at 0x000001ECC8F0B388>> could not be transformed and will be executed as-is. Please report this to the AutgoGraph team. When filing the bug, set the verbosity to 10 (on Linux, `export AUTOGRAPH_VERBOSITY=10`) and attach the full output. Cause: converting <bound method Conv.call of <tensorflow.python.layers.convolutional.Conv2D object at 0x000001ECC8F0B388>>: AssertionError: Bad argument number for Name: 3, expecting 4\n",
      "WARNING: Entity <bound method Conv.call of <tensorflow.python.layers.convolutional.Conv2D object at 0x000001ECC8F0B388>> could not be transformed and will be executed as-is. Please report this to the AutgoGraph team. When filing the bug, set the verbosity to 10 (on Linux, `export AUTOGRAPH_VERBOSITY=10`) and attach the full output. Cause: converting <bound method Conv.call of <tensorflow.python.layers.convolutional.Conv2D object at 0x000001ECC8F0B388>>: AssertionError: Bad argument number for Name: 3, expecting 4\n",
      "WARNING:tensorflow:Entity <bound method BatchNormalization.call of <tensorflow.python.layers.normalization.BatchNormalization object at 0x000001ECC9001208>> could not be transformed and will be executed as-is. Please report this to the AutgoGraph team. When filing the bug, set the verbosity to 10 (on Linux, `export AUTOGRAPH_VERBOSITY=10`) and attach the full output. Cause: converting <bound method BatchNormalization.call of <tensorflow.python.layers.normalization.BatchNormalization object at 0x000001ECC9001208>>: AssertionError: Bad argument number for Name: 3, expecting 4\n",
      "WARNING: Entity <bound method BatchNormalization.call of <tensorflow.python.layers.normalization.BatchNormalization object at 0x000001ECC9001208>> could not be transformed and will be executed as-is. Please report this to the AutgoGraph team. When filing the bug, set the verbosity to 10 (on Linux, `export AUTOGRAPH_VERBOSITY=10`) and attach the full output. Cause: converting <bound method BatchNormalization.call of <tensorflow.python.layers.normalization.BatchNormalization object at 0x000001ECC9001208>>: AssertionError: Bad argument number for Name: 3, expecting 4\n",
      "WARNING:tensorflow:Entity <bound method Dropout.call of <tensorflow.python.layers.core.Dropout object at 0x000001ECC8F56388>> could not be transformed and will be executed as-is. Please report this to the AutgoGraph team. When filing the bug, set the verbosity to 10 (on Linux, `export AUTOGRAPH_VERBOSITY=10`) and attach the full output. Cause: converting <bound method Dropout.call of <tensorflow.python.layers.core.Dropout object at 0x000001ECC8F56388>>: AssertionError: Bad argument number for Name: 3, expecting 4\n",
      "WARNING: Entity <bound method Dropout.call of <tensorflow.python.layers.core.Dropout object at 0x000001ECC8F56388>> could not be transformed and will be executed as-is. Please report this to the AutgoGraph team. When filing the bug, set the verbosity to 10 (on Linux, `export AUTOGRAPH_VERBOSITY=10`) and attach the full output. Cause: converting <bound method Dropout.call of <tensorflow.python.layers.core.Dropout object at 0x000001ECC8F56388>>: AssertionError: Bad argument number for Name: 3, expecting 4\n",
      "WARNING:tensorflow:Entity <bound method Conv.call of <tensorflow.python.layers.convolutional.Conv2D object at 0x000001ECC8FA4F48>> could not be transformed and will be executed as-is. Please report this to the AutgoGraph team. When filing the bug, set the verbosity to 10 (on Linux, `export AUTOGRAPH_VERBOSITY=10`) and attach the full output. Cause: converting <bound method Conv.call of <tensorflow.python.layers.convolutional.Conv2D object at 0x000001ECC8FA4F48>>: AssertionError: Bad argument number for Name: 3, expecting 4\n",
      "WARNING: Entity <bound method Conv.call of <tensorflow.python.layers.convolutional.Conv2D object at 0x000001ECC8FA4F48>> could not be transformed and will be executed as-is. Please report this to the AutgoGraph team. When filing the bug, set the verbosity to 10 (on Linux, `export AUTOGRAPH_VERBOSITY=10`) and attach the full output. Cause: converting <bound method Conv.call of <tensorflow.python.layers.convolutional.Conv2D object at 0x000001ECC8FA4F48>>: AssertionError: Bad argument number for Name: 3, expecting 4\n",
      "WARNING:tensorflow:Entity <bound method Conv.call of <tensorflow.python.layers.convolutional.Conv2D object at 0x000001ECC8E9F188>> could not be transformed and will be executed as-is. Please report this to the AutgoGraph team. When filing the bug, set the verbosity to 10 (on Linux, `export AUTOGRAPH_VERBOSITY=10`) and attach the full output. Cause: converting <bound method Conv.call of <tensorflow.python.layers.convolutional.Conv2D object at 0x000001ECC8E9F188>>: AssertionError: Bad argument number for Name: 3, expecting 4\n",
      "WARNING: Entity <bound method Conv.call of <tensorflow.python.layers.convolutional.Conv2D object at 0x000001ECC8E9F188>> could not be transformed and will be executed as-is. Please report this to the AutgoGraph team. When filing the bug, set the verbosity to 10 (on Linux, `export AUTOGRAPH_VERBOSITY=10`) and attach the full output. Cause: converting <bound method Conv.call of <tensorflow.python.layers.convolutional.Conv2D object at 0x000001ECC8E9F188>>: AssertionError: Bad argument number for Name: 3, expecting 4\n",
      "WARNING:tensorflow:Entity <bound method BatchNormalization.call of <tensorflow.python.layers.normalization.BatchNormalization object at 0x000001ECC8F2D948>> could not be transformed and will be executed as-is. Please report this to the AutgoGraph team. When filing the bug, set the verbosity to 10 (on Linux, `export AUTOGRAPH_VERBOSITY=10`) and attach the full output. Cause: converting <bound method BatchNormalization.call of <tensorflow.python.layers.normalization.BatchNormalization object at 0x000001ECC8F2D948>>: AssertionError: Bad argument number for Name: 3, expecting 4\n"
     ]
    },
    {
     "name": "stdout",
     "output_type": "stream",
     "text": [
      "WARNING: Entity <bound method BatchNormalization.call of <tensorflow.python.layers.normalization.BatchNormalization object at 0x000001ECC8F2D948>> could not be transformed and will be executed as-is. Please report this to the AutgoGraph team. When filing the bug, set the verbosity to 10 (on Linux, `export AUTOGRAPH_VERBOSITY=10`) and attach the full output. Cause: converting <bound method BatchNormalization.call of <tensorflow.python.layers.normalization.BatchNormalization object at 0x000001ECC8F2D948>>: AssertionError: Bad argument number for Name: 3, expecting 4\n",
      "WARNING:tensorflow:Entity <bound method Conv.call of <tensorflow.python.layers.convolutional.Conv2D object at 0x000001ECC902C348>> could not be transformed and will be executed as-is. Please report this to the AutgoGraph team. When filing the bug, set the verbosity to 10 (on Linux, `export AUTOGRAPH_VERBOSITY=10`) and attach the full output. Cause: converting <bound method Conv.call of <tensorflow.python.layers.convolutional.Conv2D object at 0x000001ECC902C348>>: AssertionError: Bad argument number for Name: 3, expecting 4\n",
      "WARNING: Entity <bound method Conv.call of <tensorflow.python.layers.convolutional.Conv2D object at 0x000001ECC902C348>> could not be transformed and will be executed as-is. Please report this to the AutgoGraph team. When filing the bug, set the verbosity to 10 (on Linux, `export AUTOGRAPH_VERBOSITY=10`) and attach the full output. Cause: converting <bound method Conv.call of <tensorflow.python.layers.convolutional.Conv2D object at 0x000001ECC902C348>>: AssertionError: Bad argument number for Name: 3, expecting 4\n",
      "WARNING:tensorflow:Entity <bound method BatchNormalization.call of <tensorflow.python.layers.normalization.BatchNormalization object at 0x000001ECC9065248>> could not be transformed and will be executed as-is. Please report this to the AutgoGraph team. When filing the bug, set the verbosity to 10 (on Linux, `export AUTOGRAPH_VERBOSITY=10`) and attach the full output. Cause: converting <bound method BatchNormalization.call of <tensorflow.python.layers.normalization.BatchNormalization object at 0x000001ECC9065248>>: AssertionError: Bad argument number for Name: 3, expecting 4\n",
      "WARNING: Entity <bound method BatchNormalization.call of <tensorflow.python.layers.normalization.BatchNormalization object at 0x000001ECC9065248>> could not be transformed and will be executed as-is. Please report this to the AutgoGraph team. When filing the bug, set the verbosity to 10 (on Linux, `export AUTOGRAPH_VERBOSITY=10`) and attach the full output. Cause: converting <bound method BatchNormalization.call of <tensorflow.python.layers.normalization.BatchNormalization object at 0x000001ECC9065248>>: AssertionError: Bad argument number for Name: 3, expecting 4\n",
      "WARNING:tensorflow:Entity <bound method Dropout.call of <tensorflow.python.layers.core.Dropout object at 0x000001ECC8F990C8>> could not be transformed and will be executed as-is. Please report this to the AutgoGraph team. When filing the bug, set the verbosity to 10 (on Linux, `export AUTOGRAPH_VERBOSITY=10`) and attach the full output. Cause: converting <bound method Dropout.call of <tensorflow.python.layers.core.Dropout object at 0x000001ECC8F990C8>>: AssertionError: Bad argument number for Name: 3, expecting 4\n",
      "WARNING: Entity <bound method Dropout.call of <tensorflow.python.layers.core.Dropout object at 0x000001ECC8F990C8>> could not be transformed and will be executed as-is. Please report this to the AutgoGraph team. When filing the bug, set the verbosity to 10 (on Linux, `export AUTOGRAPH_VERBOSITY=10`) and attach the full output. Cause: converting <bound method Dropout.call of <tensorflow.python.layers.core.Dropout object at 0x000001ECC8F990C8>>: AssertionError: Bad argument number for Name: 3, expecting 4\n",
      "WARNING:tensorflow:Entity <bound method Conv.call of <tensorflow.python.layers.convolutional.Conv2D object at 0x000001ECC9070E48>> could not be transformed and will be executed as-is. Please report this to the AutgoGraph team. When filing the bug, set the verbosity to 10 (on Linux, `export AUTOGRAPH_VERBOSITY=10`) and attach the full output. Cause: converting <bound method Conv.call of <tensorflow.python.layers.convolutional.Conv2D object at 0x000001ECC9070E48>>: AssertionError: Bad argument number for Name: 3, expecting 4\n",
      "WARNING: Entity <bound method Conv.call of <tensorflow.python.layers.convolutional.Conv2D object at 0x000001ECC9070E48>> could not be transformed and will be executed as-is. Please report this to the AutgoGraph team. When filing the bug, set the verbosity to 10 (on Linux, `export AUTOGRAPH_VERBOSITY=10`) and attach the full output. Cause: converting <bound method Conv.call of <tensorflow.python.layers.convolutional.Conv2D object at 0x000001ECC9070E48>>: AssertionError: Bad argument number for Name: 3, expecting 4\n",
      "feature dimensionality:  128\n",
      "WARNING:tensorflow:From c:\\users\\kengamd\\appdata\\local\\programs\\python\\python37\\lib\\site-packages\\tensorflow\\contrib\\layers\\python\\layers\\layers.py:1634: flatten (from tensorflow.python.layers.core) is deprecated and will be removed in a future version.\n",
      "Instructions for updating:\n",
      "Use keras.layers.flatten instead.\n",
      "WARNING:tensorflow:Entity <bound method Flatten.call of <tensorflow.python.layers.core.Flatten object at 0x000001ECC8F0BF48>> could not be transformed and will be executed as-is. Please report this to the AutgoGraph team. When filing the bug, set the verbosity to 10 (on Linux, `export AUTOGRAPH_VERBOSITY=10`) and attach the full output. Cause: converting <bound method Flatten.call of <tensorflow.python.layers.core.Flatten object at 0x000001ECC8F0BF48>>: AttributeError: module 'gast' has no attribute 'Num'\n",
      "WARNING: Entity <bound method Flatten.call of <tensorflow.python.layers.core.Flatten object at 0x000001ECC8F0BF48>> could not be transformed and will be executed as-is. Please report this to the AutgoGraph team. When filing the bug, set the verbosity to 10 (on Linux, `export AUTOGRAPH_VERBOSITY=10`) and attach the full output. Cause: converting <bound method Flatten.call of <tensorflow.python.layers.core.Flatten object at 0x000001ECC8F0BF48>>: AttributeError: module 'gast' has no attribute 'Num'\n",
      "WARNING:tensorflow:Entity <bound method Dropout.call of <tensorflow.python.layers.core.Dropout object at 0x000001ECC900FC88>> could not be transformed and will be executed as-is. Please report this to the AutgoGraph team. When filing the bug, set the verbosity to 10 (on Linux, `export AUTOGRAPH_VERBOSITY=10`) and attach the full output. Cause: converting <bound method Dropout.call of <tensorflow.python.layers.core.Dropout object at 0x000001ECC900FC88>>: AssertionError: Bad argument number for Name: 3, expecting 4\n",
      "WARNING: Entity <bound method Dropout.call of <tensorflow.python.layers.core.Dropout object at 0x000001ECC900FC88>> could not be transformed and will be executed as-is. Please report this to the AutgoGraph team. When filing the bug, set the verbosity to 10 (on Linux, `export AUTOGRAPH_VERBOSITY=10`) and attach the full output. Cause: converting <bound method Dropout.call of <tensorflow.python.layers.core.Dropout object at 0x000001ECC900FC88>>: AssertionError: Bad argument number for Name: 3, expecting 4\n",
      "WARNING:tensorflow:Entity <bound method Dense.call of <tensorflow.python.layers.core.Dense object at 0x000001ECC9023B48>> could not be transformed and will be executed as-is. Please report this to the AutgoGraph team. When filing the bug, set the verbosity to 10 (on Linux, `export AUTOGRAPH_VERBOSITY=10`) and attach the full output. Cause: converting <bound method Dense.call of <tensorflow.python.layers.core.Dense object at 0x000001ECC9023B48>>: AssertionError: Bad argument number for Name: 3, expecting 4\n"
     ]
    },
    {
     "name": "stdout",
     "output_type": "stream",
     "text": [
      "WARNING: Entity <bound method Dense.call of <tensorflow.python.layers.core.Dense object at 0x000001ECC9023B48>> could not be transformed and will be executed as-is. Please report this to the AutgoGraph team. When filing the bug, set the verbosity to 10 (on Linux, `export AUTOGRAPH_VERBOSITY=10`) and attach the full output. Cause: converting <bound method Dense.call of <tensorflow.python.layers.core.Dense object at 0x000001ECC9023B48>>: AssertionError: Bad argument number for Name: 3, expecting 4\n",
      "WARNING:tensorflow:From <ipython-input-5-c50315e0d9dd>:161: calling reduce_sum_v1 (from tensorflow.python.ops.math_ops) with keep_dims is deprecated and will be removed in a future version.\n",
      "Instructions for updating:\n",
      "keep_dims is deprecated, use keepdims instead\n",
      "WARNING:tensorflow:From <ipython-input-5-c50315e0d9dd>:171: calling Constant.__init__ (from tensorflow.python.ops.init_ops) with dtype is deprecated and will be removed in a future version.\n",
      "Instructions for updating:\n",
      "Call initializer instance with the dtype argument instead of passing it to the constructor\n",
      "WARNING:tensorflow:From <ipython-input-5-c50315e0d9dd>:277: get_or_create_global_step (from tensorflow.contrib.framework.python.ops.variables) is deprecated and will be removed in a future version.\n",
      "Instructions for updating:\n",
      "Please switch to tf.train.get_or_create_global_step\n",
      "Processing test_15-30Copy.avi\n"
     ]
    },
    {
     "name": "stderr",
     "output_type": "stream",
     "text": [
      "\n",
      "  0%|                                                                                          | 0/285 [00:00<?, ?it/s]"
     ]
    },
    {
     "name": "stdout",
     "output_type": "stream",
     "text": [
      "Frame 00001/00285\n"
     ]
    },
    {
     "name": "stderr",
     "output_type": "stream",
     "text": [
      "\n",
      "  0%|▎                                                                                 | 1/285 [00:00<00:30,  9.27it/s]"
     ]
    },
    {
     "name": "stdout",
     "output_type": "stream",
     "text": [
      "Frame 00002/00285\n",
      "Frame 00003/00285\n",
      "Frame 00004/00285\n",
      "Frame 00005/00285\n",
      "Frame 00006/00285\n",
      "Frame 00007/00285\n",
      "Frame 00008/00285\n",
      "Frame 00009/00285\n",
      "Frame 00010/00285\n",
      "Frame 00011/00285\n",
      "Frame 00012/00285\n"
     ]
    },
    {
     "name": "stderr",
     "output_type": "stream",
     "text": [
      "\n",
      "  4%|███▍                                                                             | 12/285 [00:00<00:21, 12.75it/s]"
     ]
    },
    {
     "name": "stdout",
     "output_type": "stream",
     "text": [
      "Frame 00013/00285\n",
      "Frame 00014/00285\n",
      "Frame 00015/00285\n",
      "Frame 00016/00285\n",
      "Frame 00017/00285\n",
      "Frame 00018/00285\n",
      "Frame 00019/00285\n",
      "Frame 00020/00285\n",
      "Frame 00021/00285\n",
      "Frame 00022/00285\n",
      "Frame 00023/00285\n"
     ]
    },
    {
     "name": "stderr",
     "output_type": "stream",
     "text": [
      "\n",
      "  8%|██████▌                                                                          | 23/285 [00:00<00:15, 17.33it/s]"
     ]
    },
    {
     "name": "stdout",
     "output_type": "stream",
     "text": [
      "Frame 00024/00285\n",
      "Frame 00025/00285\n",
      "Frame 00026/00285\n",
      "Frame 00027/00285\n",
      "Frame 00028/00285\n",
      "Frame 00029/00285\n",
      "Frame 00030/00285\n",
      "Frame 00031/00285\n",
      "Frame 00032/00285\n",
      "Frame 00033/00285\n",
      "Frame 00034/00285\n"
     ]
    },
    {
     "name": "stderr",
     "output_type": "stream",
     "text": [
      "\n",
      " 12%|█████████▋                                                                       | 34/285 [00:00<00:10, 23.15it/s]"
     ]
    },
    {
     "name": "stdout",
     "output_type": "stream",
     "text": [
      "Frame 00035/00285\n",
      "Frame 00036/00285\n",
      "Frame 00037/00285\n",
      "Frame 00038/00285\n",
      "Frame 00039/00285\n",
      "Frame 00040/00285\n",
      "Frame 00041/00285\n",
      "Frame 00042/00285\n",
      "Frame 00043/00285\n",
      "Frame 00044/00285\n",
      "Frame 00045/00285\n"
     ]
    },
    {
     "name": "stderr",
     "output_type": "stream",
     "text": [
      "\n",
      " 16%|████████████▊                                                                    | 45/285 [00:00<00:07, 30.21it/s]"
     ]
    },
    {
     "name": "stdout",
     "output_type": "stream",
     "text": [
      "Frame 00046/00285\n",
      "Frame 00047/00285\n",
      "Frame 00048/00285\n",
      "Frame 00049/00285\n",
      "Frame 00050/00285\n",
      "Frame 00051/00285\n",
      "Frame 00052/00285\n",
      "Frame 00053/00285\n",
      "Frame 00054/00285\n",
      "Frame 00055/00285\n",
      "Frame 00056/00285\n"
     ]
    },
    {
     "name": "stderr",
     "output_type": "stream",
     "text": [
      "\n",
      " 20%|███████████████▉                                                                 | 56/285 [00:00<00:05, 38.41it/s]"
     ]
    },
    {
     "name": "stdout",
     "output_type": "stream",
     "text": [
      "Frame 00057/00285\n",
      "Frame 00058/00285\n",
      "Frame 00059/00285\n",
      "Frame 00060/00285\n",
      "Frame 00061/00285\n",
      "Frame 00062/00285\n",
      "Frame 00063/00285\n",
      "Frame 00064/00285\n",
      "Frame 00065/00285\n",
      "Frame 00066/00285\n",
      "Frame 00067/00285\n"
     ]
    },
    {
     "name": "stderr",
     "output_type": "stream",
     "text": [
      "\n",
      " 24%|███████████████████                                                              | 67/285 [00:00<00:04, 47.57it/s]"
     ]
    },
    {
     "name": "stdout",
     "output_type": "stream",
     "text": [
      "Frame 00068/00285\n",
      "Frame 00069/00285\n",
      "Frame 00070/00285\n",
      "Frame 00071/00285\n",
      "Frame 00072/00285\n",
      "Frame 00073/00285\n",
      "Frame 00074/00285\n",
      "Frame 00075/00285\n",
      "Frame 00076/00285\n",
      "Frame 00077/00285\n"
     ]
    },
    {
     "name": "stderr",
     "output_type": "stream",
     "text": [
      "\n",
      " 27%|█████████████████████▉                                                           | 77/285 [00:00<00:03, 53.84it/s]"
     ]
    },
    {
     "name": "stdout",
     "output_type": "stream",
     "text": [
      "Frame 00078/00285\n",
      "Frame 00079/00285\n",
      "Frame 00080/00285\n",
      "Frame 00081/00285\n",
      "Frame 00082/00285\n",
      "Frame 00083/00285\n",
      "Frame 00084/00285\n",
      "Frame 00085/00285\n",
      "Frame 00086/00285\n",
      "Frame 00087/00285\n",
      "Frame 00088/00285\n",
      "Frame 00089/00285\n"
     ]
    },
    {
     "name": "stderr",
     "output_type": "stream",
     "text": [
      "\n",
      " 31%|█████████████████████████▎                                                       | 89/285 [00:00<00:03, 63.90it/s]"
     ]
    },
    {
     "name": "stdout",
     "output_type": "stream",
     "text": [
      "Frame 00090/00285\n",
      "Frame 00091/00285\n",
      "Frame 00092/00285\n",
      "Frame 00093/00285\n",
      "Frame 00094/00285\n",
      "Frame 00095/00285\n",
      "Frame 00096/00285\n",
      "Frame 00097/00285\n",
      "Frame 00098/00285\n",
      "Frame 00099/00285\n",
      "Frame 00100/00285\n",
      "Frame 00101/00285\n",
      "Frame 00102/00285\n",
      "Frame 00103/00285\n",
      "Frame 00104/00285\n",
      "Frame 00105/00285\n"
     ]
    },
    {
     "name": "stderr",
     "output_type": "stream",
     "text": [
      "\n",
      " 37%|█████████████████████████████▍                                                  | 105/285 [00:01<00:02, 77.57it/s]"
     ]
    },
    {
     "name": "stdout",
     "output_type": "stream",
     "text": [
      "Frame 00106/00285\n",
      "Frame 00107/00285\n",
      "Frame 00108/00285\n",
      "Frame 00109/00285\n",
      "Frame 00110/00285\n",
      "Frame 00111/00285\n",
      "Frame 00112/00285\n",
      "Frame 00113/00285\n",
      "Frame 00114/00285\n",
      "Frame 00115/00285\n",
      "Frame 00116/00285\n",
      "Frame 00117/00285\n",
      "Frame 00118/00285\n",
      "Frame 00119/00285\n",
      "Frame 00120/00285\n",
      "Frame 00121/00285\n"
     ]
    },
    {
     "name": "stderr",
     "output_type": "stream",
     "text": [
      "\n",
      " 42%|█████████████████████████████████▉                                              | 121/285 [00:01<00:01, 91.02it/s]"
     ]
    },
    {
     "name": "stdout",
     "output_type": "stream",
     "text": [
      "Frame 00122/00285\n",
      "Frame 00123/00285\n",
      "Frame 00124/00285\n",
      "Frame 00125/00285\n",
      "Frame 00126/00285\n",
      "Frame 00127/00285\n",
      "Frame 00128/00285\n",
      "Frame 00129/00285\n",
      "Frame 00130/00285\n",
      "Frame 00131/00285\n",
      "Frame 00132/00285\n",
      "Frame 00133/00285\n",
      "Frame 00134/00285\n",
      "Frame 00135/00285\n",
      "Frame 00136/00285\n",
      "Frame 00137/00285\n",
      "Frame 00138/00285\n"
     ]
    },
    {
     "name": "stderr",
     "output_type": "stream",
     "text": [
      "\n",
      " 48%|██████████████████████████████████████▎                                        | 138/285 [00:01<00:01, 104.44it/s]"
     ]
    },
    {
     "name": "stdout",
     "output_type": "stream",
     "text": [
      "Frame 00139/00285\n",
      "Frame 00140/00285\n",
      "Frame 00141/00285\n",
      "Frame 00142/00285\n",
      "Frame 00143/00285\n",
      "Frame 00144/00285\n",
      "Frame 00145/00285\n",
      "Frame 00146/00285\n",
      "Frame 00147/00285\n",
      "Frame 00148/00285\n",
      "Frame 00149/00285\n",
      "Frame 00150/00285\n",
      "Frame 00151/00285\n",
      "Frame 00152/00285\n"
     ]
    },
    {
     "name": "stderr",
     "output_type": "stream",
     "text": [
      "\n",
      " 53%|██████████████████████████████████████████▏                                    | 152/285 [00:01<00:01, 109.69it/s]"
     ]
    },
    {
     "name": "stdout",
     "output_type": "stream",
     "text": [
      "Frame 00153/00285\n",
      "Frame 00154/00285\n",
      "Frame 00155/00285\n",
      "Frame 00156/00285\n",
      "Frame 00157/00285\n",
      "Frame 00158/00285\n",
      "Frame 00159/00285\n",
      "Frame 00160/00285\n",
      "Frame 00161/00285\n",
      "Frame 00162/00285\n",
      "Frame 00163/00285\n",
      "Frame 00164/00285\n",
      "Frame 00165/00285\n",
      "Frame 00166/00285\n"
     ]
    },
    {
     "name": "stderr",
     "output_type": "stream",
     "text": [
      "\n",
      " 58%|██████████████████████████████████████████████▌                                 | 166/285 [00:01<00:01, 98.18it/s]"
     ]
    },
    {
     "name": "stdout",
     "output_type": "stream",
     "text": [
      "Frame 00167/00285\n",
      "Frame 00168/00285\n",
      "Frame 00169/00285\n",
      "Frame 00170/00285\n",
      "Frame 00171/00285\n",
      "Frame 00172/00285\n",
      "Frame 00173/00285\n",
      "Frame 00174/00285\n",
      "Frame 00175/00285\n",
      "Frame 00176/00285\n",
      "Frame 00177/00285\n",
      "Frame 00178/00285\n"
     ]
    },
    {
     "name": "stderr",
     "output_type": "stream",
     "text": [
      "\n",
      " 62%|█████████████████████████████████████████████████▉                              | 178/285 [00:01<00:01, 98.80it/s]"
     ]
    },
    {
     "name": "stdout",
     "output_type": "stream",
     "text": [
      "Frame 00179/00285\n",
      "Frame 00180/00285\n",
      "Frame 00181/00285\n",
      "Frame 00182/00285\n",
      "Frame 00183/00285\n",
      "Frame 00184/00285\n",
      "Frame 00185/00285\n",
      "Frame 00186/00285\n",
      "Frame 00187/00285\n",
      "Frame 00188/00285\n",
      "Frame 00189/00285\n",
      "Frame 00190/00285\n"
     ]
    },
    {
     "name": "stderr",
     "output_type": "stream",
     "text": [
      "\n",
      " 67%|█████████████████████████████████████████████████████▎                          | 190/285 [00:01<00:00, 98.74it/s]"
     ]
    },
    {
     "name": "stdout",
     "output_type": "stream",
     "text": [
      "Frame 00191/00285\n",
      "Frame 00192/00285\n",
      "Frame 00193/00285\n",
      "Frame 00194/00285\n",
      "Frame 00195/00285\n",
      "Frame 00196/00285\n",
      "Frame 00197/00285\n",
      "Frame 00198/00285\n",
      "Frame 00199/00285\n",
      "Frame 00200/00285\n",
      "Frame 00201/00285\n"
     ]
    },
    {
     "name": "stderr",
     "output_type": "stream",
     "text": [
      "\n",
      " 71%|████████████████████████████████████████████████████████▍                       | 201/285 [00:01<00:00, 98.66it/s]"
     ]
    },
    {
     "name": "stdout",
     "output_type": "stream",
     "text": [
      "Frame 00202/00285\n",
      "Frame 00203/00285\n",
      "Frame 00204/00285\n",
      "Frame 00205/00285\n",
      "Frame 00206/00285\n",
      "Frame 00207/00285\n",
      "Frame 00208/00285\n",
      "Frame 00209/00285\n",
      "Frame 00210/00285\n",
      "Frame 00211/00285\n",
      "Frame 00212/00285\n"
     ]
    },
    {
     "name": "stderr",
     "output_type": "stream",
     "text": [
      "\n",
      " 74%|███████████████████████████████████████████████████████████▌                    | 212/285 [00:02<00:00, 97.82it/s]"
     ]
    },
    {
     "name": "stdout",
     "output_type": "stream",
     "text": [
      "Frame 00213/00285\n",
      "Frame 00214/00285\n",
      "Frame 00215/00285\n",
      "Frame 00216/00285\n",
      "Frame 00217/00285\n",
      "Frame 00218/00285\n",
      "Frame 00219/00285\n",
      "Frame 00220/00285\n",
      "Frame 00221/00285\n",
      "Frame 00222/00285\n",
      "Frame 00223/00285\n"
     ]
    },
    {
     "name": "stderr",
     "output_type": "stream",
     "text": [
      "\n",
      " 78%|██████████████████████████████████████████████████████████████▌                 | 223/285 [00:02<00:00, 97.92it/s]"
     ]
    },
    {
     "name": "stdout",
     "output_type": "stream",
     "text": [
      "Frame 00224/00285\n",
      "Frame 00225/00285\n",
      "Frame 00226/00285\n",
      "Frame 00227/00285\n",
      "Frame 00228/00285\n",
      "Frame 00229/00285\n",
      "Frame 00230/00285\n",
      "Frame 00231/00285\n",
      "Frame 00232/00285\n",
      "Frame 00233/00285\n",
      "Frame 00234/00285\n"
     ]
    },
    {
     "name": "stderr",
     "output_type": "stream",
     "text": [
      "\n",
      " 82%|█████████████████████████████████████████████████████████████████▋              | 234/285 [00:02<00:00, 98.44it/s]"
     ]
    },
    {
     "name": "stdout",
     "output_type": "stream",
     "text": [
      "Frame 00235/00285\n",
      "Frame 00236/00285\n",
      "Frame 00237/00285\n",
      "Frame 00238/00285\n",
      "Frame 00239/00285\n",
      "Frame 00240/00285\n",
      "Frame 00241/00285\n",
      "Frame 00242/00285\n",
      "Frame 00243/00285\n",
      "Frame 00244/00285\n",
      "Frame 00245/00285\n"
     ]
    },
    {
     "name": "stderr",
     "output_type": "stream",
     "text": [
      "\n",
      " 86%|████████████████████████████████████████████████████████████████████▊           | 245/285 [00:02<00:00, 98.98it/s]"
     ]
    },
    {
     "name": "stdout",
     "output_type": "stream",
     "text": [
      "Frame 00246/00285\n",
      "Frame 00247/00285\n",
      "Frame 00248/00285\n",
      "Frame 00249/00285\n",
      "Frame 00250/00285\n",
      "Frame 00251/00285\n",
      "Frame 00252/00285\n",
      "Frame 00253/00285\n",
      "Frame 00254/00285\n",
      "Frame 00255/00285\n",
      "Frame 00256/00285\n"
     ]
    },
    {
     "name": "stderr",
     "output_type": "stream",
     "text": [
      "\n",
      " 90%|███████████████████████████████████████████████████████████████████████▊        | 256/285 [00:02<00:00, 99.19it/s]"
     ]
    },
    {
     "name": "stdout",
     "output_type": "stream",
     "text": [
      "Frame 00257/00285\n",
      "Frame 00258/00285\n",
      "Frame 00259/00285\n",
      "Frame 00260/00285\n",
      "Frame 00261/00285\n",
      "Frame 00262/00285\n",
      "Frame 00263/00285\n",
      "Frame 00264/00285\n",
      "Frame 00265/00285\n",
      "Frame 00266/00285\n",
      "Frame 00267/00285\n"
     ]
    },
    {
     "name": "stderr",
     "output_type": "stream",
     "text": [
      "\n",
      " 94%|██████████████████████████████████████████████████████████████████████████     | 267/285 [00:02<00:00, 101.16it/s]"
     ]
    },
    {
     "name": "stdout",
     "output_type": "stream",
     "text": [
      "Frame 00268/00285\n",
      "Frame 00269/00285\n",
      "Frame 00270/00285\n",
      "Frame 00271/00285\n",
      "Frame 00272/00285\n",
      "Frame 00273/00285\n",
      "Frame 00274/00285\n",
      "Frame 00275/00285\n",
      "Frame 00276/00285\n",
      "Frame 00277/00285\n",
      "Frame 00278/00285\n"
     ]
    },
    {
     "name": "stderr",
     "output_type": "stream",
     "text": [
      "\n",
      " 98%|█████████████████████████████████████████████████████████████████████████████  | 278/285 [00:02<00:00, 102.01it/s]"
     ]
    },
    {
     "name": "stdout",
     "output_type": "stream",
     "text": [
      "Frame 00279/00285\n",
      "Frame 00280/00285\n",
      "Frame 00281/00285\n",
      "Frame 00282/00285\n",
      "Frame 00283/00285\n",
      "Frame 00284/00285\n",
      "Frame 00285/00285\n"
     ]
    },
    {
     "name": "stderr",
     "output_type": "stream",
     "text": [
      "100%|███████████████████████████████████████████████████████████████████████████████| 285/285 [00:02<00:00, 103.35it/s]\n"
     ]
    },
    {
     "name": "stdout",
     "output_type": "stream",
     "text": [
      "Video Path: ../dataset/videos\\test_15-30Copy.avi \tFeatures: ../dataset/features\\test_15-30Copy.npy\n"
     ]
    },
    {
     "name": "stderr",
     "output_type": "stream",
     "text": [
      "\n",
      "  0%|                                                                                          | 0/285 [00:00<?, ?it/s]c:\\users\\kengamd\\appdata\\local\\programs\\python\\python37\\lib\\site-packages\\sklearn\\utils\\linear_assignment_.py:127: DeprecationWarning: The linear_assignment function is deprecated in 0.21 and will be removed from 0.23. Use scipy.optimize.linear_sum_assignment instead.\n",
      "  DeprecationWarning)\n",
      "c:\\users\\kengamd\\appdata\\local\\programs\\python\\python37\\lib\\site-packages\\sklearn\\utils\\linear_assignment_.py:127: DeprecationWarning: The linear_assignment function is deprecated in 0.21 and will be removed from 0.23. Use scipy.optimize.linear_sum_assignment instead.\n",
      "  DeprecationWarning)\n",
      "c:\\users\\kengamd\\appdata\\local\\programs\\python\\python37\\lib\\site-packages\\sklearn\\utils\\linear_assignment_.py:127: DeprecationWarning: The linear_assignment function is deprecated in 0.21 and will be removed from 0.23. Use scipy.optimize.linear_sum_assignment instead.\n",
      "  DeprecationWarning)\n",
      "c:\\users\\kengamd\\appdata\\local\\programs\\python\\python37\\lib\\site-packages\\sklearn\\utils\\linear_assignment_.py:127: DeprecationWarning: The linear_assignment function is deprecated in 0.21 and will be removed from 0.23. Use scipy.optimize.linear_sum_assignment instead.\n",
      "  DeprecationWarning)\n",
      "c:\\users\\kengamd\\appdata\\local\\programs\\python\\python37\\lib\\site-packages\\sklearn\\utils\\linear_assignment_.py:127: DeprecationWarning: The linear_assignment function is deprecated in 0.21 and will be removed from 0.23. Use scipy.optimize.linear_sum_assignment instead.\n",
      "  DeprecationWarning)\n",
      "c:\\users\\kengamd\\appdata\\local\\programs\\python\\python37\\lib\\site-packages\\sklearn\\utils\\linear_assignment_.py:127: DeprecationWarning: The linear_assignment function is deprecated in 0.21 and will be removed from 0.23. Use scipy.optimize.linear_sum_assignment instead.\n",
      "  DeprecationWarning)\n",
      "c:\\users\\kengamd\\appdata\\local\\programs\\python\\python37\\lib\\site-packages\\sklearn\\utils\\linear_assignment_.py:127: DeprecationWarning: The linear_assignment function is deprecated in 0.21 and will be removed from 0.23. Use scipy.optimize.linear_sum_assignment instead.\n",
      "  DeprecationWarning)\n",
      "c:\\users\\kengamd\\appdata\\local\\programs\\python\\python37\\lib\\site-packages\\sklearn\\utils\\linear_assignment_.py:127: DeprecationWarning: The linear_assignment function is deprecated in 0.21 and will be removed from 0.23. Use scipy.optimize.linear_sum_assignment instead.\n",
      "  DeprecationWarning)\n",
      "c:\\users\\kengamd\\appdata\\local\\programs\\python\\python37\\lib\\site-packages\\sklearn\\utils\\linear_assignment_.py:127: DeprecationWarning: The linear_assignment function is deprecated in 0.21 and will be removed from 0.23. Use scipy.optimize.linear_sum_assignment instead.\n",
      "  DeprecationWarning)\n",
      "c:\\users\\kengamd\\appdata\\local\\programs\\python\\python37\\lib\\site-packages\\sklearn\\utils\\linear_assignment_.py:127: DeprecationWarning: The linear_assignment function is deprecated in 0.21 and will be removed from 0.23. Use scipy.optimize.linear_sum_assignment instead.\n",
      "  DeprecationWarning)\n",
      "c:\\users\\kengamd\\appdata\\local\\programs\\python\\python37\\lib\\site-packages\\sklearn\\utils\\linear_assignment_.py:127: DeprecationWarning: The linear_assignment function is deprecated in 0.21 and will be removed from 0.23. Use scipy.optimize.linear_sum_assignment instead.\n",
      "  DeprecationWarning)\n",
      "c:\\users\\kengamd\\appdata\\local\\programs\\python\\python37\\lib\\site-packages\\sklearn\\utils\\linear_assignment_.py:127: DeprecationWarning: The linear_assignment function is deprecated in 0.21 and will be removed from 0.23. Use scipy.optimize.linear_sum_assignment instead.\n",
      "  DeprecationWarning)\n",
      "c:\\users\\kengamd\\appdata\\local\\programs\\python\\python37\\lib\\site-packages\\sklearn\\utils\\linear_assignment_.py:127: DeprecationWarning: The linear_assignment function is deprecated in 0.21 and will be removed from 0.23. Use scipy.optimize.linear_sum_assignment instead.\n",
      "  DeprecationWarning)\n",
      "c:\\users\\kengamd\\appdata\\local\\programs\\python\\python37\\lib\\site-packages\\sklearn\\utils\\linear_assignment_.py:127: DeprecationWarning: The linear_assignment function is deprecated in 0.21 and will be removed from 0.23. Use scipy.optimize.linear_sum_assignment instead.\n",
      "  DeprecationWarning)\n",
      "c:\\users\\kengamd\\appdata\\local\\programs\\python\\python37\\lib\\site-packages\\sklearn\\utils\\linear_assignment_.py:127: DeprecationWarning: The linear_assignment function is deprecated in 0.21 and will be removed from 0.23. Use scipy.optimize.linear_sum_assignment instead.\n",
      "  DeprecationWarning)\n",
      "c:\\users\\kengamd\\appdata\\local\\programs\\python\\python37\\lib\\site-packages\\sklearn\\utils\\linear_assignment_.py:127: DeprecationWarning: The linear_assignment function is deprecated in 0.21 and will be removed from 0.23. Use scipy.optimize.linear_sum_assignment instead.\n",
      "  DeprecationWarning)\n",
      "c:\\users\\kengamd\\appdata\\local\\programs\\python\\python37\\lib\\site-packages\\sklearn\\utils\\linear_assignment_.py:127: DeprecationWarning: The linear_assignment function is deprecated in 0.21 and will be removed from 0.23. Use scipy.optimize.linear_sum_assignment instead.\n",
      "  DeprecationWarning)\n",
      "c:\\users\\kengamd\\appdata\\local\\programs\\python\\python37\\lib\\site-packages\\sklearn\\utils\\linear_assignment_.py:127: DeprecationWarning: The linear_assignment function is deprecated in 0.21 and will be removed from 0.23. Use scipy.optimize.linear_sum_assignment instead.\n",
      "  DeprecationWarning)\n",
      "c:\\users\\kengamd\\appdata\\local\\programs\\python\\python37\\lib\\site-packages\\sklearn\\utils\\linear_assignment_.py:127: DeprecationWarning: The linear_assignment function is deprecated in 0.21 and will be removed from 0.23. Use scipy.optimize.linear_sum_assignment instead.\n",
      "  DeprecationWarning)\n",
      "c:\\users\\kengamd\\appdata\\local\\programs\\python\\python37\\lib\\site-packages\\sklearn\\utils\\linear_assignment_.py:127: DeprecationWarning: The linear_assignment function is deprecated in 0.21 and will be removed from 0.23. Use scipy.optimize.linear_sum_assignment instead.\n",
      "  DeprecationWarning)\n",
      "c:\\users\\kengamd\\appdata\\local\\programs\\python\\python37\\lib\\site-packages\\sklearn\\utils\\linear_assignment_.py:127: DeprecationWarning: The linear_assignment function is deprecated in 0.21 and will be removed from 0.23. Use scipy.optimize.linear_sum_assignment instead.\n",
      "  DeprecationWarning)\n",
      "c:\\users\\kengamd\\appdata\\local\\programs\\python\\python37\\lib\\site-packages\\sklearn\\utils\\linear_assignment_.py:127: DeprecationWarning: The linear_assignment function is deprecated in 0.21 and will be removed from 0.23. Use scipy.optimize.linear_sum_assignment instead.\n",
      "  DeprecationWarning)\n",
      "c:\\users\\kengamd\\appdata\\local\\programs\\python\\python37\\lib\\site-packages\\sklearn\\utils\\linear_assignment_.py:127: DeprecationWarning: The linear_assignment function is deprecated in 0.21 and will be removed from 0.23. Use scipy.optimize.linear_sum_assignment instead.\n",
      "  DeprecationWarning)\n",
      "c:\\users\\kengamd\\appdata\\local\\programs\\python\\python37\\lib\\site-packages\\sklearn\\utils\\linear_assignment_.py:127: DeprecationWarning: The linear_assignment function is deprecated in 0.21 and will be removed from 0.23. Use scipy.optimize.linear_sum_assignment instead.\n",
      "  DeprecationWarning)\n",
      "c:\\users\\kengamd\\appdata\\local\\programs\\python\\python37\\lib\\site-packages\\sklearn\\utils\\linear_assignment_.py:127: DeprecationWarning: The linear_assignment function is deprecated in 0.21 and will be removed from 0.23. Use scipy.optimize.linear_sum_assignment instead.\n",
      "  DeprecationWarning)\n",
      "c:\\users\\kengamd\\appdata\\local\\programs\\python\\python37\\lib\\site-packages\\sklearn\\utils\\linear_assignment_.py:127: DeprecationWarning: The linear_assignment function is deprecated in 0.21 and will be removed from 0.23. Use scipy.optimize.linear_sum_assignment instead.\n",
      "  DeprecationWarning)\n",
      "c:\\users\\kengamd\\appdata\\local\\programs\\python\\python37\\lib\\site-packages\\sklearn\\utils\\linear_assignment_.py:127: DeprecationWarning: The linear_assignment function is deprecated in 0.21 and will be removed from 0.23. Use scipy.optimize.linear_sum_assignment instead.\n",
      "  DeprecationWarning)\n",
      "c:\\users\\kengamd\\appdata\\local\\programs\\python\\python37\\lib\\site-packages\\sklearn\\utils\\linear_assignment_.py:127: DeprecationWarning: The linear_assignment function is deprecated in 0.21 and will be removed from 0.23. Use scipy.optimize.linear_sum_assignment instead.\n",
      "  DeprecationWarning)\n"
     ]
    },
    {
     "name": "stderr",
     "output_type": "stream",
     "text": [
      "c:\\users\\kengamd\\appdata\\local\\programs\\python\\python37\\lib\\site-packages\\sklearn\\utils\\linear_assignment_.py:127: DeprecationWarning: The linear_assignment function is deprecated in 0.21 and will be removed from 0.23. Use scipy.optimize.linear_sum_assignment instead.\n",
      "  DeprecationWarning)\n",
      "c:\\users\\kengamd\\appdata\\local\\programs\\python\\python37\\lib\\site-packages\\sklearn\\utils\\linear_assignment_.py:127: DeprecationWarning: The linear_assignment function is deprecated in 0.21 and will be removed from 0.23. Use scipy.optimize.linear_sum_assignment instead.\n",
      "  DeprecationWarning)\n",
      "c:\\users\\kengamd\\appdata\\local\\programs\\python\\python37\\lib\\site-packages\\sklearn\\utils\\linear_assignment_.py:127: DeprecationWarning: The linear_assignment function is deprecated in 0.21 and will be removed from 0.23. Use scipy.optimize.linear_sum_assignment instead.\n",
      "  DeprecationWarning)\n",
      "c:\\users\\kengamd\\appdata\\local\\programs\\python\\python37\\lib\\site-packages\\sklearn\\utils\\linear_assignment_.py:127: DeprecationWarning: The linear_assignment function is deprecated in 0.21 and will be removed from 0.23. Use scipy.optimize.linear_sum_assignment instead.\n",
      "  DeprecationWarning)\n",
      "c:\\users\\kengamd\\appdata\\local\\programs\\python\\python37\\lib\\site-packages\\sklearn\\utils\\linear_assignment_.py:127: DeprecationWarning: The linear_assignment function is deprecated in 0.21 and will be removed from 0.23. Use scipy.optimize.linear_sum_assignment instead.\n",
      "  DeprecationWarning)\n",
      "c:\\users\\kengamd\\appdata\\local\\programs\\python\\python37\\lib\\site-packages\\sklearn\\utils\\linear_assignment_.py:127: DeprecationWarning: The linear_assignment function is deprecated in 0.21 and will be removed from 0.23. Use scipy.optimize.linear_sum_assignment instead.\n",
      "  DeprecationWarning)\n",
      "c:\\users\\kengamd\\appdata\\local\\programs\\python\\python37\\lib\\site-packages\\sklearn\\utils\\linear_assignment_.py:127: DeprecationWarning: The linear_assignment function is deprecated in 0.21 and will be removed from 0.23. Use scipy.optimize.linear_sum_assignment instead.\n",
      "  DeprecationWarning)\n",
      "c:\\users\\kengamd\\appdata\\local\\programs\\python\\python37\\lib\\site-packages\\sklearn\\utils\\linear_assignment_.py:127: DeprecationWarning: The linear_assignment function is deprecated in 0.21 and will be removed from 0.23. Use scipy.optimize.linear_sum_assignment instead.\n",
      "  DeprecationWarning)\n",
      "c:\\users\\kengamd\\appdata\\local\\programs\\python\\python37\\lib\\site-packages\\sklearn\\utils\\linear_assignment_.py:127: DeprecationWarning: The linear_assignment function is deprecated in 0.21 and will be removed from 0.23. Use scipy.optimize.linear_sum_assignment instead.\n",
      "  DeprecationWarning)\n",
      "c:\\users\\kengamd\\appdata\\local\\programs\\python\\python37\\lib\\site-packages\\sklearn\\utils\\linear_assignment_.py:127: DeprecationWarning: The linear_assignment function is deprecated in 0.21 and will be removed from 0.23. Use scipy.optimize.linear_sum_assignment instead.\n",
      "  DeprecationWarning)\n",
      "c:\\users\\kengamd\\appdata\\local\\programs\\python\\python37\\lib\\site-packages\\sklearn\\utils\\linear_assignment_.py:127: DeprecationWarning: The linear_assignment function is deprecated in 0.21 and will be removed from 0.23. Use scipy.optimize.linear_sum_assignment instead.\n",
      "  DeprecationWarning)\n",
      "c:\\users\\kengamd\\appdata\\local\\programs\\python\\python37\\lib\\site-packages\\sklearn\\utils\\linear_assignment_.py:127: DeprecationWarning: The linear_assignment function is deprecated in 0.21 and will be removed from 0.23. Use scipy.optimize.linear_sum_assignment instead.\n",
      "  DeprecationWarning)\n",
      "c:\\users\\kengamd\\appdata\\local\\programs\\python\\python37\\lib\\site-packages\\sklearn\\utils\\linear_assignment_.py:127: DeprecationWarning: The linear_assignment function is deprecated in 0.21 and will be removed from 0.23. Use scipy.optimize.linear_sum_assignment instead.\n",
      "  DeprecationWarning)\n",
      "c:\\users\\kengamd\\appdata\\local\\programs\\python\\python37\\lib\\site-packages\\sklearn\\utils\\linear_assignment_.py:127: DeprecationWarning: The linear_assignment function is deprecated in 0.21 and will be removed from 0.23. Use scipy.optimize.linear_sum_assignment instead.\n",
      "  DeprecationWarning)\n",
      "c:\\users\\kengamd\\appdata\\local\\programs\\python\\python37\\lib\\site-packages\\sklearn\\utils\\linear_assignment_.py:127: DeprecationWarning: The linear_assignment function is deprecated in 0.21 and will be removed from 0.23. Use scipy.optimize.linear_sum_assignment instead.\n",
      "  DeprecationWarning)\n",
      "c:\\users\\kengamd\\appdata\\local\\programs\\python\\python37\\lib\\site-packages\\sklearn\\utils\\linear_assignment_.py:127: DeprecationWarning: The linear_assignment function is deprecated in 0.21 and will be removed from 0.23. Use scipy.optimize.linear_sum_assignment instead.\n",
      "  DeprecationWarning)\n",
      "c:\\users\\kengamd\\appdata\\local\\programs\\python\\python37\\lib\\site-packages\\sklearn\\utils\\linear_assignment_.py:127: DeprecationWarning: The linear_assignment function is deprecated in 0.21 and will be removed from 0.23. Use scipy.optimize.linear_sum_assignment instead.\n",
      "  DeprecationWarning)\n",
      "c:\\users\\kengamd\\appdata\\local\\programs\\python\\python37\\lib\\site-packages\\sklearn\\utils\\linear_assignment_.py:127: DeprecationWarning: The linear_assignment function is deprecated in 0.21 and will be removed from 0.23. Use scipy.optimize.linear_sum_assignment instead.\n",
      "  DeprecationWarning)\n",
      "c:\\users\\kengamd\\appdata\\local\\programs\\python\\python37\\lib\\site-packages\\sklearn\\utils\\linear_assignment_.py:127: DeprecationWarning: The linear_assignment function is deprecated in 0.21 and will be removed from 0.23. Use scipy.optimize.linear_sum_assignment instead.\n",
      "  DeprecationWarning)\n",
      "c:\\users\\kengamd\\appdata\\local\\programs\\python\\python37\\lib\\site-packages\\sklearn\\utils\\linear_assignment_.py:127: DeprecationWarning: The linear_assignment function is deprecated in 0.21 and will be removed from 0.23. Use scipy.optimize.linear_sum_assignment instead.\n",
      "  DeprecationWarning)\n",
      "c:\\users\\kengamd\\appdata\\local\\programs\\python\\python37\\lib\\site-packages\\sklearn\\utils\\linear_assignment_.py:127: DeprecationWarning: The linear_assignment function is deprecated in 0.21 and will be removed from 0.23. Use scipy.optimize.linear_sum_assignment instead.\n",
      "  DeprecationWarning)\n",
      "c:\\users\\kengamd\\appdata\\local\\programs\\python\\python37\\lib\\site-packages\\sklearn\\utils\\linear_assignment_.py:127: DeprecationWarning: The linear_assignment function is deprecated in 0.21 and will be removed from 0.23. Use scipy.optimize.linear_sum_assignment instead.\n",
      "  DeprecationWarning)\n",
      "c:\\users\\kengamd\\appdata\\local\\programs\\python\\python37\\lib\\site-packages\\sklearn\\utils\\linear_assignment_.py:127: DeprecationWarning: The linear_assignment function is deprecated in 0.21 and will be removed from 0.23. Use scipy.optimize.linear_sum_assignment instead.\n",
      "  DeprecationWarning)\n",
      "c:\\users\\kengamd\\appdata\\local\\programs\\python\\python37\\lib\\site-packages\\sklearn\\utils\\linear_assignment_.py:127: DeprecationWarning: The linear_assignment function is deprecated in 0.21 and will be removed from 0.23. Use scipy.optimize.linear_sum_assignment instead.\n",
      "  DeprecationWarning)\n",
      "c:\\users\\kengamd\\appdata\\local\\programs\\python\\python37\\lib\\site-packages\\sklearn\\utils\\linear_assignment_.py:127: DeprecationWarning: The linear_assignment function is deprecated in 0.21 and will be removed from 0.23. Use scipy.optimize.linear_sum_assignment instead.\n",
      "  DeprecationWarning)\n",
      "c:\\users\\kengamd\\appdata\\local\\programs\\python\\python37\\lib\\site-packages\\sklearn\\utils\\linear_assignment_.py:127: DeprecationWarning: The linear_assignment function is deprecated in 0.21 and will be removed from 0.23. Use scipy.optimize.linear_sum_assignment instead.\n",
      "  DeprecationWarning)\n",
      "c:\\users\\kengamd\\appdata\\local\\programs\\python\\python37\\lib\\site-packages\\sklearn\\utils\\linear_assignment_.py:127: DeprecationWarning: The linear_assignment function is deprecated in 0.21 and will be removed from 0.23. Use scipy.optimize.linear_sum_assignment instead.\n",
      "  DeprecationWarning)\n",
      "c:\\users\\kengamd\\appdata\\local\\programs\\python\\python37\\lib\\site-packages\\sklearn\\utils\\linear_assignment_.py:127: DeprecationWarning: The linear_assignment function is deprecated in 0.21 and will be removed from 0.23. Use scipy.optimize.linear_sum_assignment instead.\n",
      "  DeprecationWarning)\n",
      "c:\\users\\kengamd\\appdata\\local\\programs\\python\\python37\\lib\\site-packages\\sklearn\\utils\\linear_assignment_.py:127: DeprecationWarning: The linear_assignment function is deprecated in 0.21 and will be removed from 0.23. Use scipy.optimize.linear_sum_assignment instead.\n",
      "  DeprecationWarning)\n"
     ]
    },
    {
     "name": "stderr",
     "output_type": "stream",
     "text": [
      "c:\\users\\kengamd\\appdata\\local\\programs\\python\\python37\\lib\\site-packages\\sklearn\\utils\\linear_assignment_.py:127: DeprecationWarning: The linear_assignment function is deprecated in 0.21 and will be removed from 0.23. Use scipy.optimize.linear_sum_assignment instead.\n",
      "  DeprecationWarning)\n",
      "c:\\users\\kengamd\\appdata\\local\\programs\\python\\python37\\lib\\site-packages\\sklearn\\utils\\linear_assignment_.py:127: DeprecationWarning: The linear_assignment function is deprecated in 0.21 and will be removed from 0.23. Use scipy.optimize.linear_sum_assignment instead.\n",
      "  DeprecationWarning)\n",
      "c:\\users\\kengamd\\appdata\\local\\programs\\python\\python37\\lib\\site-packages\\sklearn\\utils\\linear_assignment_.py:127: DeprecationWarning: The linear_assignment function is deprecated in 0.21 and will be removed from 0.23. Use scipy.optimize.linear_sum_assignment instead.\n",
      "  DeprecationWarning)\n",
      "c:\\users\\kengamd\\appdata\\local\\programs\\python\\python37\\lib\\site-packages\\sklearn\\utils\\linear_assignment_.py:127: DeprecationWarning: The linear_assignment function is deprecated in 0.21 and will be removed from 0.23. Use scipy.optimize.linear_sum_assignment instead.\n",
      "  DeprecationWarning)\n",
      "c:\\users\\kengamd\\appdata\\local\\programs\\python\\python37\\lib\\site-packages\\sklearn\\utils\\linear_assignment_.py:127: DeprecationWarning: The linear_assignment function is deprecated in 0.21 and will be removed from 0.23. Use scipy.optimize.linear_sum_assignment instead.\n",
      "  DeprecationWarning)\n",
      "c:\\users\\kengamd\\appdata\\local\\programs\\python\\python37\\lib\\site-packages\\sklearn\\utils\\linear_assignment_.py:127: DeprecationWarning: The linear_assignment function is deprecated in 0.21 and will be removed from 0.23. Use scipy.optimize.linear_sum_assignment instead.\n",
      "  DeprecationWarning)\n",
      "c:\\users\\kengamd\\appdata\\local\\programs\\python\\python37\\lib\\site-packages\\sklearn\\utils\\linear_assignment_.py:127: DeprecationWarning: The linear_assignment function is deprecated in 0.21 and will be removed from 0.23. Use scipy.optimize.linear_sum_assignment instead.\n",
      "  DeprecationWarning)\n",
      "c:\\users\\kengamd\\appdata\\local\\programs\\python\\python37\\lib\\site-packages\\sklearn\\utils\\linear_assignment_.py:127: DeprecationWarning: The linear_assignment function is deprecated in 0.21 and will be removed from 0.23. Use scipy.optimize.linear_sum_assignment instead.\n",
      "  DeprecationWarning)\n",
      "c:\\users\\kengamd\\appdata\\local\\programs\\python\\python37\\lib\\site-packages\\sklearn\\utils\\linear_assignment_.py:127: DeprecationWarning: The linear_assignment function is deprecated in 0.21 and will be removed from 0.23. Use scipy.optimize.linear_sum_assignment instead.\n",
      "  DeprecationWarning)\n",
      "c:\\users\\kengamd\\appdata\\local\\programs\\python\\python37\\lib\\site-packages\\sklearn\\utils\\linear_assignment_.py:127: DeprecationWarning: The linear_assignment function is deprecated in 0.21 and will be removed from 0.23. Use scipy.optimize.linear_sum_assignment instead.\n",
      "  DeprecationWarning)\n",
      "c:\\users\\kengamd\\appdata\\local\\programs\\python\\python37\\lib\\site-packages\\sklearn\\utils\\linear_assignment_.py:127: DeprecationWarning: The linear_assignment function is deprecated in 0.21 and will be removed from 0.23. Use scipy.optimize.linear_sum_assignment instead.\n",
      "  DeprecationWarning)\n",
      "c:\\users\\kengamd\\appdata\\local\\programs\\python\\python37\\lib\\site-packages\\sklearn\\utils\\linear_assignment_.py:127: DeprecationWarning: The linear_assignment function is deprecated in 0.21 and will be removed from 0.23. Use scipy.optimize.linear_sum_assignment instead.\n",
      "  DeprecationWarning)\n",
      "c:\\users\\kengamd\\appdata\\local\\programs\\python\\python37\\lib\\site-packages\\sklearn\\utils\\linear_assignment_.py:127: DeprecationWarning: The linear_assignment function is deprecated in 0.21 and will be removed from 0.23. Use scipy.optimize.linear_sum_assignment instead.\n",
      "  DeprecationWarning)\n",
      "c:\\users\\kengamd\\appdata\\local\\programs\\python\\python37\\lib\\site-packages\\sklearn\\utils\\linear_assignment_.py:127: DeprecationWarning: The linear_assignment function is deprecated in 0.21 and will be removed from 0.23. Use scipy.optimize.linear_sum_assignment instead.\n",
      "  DeprecationWarning)\n",
      "c:\\users\\kengamd\\appdata\\local\\programs\\python\\python37\\lib\\site-packages\\sklearn\\utils\\linear_assignment_.py:127: DeprecationWarning: The linear_assignment function is deprecated in 0.21 and will be removed from 0.23. Use scipy.optimize.linear_sum_assignment instead.\n",
      "  DeprecationWarning)\n",
      "c:\\users\\kengamd\\appdata\\local\\programs\\python\\python37\\lib\\site-packages\\sklearn\\utils\\linear_assignment_.py:127: DeprecationWarning: The linear_assignment function is deprecated in 0.21 and will be removed from 0.23. Use scipy.optimize.linear_sum_assignment instead.\n",
      "  DeprecationWarning)\n",
      "c:\\users\\kengamd\\appdata\\local\\programs\\python\\python37\\lib\\site-packages\\sklearn\\utils\\linear_assignment_.py:127: DeprecationWarning: The linear_assignment function is deprecated in 0.21 and will be removed from 0.23. Use scipy.optimize.linear_sum_assignment instead.\n",
      "  DeprecationWarning)\n",
      "c:\\users\\kengamd\\appdata\\local\\programs\\python\\python37\\lib\\site-packages\\sklearn\\utils\\linear_assignment_.py:127: DeprecationWarning: The linear_assignment function is deprecated in 0.21 and will be removed from 0.23. Use scipy.optimize.linear_sum_assignment instead.\n",
      "  DeprecationWarning)\n",
      "c:\\users\\kengamd\\appdata\\local\\programs\\python\\python37\\lib\\site-packages\\sklearn\\utils\\linear_assignment_.py:127: DeprecationWarning: The linear_assignment function is deprecated in 0.21 and will be removed from 0.23. Use scipy.optimize.linear_sum_assignment instead.\n",
      "  DeprecationWarning)\n",
      "c:\\users\\kengamd\\appdata\\local\\programs\\python\\python37\\lib\\site-packages\\sklearn\\utils\\linear_assignment_.py:127: DeprecationWarning: The linear_assignment function is deprecated in 0.21 and will be removed from 0.23. Use scipy.optimize.linear_sum_assignment instead.\n",
      "  DeprecationWarning)\n",
      "c:\\users\\kengamd\\appdata\\local\\programs\\python\\python37\\lib\\site-packages\\sklearn\\utils\\linear_assignment_.py:127: DeprecationWarning: The linear_assignment function is deprecated in 0.21 and will be removed from 0.23. Use scipy.optimize.linear_sum_assignment instead.\n",
      "  DeprecationWarning)\n",
      "c:\\users\\kengamd\\appdata\\local\\programs\\python\\python37\\lib\\site-packages\\sklearn\\utils\\linear_assignment_.py:127: DeprecationWarning: The linear_assignment function is deprecated in 0.21 and will be removed from 0.23. Use scipy.optimize.linear_sum_assignment instead.\n",
      "  DeprecationWarning)\n",
      "c:\\users\\kengamd\\appdata\\local\\programs\\python\\python37\\lib\\site-packages\\sklearn\\utils\\linear_assignment_.py:127: DeprecationWarning: The linear_assignment function is deprecated in 0.21 and will be removed from 0.23. Use scipy.optimize.linear_sum_assignment instead.\n",
      "  DeprecationWarning)\n",
      "c:\\users\\kengamd\\appdata\\local\\programs\\python\\python37\\lib\\site-packages\\sklearn\\utils\\linear_assignment_.py:127: DeprecationWarning: The linear_assignment function is deprecated in 0.21 and will be removed from 0.23. Use scipy.optimize.linear_sum_assignment instead.\n",
      "  DeprecationWarning)\n",
      "c:\\users\\kengamd\\appdata\\local\\programs\\python\\python37\\lib\\site-packages\\sklearn\\utils\\linear_assignment_.py:127: DeprecationWarning: The linear_assignment function is deprecated in 0.21 and will be removed from 0.23. Use scipy.optimize.linear_sum_assignment instead.\n",
      "  DeprecationWarning)\n",
      "c:\\users\\kengamd\\appdata\\local\\programs\\python\\python37\\lib\\site-packages\\sklearn\\utils\\linear_assignment_.py:127: DeprecationWarning: The linear_assignment function is deprecated in 0.21 and will be removed from 0.23. Use scipy.optimize.linear_sum_assignment instead.\n",
      "  DeprecationWarning)\n",
      "c:\\users\\kengamd\\appdata\\local\\programs\\python\\python37\\lib\\site-packages\\sklearn\\utils\\linear_assignment_.py:127: DeprecationWarning: The linear_assignment function is deprecated in 0.21 and will be removed from 0.23. Use scipy.optimize.linear_sum_assignment instead.\n",
      "  DeprecationWarning)\n",
      "c:\\users\\kengamd\\appdata\\local\\programs\\python\\python37\\lib\\site-packages\\sklearn\\utils\\linear_assignment_.py:127: DeprecationWarning: The linear_assignment function is deprecated in 0.21 and will be removed from 0.23. Use scipy.optimize.linear_sum_assignment instead.\n",
      "  DeprecationWarning)\n",
      "c:\\users\\kengamd\\appdata\\local\\programs\\python\\python37\\lib\\site-packages\\sklearn\\utils\\linear_assignment_.py:127: DeprecationWarning: The linear_assignment function is deprecated in 0.21 and will be removed from 0.23. Use scipy.optimize.linear_sum_assignment instead.\n",
      "  DeprecationWarning)\n"
     ]
    },
    {
     "name": "stderr",
     "output_type": "stream",
     "text": [
      "\n",
      " 41%|████████████████████████████████                                              | 117/285 [00:00<00:00, 1161.52it/s]c:\\users\\kengamd\\appdata\\local\\programs\\python\\python37\\lib\\site-packages\\sklearn\\utils\\linear_assignment_.py:127: DeprecationWarning: The linear_assignment function is deprecated in 0.21 and will be removed from 0.23. Use scipy.optimize.linear_sum_assignment instead.\n",
      "  DeprecationWarning)\n",
      "c:\\users\\kengamd\\appdata\\local\\programs\\python\\python37\\lib\\site-packages\\sklearn\\utils\\linear_assignment_.py:127: DeprecationWarning: The linear_assignment function is deprecated in 0.21 and will be removed from 0.23. Use scipy.optimize.linear_sum_assignment instead.\n",
      "  DeprecationWarning)\n",
      "c:\\users\\kengamd\\appdata\\local\\programs\\python\\python37\\lib\\site-packages\\sklearn\\utils\\linear_assignment_.py:127: DeprecationWarning: The linear_assignment function is deprecated in 0.21 and will be removed from 0.23. Use scipy.optimize.linear_sum_assignment instead.\n",
      "  DeprecationWarning)\n",
      "c:\\users\\kengamd\\appdata\\local\\programs\\python\\python37\\lib\\site-packages\\sklearn\\utils\\linear_assignment_.py:127: DeprecationWarning: The linear_assignment function is deprecated in 0.21 and will be removed from 0.23. Use scipy.optimize.linear_sum_assignment instead.\n",
      "  DeprecationWarning)\n",
      "c:\\users\\kengamd\\appdata\\local\\programs\\python\\python37\\lib\\site-packages\\sklearn\\utils\\linear_assignment_.py:127: DeprecationWarning: The linear_assignment function is deprecated in 0.21 and will be removed from 0.23. Use scipy.optimize.linear_sum_assignment instead.\n",
      "  DeprecationWarning)\n",
      "c:\\users\\kengamd\\appdata\\local\\programs\\python\\python37\\lib\\site-packages\\sklearn\\utils\\linear_assignment_.py:127: DeprecationWarning: The linear_assignment function is deprecated in 0.21 and will be removed from 0.23. Use scipy.optimize.linear_sum_assignment instead.\n",
      "  DeprecationWarning)\n",
      "c:\\users\\kengamd\\appdata\\local\\programs\\python\\python37\\lib\\site-packages\\sklearn\\utils\\linear_assignment_.py:127: DeprecationWarning: The linear_assignment function is deprecated in 0.21 and will be removed from 0.23. Use scipy.optimize.linear_sum_assignment instead.\n",
      "  DeprecationWarning)\n",
      "c:\\users\\kengamd\\appdata\\local\\programs\\python\\python37\\lib\\site-packages\\sklearn\\utils\\linear_assignment_.py:127: DeprecationWarning: The linear_assignment function is deprecated in 0.21 and will be removed from 0.23. Use scipy.optimize.linear_sum_assignment instead.\n",
      "  DeprecationWarning)\n",
      "c:\\users\\kengamd\\appdata\\local\\programs\\python\\python37\\lib\\site-packages\\sklearn\\utils\\linear_assignment_.py:127: DeprecationWarning: The linear_assignment function is deprecated in 0.21 and will be removed from 0.23. Use scipy.optimize.linear_sum_assignment instead.\n",
      "  DeprecationWarning)\n",
      "c:\\users\\kengamd\\appdata\\local\\programs\\python\\python37\\lib\\site-packages\\sklearn\\utils\\linear_assignment_.py:127: DeprecationWarning: The linear_assignment function is deprecated in 0.21 and will be removed from 0.23. Use scipy.optimize.linear_sum_assignment instead.\n",
      "  DeprecationWarning)\n",
      "c:\\users\\kengamd\\appdata\\local\\programs\\python\\python37\\lib\\site-packages\\sklearn\\utils\\linear_assignment_.py:127: DeprecationWarning: The linear_assignment function is deprecated in 0.21 and will be removed from 0.23. Use scipy.optimize.linear_sum_assignment instead.\n",
      "  DeprecationWarning)\n",
      "c:\\users\\kengamd\\appdata\\local\\programs\\python\\python37\\lib\\site-packages\\sklearn\\utils\\linear_assignment_.py:127: DeprecationWarning: The linear_assignment function is deprecated in 0.21 and will be removed from 0.23. Use scipy.optimize.linear_sum_assignment instead.\n",
      "  DeprecationWarning)\n",
      "c:\\users\\kengamd\\appdata\\local\\programs\\python\\python37\\lib\\site-packages\\sklearn\\utils\\linear_assignment_.py:127: DeprecationWarning: The linear_assignment function is deprecated in 0.21 and will be removed from 0.23. Use scipy.optimize.linear_sum_assignment instead.\n",
      "  DeprecationWarning)\n",
      "c:\\users\\kengamd\\appdata\\local\\programs\\python\\python37\\lib\\site-packages\\sklearn\\utils\\linear_assignment_.py:127: DeprecationWarning: The linear_assignment function is deprecated in 0.21 and will be removed from 0.23. Use scipy.optimize.linear_sum_assignment instead.\n",
      "  DeprecationWarning)\n",
      "c:\\users\\kengamd\\appdata\\local\\programs\\python\\python37\\lib\\site-packages\\sklearn\\utils\\linear_assignment_.py:127: DeprecationWarning: The linear_assignment function is deprecated in 0.21 and will be removed from 0.23. Use scipy.optimize.linear_sum_assignment instead.\n",
      "  DeprecationWarning)\n",
      "c:\\users\\kengamd\\appdata\\local\\programs\\python\\python37\\lib\\site-packages\\sklearn\\utils\\linear_assignment_.py:127: DeprecationWarning: The linear_assignment function is deprecated in 0.21 and will be removed from 0.23. Use scipy.optimize.linear_sum_assignment instead.\n",
      "  DeprecationWarning)\n",
      "c:\\users\\kengamd\\appdata\\local\\programs\\python\\python37\\lib\\site-packages\\sklearn\\utils\\linear_assignment_.py:127: DeprecationWarning: The linear_assignment function is deprecated in 0.21 and will be removed from 0.23. Use scipy.optimize.linear_sum_assignment instead.\n",
      "  DeprecationWarning)\n",
      "c:\\users\\kengamd\\appdata\\local\\programs\\python\\python37\\lib\\site-packages\\sklearn\\utils\\linear_assignment_.py:127: DeprecationWarning: The linear_assignment function is deprecated in 0.21 and will be removed from 0.23. Use scipy.optimize.linear_sum_assignment instead.\n",
      "  DeprecationWarning)\n",
      "c:\\users\\kengamd\\appdata\\local\\programs\\python\\python37\\lib\\site-packages\\sklearn\\utils\\linear_assignment_.py:127: DeprecationWarning: The linear_assignment function is deprecated in 0.21 and will be removed from 0.23. Use scipy.optimize.linear_sum_assignment instead.\n",
      "  DeprecationWarning)\n",
      "c:\\users\\kengamd\\appdata\\local\\programs\\python\\python37\\lib\\site-packages\\sklearn\\utils\\linear_assignment_.py:127: DeprecationWarning: The linear_assignment function is deprecated in 0.21 and will be removed from 0.23. Use scipy.optimize.linear_sum_assignment instead.\n",
      "  DeprecationWarning)\n",
      "c:\\users\\kengamd\\appdata\\local\\programs\\python\\python37\\lib\\site-packages\\sklearn\\utils\\linear_assignment_.py:127: DeprecationWarning: The linear_assignment function is deprecated in 0.21 and will be removed from 0.23. Use scipy.optimize.linear_sum_assignment instead.\n",
      "  DeprecationWarning)\n",
      "c:\\users\\kengamd\\appdata\\local\\programs\\python\\python37\\lib\\site-packages\\sklearn\\utils\\linear_assignment_.py:127: DeprecationWarning: The linear_assignment function is deprecated in 0.21 and will be removed from 0.23. Use scipy.optimize.linear_sum_assignment instead.\n",
      "  DeprecationWarning)\n",
      "c:\\users\\kengamd\\appdata\\local\\programs\\python\\python37\\lib\\site-packages\\sklearn\\utils\\linear_assignment_.py:127: DeprecationWarning: The linear_assignment function is deprecated in 0.21 and will be removed from 0.23. Use scipy.optimize.linear_sum_assignment instead.\n",
      "  DeprecationWarning)\n",
      "c:\\users\\kengamd\\appdata\\local\\programs\\python\\python37\\lib\\site-packages\\sklearn\\utils\\linear_assignment_.py:127: DeprecationWarning: The linear_assignment function is deprecated in 0.21 and will be removed from 0.23. Use scipy.optimize.linear_sum_assignment instead.\n",
      "  DeprecationWarning)\n",
      "c:\\users\\kengamd\\appdata\\local\\programs\\python\\python37\\lib\\site-packages\\sklearn\\utils\\linear_assignment_.py:127: DeprecationWarning: The linear_assignment function is deprecated in 0.21 and will be removed from 0.23. Use scipy.optimize.linear_sum_assignment instead.\n",
      "  DeprecationWarning)\n",
      "c:\\users\\kengamd\\appdata\\local\\programs\\python\\python37\\lib\\site-packages\\sklearn\\utils\\linear_assignment_.py:127: DeprecationWarning: The linear_assignment function is deprecated in 0.21 and will be removed from 0.23. Use scipy.optimize.linear_sum_assignment instead.\n",
      "  DeprecationWarning)\n",
      "c:\\users\\kengamd\\appdata\\local\\programs\\python\\python37\\lib\\site-packages\\sklearn\\utils\\linear_assignment_.py:127: DeprecationWarning: The linear_assignment function is deprecated in 0.21 and will be removed from 0.23. Use scipy.optimize.linear_sum_assignment instead.\n",
      "  DeprecationWarning)\n",
      "c:\\users\\kengamd\\appdata\\local\\programs\\python\\python37\\lib\\site-packages\\sklearn\\utils\\linear_assignment_.py:127: DeprecationWarning: The linear_assignment function is deprecated in 0.21 and will be removed from 0.23. Use scipy.optimize.linear_sum_assignment instead.\n",
      "  DeprecationWarning)\n"
     ]
    },
    {
     "name": "stderr",
     "output_type": "stream",
     "text": [
      "c:\\users\\kengamd\\appdata\\local\\programs\\python\\python37\\lib\\site-packages\\sklearn\\utils\\linear_assignment_.py:127: DeprecationWarning: The linear_assignment function is deprecated in 0.21 and will be removed from 0.23. Use scipy.optimize.linear_sum_assignment instead.\n",
      "  DeprecationWarning)\n",
      "c:\\users\\kengamd\\appdata\\local\\programs\\python\\python37\\lib\\site-packages\\sklearn\\utils\\linear_assignment_.py:127: DeprecationWarning: The linear_assignment function is deprecated in 0.21 and will be removed from 0.23. Use scipy.optimize.linear_sum_assignment instead.\n",
      "  DeprecationWarning)\n",
      "c:\\users\\kengamd\\appdata\\local\\programs\\python\\python37\\lib\\site-packages\\sklearn\\utils\\linear_assignment_.py:127: DeprecationWarning: The linear_assignment function is deprecated in 0.21 and will be removed from 0.23. Use scipy.optimize.linear_sum_assignment instead.\n",
      "  DeprecationWarning)\n",
      "c:\\users\\kengamd\\appdata\\local\\programs\\python\\python37\\lib\\site-packages\\sklearn\\utils\\linear_assignment_.py:127: DeprecationWarning: The linear_assignment function is deprecated in 0.21 and will be removed from 0.23. Use scipy.optimize.linear_sum_assignment instead.\n",
      "  DeprecationWarning)\n",
      "c:\\users\\kengamd\\appdata\\local\\programs\\python\\python37\\lib\\site-packages\\sklearn\\utils\\linear_assignment_.py:127: DeprecationWarning: The linear_assignment function is deprecated in 0.21 and will be removed from 0.23. Use scipy.optimize.linear_sum_assignment instead.\n",
      "  DeprecationWarning)\n",
      "c:\\users\\kengamd\\appdata\\local\\programs\\python\\python37\\lib\\site-packages\\sklearn\\utils\\linear_assignment_.py:127: DeprecationWarning: The linear_assignment function is deprecated in 0.21 and will be removed from 0.23. Use scipy.optimize.linear_sum_assignment instead.\n",
      "  DeprecationWarning)\n",
      "c:\\users\\kengamd\\appdata\\local\\programs\\python\\python37\\lib\\site-packages\\sklearn\\utils\\linear_assignment_.py:127: DeprecationWarning: The linear_assignment function is deprecated in 0.21 and will be removed from 0.23. Use scipy.optimize.linear_sum_assignment instead.\n",
      "  DeprecationWarning)\n",
      "c:\\users\\kengamd\\appdata\\local\\programs\\python\\python37\\lib\\site-packages\\sklearn\\utils\\linear_assignment_.py:127: DeprecationWarning: The linear_assignment function is deprecated in 0.21 and will be removed from 0.23. Use scipy.optimize.linear_sum_assignment instead.\n",
      "  DeprecationWarning)\n",
      "c:\\users\\kengamd\\appdata\\local\\programs\\python\\python37\\lib\\site-packages\\sklearn\\utils\\linear_assignment_.py:127: DeprecationWarning: The linear_assignment function is deprecated in 0.21 and will be removed from 0.23. Use scipy.optimize.linear_sum_assignment instead.\n",
      "  DeprecationWarning)\n",
      "c:\\users\\kengamd\\appdata\\local\\programs\\python\\python37\\lib\\site-packages\\sklearn\\utils\\linear_assignment_.py:127: DeprecationWarning: The linear_assignment function is deprecated in 0.21 and will be removed from 0.23. Use scipy.optimize.linear_sum_assignment instead.\n",
      "  DeprecationWarning)\n",
      "c:\\users\\kengamd\\appdata\\local\\programs\\python\\python37\\lib\\site-packages\\sklearn\\utils\\linear_assignment_.py:127: DeprecationWarning: The linear_assignment function is deprecated in 0.21 and will be removed from 0.23. Use scipy.optimize.linear_sum_assignment instead.\n",
      "  DeprecationWarning)\n",
      "c:\\users\\kengamd\\appdata\\local\\programs\\python\\python37\\lib\\site-packages\\sklearn\\utils\\linear_assignment_.py:127: DeprecationWarning: The linear_assignment function is deprecated in 0.21 and will be removed from 0.23. Use scipy.optimize.linear_sum_assignment instead.\n",
      "  DeprecationWarning)\n",
      "c:\\users\\kengamd\\appdata\\local\\programs\\python\\python37\\lib\\site-packages\\sklearn\\utils\\linear_assignment_.py:127: DeprecationWarning: The linear_assignment function is deprecated in 0.21 and will be removed from 0.23. Use scipy.optimize.linear_sum_assignment instead.\n",
      "  DeprecationWarning)\n",
      "c:\\users\\kengamd\\appdata\\local\\programs\\python\\python37\\lib\\site-packages\\sklearn\\utils\\linear_assignment_.py:127: DeprecationWarning: The linear_assignment function is deprecated in 0.21 and will be removed from 0.23. Use scipy.optimize.linear_sum_assignment instead.\n",
      "  DeprecationWarning)\n",
      "c:\\users\\kengamd\\appdata\\local\\programs\\python\\python37\\lib\\site-packages\\sklearn\\utils\\linear_assignment_.py:127: DeprecationWarning: The linear_assignment function is deprecated in 0.21 and will be removed from 0.23. Use scipy.optimize.linear_sum_assignment instead.\n",
      "  DeprecationWarning)\n",
      "c:\\users\\kengamd\\appdata\\local\\programs\\python\\python37\\lib\\site-packages\\sklearn\\utils\\linear_assignment_.py:127: DeprecationWarning: The linear_assignment function is deprecated in 0.21 and will be removed from 0.23. Use scipy.optimize.linear_sum_assignment instead.\n",
      "  DeprecationWarning)\n",
      "c:\\users\\kengamd\\appdata\\local\\programs\\python\\python37\\lib\\site-packages\\sklearn\\utils\\linear_assignment_.py:127: DeprecationWarning: The linear_assignment function is deprecated in 0.21 and will be removed from 0.23. Use scipy.optimize.linear_sum_assignment instead.\n",
      "  DeprecationWarning)\n",
      "c:\\users\\kengamd\\appdata\\local\\programs\\python\\python37\\lib\\site-packages\\sklearn\\utils\\linear_assignment_.py:127: DeprecationWarning: The linear_assignment function is deprecated in 0.21 and will be removed from 0.23. Use scipy.optimize.linear_sum_assignment instead.\n",
      "  DeprecationWarning)\n",
      "c:\\users\\kengamd\\appdata\\local\\programs\\python\\python37\\lib\\site-packages\\sklearn\\utils\\linear_assignment_.py:127: DeprecationWarning: The linear_assignment function is deprecated in 0.21 and will be removed from 0.23. Use scipy.optimize.linear_sum_assignment instead.\n",
      "  DeprecationWarning)\n",
      "c:\\users\\kengamd\\appdata\\local\\programs\\python\\python37\\lib\\site-packages\\sklearn\\utils\\linear_assignment_.py:127: DeprecationWarning: The linear_assignment function is deprecated in 0.21 and will be removed from 0.23. Use scipy.optimize.linear_sum_assignment instead.\n",
      "  DeprecationWarning)\n",
      "c:\\users\\kengamd\\appdata\\local\\programs\\python\\python37\\lib\\site-packages\\sklearn\\utils\\linear_assignment_.py:127: DeprecationWarning: The linear_assignment function is deprecated in 0.21 and will be removed from 0.23. Use scipy.optimize.linear_sum_assignment instead.\n",
      "  DeprecationWarning)\n",
      "c:\\users\\kengamd\\appdata\\local\\programs\\python\\python37\\lib\\site-packages\\sklearn\\utils\\linear_assignment_.py:127: DeprecationWarning: The linear_assignment function is deprecated in 0.21 and will be removed from 0.23. Use scipy.optimize.linear_sum_assignment instead.\n",
      "  DeprecationWarning)\n",
      "c:\\users\\kengamd\\appdata\\local\\programs\\python\\python37\\lib\\site-packages\\sklearn\\utils\\linear_assignment_.py:127: DeprecationWarning: The linear_assignment function is deprecated in 0.21 and will be removed from 0.23. Use scipy.optimize.linear_sum_assignment instead.\n",
      "  DeprecationWarning)\n",
      "c:\\users\\kengamd\\appdata\\local\\programs\\python\\python37\\lib\\site-packages\\sklearn\\utils\\linear_assignment_.py:127: DeprecationWarning: The linear_assignment function is deprecated in 0.21 and will be removed from 0.23. Use scipy.optimize.linear_sum_assignment instead.\n",
      "  DeprecationWarning)\n",
      "c:\\users\\kengamd\\appdata\\local\\programs\\python\\python37\\lib\\site-packages\\sklearn\\utils\\linear_assignment_.py:127: DeprecationWarning: The linear_assignment function is deprecated in 0.21 and will be removed from 0.23. Use scipy.optimize.linear_sum_assignment instead.\n",
      "  DeprecationWarning)\n",
      "c:\\users\\kengamd\\appdata\\local\\programs\\python\\python37\\lib\\site-packages\\sklearn\\utils\\linear_assignment_.py:127: DeprecationWarning: The linear_assignment function is deprecated in 0.21 and will be removed from 0.23. Use scipy.optimize.linear_sum_assignment instead.\n",
      "  DeprecationWarning)\n",
      "c:\\users\\kengamd\\appdata\\local\\programs\\python\\python37\\lib\\site-packages\\sklearn\\utils\\linear_assignment_.py:127: DeprecationWarning: The linear_assignment function is deprecated in 0.21 and will be removed from 0.23. Use scipy.optimize.linear_sum_assignment instead.\n",
      "  DeprecationWarning)\n",
      "c:\\users\\kengamd\\appdata\\local\\programs\\python\\python37\\lib\\site-packages\\sklearn\\utils\\linear_assignment_.py:127: DeprecationWarning: The linear_assignment function is deprecated in 0.21 and will be removed from 0.23. Use scipy.optimize.linear_sum_assignment instead.\n",
      "  DeprecationWarning)\n",
      "c:\\users\\kengamd\\appdata\\local\\programs\\python\\python37\\lib\\site-packages\\sklearn\\utils\\linear_assignment_.py:127: DeprecationWarning: The linear_assignment function is deprecated in 0.21 and will be removed from 0.23. Use scipy.optimize.linear_sum_assignment instead.\n",
      "  DeprecationWarning)\n"
     ]
    },
    {
     "name": "stderr",
     "output_type": "stream",
     "text": [
      "c:\\users\\kengamd\\appdata\\local\\programs\\python\\python37\\lib\\site-packages\\sklearn\\utils\\linear_assignment_.py:127: DeprecationWarning: The linear_assignment function is deprecated in 0.21 and will be removed from 0.23. Use scipy.optimize.linear_sum_assignment instead.\n",
      "  DeprecationWarning)\n",
      "c:\\users\\kengamd\\appdata\\local\\programs\\python\\python37\\lib\\site-packages\\sklearn\\utils\\linear_assignment_.py:127: DeprecationWarning: The linear_assignment function is deprecated in 0.21 and will be removed from 0.23. Use scipy.optimize.linear_sum_assignment instead.\n",
      "  DeprecationWarning)\n",
      "c:\\users\\kengamd\\appdata\\local\\programs\\python\\python37\\lib\\site-packages\\sklearn\\utils\\linear_assignment_.py:127: DeprecationWarning: The linear_assignment function is deprecated in 0.21 and will be removed from 0.23. Use scipy.optimize.linear_sum_assignment instead.\n",
      "  DeprecationWarning)\n",
      "c:\\users\\kengamd\\appdata\\local\\programs\\python\\python37\\lib\\site-packages\\sklearn\\utils\\linear_assignment_.py:127: DeprecationWarning: The linear_assignment function is deprecated in 0.21 and will be removed from 0.23. Use scipy.optimize.linear_sum_assignment instead.\n",
      "  DeprecationWarning)\n",
      "c:\\users\\kengamd\\appdata\\local\\programs\\python\\python37\\lib\\site-packages\\sklearn\\utils\\linear_assignment_.py:127: DeprecationWarning: The linear_assignment function is deprecated in 0.21 and will be removed from 0.23. Use scipy.optimize.linear_sum_assignment instead.\n",
      "  DeprecationWarning)\n",
      "c:\\users\\kengamd\\appdata\\local\\programs\\python\\python37\\lib\\site-packages\\sklearn\\utils\\linear_assignment_.py:127: DeprecationWarning: The linear_assignment function is deprecated in 0.21 and will be removed from 0.23. Use scipy.optimize.linear_sum_assignment instead.\n",
      "  DeprecationWarning)\n",
      "c:\\users\\kengamd\\appdata\\local\\programs\\python\\python37\\lib\\site-packages\\sklearn\\utils\\linear_assignment_.py:127: DeprecationWarning: The linear_assignment function is deprecated in 0.21 and will be removed from 0.23. Use scipy.optimize.linear_sum_assignment instead.\n",
      "  DeprecationWarning)\n",
      "c:\\users\\kengamd\\appdata\\local\\programs\\python\\python37\\lib\\site-packages\\sklearn\\utils\\linear_assignment_.py:127: DeprecationWarning: The linear_assignment function is deprecated in 0.21 and will be removed from 0.23. Use scipy.optimize.linear_sum_assignment instead.\n",
      "  DeprecationWarning)\n",
      "c:\\users\\kengamd\\appdata\\local\\programs\\python\\python37\\lib\\site-packages\\sklearn\\utils\\linear_assignment_.py:127: DeprecationWarning: The linear_assignment function is deprecated in 0.21 and will be removed from 0.23. Use scipy.optimize.linear_sum_assignment instead.\n",
      "  DeprecationWarning)\n",
      "c:\\users\\kengamd\\appdata\\local\\programs\\python\\python37\\lib\\site-packages\\sklearn\\utils\\linear_assignment_.py:127: DeprecationWarning: The linear_assignment function is deprecated in 0.21 and will be removed from 0.23. Use scipy.optimize.linear_sum_assignment instead.\n",
      "  DeprecationWarning)\n",
      "c:\\users\\kengamd\\appdata\\local\\programs\\python\\python37\\lib\\site-packages\\sklearn\\utils\\linear_assignment_.py:127: DeprecationWarning: The linear_assignment function is deprecated in 0.21 and will be removed from 0.23. Use scipy.optimize.linear_sum_assignment instead.\n",
      "  DeprecationWarning)\n",
      "c:\\users\\kengamd\\appdata\\local\\programs\\python\\python37\\lib\\site-packages\\sklearn\\utils\\linear_assignment_.py:127: DeprecationWarning: The linear_assignment function is deprecated in 0.21 and will be removed from 0.23. Use scipy.optimize.linear_sum_assignment instead.\n",
      "  DeprecationWarning)\n",
      "c:\\users\\kengamd\\appdata\\local\\programs\\python\\python37\\lib\\site-packages\\sklearn\\utils\\linear_assignment_.py:127: DeprecationWarning: The linear_assignment function is deprecated in 0.21 and will be removed from 0.23. Use scipy.optimize.linear_sum_assignment instead.\n",
      "  DeprecationWarning)\n",
      "c:\\users\\kengamd\\appdata\\local\\programs\\python\\python37\\lib\\site-packages\\sklearn\\utils\\linear_assignment_.py:127: DeprecationWarning: The linear_assignment function is deprecated in 0.21 and will be removed from 0.23. Use scipy.optimize.linear_sum_assignment instead.\n",
      "  DeprecationWarning)\n",
      "c:\\users\\kengamd\\appdata\\local\\programs\\python\\python37\\lib\\site-packages\\sklearn\\utils\\linear_assignment_.py:127: DeprecationWarning: The linear_assignment function is deprecated in 0.21 and will be removed from 0.23. Use scipy.optimize.linear_sum_assignment instead.\n",
      "  DeprecationWarning)\n",
      "c:\\users\\kengamd\\appdata\\local\\programs\\python\\python37\\lib\\site-packages\\sklearn\\utils\\linear_assignment_.py:127: DeprecationWarning: The linear_assignment function is deprecated in 0.21 and will be removed from 0.23. Use scipy.optimize.linear_sum_assignment instead.\n",
      "  DeprecationWarning)\n",
      "c:\\users\\kengamd\\appdata\\local\\programs\\python\\python37\\lib\\site-packages\\sklearn\\utils\\linear_assignment_.py:127: DeprecationWarning: The linear_assignment function is deprecated in 0.21 and will be removed from 0.23. Use scipy.optimize.linear_sum_assignment instead.\n",
      "  DeprecationWarning)\n",
      "c:\\users\\kengamd\\appdata\\local\\programs\\python\\python37\\lib\\site-packages\\sklearn\\utils\\linear_assignment_.py:127: DeprecationWarning: The linear_assignment function is deprecated in 0.21 and will be removed from 0.23. Use scipy.optimize.linear_sum_assignment instead.\n",
      "  DeprecationWarning)\n",
      "c:\\users\\kengamd\\appdata\\local\\programs\\python\\python37\\lib\\site-packages\\sklearn\\utils\\linear_assignment_.py:127: DeprecationWarning: The linear_assignment function is deprecated in 0.21 and will be removed from 0.23. Use scipy.optimize.linear_sum_assignment instead.\n",
      "  DeprecationWarning)\n",
      "\n",
      " 74%|██████████████████████████████████████████████████████████                    | 212/285 [00:00<00:00, 1082.36it/s]c:\\users\\kengamd\\appdata\\local\\programs\\python\\python37\\lib\\site-packages\\sklearn\\utils\\linear_assignment_.py:127: DeprecationWarning: The linear_assignment function is deprecated in 0.21 and will be removed from 0.23. Use scipy.optimize.linear_sum_assignment instead.\n",
      "  DeprecationWarning)\n",
      "c:\\users\\kengamd\\appdata\\local\\programs\\python\\python37\\lib\\site-packages\\sklearn\\utils\\linear_assignment_.py:127: DeprecationWarning: The linear_assignment function is deprecated in 0.21 and will be removed from 0.23. Use scipy.optimize.linear_sum_assignment instead.\n",
      "  DeprecationWarning)\n",
      "c:\\users\\kengamd\\appdata\\local\\programs\\python\\python37\\lib\\site-packages\\sklearn\\utils\\linear_assignment_.py:127: DeprecationWarning: The linear_assignment function is deprecated in 0.21 and will be removed from 0.23. Use scipy.optimize.linear_sum_assignment instead.\n",
      "  DeprecationWarning)\n",
      "c:\\users\\kengamd\\appdata\\local\\programs\\python\\python37\\lib\\site-packages\\sklearn\\utils\\linear_assignment_.py:127: DeprecationWarning: The linear_assignment function is deprecated in 0.21 and will be removed from 0.23. Use scipy.optimize.linear_sum_assignment instead.\n",
      "  DeprecationWarning)\n",
      "c:\\users\\kengamd\\appdata\\local\\programs\\python\\python37\\lib\\site-packages\\sklearn\\utils\\linear_assignment_.py:127: DeprecationWarning: The linear_assignment function is deprecated in 0.21 and will be removed from 0.23. Use scipy.optimize.linear_sum_assignment instead.\n",
      "  DeprecationWarning)\n",
      "c:\\users\\kengamd\\appdata\\local\\programs\\python\\python37\\lib\\site-packages\\sklearn\\utils\\linear_assignment_.py:127: DeprecationWarning: The linear_assignment function is deprecated in 0.21 and will be removed from 0.23. Use scipy.optimize.linear_sum_assignment instead.\n",
      "  DeprecationWarning)\n",
      "c:\\users\\kengamd\\appdata\\local\\programs\\python\\python37\\lib\\site-packages\\sklearn\\utils\\linear_assignment_.py:127: DeprecationWarning: The linear_assignment function is deprecated in 0.21 and will be removed from 0.23. Use scipy.optimize.linear_sum_assignment instead.\n",
      "  DeprecationWarning)\n",
      "c:\\users\\kengamd\\appdata\\local\\programs\\python\\python37\\lib\\site-packages\\sklearn\\utils\\linear_assignment_.py:127: DeprecationWarning: The linear_assignment function is deprecated in 0.21 and will be removed from 0.23. Use scipy.optimize.linear_sum_assignment instead.\n",
      "  DeprecationWarning)\n",
      "c:\\users\\kengamd\\appdata\\local\\programs\\python\\python37\\lib\\site-packages\\sklearn\\utils\\linear_assignment_.py:127: DeprecationWarning: The linear_assignment function is deprecated in 0.21 and will be removed from 0.23. Use scipy.optimize.linear_sum_assignment instead.\n",
      "  DeprecationWarning)\n"
     ]
    },
    {
     "name": "stderr",
     "output_type": "stream",
     "text": [
      "c:\\users\\kengamd\\appdata\\local\\programs\\python\\python37\\lib\\site-packages\\sklearn\\utils\\linear_assignment_.py:127: DeprecationWarning: The linear_assignment function is deprecated in 0.21 and will be removed from 0.23. Use scipy.optimize.linear_sum_assignment instead.\n",
      "  DeprecationWarning)\n",
      "c:\\users\\kengamd\\appdata\\local\\programs\\python\\python37\\lib\\site-packages\\sklearn\\utils\\linear_assignment_.py:127: DeprecationWarning: The linear_assignment function is deprecated in 0.21 and will be removed from 0.23. Use scipy.optimize.linear_sum_assignment instead.\n",
      "  DeprecationWarning)\n",
      "c:\\users\\kengamd\\appdata\\local\\programs\\python\\python37\\lib\\site-packages\\sklearn\\utils\\linear_assignment_.py:127: DeprecationWarning: The linear_assignment function is deprecated in 0.21 and will be removed from 0.23. Use scipy.optimize.linear_sum_assignment instead.\n",
      "  DeprecationWarning)\n",
      "c:\\users\\kengamd\\appdata\\local\\programs\\python\\python37\\lib\\site-packages\\sklearn\\utils\\linear_assignment_.py:127: DeprecationWarning: The linear_assignment function is deprecated in 0.21 and will be removed from 0.23. Use scipy.optimize.linear_sum_assignment instead.\n",
      "  DeprecationWarning)\n",
      "c:\\users\\kengamd\\appdata\\local\\programs\\python\\python37\\lib\\site-packages\\sklearn\\utils\\linear_assignment_.py:127: DeprecationWarning: The linear_assignment function is deprecated in 0.21 and will be removed from 0.23. Use scipy.optimize.linear_sum_assignment instead.\n",
      "  DeprecationWarning)\n",
      "c:\\users\\kengamd\\appdata\\local\\programs\\python\\python37\\lib\\site-packages\\sklearn\\utils\\linear_assignment_.py:127: DeprecationWarning: The linear_assignment function is deprecated in 0.21 and will be removed from 0.23. Use scipy.optimize.linear_sum_assignment instead.\n",
      "  DeprecationWarning)\n",
      "c:\\users\\kengamd\\appdata\\local\\programs\\python\\python37\\lib\\site-packages\\sklearn\\utils\\linear_assignment_.py:127: DeprecationWarning: The linear_assignment function is deprecated in 0.21 and will be removed from 0.23. Use scipy.optimize.linear_sum_assignment instead.\n",
      "  DeprecationWarning)\n",
      "c:\\users\\kengamd\\appdata\\local\\programs\\python\\python37\\lib\\site-packages\\sklearn\\utils\\linear_assignment_.py:127: DeprecationWarning: The linear_assignment function is deprecated in 0.21 and will be removed from 0.23. Use scipy.optimize.linear_sum_assignment instead.\n",
      "  DeprecationWarning)\n",
      "c:\\users\\kengamd\\appdata\\local\\programs\\python\\python37\\lib\\site-packages\\sklearn\\utils\\linear_assignment_.py:127: DeprecationWarning: The linear_assignment function is deprecated in 0.21 and will be removed from 0.23. Use scipy.optimize.linear_sum_assignment instead.\n",
      "  DeprecationWarning)\n",
      "c:\\users\\kengamd\\appdata\\local\\programs\\python\\python37\\lib\\site-packages\\sklearn\\utils\\linear_assignment_.py:127: DeprecationWarning: The linear_assignment function is deprecated in 0.21 and will be removed from 0.23. Use scipy.optimize.linear_sum_assignment instead.\n",
      "  DeprecationWarning)\n",
      "c:\\users\\kengamd\\appdata\\local\\programs\\python\\python37\\lib\\site-packages\\sklearn\\utils\\linear_assignment_.py:127: DeprecationWarning: The linear_assignment function is deprecated in 0.21 and will be removed from 0.23. Use scipy.optimize.linear_sum_assignment instead.\n",
      "  DeprecationWarning)\n",
      "c:\\users\\kengamd\\appdata\\local\\programs\\python\\python37\\lib\\site-packages\\sklearn\\utils\\linear_assignment_.py:127: DeprecationWarning: The linear_assignment function is deprecated in 0.21 and will be removed from 0.23. Use scipy.optimize.linear_sum_assignment instead.\n",
      "  DeprecationWarning)\n",
      "c:\\users\\kengamd\\appdata\\local\\programs\\python\\python37\\lib\\site-packages\\sklearn\\utils\\linear_assignment_.py:127: DeprecationWarning: The linear_assignment function is deprecated in 0.21 and will be removed from 0.23. Use scipy.optimize.linear_sum_assignment instead.\n",
      "  DeprecationWarning)\n",
      "c:\\users\\kengamd\\appdata\\local\\programs\\python\\python37\\lib\\site-packages\\sklearn\\utils\\linear_assignment_.py:127: DeprecationWarning: The linear_assignment function is deprecated in 0.21 and will be removed from 0.23. Use scipy.optimize.linear_sum_assignment instead.\n",
      "  DeprecationWarning)\n",
      "c:\\users\\kengamd\\appdata\\local\\programs\\python\\python37\\lib\\site-packages\\sklearn\\utils\\linear_assignment_.py:127: DeprecationWarning: The linear_assignment function is deprecated in 0.21 and will be removed from 0.23. Use scipy.optimize.linear_sum_assignment instead.\n",
      "  DeprecationWarning)\n",
      "c:\\users\\kengamd\\appdata\\local\\programs\\python\\python37\\lib\\site-packages\\sklearn\\utils\\linear_assignment_.py:127: DeprecationWarning: The linear_assignment function is deprecated in 0.21 and will be removed from 0.23. Use scipy.optimize.linear_sum_assignment instead.\n",
      "  DeprecationWarning)\n",
      "c:\\users\\kengamd\\appdata\\local\\programs\\python\\python37\\lib\\site-packages\\sklearn\\utils\\linear_assignment_.py:127: DeprecationWarning: The linear_assignment function is deprecated in 0.21 and will be removed from 0.23. Use scipy.optimize.linear_sum_assignment instead.\n",
      "  DeprecationWarning)\n",
      "c:\\users\\kengamd\\appdata\\local\\programs\\python\\python37\\lib\\site-packages\\sklearn\\utils\\linear_assignment_.py:127: DeprecationWarning: The linear_assignment function is deprecated in 0.21 and will be removed from 0.23. Use scipy.optimize.linear_sum_assignment instead.\n",
      "  DeprecationWarning)\n",
      "c:\\users\\kengamd\\appdata\\local\\programs\\python\\python37\\lib\\site-packages\\sklearn\\utils\\linear_assignment_.py:127: DeprecationWarning: The linear_assignment function is deprecated in 0.21 and will be removed from 0.23. Use scipy.optimize.linear_sum_assignment instead.\n",
      "  DeprecationWarning)\n",
      "c:\\users\\kengamd\\appdata\\local\\programs\\python\\python37\\lib\\site-packages\\sklearn\\utils\\linear_assignment_.py:127: DeprecationWarning: The linear_assignment function is deprecated in 0.21 and will be removed from 0.23. Use scipy.optimize.linear_sum_assignment instead.\n",
      "  DeprecationWarning)\n",
      "c:\\users\\kengamd\\appdata\\local\\programs\\python\\python37\\lib\\site-packages\\sklearn\\utils\\linear_assignment_.py:127: DeprecationWarning: The linear_assignment function is deprecated in 0.21 and will be removed from 0.23. Use scipy.optimize.linear_sum_assignment instead.\n",
      "  DeprecationWarning)\n",
      "c:\\users\\kengamd\\appdata\\local\\programs\\python\\python37\\lib\\site-packages\\sklearn\\utils\\linear_assignment_.py:127: DeprecationWarning: The linear_assignment function is deprecated in 0.21 and will be removed from 0.23. Use scipy.optimize.linear_sum_assignment instead.\n",
      "  DeprecationWarning)\n",
      "c:\\users\\kengamd\\appdata\\local\\programs\\python\\python37\\lib\\site-packages\\sklearn\\utils\\linear_assignment_.py:127: DeprecationWarning: The linear_assignment function is deprecated in 0.21 and will be removed from 0.23. Use scipy.optimize.linear_sum_assignment instead.\n",
      "  DeprecationWarning)\n",
      "c:\\users\\kengamd\\appdata\\local\\programs\\python\\python37\\lib\\site-packages\\sklearn\\utils\\linear_assignment_.py:127: DeprecationWarning: The linear_assignment function is deprecated in 0.21 and will be removed from 0.23. Use scipy.optimize.linear_sum_assignment instead.\n",
      "  DeprecationWarning)\n",
      "c:\\users\\kengamd\\appdata\\local\\programs\\python\\python37\\lib\\site-packages\\sklearn\\utils\\linear_assignment_.py:127: DeprecationWarning: The linear_assignment function is deprecated in 0.21 and will be removed from 0.23. Use scipy.optimize.linear_sum_assignment instead.\n",
      "  DeprecationWarning)\n",
      "c:\\users\\kengamd\\appdata\\local\\programs\\python\\python37\\lib\\site-packages\\sklearn\\utils\\linear_assignment_.py:127: DeprecationWarning: The linear_assignment function is deprecated in 0.21 and will be removed from 0.23. Use scipy.optimize.linear_sum_assignment instead.\n",
      "  DeprecationWarning)\n",
      "c:\\users\\kengamd\\appdata\\local\\programs\\python\\python37\\lib\\site-packages\\sklearn\\utils\\linear_assignment_.py:127: DeprecationWarning: The linear_assignment function is deprecated in 0.21 and will be removed from 0.23. Use scipy.optimize.linear_sum_assignment instead.\n",
      "  DeprecationWarning)\n",
      "c:\\users\\kengamd\\appdata\\local\\programs\\python\\python37\\lib\\site-packages\\sklearn\\utils\\linear_assignment_.py:127: DeprecationWarning: The linear_assignment function is deprecated in 0.21 and will be removed from 0.23. Use scipy.optimize.linear_sum_assignment instead.\n",
      "  DeprecationWarning)\n",
      "c:\\users\\kengamd\\appdata\\local\\programs\\python\\python37\\lib\\site-packages\\sklearn\\utils\\linear_assignment_.py:127: DeprecationWarning: The linear_assignment function is deprecated in 0.21 and will be removed from 0.23. Use scipy.optimize.linear_sum_assignment instead.\n",
      "  DeprecationWarning)\n"
     ]
    },
    {
     "name": "stderr",
     "output_type": "stream",
     "text": [
      "c:\\users\\kengamd\\appdata\\local\\programs\\python\\python37\\lib\\site-packages\\sklearn\\utils\\linear_assignment_.py:127: DeprecationWarning: The linear_assignment function is deprecated in 0.21 and will be removed from 0.23. Use scipy.optimize.linear_sum_assignment instead.\n",
      "  DeprecationWarning)\n",
      "c:\\users\\kengamd\\appdata\\local\\programs\\python\\python37\\lib\\site-packages\\sklearn\\utils\\linear_assignment_.py:127: DeprecationWarning: The linear_assignment function is deprecated in 0.21 and will be removed from 0.23. Use scipy.optimize.linear_sum_assignment instead.\n",
      "  DeprecationWarning)\n",
      "c:\\users\\kengamd\\appdata\\local\\programs\\python\\python37\\lib\\site-packages\\sklearn\\utils\\linear_assignment_.py:127: DeprecationWarning: The linear_assignment function is deprecated in 0.21 and will be removed from 0.23. Use scipy.optimize.linear_sum_assignment instead.\n",
      "  DeprecationWarning)\n",
      "c:\\users\\kengamd\\appdata\\local\\programs\\python\\python37\\lib\\site-packages\\sklearn\\utils\\linear_assignment_.py:127: DeprecationWarning: The linear_assignment function is deprecated in 0.21 and will be removed from 0.23. Use scipy.optimize.linear_sum_assignment instead.\n",
      "  DeprecationWarning)\n",
      "c:\\users\\kengamd\\appdata\\local\\programs\\python\\python37\\lib\\site-packages\\sklearn\\utils\\linear_assignment_.py:127: DeprecationWarning: The linear_assignment function is deprecated in 0.21 and will be removed from 0.23. Use scipy.optimize.linear_sum_assignment instead.\n",
      "  DeprecationWarning)\n",
      "c:\\users\\kengamd\\appdata\\local\\programs\\python\\python37\\lib\\site-packages\\sklearn\\utils\\linear_assignment_.py:127: DeprecationWarning: The linear_assignment function is deprecated in 0.21 and will be removed from 0.23. Use scipy.optimize.linear_sum_assignment instead.\n",
      "  DeprecationWarning)\n",
      "c:\\users\\kengamd\\appdata\\local\\programs\\python\\python37\\lib\\site-packages\\sklearn\\utils\\linear_assignment_.py:127: DeprecationWarning: The linear_assignment function is deprecated in 0.21 and will be removed from 0.23. Use scipy.optimize.linear_sum_assignment instead.\n",
      "  DeprecationWarning)\n",
      "c:\\users\\kengamd\\appdata\\local\\programs\\python\\python37\\lib\\site-packages\\sklearn\\utils\\linear_assignment_.py:127: DeprecationWarning: The linear_assignment function is deprecated in 0.21 and will be removed from 0.23. Use scipy.optimize.linear_sum_assignment instead.\n",
      "  DeprecationWarning)\n",
      "c:\\users\\kengamd\\appdata\\local\\programs\\python\\python37\\lib\\site-packages\\sklearn\\utils\\linear_assignment_.py:127: DeprecationWarning: The linear_assignment function is deprecated in 0.21 and will be removed from 0.23. Use scipy.optimize.linear_sum_assignment instead.\n",
      "  DeprecationWarning)\n",
      "c:\\users\\kengamd\\appdata\\local\\programs\\python\\python37\\lib\\site-packages\\sklearn\\utils\\linear_assignment_.py:127: DeprecationWarning: The linear_assignment function is deprecated in 0.21 and will be removed from 0.23. Use scipy.optimize.linear_sum_assignment instead.\n",
      "  DeprecationWarning)\n",
      "c:\\users\\kengamd\\appdata\\local\\programs\\python\\python37\\lib\\site-packages\\sklearn\\utils\\linear_assignment_.py:127: DeprecationWarning: The linear_assignment function is deprecated in 0.21 and will be removed from 0.23. Use scipy.optimize.linear_sum_assignment instead.\n",
      "  DeprecationWarning)\n",
      "c:\\users\\kengamd\\appdata\\local\\programs\\python\\python37\\lib\\site-packages\\sklearn\\utils\\linear_assignment_.py:127: DeprecationWarning: The linear_assignment function is deprecated in 0.21 and will be removed from 0.23. Use scipy.optimize.linear_sum_assignment instead.\n",
      "  DeprecationWarning)\n",
      "c:\\users\\kengamd\\appdata\\local\\programs\\python\\python37\\lib\\site-packages\\sklearn\\utils\\linear_assignment_.py:127: DeprecationWarning: The linear_assignment function is deprecated in 0.21 and will be removed from 0.23. Use scipy.optimize.linear_sum_assignment instead.\n",
      "  DeprecationWarning)\n",
      "c:\\users\\kengamd\\appdata\\local\\programs\\python\\python37\\lib\\site-packages\\sklearn\\utils\\linear_assignment_.py:127: DeprecationWarning: The linear_assignment function is deprecated in 0.21 and will be removed from 0.23. Use scipy.optimize.linear_sum_assignment instead.\n",
      "  DeprecationWarning)\n",
      "c:\\users\\kengamd\\appdata\\local\\programs\\python\\python37\\lib\\site-packages\\sklearn\\utils\\linear_assignment_.py:127: DeprecationWarning: The linear_assignment function is deprecated in 0.21 and will be removed from 0.23. Use scipy.optimize.linear_sum_assignment instead.\n",
      "  DeprecationWarning)\n",
      "c:\\users\\kengamd\\appdata\\local\\programs\\python\\python37\\lib\\site-packages\\sklearn\\utils\\linear_assignment_.py:127: DeprecationWarning: The linear_assignment function is deprecated in 0.21 and will be removed from 0.23. Use scipy.optimize.linear_sum_assignment instead.\n",
      "  DeprecationWarning)\n",
      "c:\\users\\kengamd\\appdata\\local\\programs\\python\\python37\\lib\\site-packages\\sklearn\\utils\\linear_assignment_.py:127: DeprecationWarning: The linear_assignment function is deprecated in 0.21 and will be removed from 0.23. Use scipy.optimize.linear_sum_assignment instead.\n",
      "  DeprecationWarning)\n",
      "c:\\users\\kengamd\\appdata\\local\\programs\\python\\python37\\lib\\site-packages\\sklearn\\utils\\linear_assignment_.py:127: DeprecationWarning: The linear_assignment function is deprecated in 0.21 and will be removed from 0.23. Use scipy.optimize.linear_sum_assignment instead.\n",
      "  DeprecationWarning)\n",
      "c:\\users\\kengamd\\appdata\\local\\programs\\python\\python37\\lib\\site-packages\\sklearn\\utils\\linear_assignment_.py:127: DeprecationWarning: The linear_assignment function is deprecated in 0.21 and will be removed from 0.23. Use scipy.optimize.linear_sum_assignment instead.\n",
      "  DeprecationWarning)\n",
      "c:\\users\\kengamd\\appdata\\local\\programs\\python\\python37\\lib\\site-packages\\sklearn\\utils\\linear_assignment_.py:127: DeprecationWarning: The linear_assignment function is deprecated in 0.21 and will be removed from 0.23. Use scipy.optimize.linear_sum_assignment instead.\n",
      "  DeprecationWarning)\n",
      "c:\\users\\kengamd\\appdata\\local\\programs\\python\\python37\\lib\\site-packages\\sklearn\\utils\\linear_assignment_.py:127: DeprecationWarning: The linear_assignment function is deprecated in 0.21 and will be removed from 0.23. Use scipy.optimize.linear_sum_assignment instead.\n",
      "  DeprecationWarning)\n",
      "c:\\users\\kengamd\\appdata\\local\\programs\\python\\python37\\lib\\site-packages\\sklearn\\utils\\linear_assignment_.py:127: DeprecationWarning: The linear_assignment function is deprecated in 0.21 and will be removed from 0.23. Use scipy.optimize.linear_sum_assignment instead.\n",
      "  DeprecationWarning)\n",
      "c:\\users\\kengamd\\appdata\\local\\programs\\python\\python37\\lib\\site-packages\\sklearn\\utils\\linear_assignment_.py:127: DeprecationWarning: The linear_assignment function is deprecated in 0.21 and will be removed from 0.23. Use scipy.optimize.linear_sum_assignment instead.\n",
      "  DeprecationWarning)\n",
      "c:\\users\\kengamd\\appdata\\local\\programs\\python\\python37\\lib\\site-packages\\sklearn\\utils\\linear_assignment_.py:127: DeprecationWarning: The linear_assignment function is deprecated in 0.21 and will be removed from 0.23. Use scipy.optimize.linear_sum_assignment instead.\n",
      "  DeprecationWarning)\n",
      "c:\\users\\kengamd\\appdata\\local\\programs\\python\\python37\\lib\\site-packages\\sklearn\\utils\\linear_assignment_.py:127: DeprecationWarning: The linear_assignment function is deprecated in 0.21 and will be removed from 0.23. Use scipy.optimize.linear_sum_assignment instead.\n",
      "  DeprecationWarning)\n",
      "c:\\users\\kengamd\\appdata\\local\\programs\\python\\python37\\lib\\site-packages\\sklearn\\utils\\linear_assignment_.py:127: DeprecationWarning: The linear_assignment function is deprecated in 0.21 and will be removed from 0.23. Use scipy.optimize.linear_sum_assignment instead.\n",
      "  DeprecationWarning)\n",
      "c:\\users\\kengamd\\appdata\\local\\programs\\python\\python37\\lib\\site-packages\\sklearn\\utils\\linear_assignment_.py:127: DeprecationWarning: The linear_assignment function is deprecated in 0.21 and will be removed from 0.23. Use scipy.optimize.linear_sum_assignment instead.\n",
      "  DeprecationWarning)\n",
      "c:\\users\\kengamd\\appdata\\local\\programs\\python\\python37\\lib\\site-packages\\sklearn\\utils\\linear_assignment_.py:127: DeprecationWarning: The linear_assignment function is deprecated in 0.21 and will be removed from 0.23. Use scipy.optimize.linear_sum_assignment instead.\n",
      "  DeprecationWarning)\n",
      "c:\\users\\kengamd\\appdata\\local\\programs\\python\\python37\\lib\\site-packages\\sklearn\\utils\\linear_assignment_.py:127: DeprecationWarning: The linear_assignment function is deprecated in 0.21 and will be removed from 0.23. Use scipy.optimize.linear_sum_assignment instead.\n",
      "  DeprecationWarning)\n"
     ]
    },
    {
     "name": "stderr",
     "output_type": "stream",
     "text": [
      "c:\\users\\kengamd\\appdata\\local\\programs\\python\\python37\\lib\\site-packages\\sklearn\\utils\\linear_assignment_.py:127: DeprecationWarning: The linear_assignment function is deprecated in 0.21 and will be removed from 0.23. Use scipy.optimize.linear_sum_assignment instead.\n",
      "  DeprecationWarning)\n",
      "\n",
      " 98%|█████████████████████████████████████████████████████████████████████████████▌ | 280/285 [00:00<00:00, 916.48it/s]c:\\users\\kengamd\\appdata\\local\\programs\\python\\python37\\lib\\site-packages\\sklearn\\utils\\linear_assignment_.py:127: DeprecationWarning: The linear_assignment function is deprecated in 0.21 and will be removed from 0.23. Use scipy.optimize.linear_sum_assignment instead.\n",
      "  DeprecationWarning)\n",
      "c:\\users\\kengamd\\appdata\\local\\programs\\python\\python37\\lib\\site-packages\\sklearn\\utils\\linear_assignment_.py:127: DeprecationWarning: The linear_assignment function is deprecated in 0.21 and will be removed from 0.23. Use scipy.optimize.linear_sum_assignment instead.\n",
      "  DeprecationWarning)\n",
      "c:\\users\\kengamd\\appdata\\local\\programs\\python\\python37\\lib\\site-packages\\sklearn\\utils\\linear_assignment_.py:127: DeprecationWarning: The linear_assignment function is deprecated in 0.21 and will be removed from 0.23. Use scipy.optimize.linear_sum_assignment instead.\n",
      "  DeprecationWarning)\n",
      "c:\\users\\kengamd\\appdata\\local\\programs\\python\\python37\\lib\\site-packages\\sklearn\\utils\\linear_assignment_.py:127: DeprecationWarning: The linear_assignment function is deprecated in 0.21 and will be removed from 0.23. Use scipy.optimize.linear_sum_assignment instead.\n",
      "  DeprecationWarning)\n",
      "c:\\users\\kengamd\\appdata\\local\\programs\\python\\python37\\lib\\site-packages\\sklearn\\utils\\linear_assignment_.py:127: DeprecationWarning: The linear_assignment function is deprecated in 0.21 and will be removed from 0.23. Use scipy.optimize.linear_sum_assignment instead.\n",
      "  DeprecationWarning)\n",
      "100%|███████████████████████████████████████████████████████████████████████████████| 285/285 [00:00<00:00, 912.98it/s]\n"
     ]
    },
    {
     "name": "stdout",
     "output_type": "stream",
     "text": [
      "\n",
      "Processing: test_15-30Copy.csv\n",
      "Track: 3 , concatenation complete,  ['189 -> 196']\n",
      "=================\n"
     ]
    }
   ],
   "source": [
    "test_video = 'test_15-30Copy.avi'\n",
    "\n",
    "video_dir = \"../dataset/videos\"\n",
    "\n",
    "det_dir = \"../dataset/detections\"\n",
    "\n",
    "feat_dir = \"../dataset/features\"\n",
    "\n",
    "loss_mode = \"cosine\"\n",
    "\n",
    "model = \"resources/networks/mars-small128.ckpt-68577\"\n",
    "\n",
    "print ('loading model..')\n",
    "PATH_TO_CKPT = '../object_detection/faster_rcnn_resnet101_coco_11_06_2017/frozen_inference_graph.pb'\n",
    "detection_graph = tf.Graph()\n",
    "with detection_graph.as_default():\n",
    "    od_graph_def = tf.GraphDef()\n",
    "    with tf.gfile.GFile(PATH_TO_CKPT, 'rb') as fid:\n",
    "        serialized_graph = fid.read()\n",
    "        od_graph_def.ParseFromString(serialized_graph)\n",
    "        tf.import_graph_def(od_graph_def, name='')\n",
    "label_map = label_map_util.load_labelmap(os.path.join('..', 'object_detection','data', 'mscoco_label_map.pbtxt'))\n",
    "categories = label_map_util.convert_label_map_to_categories(label_map, max_num_classes=90, use_display_name=True)\n",
    "category_index = label_map_util.create_category_index(categories)\n",
    "\n",
    "# ==============================================================================\n",
    "\n",
    "with detection_graph.as_default():\n",
    "    with tf.Session(graph=detection_graph) as sess:\n",
    "        videos = os.listdir(video_dir)\n",
    "        videos.sort()\n",
    "        for video_name in videos:\n",
    "\n",
    "            if(video_name != test_video and test_video != '' ): \n",
    "                continue\n",
    "\n",
    "            print('Processing Video:', video_name + '..')\n",
    "            detection(sess, \n",
    "                        video_path=os.path.join(video_dir, video_name),\n",
    "                        det_path=os.path.join(det_dir, video_name)\n",
    "                    )\n",
    "            \n",
    "# ==============================================================================\n",
    "\n",
    "f = create_box_encoder(model, batch_size=32, loss_mode=loss_mode)\n",
    "generate_detections(f, video_dir, det_dir, feat_dir)\n",
    "\n",
    "# ==============================================================================\n",
    "\n",
    "tracks_dir= \"../dataset/tracks\"\n",
    "\n",
    "min_confidence = 0.7\n",
    "\n",
    "min_detection_height = 0\n",
    "\n",
    "nms_max_overlap = 1.0\n",
    "\n",
    "max_cosine_distance = 0.25\n",
    "\n",
    "nn_budget = None\n",
    "\n",
    "display = True\n",
    "\n",
    "# ==============================================================================\n",
    "\"\"\"Parse command line arguments.\"\"\"\n",
    "parser = argparse.ArgumentParser(description=\"Re-ID feature extractor\")\n",
    "\n",
    "tracks_dir= \"../dataset/tracks\"\n",
    "\n",
    "min_confidence = 0.7\n",
    "\n",
    "min_detection_height = 0\n",
    "\n",
    "nms_max_overlap = 1.0\n",
    "\n",
    "max_cosine_distance = 0.25\n",
    "\n",
    "nn_budget = None\n",
    "\n",
    "display = False\n",
    "\n",
    "videos = os.listdir(video_dir)\n",
    "videos.sort()\n",
    "for video_name in videos:\n",
    "    if(video_name != test_video and test_video != '' ): \n",
    "        continue\n",
    "    try:\n",
    "        run_deepsort(\n",
    "            video_name = video_name,\n",
    "            video_path = os.path.join(video_dir, video_name), \n",
    "            feat_path  = os.path.join(feat_dir, video_name[:-3]+'npy'), \n",
    "            track_path = os.path.join(tracks_dir, video_name[:-3]+'csv'),\n",
    "            min_confidence  = min_confidence, \n",
    "            nms_max_overlap = nms_max_overlap, \n",
    "            min_detection_height = min_detection_height,\n",
    "            max_cosine_distance  = max_cosine_distance, \n",
    "            nn_budget = nn_budget, \n",
    "            display   = display\n",
    "            )\n",
    "    except FileNotFoundError:\n",
    "        print(video_name + \" has not yet been generated.\")\n",
    "\n",
    "# ==============================================================================\n",
    "\n",
    "tracks = os.listdir(tracks_dir)\n",
    "tracks.sort()\n",
    "\n",
    "test_track = ''\n",
    "if(test_video != ''):\n",
    "    test_track = test_video[:-3]+'csv'\n",
    "\n",
    "for track in tracks:\n",
    "\n",
    "    if('join.csv' in track):\n",
    "        continue\n",
    "    if(track != test_track and test_track != '' ): \n",
    "        continue\n",
    "    print('\\nProcessing:', track)\n",
    "    run_concatenate(track_path = os.path.join(tracks_dir, track))"
   ]
  },
  {
   "cell_type": "code",
   "execution_count": 11,
   "metadata": {},
   "outputs": [
    {
     "name": "stdout",
     "output_type": "stream",
     "text": [
      "Video Path: ../dataset/videos\\test_15-30Copy.avi \tFeatures: ../dataset/features\\test_15-30Copy.npy\n",
      "30\n"
     ]
    },
    {
     "name": "stderr",
     "output_type": "stream",
     "text": [
      "\n",
      "  0%|                                                                                          | 0/285 [00:00<?, ?it/s]\n",
      "  1%|▌                                                                                 | 2/285 [00:00<00:17, 15.78it/s]\n",
      "  2%|█▍                                                                                | 5/285 [00:00<00:16, 17.06it/s]\n",
      "  2%|██                                                                                | 7/285 [00:00<00:15, 17.78it/s]\n",
      "  3%|██▌                                                                               | 9/285 [00:00<00:15, 18.15it/s]\n",
      "  4%|███▏                                                                             | 11/285 [00:00<00:14, 18.39it/s]\n",
      "  5%|███▋                                                                             | 13/285 [00:00<00:14, 18.59it/s]\n",
      "  5%|████▎                                                                            | 15/285 [00:00<00:14, 18.88it/s]\n",
      "  6%|████▊                                                                            | 17/285 [00:00<00:14, 18.92it/s]\n",
      "  7%|█████▍                                                                           | 19/285 [00:00<00:13, 19.08it/s]\n",
      "  7%|█████▉                                                                           | 21/285 [00:01<00:13, 18.91it/s]\n",
      "  8%|██████▌                                                                          | 23/285 [00:01<00:13, 19.00it/s]\n",
      "  9%|███████                                                                          | 25/285 [00:01<00:13, 19.00it/s]\n",
      "  9%|███████▋                                                                         | 27/285 [00:01<00:13, 18.93it/s]\n",
      " 10%|████████▏                                                                        | 29/285 [00:01<00:13, 19.03it/s]\n",
      " 11%|████████▊                                                                        | 31/285 [00:01<00:13, 19.09it/s]\n",
      " 12%|█████████▍                                                                       | 33/285 [00:01<00:13, 19.07it/s]\n",
      " 12%|█████████▉                                                                       | 35/285 [00:01<00:13, 19.09it/s]\n",
      " 13%|██████████▌                                                                      | 37/285 [00:01<00:12, 19.14it/s]\n",
      " 14%|███████████                                                                      | 39/285 [00:02<00:12, 19.19it/s]\n",
      " 14%|███████████▋                                                                     | 41/285 [00:02<00:12, 19.06it/s]\n",
      " 15%|████████████▏                                                                    | 43/285 [00:02<00:12, 19.23it/s]\n",
      " 16%|████████████▊                                                                    | 45/285 [00:02<00:12, 19.15it/s]\n",
      " 16%|█████████████▎                                                                   | 47/285 [00:02<00:12, 19.08it/s]\n",
      " 17%|█████████████▉                                                                   | 49/285 [00:02<00:12, 19.07it/s]\n",
      " 18%|██████████████▍                                                                  | 51/285 [00:02<00:12, 19.09it/s]\n",
      " 19%|███████████████                                                                  | 53/285 [00:02<00:12, 19.14it/s]\n",
      " 19%|███████████████▋                                                                 | 55/285 [00:02<00:12, 19.13it/s]\n",
      " 20%|████████████████▏                                                                | 57/285 [00:02<00:12, 18.90it/s]\n",
      " 21%|████████████████▊                                                                | 59/285 [00:03<00:11, 19.20it/s]\n",
      " 21%|█████████████████▎                                                               | 61/285 [00:03<00:11, 19.06it/s]\n",
      " 22%|█████████████████▉                                                               | 63/285 [00:03<00:11, 19.15it/s]\n",
      " 23%|██████████████████▍                                                              | 65/285 [00:03<00:11, 19.16it/s]\n",
      " 24%|███████████████████                                                              | 67/285 [00:03<00:11, 19.17it/s]\n",
      " 24%|███████████████████▌                                                             | 69/285 [00:03<00:11, 19.14it/s]\n",
      " 25%|████████████████████▏                                                            | 71/285 [00:03<00:11, 19.12it/s]\n",
      " 26%|████████████████████▋                                                            | 73/285 [00:03<00:11, 19.24it/s]\n",
      " 26%|█████████████████████▎                                                           | 75/285 [00:03<00:11, 19.03it/s]\n",
      " 27%|█████████████████████▉                                                           | 77/285 [00:04<00:10, 19.31it/s]\n",
      " 28%|██████████████████████▍                                                          | 79/285 [00:04<00:10, 19.16it/s]\n",
      " 28%|███████████████████████                                                          | 81/285 [00:04<00:10, 19.14it/s]\n",
      " 29%|███████████████████████▌                                                         | 83/285 [00:04<00:10, 19.23it/s]\n",
      " 30%|████████████████████████▏                                                        | 85/285 [00:04<00:10, 19.24it/s]\n",
      " 31%|████████████████████████▋                                                        | 87/285 [00:04<00:10, 19.11it/s]\n",
      " 31%|█████████████████████████▎                                                       | 89/285 [00:04<00:10, 19.15it/s]\n",
      " 32%|█████████████████████████▊                                                       | 91/285 [00:04<00:10, 19.09it/s]\n",
      " 33%|██████████████████████████▍                                                      | 93/285 [00:04<00:10, 19.06it/s]\n",
      " 33%|███████████████████████████                                                      | 95/285 [00:04<00:09, 19.05it/s]\n",
      " 34%|███████████████████████████▌                                                     | 97/285 [00:05<00:09, 18.88it/s]\n",
      " 35%|████████████████████████████▏                                                    | 99/285 [00:05<00:09, 19.08it/s]\n",
      " 35%|████████████████████████████▎                                                   | 101/285 [00:05<00:09, 19.14it/s]\n",
      " 36%|████████████████████████████▉                                                   | 103/285 [00:05<00:09, 19.05it/s]\n",
      " 37%|█████████████████████████████▍                                                  | 105/285 [00:05<00:09, 19.15it/s]\n",
      " 38%|██████████████████████████████                                                  | 107/285 [00:05<00:09, 19.02it/s]\n",
      " 38%|██████████████████████████████▌                                                 | 109/285 [00:05<00:09, 18.99it/s]\n",
      " 39%|███████████████████████████████▏                                                | 111/285 [00:05<00:09, 19.02it/s]\n",
      " 40%|███████████████████████████████▋                                                | 113/285 [00:05<00:09, 18.98it/s]\n",
      " 40%|████████████████████████████████▎                                               | 115/285 [00:06<00:08, 18.91it/s]\n",
      " 41%|████████████████████████████████▊                                               | 117/285 [00:06<00:08, 19.11it/s]\n",
      " 42%|█████████████████████████████████▍                                              | 119/285 [00:06<00:08, 19.03it/s]\n",
      " 42%|█████████████████████████████████▉                                              | 121/285 [00:06<00:08, 19.06it/s]\n",
      " 43%|██████████████████████████████████▌                                             | 123/285 [00:06<00:08, 19.06it/s]\n",
      " 44%|███████████████████████████████████                                             | 125/285 [00:06<00:08, 18.98it/s]\n",
      " 45%|███████████████████████████████████▋                                            | 127/285 [00:06<00:08, 18.97it/s]\n",
      " 45%|████████████████████████████████████▏                                           | 129/285 [00:06<00:08, 18.87it/s]\n",
      " 46%|████████████████████████████████████▊                                           | 131/285 [00:06<00:08, 19.09it/s]\n",
      " 47%|█████████████████████████████████████▎                                          | 133/285 [00:06<00:07, 19.02it/s]\n",
      " 47%|█████████████████████████████████████▉                                          | 135/285 [00:07<00:07, 19.14it/s]\n"
     ]
    },
    {
     "name": "stderr",
     "output_type": "stream",
     "text": [
      " 48%|██████████████████████████████████████▍                                         | 137/285 [00:07<00:07, 19.06it/s]\n",
      " 49%|███████████████████████████████████████                                         | 139/285 [00:07<00:07, 19.05it/s]\n",
      " 49%|███████████████████████████████████████▌                                        | 141/285 [00:07<00:07, 18.99it/s]\n",
      " 50%|████████████████████████████████████████▏                                       | 143/285 [00:07<00:07, 19.00it/s]\n",
      " 51%|████████████████████████████████████████▋                                       | 145/285 [00:07<00:07, 19.17it/s]\n",
      " 52%|█████████████████████████████████████████▎                                      | 147/285 [00:07<00:07, 19.15it/s]\n",
      " 52%|█████████████████████████████████████████▊                                      | 149/285 [00:07<00:07, 19.18it/s]\n",
      " 53%|██████████████████████████████████████████▍                                     | 151/285 [00:07<00:06, 19.15it/s]\n",
      " 54%|██████████████████████████████████████████▉                                     | 153/285 [00:08<00:06, 19.07it/s]\n",
      " 54%|███████████████████████████████████████████▌                                    | 155/285 [00:08<00:06, 19.24it/s]\n",
      " 55%|████████████████████████████████████████████                                    | 157/285 [00:08<00:06, 19.23it/s]\n",
      " 56%|████████████████████████████████████████████▋                                   | 159/285 [00:08<00:06, 19.19it/s]\n",
      " 56%|█████████████████████████████████████████████▏                                  | 161/285 [00:08<00:06, 19.09it/s]\n",
      " 57%|█████████████████████████████████████████████▊                                  | 163/285 [00:08<00:06, 19.11it/s]\n",
      " 58%|██████████████████████████████████████████████▎                                 | 165/285 [00:08<00:06, 19.08it/s]\n",
      " 59%|██████████████████████████████████████████████▉                                 | 167/285 [00:08<00:06, 19.12it/s]\n",
      " 59%|███████████████████████████████████████████████▍                                | 169/285 [00:08<00:06, 19.05it/s]\n",
      " 60%|████████████████████████████████████████████████                                | 171/285 [00:08<00:05, 19.05it/s]\n",
      " 61%|████████████████████████████████████████████████▌                               | 173/285 [00:09<00:05, 19.13it/s]\n",
      " 61%|█████████████████████████████████████████████████                               | 175/285 [00:09<00:05, 19.18it/s]\n",
      " 62%|█████████████████████████████████████████████████▋                              | 177/285 [00:09<00:05, 19.12it/s]\n",
      " 63%|██████████████████████████████████████████████████▏                             | 179/285 [00:09<00:05, 19.20it/s]\n",
      " 64%|██████████████████████████████████████████████████▊                             | 181/285 [00:09<00:05, 18.92it/s]\n",
      " 64%|███████████████████████████████████████████████████▎                            | 183/285 [00:09<00:05, 19.06it/s]\n",
      " 65%|███████████████████████████████████████████████████▉                            | 185/285 [00:09<00:05, 19.15it/s]\n",
      " 66%|████████████████████████████████████████████████████▍                           | 187/285 [00:09<00:05, 19.15it/s]\n",
      " 66%|█████████████████████████████████████████████████████                           | 189/285 [00:09<00:04, 19.25it/s]\n",
      " 67%|█████████████████████████████████████████████████████▌                          | 191/285 [00:10<00:04, 19.20it/s]\n",
      " 68%|██████████████████████████████████████████████████████▏                         | 193/285 [00:10<00:04, 19.08it/s]\n",
      " 68%|██████████████████████████████████████████████████████▋                         | 195/285 [00:10<00:04, 19.09it/s]\n",
      " 69%|███████████████████████████████████████████████████████▎                        | 197/285 [00:10<00:04, 19.14it/s]\n",
      " 70%|███████████████████████████████████████████████████████▊                        | 199/285 [00:10<00:04, 19.01it/s]\n",
      " 71%|████████████████████████████████████████████████████████▍                       | 201/285 [00:10<00:04, 19.05it/s]\n",
      " 71%|████████████████████████████████████████████████████████▉                       | 203/285 [00:10<00:04, 19.05it/s]\n",
      " 72%|█████████████████████████████████████████████████████████▌                      | 205/285 [00:10<00:04, 18.98it/s]\n",
      " 73%|██████████████████████████████████████████████████████████                      | 207/285 [00:10<00:04, 19.14it/s]\n",
      " 73%|██████████████████████████████████████████████████████████▋                     | 209/285 [00:10<00:03, 19.07it/s]\n",
      " 74%|███████████████████████████████████████████████████████████▏                    | 211/285 [00:11<00:03, 19.10it/s]\n",
      " 75%|███████████████████████████████████████████████████████████▊                    | 213/285 [00:11<00:03, 19.18it/s]\n",
      " 75%|████████████████████████████████████████████████████████████▎                   | 215/285 [00:11<00:03, 19.11it/s]\n",
      " 76%|████████████████████████████████████████████████████████████▉                   | 217/285 [00:11<00:03, 19.15it/s]\n",
      " 77%|█████████████████████████████████████████████████████████████▍                  | 219/285 [00:11<00:03, 19.20it/s]\n",
      " 78%|██████████████████████████████████████████████████████████████                  | 221/285 [00:11<00:03, 19.19it/s]\n",
      " 78%|██████████████████████████████████████████████████████████████▌                 | 223/285 [00:11<00:03, 19.03it/s]\n",
      " 79%|███████████████████████████████████████████████████████████████▏                | 225/285 [00:11<00:03, 19.06it/s]\n",
      " 80%|███████████████████████████████████████████████████████████████▋                | 227/285 [00:11<00:03, 19.13it/s]\n",
      " 80%|████████████████████████████████████████████████████████████████▎               | 229/285 [00:11<00:02, 19.14it/s]\n",
      " 81%|████████████████████████████████████████████████████████████████▊               | 231/285 [00:12<00:02, 18.97it/s]\n",
      " 82%|█████████████████████████████████████████████████████████████████▍              | 233/285 [00:12<00:02, 19.06it/s]\n",
      " 82%|█████████████████████████████████████████████████████████████████▉              | 235/285 [00:12<00:02, 19.10it/s]\n",
      " 83%|██████████████████████████████████████████████████████████████████▌             | 237/285 [00:12<00:02, 19.15it/s]\n",
      " 84%|███████████████████████████████████████████████████████████████████             | 239/285 [00:12<00:02, 19.27it/s]\n",
      " 85%|███████████████████████████████████████████████████████████████████▋            | 241/285 [00:12<00:02, 19.07it/s]\n",
      " 85%|████████████████████████████████████████████████████████████████████▏           | 243/285 [00:12<00:02, 19.05it/s]\n",
      " 86%|████████████████████████████████████████████████████████████████████▊           | 245/285 [00:12<00:02, 18.83it/s]\n",
      " 87%|█████████████████████████████████████████████████████████████████████▎          | 247/285 [00:12<00:02, 18.91it/s]\n",
      " 88%|██████████████████████████████████████████████████████████████████████▏         | 250/285 [00:13<00:01, 19.17it/s]\n",
      " 88%|██████████████████████████████████████████████████████████████████████▋         | 252/285 [00:13<00:01, 19.19it/s]\n",
      " 89%|███████████████████████████████████████████████████████████████████████▎        | 254/285 [00:13<00:01, 19.18it/s]\n",
      " 90%|███████████████████████████████████████████████████████████████████████▊        | 256/285 [00:13<00:01, 19.16it/s]\n",
      " 91%|████████████████████████████████████████████████████████████████████████▍       | 258/285 [00:13<00:01, 19.13it/s]\n",
      " 91%|████████████████████████████████████████████████████████████████████████▉       | 260/285 [00:13<00:01, 19.15it/s]\n",
      " 92%|█████████████████████████████████████████████████████████████████████████▌      | 262/285 [00:13<00:01, 19.13it/s]\n",
      " 93%|██████████████████████████████████████████████████████████████████████████      | 264/285 [00:13<00:01, 19.03it/s]\n",
      " 93%|██████████████████████████████████████████████████████████████████████████▋     | 266/285 [00:13<00:00, 19.20it/s]\n",
      " 94%|███████████████████████████████████████████████████████████████████████████▏    | 268/285 [00:14<00:00, 19.04it/s]\n",
      " 95%|███████████████████████████████████████████████████████████████████████████▊    | 270/285 [00:14<00:00, 19.02it/s]\n",
      " 95%|████████████████████████████████████████████████████████████████████████████▎   | 272/285 [00:14<00:00, 19.08it/s]\n"
     ]
    },
    {
     "name": "stderr",
     "output_type": "stream",
     "text": [
      " 96%|████████████████████████████████████████████████████████████████████████████▉   | 274/285 [00:14<00:00, 18.99it/s]\n",
      " 97%|█████████████████████████████████████████████████████████████████████████████▍  | 276/285 [00:14<00:00, 18.90it/s]\n",
      " 98%|██████████████████████████████████████████████████████████████████████████████  | 278/285 [00:14<00:00, 19.13it/s]\n",
      " 98%|██████████████████████████████████████████████████████████████████████████████▌ | 280/285 [00:14<00:00, 19.17it/s]\n",
      " 99%|███████████████████████████████████████████████████████████████████████████████▏| 282/285 [00:14<00:00, 18.91it/s]\n",
      "100%|████████████████████████████████████████████████████████████████████████████████| 285/285 [00:14<00:00, 19.04it/s]\n"
     ]
    }
   ],
   "source": [
    "save_output = True\n",
    "\n",
    "out_dir = '../dataset/outputs'\n",
    "\n",
    "cap_dir = '../dataset/captures'\n",
    "\n",
    "concat = False\n",
    "\n",
    "smoothing = True\n",
    "\n",
    "save_fig = False\n",
    "\n",
    "is_plot = False\n",
    "\n",
    "videos = os.listdir(video_dir)\n",
    "videos.sort()\n",
    "for video_name in videos:\n",
    "    if(video_name != test_video and test_video != '' ): \n",
    "        continue\n",
    "    try:                \n",
    "        run_showresult(video_path = os.path.join(video_dir, video_name), \n",
    "            track_path = os.path.join(tracks_dir, video_name[:-3]+'csv'),\n",
    "            feat_path  = os.path.join(feat_dir, video_name[:-3]+'npy'), \n",
    "            save_output = save_output, # save tracking video \n",
    "            out_dir = out_dir,\n",
    "            cap_dir = os.path.join(cap_dir, video_name[:-4]),\n",
    "            concat = concat,\n",
    "            smoothing = smoothing,\n",
    "            save_fig = save_fig, # save captured human\n",
    "            is_plot = is_plot) # subplot of captured human\n",
    "\n",
    "    except FileNotFoundError:\n",
    "        print(video_name + \" has not yet been generated.\")"
   ]
  },
  {
   "cell_type": "code",
   "execution_count": null,
   "metadata": {},
   "outputs": [],
   "source": []
  }
 ],
 "metadata": {
  "kernelspec": {
   "display_name": "Python 3",
   "language": "python",
   "name": "python3"
  },
  "language_info": {
   "codemirror_mode": {
    "name": "ipython",
    "version": 3
   },
   "file_extension": ".py",
   "mimetype": "text/x-python",
   "name": "python",
   "nbconvert_exporter": "python",
   "pygments_lexer": "ipython3",
   "version": "3.7.4"
  }
 },
 "nbformat": 4,
 "nbformat_minor": 2
}
