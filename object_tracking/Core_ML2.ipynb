{
 "cells": [
  {
   "cell_type": "code",
   "execution_count": 1,
   "metadata": {},
   "outputs": [],
   "source": [
    "import warnings\n",
    "warnings.filterwarnings(\"ignore\")"
   ]
  },
  {
   "cell_type": "code",
   "execution_count": 2,
   "metadata": {},
   "outputs": [
    {
     "name": "stderr",
     "output_type": "stream",
     "text": [
      "c:\\users\\kengamd\\appdata\\local\\programs\\python\\python37\\lib\\site-packages\\sklearn\\utils\\linear_assignment_.py:21: DeprecationWarning: The linear_assignment_ module is deprecated in 0.21 and will be removed from 0.23. Use scipy.optimize.linear_sum_assignment instead.\n",
      "  DeprecationWarning)\n"
     ]
    }
   ],
   "source": [
    "from __future__ import division, print_function, absolute_import\n",
    "\n",
    "import numpy as np\n",
    "import os\n",
    "import sys\n",
    "import cv2\n",
    "import csv\n",
    "import tensorflow as tf\n",
    "import tensorflow.contrib.slim as slim\n",
    "\n",
    "import pandas as pd\n",
    "import time\n",
    "from tqdm import tqdm\n",
    "\n",
    "from collections import defaultdict\n",
    "from io import StringIO\n",
    "\n",
    "import argparse\n",
    "from application_util import preprocessing\n",
    "from application_util import visualization\n",
    "from deep_sort import nn_matching\n",
    "from deep_sort.detection import Detection\n",
    "from deep_sort.tracker import Tracker\n",
    "from time import sleep\n",
    "\n",
    "sys.path.insert(0, os.path.abspath(\"..\"))\n",
    "from object_detection.utils import label_map_util\n",
    "from object_detection.utils import visualization_utils as vis_util"
   ]
  },
  {
   "cell_type": "code",
   "execution_count": 3,
   "metadata": {},
   "outputs": [],
   "source": [
    "from math import factorial\n",
    "from deep_sort.iou_matching import iou\n",
    "from application_util import visualization\n",
    "from matplotlib import pyplot as plt\n",
    "from tqdm import tqdm\n",
    "from PIL import Image\n",
    "\n",
    "from sklearn.preprocessing import MinMaxScaler\n",
    "from sklearn.preprocessing import normalize\n",
    "from sklearn.linear_model import Ridge\n",
    "from sklearn.preprocessing import PolynomialFeatures\n",
    "from sklearn.pipeline import make_pipeline\n",
    "from sklearn.linear_model import LinearRegression"
   ]
  },
  {
   "cell_type": "code",
   "execution_count": 4,
   "metadata": {},
   "outputs": [],
   "source": [
    "from mtcnn.mtcnn import MTCNN"
   ]
  },
  {
   "cell_type": "code",
   "execution_count": 13,
   "metadata": {},
   "outputs": [],
   "source": [
    "# ================================================================================\n",
    "\n",
    "def detection(sess, video_path, det_path):\n",
    "    points_objs = []\n",
    "    start = time.time()\n",
    "    \n",
    "    skip = 0\n",
    "    id_frame = 1\n",
    "    id_center = 0\n",
    "    \n",
    "    cap = cv2.VideoCapture(video_path)\n",
    "    length = int(cap.get(cv2.CAP_PROP_FRAME_COUNT))\n",
    "    pbar = tqdm(total=length)\n",
    "    while(True):\n",
    "        ret, frame = cap.read()\n",
    "        if cv2.waitKey(1) & 0xFF == ord('q'): break\n",
    "        \n",
    "        image_np = np.array(frame)\n",
    "        if(image_np.shape == ()): break\n",
    "\n",
    "        print('Frame ID:', id_frame, '\\tTime:', '{0:.2f}'.format(time.time()-start), 'seconds')\n",
    "\n",
    "        image_np_expanded = np.expand_dims(image_np, axis=0)\n",
    "\n",
    "\n",
    "        image_tensor = detection_graph.get_tensor_by_name('image_tensor:0')\n",
    "        boxes = detection_graph.get_tensor_by_name('detection_boxes:0')\n",
    "        scores = detection_graph.get_tensor_by_name('detection_scores:0')\n",
    "        classes = detection_graph.get_tensor_by_name('detection_classes:0')\n",
    "        num_detections = detection_graph.get_tensor_by_name('num_detections:0')\n",
    "\n",
    "        (boxes, scores, classes, num_detections) = sess.run([boxes, scores, classes, num_detections],\n",
    "            feed_dict={image_tensor: image_np_expanded})\n",
    "\n",
    "        boxes = np.squeeze(boxes)\n",
    "        classes = np.squeeze(classes).astype(np.int32)\n",
    "        scores = np.squeeze(scores)\n",
    "\n",
    "        count_boxes = 0\n",
    "        thresh = 0.2\n",
    "        max_boxes = 50\n",
    "        \n",
    "        detector = MTCNN()\n",
    "        \n",
    "        for i, c in enumerate(classes):\n",
    "            if (c == 1 and (scores[i] > thresh) and (count_boxes < max_boxes)):\n",
    "                im_height = image_np.shape[0]\n",
    "                im_width = image_np.shape[1]\n",
    "                ymin, xmin, ymax, xmax = boxes[i]\n",
    "                \n",
    "                (left, right, top, bottom) = (int(xmin*im_width),  int(xmax*im_width),\n",
    "                                              int(ymin*im_height), int(ymax*im_height))\n",
    "                \n",
    "                # detect faces in the image\n",
    "                people = image_np[top:bottom,left:right]\n",
    "                face = detector.detect_faces(people)\n",
    "                \n",
    "                xF, yF, widthF, heightF = 0,0,0,0\n",
    "                    \n",
    "                if len(face) != 0 :\n",
    "                    if face[0]['confidence'] >= 0.9:\n",
    "                        xF, yF, widthF, heightF = face[0]['box']\n",
    "                \n",
    "                \n",
    "                points_objs.append([\n",
    "                    id_frame, -1,\n",
    "                    left, top, right-left, bottom-top,\n",
    "                    scores[i],\n",
    "                    -1,-1,-1,-1,-1, xF, yF, widthF, heightF,-1\n",
    "                ])\n",
    "                count_boxes += 1\n",
    "\n",
    "        id_frame += 1\n",
    "        pbar.update(1)\n",
    "    pbar.close()\n",
    "\n",
    "    cap.release()\n",
    "    cv2.destroyAllWindows()\n",
    "\n",
    "    # write detection\n",
    "\n",
    "    with open(det_path[:-3]+'csv', 'w') as file:\n",
    "        writer = csv.writer(file, lineterminator='\\n')\n",
    "        writer.writerows(points_objs)\n",
    "\n",
    "# ==============================================================================\n",
    "\n",
    "\"\"\"Parse command line arguments.\"\"\"\n",
    "def parse_args():\n",
    "    parser = argparse.ArgumentParser(description=\"Re-ID feature extractor\")\n",
    "    parser.add_argument(\n",
    "        \"--test_video\", \n",
    "        help=\"To run specific one\", \n",
    "        default=''\n",
    "    )\n",
    "    parser.add_argument(\n",
    "        \"--video_dir\", \n",
    "        help=\"Video directory.\", \n",
    "        default=\"../dataset/videos\"\n",
    "    )\n",
    "    parser.add_argument(\n",
    "        \"--det_dir\", \n",
    "        help=\"Detection directory. Will be created if it does not exist.\", \n",
    "        default=\"../dataset/detections\"\n",
    "    )\n",
    "    return parser.parse_args()"
   ]
  },
  {
   "cell_type": "code",
   "execution_count": 6,
   "metadata": {},
   "outputs": [],
   "source": [
    "# test_video = 'test2.avi'\n",
    "\n",
    "# video_dir = \"../dataset/videos\"\n",
    "\n",
    "# det_dir = \"../dataset/detections\"\n",
    "\n",
    "# feat_dir = \"../dataset/features\"\n",
    "\n",
    "# loss_mode = \"cosine\"\n",
    "\n",
    "# model = \"resources/networks/mars-small128.ckpt-68577\"\n",
    "\n",
    "# print ('loading model..')\n",
    "# PATH_TO_CKPT = '../object_detection/faster_rcnn_resnet101_coco_11_06_2017/frozen_inference_graph.pb'\n",
    "# detection_graph = tf.Graph()\n",
    "# with detection_graph.as_default():\n",
    "#     od_graph_def = tf.GraphDef()\n",
    "#     with tf.gfile.GFile(PATH_TO_CKPT, 'rb') as fid:\n",
    "#         serialized_graph = fid.read()\n",
    "#         od_graph_def.ParseFromString(serialized_graph)\n",
    "#         tf.import_graph_def(od_graph_def, name='')\n",
    "# label_map = label_map_util.load_labelmap(os.path.join('..', 'object_detection','data', 'mscoco_label_map.pbtxt'))\n",
    "# categories = label_map_util.convert_label_map_to_categories(label_map, max_num_classes=90, use_display_name=True)\n",
    "# category_index = label_map_util.create_category_index(categories)\n",
    "\n",
    "# with detection_graph.as_default():\n",
    "#     with tf.Session(graph=detection_graph) as sess:\n",
    "#         videos = os.listdir(video_dir)\n",
    "#         videos.sort()\n",
    "#         for video_name in videos:\n",
    "\n",
    "#             if(video_name != test_video and test_video != '' ): \n",
    "#                 continue\n",
    "\n",
    "#             print('Processing Video:', video_name + '..')\n",
    "#             detection(sess, \n",
    "#                         video_path=os.path.join(video_dir, video_name),\n",
    "#                         det_path=os.path.join(det_dir, video_name)\n",
    "#                     )"
   ]
  },
  {
   "cell_type": "code",
   "execution_count": null,
   "metadata": {},
   "outputs": [],
   "source": []
  },
  {
   "cell_type": "code",
   "execution_count": null,
   "metadata": {},
   "outputs": [],
   "source": []
  },
  {
   "cell_type": "code",
   "execution_count": 14,
   "metadata": {},
   "outputs": [],
   "source": [
    "def _batch_norm_fn(x, scope=None):\n",
    "    if scope is None:\n",
    "        scope = tf.get_variable_scope().name + \"/bn\"\n",
    "    return slim.batch_norm(x, scope=scope)\n",
    "\n",
    "\n",
    "def create_link(\n",
    "        incoming, network_builder, scope, nonlinearity=tf.nn.elu,\n",
    "        weights_initializer=tf.truncated_normal_initializer(stddev=1e-3),\n",
    "        regularizer=None, is_first=False, summarize_activations=True):\n",
    "    if is_first:\n",
    "        network = incoming\n",
    "    else:\n",
    "        network = _batch_norm_fn(incoming, scope=scope + \"/bn\")\n",
    "        network = nonlinearity(network)\n",
    "        if summarize_activations:\n",
    "            tf.summary.histogram(scope+\"/activations\", network)\n",
    "\n",
    "    pre_block_network = network\n",
    "    post_block_network = network_builder(pre_block_network, scope)\n",
    "\n",
    "    incoming_dim = pre_block_network.get_shape().as_list()[-1]\n",
    "    outgoing_dim = post_block_network.get_shape().as_list()[-1]\n",
    "    if incoming_dim != outgoing_dim:\n",
    "        assert outgoing_dim == 2 * incoming_dim, \\\n",
    "            \"%d != %d\" % (outgoing_dim, 2 * incoming)\n",
    "        projection = slim.conv2d(\n",
    "            incoming, outgoing_dim, 1, 2, padding=\"SAME\", activation_fn=None,\n",
    "            scope=scope+\"/projection\", weights_initializer=weights_initializer,\n",
    "            biases_initializer=None, weights_regularizer=regularizer)\n",
    "        network = projection + post_block_network\n",
    "    else:\n",
    "        network = incoming + post_block_network\n",
    "    return network\n",
    "\n",
    "\n",
    "def create_inner_block(\n",
    "        incoming, scope, nonlinearity=tf.nn.elu,\n",
    "        weights_initializer=tf.truncated_normal_initializer(1e-3),\n",
    "        bias_initializer=tf.zeros_initializer(), regularizer=None,\n",
    "        increase_dim=False, summarize_activations=True):\n",
    "    n = incoming.get_shape().as_list()[-1]\n",
    "    stride = 1\n",
    "    if increase_dim:\n",
    "        n *= 2\n",
    "        stride = 2\n",
    "\n",
    "    incoming = slim.conv2d(\n",
    "        incoming, n, [3, 3], stride, activation_fn=nonlinearity, padding=\"SAME\",\n",
    "        normalizer_fn=_batch_norm_fn, weights_initializer=weights_initializer,\n",
    "        biases_initializer=bias_initializer, weights_regularizer=regularizer,\n",
    "        scope=scope + \"/1\")\n",
    "    if summarize_activations:\n",
    "        tf.summary.histogram(incoming.name + \"/activations\", incoming)\n",
    "\n",
    "    incoming = slim.dropout(incoming, keep_prob=0.6)\n",
    "\n",
    "    incoming = slim.conv2d(\n",
    "        incoming, n, [3, 3], 1, activation_fn=None, padding=\"SAME\",\n",
    "        normalizer_fn=None, weights_initializer=weights_initializer,\n",
    "        biases_initializer=bias_initializer, weights_regularizer=regularizer,\n",
    "        scope=scope + \"/2\")\n",
    "    return incoming\n",
    "\n",
    "\n",
    "def residual_block(incoming, scope, nonlinearity=tf.nn.elu,\n",
    "                   weights_initializer=tf.truncated_normal_initializer(1e3),\n",
    "                   bias_initializer=tf.zeros_initializer(), regularizer=None,\n",
    "                   increase_dim=False, is_first=False,\n",
    "                   summarize_activations=True):\n",
    "\n",
    "    def network_builder(x, s):\n",
    "        return create_inner_block(\n",
    "            x, s, nonlinearity, weights_initializer, bias_initializer,\n",
    "            regularizer, increase_dim, summarize_activations)\n",
    "\n",
    "    return create_link(\n",
    "        incoming, network_builder, scope, nonlinearity, weights_initializer,\n",
    "        regularizer, is_first, summarize_activations)\n",
    "\n",
    "\n",
    "def _create_network(incoming, num_classes, reuse=None, l2_normalize=True,\n",
    "                   create_summaries=True, weight_decay=1e-8):\n",
    "    nonlinearity = tf.nn.elu\n",
    "    conv_weight_init = tf.truncated_normal_initializer(stddev=1e-3)\n",
    "    conv_bias_init = tf.zeros_initializer()\n",
    "    conv_regularizer = slim.l2_regularizer(weight_decay)\n",
    "    fc_weight_init = tf.truncated_normal_initializer(stddev=1e-3)\n",
    "    fc_bias_init = tf.zeros_initializer()\n",
    "    fc_regularizer = slim.l2_regularizer(weight_decay)\n",
    "\n",
    "    def batch_norm_fn(x):\n",
    "        return slim.batch_norm(x, scope=tf.get_variable_scope().name + \"/bn\")\n",
    "\n",
    "    network = incoming\n",
    "    network = slim.conv2d(\n",
    "        network, 32, [3, 3], stride=1, activation_fn=nonlinearity,\n",
    "        padding=\"SAME\", normalizer_fn=batch_norm_fn, scope=\"conv1_1\",\n",
    "        weights_initializer=conv_weight_init, biases_initializer=conv_bias_init,\n",
    "        weights_regularizer=conv_regularizer)\n",
    "    if create_summaries:\n",
    "        tf.summary.histogram(network.name + \"/activations\", network)\n",
    "        tf.summary.image(\"conv1_1/weights\", tf.transpose(\n",
    "            slim.get_variables(\"conv1_1/weights:0\")[0], [3, 0, 1, 2]),\n",
    "                         max_images=128)\n",
    "    network = slim.conv2d(\n",
    "        network, 32, [3, 3], stride=1, activation_fn=nonlinearity,\n",
    "        padding=\"SAME\", normalizer_fn=batch_norm_fn, scope=\"conv1_2\",\n",
    "        weights_initializer=conv_weight_init, biases_initializer=conv_bias_init,\n",
    "        weights_regularizer=conv_regularizer)\n",
    "    if create_summaries:\n",
    "        tf.summary.histogram(network.name + \"/activations\", network)\n",
    "\n",
    "    network = slim.max_pool2d(network, [3, 3], [2, 2], scope=\"pool1\")\n",
    "\n",
    "    network = residual_block(\n",
    "        network, \"conv2_1\", nonlinearity, conv_weight_init, conv_bias_init,\n",
    "        conv_regularizer, increase_dim=False, is_first=True,\n",
    "        summarize_activations=create_summaries)\n",
    "    network = residual_block(\n",
    "        network, \"conv2_3\", nonlinearity, conv_weight_init, conv_bias_init,\n",
    "        conv_regularizer, increase_dim=False,\n",
    "        summarize_activations=create_summaries)\n",
    "\n",
    "    network = residual_block(\n",
    "        network, \"conv3_1\", nonlinearity, conv_weight_init, conv_bias_init,\n",
    "        conv_regularizer, increase_dim=True,\n",
    "        summarize_activations=create_summaries)\n",
    "    network = residual_block(\n",
    "        network, \"conv3_3\", nonlinearity, conv_weight_init, conv_bias_init,\n",
    "        conv_regularizer, increase_dim=False,\n",
    "        summarize_activations=create_summaries)\n",
    "\n",
    "    network = residual_block(\n",
    "        network, \"conv4_1\", nonlinearity, conv_weight_init, conv_bias_init,\n",
    "        conv_regularizer, increase_dim=True,\n",
    "        summarize_activations=create_summaries)\n",
    "    network = residual_block(\n",
    "        network, \"conv4_3\", nonlinearity, conv_weight_init, conv_bias_init,\n",
    "        conv_regularizer, increase_dim=False,\n",
    "        summarize_activations=create_summaries)\n",
    "\n",
    "    feature_dim = network.get_shape().as_list()[-1]\n",
    "    print(\"feature dimensionality: \", feature_dim)\n",
    "    network = slim.flatten(network)\n",
    "\n",
    "    network = slim.dropout(network, keep_prob=0.6)\n",
    "    network = slim.fully_connected(\n",
    "        network, feature_dim, activation_fn=nonlinearity,\n",
    "        normalizer_fn=batch_norm_fn, weights_regularizer=fc_regularizer,\n",
    "        scope=\"fc1\", weights_initializer=fc_weight_init,\n",
    "        biases_initializer=fc_bias_init)\n",
    "\n",
    "    features = network\n",
    "\n",
    "    if l2_normalize:\n",
    "        # Features in rows, normalize axis 1.\n",
    "        features = slim.batch_norm(features, scope=\"ball\", reuse=reuse)\n",
    "        feature_norm = tf.sqrt(\n",
    "            tf.constant(1e-8, tf.float32) +\n",
    "            tf.reduce_sum(tf.square(features), [1], keep_dims=True))\n",
    "        features = features / feature_norm\n",
    "\n",
    "        with slim.variable_scope.variable_scope(\"ball\", reuse=reuse):\n",
    "            weights = slim.model_variable(\n",
    "                \"mean_vectors\", (feature_dim, num_classes),\n",
    "                initializer=tf.truncated_normal_initializer(stddev=1e-3),\n",
    "                regularizer=None)\n",
    "            scale = slim.model_variable(\n",
    "                \"scale\", (num_classes, ), tf.float32,\n",
    "                tf.constant_initializer(0., tf.float32), regularizer=None)\n",
    "            if create_summaries:\n",
    "                tf.summary.histogram(\"scale\", scale)\n",
    "\n",
    "            scale = tf.nn.softplus(scale)\n",
    "\n",
    "        # Each mean vector in columns, normalize axis 0.\n",
    "        weight_norm = tf.sqrt(\n",
    "            tf.constant(1e-8, tf.float32) +\n",
    "            tf.reduce_sum(tf.square(weights), [0], keep_dims=True))\n",
    "        logits = scale * tf.matmul(features, weights / weight_norm)\n",
    "\n",
    "    else:\n",
    "        logits = slim.fully_connected(\n",
    "            features, num_classes, activation_fn=None,\n",
    "            normalizer_fn=None, weights_regularizer=fc_regularizer,\n",
    "            scope=\"softmax\", weights_initializer=fc_weight_init,\n",
    "            biases_initializer=fc_bias_init)\n",
    "\n",
    "    return features, logits\n",
    "\n",
    "\n",
    "def _network_factory(num_classes, is_training, weight_decay=1e-8):\n",
    "\n",
    "    def factory_fn(image, reuse, l2_normalize):\n",
    "            with slim.arg_scope([slim.batch_norm, slim.dropout],\n",
    "                                is_training=is_training):\n",
    "                with slim.arg_scope([slim.conv2d, slim.fully_connected,\n",
    "                                     slim.batch_norm, slim.layer_norm],\n",
    "                                    reuse=reuse):\n",
    "                    features, logits = _create_network(\n",
    "                        image, num_classes, l2_normalize=l2_normalize,\n",
    "                        reuse=reuse, create_summaries=is_training,\n",
    "                        weight_decay=weight_decay)\n",
    "                    return features, logits\n",
    "\n",
    "    return factory_fn\n",
    "\n",
    "\n",
    "def _preprocess(image, is_training=False, enable_more_augmentation=True):\n",
    "    image = image[:, :, ::-1]  # BGR to RGB\n",
    "    if is_training:\n",
    "        image = tf.image.random_flip_left_right(image)\n",
    "        if enable_more_augmentation:\n",
    "            image = tf.image.random_brightness(image, max_delta=50)\n",
    "            image = tf.image.random_contrast(image, lower=0.8, upper=1.2)\n",
    "            image = tf.image.random_saturation(image, lower=0.8, upper=1.2)\n",
    "    return image\n",
    "\n",
    "\n",
    "def _run_in_batches(f, data_dict, out, batch_size):\n",
    "    data_len = len(out)\n",
    "    num_batches = int(data_len / batch_size)\n",
    "\n",
    "    s, e = 0, 0\n",
    "    for i in range(num_batches):\n",
    "        s, e = i * batch_size, (i + 1) * batch_size\n",
    "        batch_data_dict = {k: v[s:e] for k, v in data_dict.items()}\n",
    "        out[s:e] = f(batch_data_dict)\n",
    "    if e < len(out):\n",
    "        batch_data_dict = {k: v[e:] for k, v in data_dict.items()}\n",
    "        out[e:] = f(batch_data_dict)\n",
    "\n",
    "\n",
    "def extract_image_patch(image, bbox, patch_shape):\n",
    "    bbox = np.array(bbox)\n",
    "    if patch_shape is not None:\n",
    "        # correct aspect ratio to patch shape\n",
    "        target_aspect = float(patch_shape[1]) / patch_shape[0]\n",
    "        new_width = target_aspect * bbox[3]\n",
    "        bbox[0] -= (new_width - bbox[2]) / 2\n",
    "        bbox[2] = new_width\n",
    "\n",
    "    # convert to top left, bottom right\n",
    "    bbox[2:] += bbox[:2]\n",
    "    bbox = bbox.astype(np.int)\n",
    "\n",
    "    # clip at image boundaries\n",
    "    bbox[:2] = np.maximum(0, bbox[:2])\n",
    "    bbox[2:] = np.minimum(np.asarray(image.shape[:2][::-1]) - 1, bbox[2:])\n",
    "    if np.any(bbox[:2] >= bbox[2:]):\n",
    "        return None\n",
    "    sx, sy, ex, ey = bbox\n",
    "    image = image[sy:ey, sx:ex]\n",
    "    image = cv2.resize(image, patch_shape[::-1])\n",
    "\n",
    "    return image\n",
    "\n",
    "\n",
    "def _create_image_encoder(preprocess_fn, factory_fn, image_shape, batch_size=32,\n",
    "                         session=None, checkpoint_path=None,\n",
    "                         loss_mode=\"cosine\"):\n",
    "    image_var = tf.placeholder(tf.uint8, (None, ) + image_shape)\n",
    "\n",
    "    preprocessed_image_var = tf.map_fn(\n",
    "        lambda x: preprocess_fn(x, is_training=False),\n",
    "        tf.cast(image_var, tf.float32))\n",
    "\n",
    "    l2_normalize = loss_mode == \"cosine\"\n",
    "    feature_var, _ = factory_fn(\n",
    "        preprocessed_image_var, l2_normalize=l2_normalize, reuse=None)\n",
    "    feature_dim = feature_var.get_shape().as_list()[-1]\n",
    "\n",
    "    if session is None:\n",
    "        session = tf.Session()\n",
    "    if checkpoint_path is not None:\n",
    "        slim.get_or_create_global_step()\n",
    "        init_assign_op, init_feed_dict = slim.assign_from_checkpoint(\n",
    "            checkpoint_path, slim.get_variables_to_restore())\n",
    "        session.run(init_assign_op, feed_dict=init_feed_dict)\n",
    "\n",
    "    def encoder(data_x):\n",
    "        out = np.zeros((len(data_x), feature_dim), np.float32)\n",
    "        _run_in_batches(\n",
    "            lambda x: session.run(feature_var, feed_dict=x),\n",
    "            {image_var: data_x}, out, batch_size)\n",
    "        return out\n",
    "\n",
    "    return encoder\n",
    "\n",
    "\n",
    "def create_image_encoder(model_filename, batch_size=32, loss_mode=\"cosine\",\n",
    "                         session=None):\n",
    "    image_shape = 128, 64, 3\n",
    "    factory_fn = _network_factory(num_classes=1501, is_training=False, weight_decay=1e-8)\n",
    "\n",
    "    return _create_image_encoder(_preprocess, factory_fn, image_shape, batch_size, session,\n",
    "        model_filename, loss_mode)\n",
    "\n",
    "\n",
    "def create_box_encoder(model_filename, batch_size=32, loss_mode=\"cosine\"):\n",
    "    image_shape = 128, 64, 3\n",
    "    image_encoder = create_image_encoder(model_filename, batch_size, loss_mode)\n",
    "\n",
    "    def encoder(image, boxes):\n",
    "        image_patches = []\n",
    "        for box in boxes:\n",
    "            patch = extract_image_patch(image, box, image_shape[:2])\n",
    "            if patch is None:\n",
    "                print(\"WARNING: Failed to extract image patch: %s.\" % str(box))\n",
    "                patch = np.random.uniform(\n",
    "                    0., 255., image_shape).astype(np.uint8)\n",
    "            image_patches.append(patch)\n",
    "        image_patches = np.asarray(image_patches)\n",
    "        return image_encoder(image_patches)\n",
    "\n",
    "    return encoder\n",
    "\n",
    "\n",
    "def generate_detections(encoder, video_dir, det_dir, feat_dir):    \n",
    "    videos = os.listdir(video_dir)\n",
    "    videos.sort()\n",
    "    for video_name in videos:\n",
    "\n",
    "        if(video_name != test_video and test_video != '' ): \n",
    "            continue\n",
    "\n",
    "        print(\"Processing %s\" % video_name)\n",
    "\n",
    "        detection_file = os.path.join(det_dir, video_name[:-3]+'csv')\n",
    "        detections_in = np.loadtxt(detection_file, delimiter=',')\n",
    "        detections_out = []\n",
    "\n",
    "        cap = cv2.VideoCapture(os.path.join(video_dir, video_name))\n",
    "\n",
    "        frame_indices = detections_in[:, 0].astype(np.int)\n",
    "        min_frame_idx = frame_indices.astype(np.int).min()\n",
    "        max_frame_idx = frame_indices.astype(np.int).max()\n",
    "        for frame_idx in tqdm(range(min_frame_idx, max_frame_idx + 1)):\n",
    "            print(\"Frame %05d/%05d\" % (frame_idx, max_frame_idx))\n",
    "            mask = frame_indices == frame_idx\n",
    "            rows = detections_in[mask]\n",
    "            ret, bgr_image = cap.read()\n",
    "            features = encoder(bgr_image, rows[:, 2:6].copy())\n",
    "            detections_out += [np.r_[(row, feature)] for row, feature in zip(rows, features)]\n",
    "\n",
    "        feature_filename = os.path.join(feat_dir, \"%s.npy\" % video_name[:-4])\n",
    "        np.save(feature_filename, np.asarray(detections_out), allow_pickle=False)"
   ]
  },
  {
   "cell_type": "code",
   "execution_count": 15,
   "metadata": {},
   "outputs": [],
   "source": [
    "def gather_sequence_info(video_name, video_path, feat_path):\n",
    "    detections = np.load(feat_path)\n",
    "\n",
    "    cap = cv2.VideoCapture(video_path)\n",
    "    ret, frame = cap.read()\n",
    "    cap.release()\n",
    "\n",
    "    image_size = np.array(frame).shape[:-1] \n",
    "    # print(image_size)\n",
    "\n",
    "    min_frame_idx = int(detections[:, 0].min())\n",
    "    max_frame_idx = int(detections[:, 0].max())\n",
    "\n",
    "    feature_dim = detections.shape[1] - 10 if detections is not None else 0\n",
    "    seq_info = {\n",
    "        \"sequence_name\": video_name,\n",
    "        \"detections\": detections,\n",
    "        \"image_size\": image_size,\n",
    "        \"min_frame_idx\": min_frame_idx,\n",
    "        \"max_frame_idx\": max_frame_idx,\n",
    "        \"feature_dim\": feature_dim,\n",
    "        \"update_ms\": None\n",
    "    }\n",
    "    return seq_info\n",
    "\n",
    "\n",
    "def create_detections(detection_mat, frame_idx, min_height=0):\n",
    "    frame_indices = detection_mat[:, 0].astype(np.int)\n",
    "    mask = frame_indices == frame_idx\n",
    "\n",
    "    detection_list = []\n",
    "    for row in detection_mat[mask]:\n",
    "        bbox, confidence, feature = row[2:6], row[6], row[10:]\n",
    "        if bbox[3] < min_height:\n",
    "            continue\n",
    "        detection_list.append(Detection(bbox, confidence, feature))\n",
    "    return detection_list\n",
    "\n",
    "\n",
    "def run_deepsort(video_name, video_path, feat_path, track_path, det_dir, min_confidence,\n",
    "        nms_max_overlap, min_detection_height, max_cosine_distance,\n",
    "        nn_budget, display):\n",
    "\n",
    "    seq_info = gather_sequence_info(video_name, video_path, feat_path)\n",
    "    metric = nn_matching.NearestNeighborDistanceMetric(\"cosine\", max_cosine_distance, nn_budget)\n",
    "    tracker = Tracker(metric, max_age=50, n_init=5)\n",
    "    results = []\n",
    "    cap = cv2.VideoCapture(video_path)\n",
    "    print('Video Path:', video_path,'\\tFeatures:', feat_path)\n",
    "\n",
    "    def frame_callback(vis, frame_idx):\n",
    "        # print(\"Processing frame %05d\" % frame_idx)\n",
    "\n",
    "        # Load image and generate detections.\n",
    "        detections = create_detections(seq_info[\"detections\"], frame_idx, min_detection_height)\n",
    "        detections = [d for d in detections if d.confidence >= min_confidence]\n",
    "\n",
    "        # Run non-maxima suppression.\n",
    "        boxes = np.array([d.tlwh for d in detections])\n",
    "        scores = np.array([d.confidence for d in detections])\n",
    "        indices = preprocessing.non_max_suppression(boxes, nms_max_overlap, scores)\n",
    "        detections = [detections[i] for i in indices]\n",
    "\n",
    "        # Update tracker.\n",
    "        tracker.predict()\n",
    "        tracker.update(detections)\n",
    "\n",
    "        # Update visualization.\n",
    "        if display:\n",
    "            vis.set_image(cap.read()[1])\n",
    "            \n",
    "            # vis.draw_detections(detections)\n",
    "            count_human = vis.draw_trackers(tracker.tracks)\n",
    "        else:\n",
    "            count_human = vis.draw_trackers(tracker.tracks)\n",
    "\n",
    "        # Store results.\n",
    "        for track in tracker.tracks:\n",
    "            if not track.is_confirmed() or track.time_since_update > 1:\n",
    "                continue\n",
    "            bbox = track.to_tlwh()\n",
    "            \n",
    "            ID = count_human.index(track.track_id) + 1\n",
    "            results.append([frame_idx, ID, bbox[0], bbox[1], bbox[2], bbox[3]])\n",
    "\n",
    "    # Run tracker.\n",
    "    if display:\n",
    "        visualizer = visualization.Visualization(seq_info, update_ms=50)\n",
    "    else:\n",
    "        visualizer = visualization.NoVisualization(seq_info)\n",
    "\n",
    "    visualizer.run(frame_callback)\n",
    "\n",
    "    cap.release()\n",
    "    # Store results.\n",
    "    # add face detect\n",
    "    det = pd.read_csv(det_dir,header=None)\n",
    "    \n",
    "    f = open(track_path, 'w')\n",
    "    for num ,row in enumerate(results):\n",
    "        print('%d,%d,%.2f,%.2f,%.2f,%.2f,1,-1,%d,%d,%d,%d,-1' % (\n",
    "            row[0], row[1], row[2], row[3], row[4], row[5] ,det.iloc[num][8],\n",
    "            det.iloc[num][9],det.iloc[num][10],det.iloc[num][11]),file=f)\n",
    "\n",
    "def parse_args():\n",
    "    \"\"\"Parse command line arguments.\"\"\"\n",
    "    parser = argparse.ArgumentParser(description=\"Re-ID feature extractor\")\n",
    "\n",
    "    parser.add_argument(\n",
    "        \"--test_video\", \n",
    "        help=\"To run specific one\", \n",
    "        default=''\n",
    "    )\n",
    "    parser.add_argument(\n",
    "        \"--video_dir\", \n",
    "        help=\"Video directory.\", \n",
    "        default=\"../dataset/videos\"\n",
    "    )\n",
    "    parser.add_argument(\n",
    "        \"--det_dir\", help=\"Path to detection directory\",\n",
    "        default='../dataset/detections'\n",
    "    )\n",
    "    parser.add_argument(\n",
    "        \"--feat_dir\", \n",
    "        help=\"Features directory.\",\n",
    "        default=\"../dataset/features\"\n",
    "    )\n",
    "    parser.add_argument(\n",
    "        \"--tracks_dir\", help=\"Path to the tracking output file. This file will\"\n",
    "        \" contain the tracking results on completion.\",\n",
    "        default=\"../dataset/tracks\"\n",
    "    )\n",
    "    parser.add_argument(\n",
    "        \"--min_confidence\", help=\"Detection confidence threshold. Disregard \"\n",
    "        \"all detections that have a confidence lower than this value.\",\n",
    "        default=0.7, type=float\n",
    "    )\n",
    "    parser.add_argument(\n",
    "        \"--min_detection_height\", help=\"Threshold on the detection bounding \"\n",
    "        \"box height. Detections with height smaller than this value are \"\n",
    "        \"disregarded\", default=0, type=int\n",
    "    )\n",
    "    parser.add_argument(\n",
    "        \"--nms_max_overlap\",  help=\"Non-maxima suppression threshold: Maximum \"\n",
    "        \"detection overlap.\", default=1.0, type=float\n",
    "    )\n",
    "    parser.add_argument(\n",
    "        \"--max_cosine_distance\", help=\"Gating threshold for cosine distance \"\n",
    "        \"metric (object appearance).\", type=float, default=0.25\n",
    "    )\n",
    "    parser.add_argument(\n",
    "        \"--nn_budget\", help=\"Maximum size of the appearance descriptors \"\n",
    "        \"gallery. If None, no budget is enforced.\", type=int, default=None\n",
    "    )\n",
    "    parser.add_argument(\n",
    "        \"--display\", help=\"Show intermediate tracking results\",\n",
    "        default=False, type=bool\n",
    "    )\n",
    "\n",
    "    return parser.parse_args()"
   ]
  },
  {
   "cell_type": "code",
   "execution_count": 16,
   "metadata": {},
   "outputs": [],
   "source": [
    "def join(df_track):\n",
    "    prev_frame_idx = min(df_track['track_id'].index)\n",
    "    results = []\n",
    "    for frame_idx, currrent_row in df_track.iterrows():\n",
    "        gap = frame_idx - prev_frame_idx\n",
    "        if(gap > 1):\n",
    "            results.append(str(prev_frame_idx)+' -> '+ str(frame_idx))\n",
    "            currrent_row = np.array(currrent_row)\n",
    "            previous_row = np.array(df_track.loc[prev_frame_idx].values)\n",
    "            steps = (currrent_row - previous_row) / gap\n",
    "\n",
    "            for i, frame in enumerate(range(prev_frame_idx+1,frame_idx)):\n",
    "                df_track.loc[frame] = np.array(previous_row + (i+1) * steps).astype(int)\n",
    "\n",
    "        prev_frame_idx = frame_idx\n",
    "    df_track = df_track.sort_index()\n",
    "\n",
    "    misses = np.squeeze(list(set(range(min(df_track.index), \n",
    "                                       max(df_track.index) + 1)).difference(df_track.index)))\n",
    "    if(len(misses)==0 and len(results) > 0):\n",
    "        print('Track:', int(df_track['track_id'].iloc[0]),', concatenation complete, ',results)\n",
    "    elif(len(misses)!=0):\n",
    "        print('Warning!! Frame:', int(df_track['track_id'].iloc[0]), ', concatenation incomplete\\n')\n",
    "    return df_track\n",
    "\n",
    "def run_concatenate(track_path):\n",
    "    concat_track_file = track_path[:-4]+'_join.csv'\n",
    "    try: os.remove(concat_track_file)\n",
    "    except OSError: pass\n",
    "\n",
    "    df = pd.read_csv(track_path, header=None)\n",
    "    df.columns = ['frame_id','track_id','xmin','ymin','width','height', \n",
    "                  'confidence','neg_1','xF','yF','widthF', 'heightF', 'neg_2']\n",
    "    df.index = df['frame_id']\n",
    "    df = df.drop(['frame_id'], axis=1)\n",
    "\n",
    "    concat = []\n",
    "    From, To = min(df['track_id']), max(df['track_id'])+1\n",
    "    for track_id in range(From, To):\n",
    "        concat.append(join(df.loc[df['track_id']==track_id].copy()))\n",
    "        \n",
    "    df_concat = pd.concat(concat)\n",
    "    df_concat = df_concat.sort_index() \n",
    "    df_concat.to_csv(concat_track_file, header=None)\n",
    "    print('=================')\n"
   ]
  },
  {
   "cell_type": "code",
   "execution_count": 17,
   "metadata": {},
   "outputs": [],
   "source": [
    "def gather_sequence_info(video_name, video_path, feat_path):\n",
    "    detections = np.load(feat_path)\n",
    "\n",
    "    cap = cv2.VideoCapture(video_path)\n",
    "    ret, frame = cap.read()\n",
    "    cap.release()\n",
    "\n",
    "    image_size = np.array(frame).shape[:-1] \n",
    "    # print(image_size)\n",
    "\n",
    "    min_frame_idx = int(detections[:, 0].min())\n",
    "    max_frame_idx = int(detections[:, 0].max())\n",
    "\n",
    "    feature_dim = detections.shape[1] - 10 if detections is not None else 0\n",
    "    seq_info = {\n",
    "        \"sequence_name\": video_name,\n",
    "        \"detections\": detections,\n",
    "        \"image_size\": image_size,\n",
    "        \"min_frame_idx\": min_frame_idx,\n",
    "        \"max_frame_idx\": max_frame_idx,\n",
    "        \"feature_dim\": feature_dim,\n",
    "        \"update_ms\": None\n",
    "    }\n",
    "    return seq_info\n",
    "\n",
    "# ========================================================================================================\n",
    "\n",
    "\n",
    "def capture(video_path, cap_dir, results, seq_info, is_plot=False):\n",
    "\n",
    "    if os.path.exists(cap_dir):\n",
    "        shutil.rmtree(cap_dir)\n",
    "    os.makedirs(cap_dir)\n",
    "\n",
    "    cap = cv2.VideoCapture(video_path)\n",
    "\n",
    "    N_track = int(max(results[:,1]))\n",
    "    subplot_x = 6\n",
    "    subplot_y = int(math.ceil(N_track/subplot_x))\n",
    "    print('Total Tracks:', N_track)\n",
    "    print('Subplot', subplot_y, subplot_x)\n",
    "\n",
    "    image_size = seq_info['image_size']\n",
    "    points = {}\n",
    "    captured = []\n",
    "\n",
    "    with tf.Session() as sess:\n",
    "        for frame_idx in tqdm(range(\n",
    "                            seq_info['min_frame_idx'], \n",
    "                            seq_info['max_frame_idx'] + 1), 'capturing output'):\n",
    "        \n",
    "            image_np = np.array(cap.read()[1])\n",
    "\n",
    "            mask = results[:, 0].astype(np.int) == frame_idx\n",
    "            track_ids = results[mask, 1].astype(np.int)\n",
    "            boxes = results[mask, 2:6]\n",
    "\n",
    "            for track_id, box in zip(track_ids, boxes):\n",
    "                if(track_id not in captured):\n",
    "                    captured.append(track_id)\n",
    "\n",
    "                    l,t,w,h = np.array(box).astype(int)\n",
    "                    if(l<0): l=0 # if xmin is negative \n",
    "                    if(t<0): t=0 # if ymin is negative\n",
    "\n",
    "                    if(l+w > image_size[1]): w=image_size[1]-l # if xmax exceeds width\n",
    "                    if(t+h > image_size[0]): h=image_size[0]-t # if ymax exceeds height\n",
    "\n",
    "                    cropped_image = sess.run(tf.image.crop_to_bounding_box(image_np, t, l, h, w))\n",
    "                    cropped_image = cv2.cvtColor(cropped_image, cv2.COLOR_BGR2RGB)\n",
    "\n",
    "                    img = Image.fromarray(cropped_image)\n",
    "                    img.save(os.path.join(cap_dir, str(track_id)+'.jpg'))\n",
    "\n",
    "                    if(is_plot):\n",
    "                        plt.subplot(subplot_y, subplot_x, len(captured))\n",
    "                        plt.imshow(cropped_image)\n",
    "                        plt.title(str(track_id)+', '+str(frame_idx))\n",
    "\n",
    "    cap.release()\n",
    "\n",
    "    if(is_plot):\n",
    "        plt.subplots_adjust(top=0.92, bottom=0.08, left=0.1, right=0.95, hspace=0.5, wspace=0.8)\n",
    "        plt.show()\n",
    "\n",
    "# ========================================================================================================\n",
    "   \n",
    "def savitzky_golay(y, window_size, order, deriv=0, rate=1):\n",
    "    window_size = np.abs(np.int(window_size))\n",
    "    order = np.abs(np.int(order))\n",
    "   \n",
    "    if window_size % 2 != 1 or window_size < 1:\n",
    "        raise TypeError(\"window_size size must be a positive odd number\")\n",
    "    if window_size < order + 2: # order should be less than or equal window-2\n",
    "        raise TypeError(\"window_size is too small for the polynomials order\")\n",
    "        \n",
    "    order_range = range(order+1)\n",
    "    half_window = (window_size -1) // 2\n",
    "    \n",
    "    # precompute coefficients\n",
    "    b = np.mat([[k**i for i in order_range] for k in range(-half_window, half_window+1)])\n",
    "    m = np.linalg.pinv(b).A[deriv] * rate**deriv * factorial(deriv)\n",
    "    \n",
    "    # pad the signal at the extremes with\n",
    "    # values taken from the signal itself\n",
    "    firstvals = y[0] - np.abs( y[1:half_window+1][::-1] - y[0] )\n",
    "    lastvals = y[-1] + np.abs(y[-half_window-1:-1][::-1] - y[-1])\n",
    "    y = np.concatenate((firstvals, y, lastvals))\n",
    "    \n",
    "    return np.convolve( m[::-1], y, mode='valid')\n",
    "\n",
    "# ========================================================================================================\n",
    "\n",
    "def golay_filter(df_track, window_size=45, order=5):\n",
    "    if(len(df_track) <= window_size):\n",
    "        return df_track\n",
    "    df_track[2] = savitzky_golay(df_track[2].values, window_size=window_size, order=order, deriv=0, rate=1)\n",
    "    df_track[3] = savitzky_golay(df_track[3].values, window_size=window_size, order=order, deriv=0, rate=1)\n",
    "    df_track[4] = savitzky_golay(df_track[4].values, window_size=window_size, order=order, deriv=0, rate=1)\n",
    "    df_track[5] = savitzky_golay(df_track[5].values, window_size=window_size, order=order, deriv=0, rate=1)\n",
    "    return df_track\n",
    "    \n",
    "def poly_interpolate(df_track):\n",
    "    model = make_pipeline(PolynomialFeatures(5), Ridge(solver='svd'))\n",
    "    X = np.array(df_track.index).reshape(-1, 1)\n",
    "    df_track[2] = model.fit(X, df_track[2]).predict(X)\n",
    "    df_track[3] = model.fit(X, df_track[3]).predict(X)\n",
    "    df_track[4] = model.fit(X, df_track[4]).predict(X)\n",
    "    df_track[5] = model.fit(X, df_track[5]).predict(X)\n",
    "    return df_track\n",
    "\n",
    "def moving_avg(df_track, window=5):\n",
    "    df_haed = df_track[[2,3,4,5]][:window-1]\n",
    "    df_tail = df_track[[2,3,4,5]].rolling(window=window).mean()[window-1:]\n",
    "    df_track[[2,3,4,5]] = pd.concat([df_haed, df_tail], axis=0)\n",
    "    return df_track\n",
    "\n",
    "def smooth(df, smooth_method):\n",
    "    polynomials = []\n",
    "    From, To = min(df[1]), max(df[1])+1\n",
    "    for track_id in range(From, To):\n",
    "        df_track = df.loc[df[1]==track_id].copy()\n",
    "\n",
    "        if(smooth_method == 'poly'): df_track = poly_interpolate(df_track)\n",
    "        elif(smooth_method == 'moving'): df_track = moving_avg(df_track)\n",
    "        elif(smooth_method == 'golay'): df_track = golay_filter(df_track)\n",
    "            \n",
    "        polynomials.append(df_track)\n",
    "\n",
    "    df_smooth = pd.concat(polynomials)\n",
    "    df_smooth = df_smooth.sort_index()\n",
    "    return df_smooth.values\n",
    "\n",
    "# ========================================================================================================\n",
    "\n",
    "def run_showresult(video_path, track_path, feat_path, save_output, out_dir, cap_dir, concat, smoothing, save_fig, is_plot, lag = 30):\n",
    "    video_name = os.path.basename(video_path)\n",
    "    seq_info = gather_sequence_info(video_name, video_path, feat_path)\n",
    "   \n",
    "    if(concat): track_path = track_path[:-4]+'_join.csv'\n",
    "\n",
    "    df = pd.read_csv(track_path, header=None)\n",
    "\n",
    "    if(smoothing): results = smooth(df, smooth_method='golay')\n",
    "    else: results = df.values\n",
    "\n",
    "    if(save_fig):\n",
    "        capture(video_path, cap_dir, results, seq_info, is_plot=is_plot)\n",
    "        return\n",
    "\n",
    "\n",
    "    cap = cv2.VideoCapture(video_path)\n",
    "    print('Video Path:', video_path,'\\tFeatures:', feat_path)\n",
    "\n",
    "    print(lag)\n",
    "    points = {}\n",
    "\n",
    "    def frame_callback(vis, frame_idx):\n",
    "        # print(\"Frame idx\", frame_idx)\n",
    "        image_np = np.array(cap.read()[1])\n",
    "        vis.set_image(image_np)\n",
    "\n",
    "        mask = results[:, 0].astype(np.int) == frame_idx\n",
    "        track_ids = results[mask, 1].astype(np.int)\n",
    "        boxes = results[mask, 2:6]\n",
    "\n",
    "        points[frame_idx] = []\n",
    "        for track_id, box in zip(track_ids, boxes):\n",
    "            l,t,w,h = np.array(box).astype(int)\n",
    "            x, y = int(l+w/2), int(t+h)\n",
    "            points[frame_idx].append([track_id, x, y])\n",
    "\n",
    "        if(frame_idx > lag):\n",
    "            remove_idx = frame_idx-lag\n",
    "            if remove_idx in points:\n",
    "                del points[remove_idx]\n",
    "\n",
    "        vis.draw_groundtruth(track_ids, boxes, points)\n",
    "\n",
    "    visualizer = visualization.Visualization(seq_info, update_ms=50)\n",
    "\n",
    "    if save_output:\n",
    "        if(concat):\n",
    "            visualizer.viewer.enable_videowriter(os.path.join(out_dir, video_name[:-4]+'_opt.avi'))\n",
    "        else:\n",
    "            visualizer.viewer.enable_videowriter(os.path.join(out_dir, video_name[:-4]+'_reg.avi'))\n",
    "\n",
    "    visualizer.run(frame_callback)\n",
    "\n",
    "    cap.release()\n",
    "    cv2.destroyAllWindows()\n",
    "    \n",
    "def parse_args():\n",
    "\n",
    "    parser = argparse.ArgumentParser(description=\"Siamese Tracking\")\n",
    "    parser.add_argument(\n",
    "        \"--test_video\", \n",
    "        help=\"To run specific one\", \n",
    "        default=''\n",
    "    )\n",
    "    parser.add_argument(\n",
    "        \"--video_dir\", \n",
    "        help=\"Path to video directory.\", \n",
    "        default=\"../dataset/videos\"\n",
    "    )\n",
    "    parser.add_argument(\n",
    "        \"--tracks_dir\", help=\"Path to the tracking output file. This file will\"\n",
    "        \" contain the tracking results on completion.\",\n",
    "        default=\"../dataset/tracks\"\n",
    "    )\n",
    "    parser.add_argument(\n",
    "        \"--feat_dir\", \n",
    "        help=\"Features directory.\",\n",
    "        default=\"../dataset/features\"\n",
    "    )\n",
    "    parser.add_argument(\n",
    "        \"--save_output\", help=\"Save output of the tracking video (bool).\",\n",
    "        default=False, type=bool)\n",
    "    parser.add_argument(\n",
    "        \"--out_dir\", help=\"Output directory\",\n",
    "        default='../dataset/outputs'\n",
    "    )\n",
    "    parser.add_argument(\n",
    "        \"--cap_dir\", help=\"Captures directory\",\n",
    "        default='../dataset/captures'\n",
    "    )\n",
    "    parser.add_argument(\n",
    "        \"--concat\", help=\"Show concatenated points\",\n",
    "        default=False, type=bool\n",
    "    ),\n",
    "    parser.add_argument(\n",
    "        \"--smoothing\", help=\"Show concatenated points\",\n",
    "        default=False, type=bool\n",
    "    )\n",
    "    parser.add_argument(\n",
    "        \"--save_fig\", help=\"Save captured human\",\n",
    "        default=False, type=bool\n",
    "    )\n",
    "    parser.add_argument(\n",
    "        \"--is_plot\", help=\"Plot captured human\",\n",
    "        default=False, type=bool\n",
    "    )\n",
    "\n",
    "    return parser.parse_args()"
   ]
  },
  {
   "cell_type": "code",
   "execution_count": null,
   "metadata": {
    "scrolled": true
   },
   "outputs": [
    {
     "name": "stdout",
     "output_type": "stream",
     "text": [
      "loading model..\n",
      "Processing Video: test_15-30.avi..\n"
     ]
    },
    {
     "name": "stderr",
     "output_type": "stream",
     "text": [
      "\r",
      "  0%|                                                                                          | 0/285 [00:00<?, ?it/s]"
     ]
    },
    {
     "name": "stdout",
     "output_type": "stream",
     "text": [
      "Frame ID: 1 \tTime: 0.01 seconds\n"
     ]
    },
    {
     "name": "stderr",
     "output_type": "stream",
     "text": [
      "\r",
      "  0%|▎                                                                               | 1/285 [00:13<1:02:36, 13.23s/it]"
     ]
    },
    {
     "name": "stdout",
     "output_type": "stream",
     "text": [
      "Frame ID: 2 \tTime: 13.24 seconds\n"
     ]
    },
    {
     "name": "stderr",
     "output_type": "stream",
     "text": [
      "\r",
      "  1%|▌                                                                                 | 2/285 [00:14<45:27,  9.64s/it]"
     ]
    },
    {
     "name": "stdout",
     "output_type": "stream",
     "text": [
      "Frame ID: 3 \tTime: 14.51 seconds\n"
     ]
    },
    {
     "name": "stderr",
     "output_type": "stream",
     "text": [
      "\r",
      "  1%|▊                                                                                 | 3/285 [00:15<33:25,  7.11s/it]"
     ]
    },
    {
     "name": "stdout",
     "output_type": "stream",
     "text": [
      "Frame ID: 4 \tTime: 15.73 seconds\n"
     ]
    },
    {
     "name": "stderr",
     "output_type": "stream",
     "text": [
      "\r",
      "  1%|█▏                                                                                | 4/285 [00:16<25:02,  5.35s/it]"
     ]
    },
    {
     "name": "stdout",
     "output_type": "stream",
     "text": [
      "Frame ID: 5 \tTime: 16.96 seconds\n"
     ]
    },
    {
     "name": "stderr",
     "output_type": "stream",
     "text": [
      "\r",
      "  2%|█▍                                                                                | 5/285 [00:18<19:12,  4.11s/it]"
     ]
    },
    {
     "name": "stdout",
     "output_type": "stream",
     "text": [
      "Frame ID: 6 \tTime: 18.19 seconds\n"
     ]
    },
    {
     "name": "stderr",
     "output_type": "stream",
     "text": [
      "\r",
      "  2%|█▋                                                                                | 6/285 [00:19<15:05,  3.25s/it]"
     ]
    },
    {
     "name": "stdout",
     "output_type": "stream",
     "text": [
      "Frame ID: 7 \tTime: 19.41 seconds\n"
     ]
    },
    {
     "name": "stderr",
     "output_type": "stream",
     "text": [
      "\r",
      "  2%|██                                                                                | 7/285 [00:20<12:14,  2.64s/it]"
     ]
    },
    {
     "name": "stdout",
     "output_type": "stream",
     "text": [
      "Frame ID: 8 \tTime: 20.65 seconds\n"
     ]
    },
    {
     "name": "stderr",
     "output_type": "stream",
     "text": [
      "\r",
      "  3%|██▎                                                                               | 8/285 [00:22<10:31,  2.28s/it]"
     ]
    },
    {
     "name": "stdout",
     "output_type": "stream",
     "text": [
      "Frame ID: 9 \tTime: 22.08 seconds\n"
     ]
    },
    {
     "name": "stderr",
     "output_type": "stream",
     "text": [
      "\r",
      "  3%|██▌                                                                               | 9/285 [00:23<09:02,  1.96s/it]"
     ]
    },
    {
     "name": "stdout",
     "output_type": "stream",
     "text": [
      "Frame ID: 10 \tTime: 23.31 seconds\n"
     ]
    },
    {
     "name": "stderr",
     "output_type": "stream",
     "text": [
      "\r",
      "  4%|██▊                                                                              | 10/285 [00:24<08:02,  1.76s/it]"
     ]
    },
    {
     "name": "stdout",
     "output_type": "stream",
     "text": [
      "Frame ID: 11 \tTime: 24.58 seconds\n"
     ]
    },
    {
     "name": "stderr",
     "output_type": "stream",
     "text": [
      "\r",
      "  4%|███▏                                                                             | 11/285 [00:25<07:20,  1.61s/it]"
     ]
    },
    {
     "name": "stdout",
     "output_type": "stream",
     "text": [
      "Frame ID: 12 \tTime: 25.84 seconds\n"
     ]
    },
    {
     "name": "stderr",
     "output_type": "stream",
     "text": [
      "\r",
      "  4%|███▍                                                                             | 12/285 [00:27<06:50,  1.50s/it]"
     ]
    },
    {
     "name": "stdout",
     "output_type": "stream",
     "text": [
      "Frame ID: 13 \tTime: 27.09 seconds\n"
     ]
    },
    {
     "name": "stderr",
     "output_type": "stream",
     "text": [
      "\r",
      "  5%|███▋                                                                             | 13/285 [00:28<06:25,  1.42s/it]"
     ]
    },
    {
     "name": "stdout",
     "output_type": "stream",
     "text": [
      "Frame ID: 14 \tTime: 28.32 seconds\n"
     ]
    },
    {
     "name": "stderr",
     "output_type": "stream",
     "text": [
      "\r",
      "  5%|███▉                                                                             | 14/285 [00:29<06:09,  1.36s/it]"
     ]
    },
    {
     "name": "stdout",
     "output_type": "stream",
     "text": [
      "Frame ID: 15 \tTime: 29.55 seconds\n"
     ]
    },
    {
     "name": "stderr",
     "output_type": "stream",
     "text": [
      "\r",
      "  5%|████▎                                                                            | 15/285 [00:30<05:59,  1.33s/it]"
     ]
    },
    {
     "name": "stdout",
     "output_type": "stream",
     "text": [
      "Frame ID: 16 \tTime: 30.82 seconds\n"
     ]
    },
    {
     "name": "stderr",
     "output_type": "stream",
     "text": [
      "\r",
      "  6%|████▌                                                                            | 16/285 [00:32<05:50,  1.30s/it]"
     ]
    },
    {
     "name": "stdout",
     "output_type": "stream",
     "text": [
      "Frame ID: 17 \tTime: 32.05 seconds\n"
     ]
    },
    {
     "name": "stderr",
     "output_type": "stream",
     "text": [
      "\r",
      "  6%|████▊                                                                            | 17/285 [00:33<06:01,  1.35s/it]"
     ]
    },
    {
     "name": "stdout",
     "output_type": "stream",
     "text": [
      "Frame ID: 18 \tTime: 33.51 seconds\n"
     ]
    },
    {
     "name": "stderr",
     "output_type": "stream",
     "text": [
      "\r",
      "  6%|█████                                                                            | 18/285 [00:34<05:52,  1.32s/it]"
     ]
    },
    {
     "name": "stdout",
     "output_type": "stream",
     "text": [
      "Frame ID: 19 \tTime: 34.76 seconds\n"
     ]
    },
    {
     "name": "stderr",
     "output_type": "stream",
     "text": [
      "\r",
      "  7%|█████▍                                                                           | 19/285 [00:36<05:46,  1.30s/it]"
     ]
    },
    {
     "name": "stdout",
     "output_type": "stream",
     "text": [
      "Frame ID: 20 \tTime: 36.02 seconds\n"
     ]
    },
    {
     "name": "stderr",
     "output_type": "stream",
     "text": [
      "\r",
      "  7%|█████▋                                                                           | 20/285 [00:37<05:41,  1.29s/it]"
     ]
    },
    {
     "name": "stdout",
     "output_type": "stream",
     "text": [
      "Frame ID: 21 \tTime: 37.28 seconds\n"
     ]
    },
    {
     "name": "stderr",
     "output_type": "stream",
     "text": [
      "\r",
      "  7%|█████▉                                                                           | 21/285 [00:38<05:38,  1.28s/it]"
     ]
    },
    {
     "name": "stdout",
     "output_type": "stream",
     "text": [
      "Frame ID: 22 \tTime: 38.55 seconds\n"
     ]
    },
    {
     "name": "stderr",
     "output_type": "stream",
     "text": [
      "\r",
      "  8%|██████▎                                                                          | 22/285 [00:39<05:33,  1.27s/it]"
     ]
    },
    {
     "name": "stdout",
     "output_type": "stream",
     "text": [
      "Frame ID: 23 \tTime: 39.78 seconds\n"
     ]
    },
    {
     "name": "stderr",
     "output_type": "stream",
     "text": [
      "\r",
      "  8%|██████▌                                                                          | 23/285 [00:41<05:31,  1.27s/it]"
     ]
    },
    {
     "name": "stdout",
     "output_type": "stream",
     "text": [
      "Frame ID: 24 \tTime: 41.04 seconds\n"
     ]
    },
    {
     "name": "stderr",
     "output_type": "stream",
     "text": [
      "\r",
      "  8%|██████▊                                                                          | 24/285 [00:42<05:30,  1.27s/it]"
     ]
    },
    {
     "name": "stdout",
     "output_type": "stream",
     "text": [
      "Frame ID: 25 \tTime: 42.31 seconds\n"
     ]
    },
    {
     "name": "stderr",
     "output_type": "stream",
     "text": [
      "\r",
      "  9%|███████                                                                          | 25/285 [00:43<05:47,  1.34s/it]"
     ]
    },
    {
     "name": "stdout",
     "output_type": "stream",
     "text": [
      "Frame ID: 26 \tTime: 43.81 seconds\n"
     ]
    },
    {
     "name": "stderr",
     "output_type": "stream",
     "text": [
      "\r",
      "  9%|███████▍                                                                         | 26/285 [00:45<05:42,  1.32s/it]"
     ]
    },
    {
     "name": "stdout",
     "output_type": "stream",
     "text": [
      "Frame ID: 27 \tTime: 45.10 seconds\n"
     ]
    },
    {
     "name": "stderr",
     "output_type": "stream",
     "text": [
      "\r",
      "  9%|███████▋                                                                         | 27/285 [00:46<05:38,  1.31s/it]"
     ]
    },
    {
     "name": "stdout",
     "output_type": "stream",
     "text": [
      "Frame ID: 28 \tTime: 46.39 seconds\n"
     ]
    },
    {
     "name": "stderr",
     "output_type": "stream",
     "text": [
      "\r",
      " 10%|███████▉                                                                         | 28/285 [00:47<05:35,  1.31s/it]"
     ]
    },
    {
     "name": "stdout",
     "output_type": "stream",
     "text": [
      "Frame ID: 29 \tTime: 47.68 seconds\n"
     ]
    },
    {
     "name": "stderr",
     "output_type": "stream",
     "text": [
      "\r",
      " 10%|████████▏                                                                        | 29/285 [00:48<05:29,  1.29s/it]"
     ]
    },
    {
     "name": "stdout",
     "output_type": "stream",
     "text": [
      "Frame ID: 30 \tTime: 48.93 seconds\n"
     ]
    },
    {
     "name": "stderr",
     "output_type": "stream",
     "text": [
      "\r",
      " 11%|████████▌                                                                        | 30/285 [00:50<05:30,  1.30s/it]"
     ]
    },
    {
     "name": "stdout",
     "output_type": "stream",
     "text": [
      "Frame ID: 31 \tTime: 50.24 seconds\n"
     ]
    },
    {
     "name": "stderr",
     "output_type": "stream",
     "text": [
      "\r",
      " 11%|████████▊                                                                        | 31/285 [00:51<05:26,  1.29s/it]"
     ]
    },
    {
     "name": "stdout",
     "output_type": "stream",
     "text": [
      "Frame ID: 32 \tTime: 51.50 seconds\n"
     ]
    },
    {
     "name": "stderr",
     "output_type": "stream",
     "text": [
      "\r",
      " 11%|█████████                                                                        | 32/285 [00:52<05:23,  1.28s/it]"
     ]
    },
    {
     "name": "stdout",
     "output_type": "stream",
     "text": [
      "Frame ID: 33 \tTime: 52.77 seconds\n"
     ]
    },
    {
     "name": "stderr",
     "output_type": "stream",
     "text": [
      "\r",
      " 12%|█████████▍                                                                       | 33/285 [00:54<05:37,  1.34s/it]"
     ]
    },
    {
     "name": "stdout",
     "output_type": "stream",
     "text": [
      "Frame ID: 34 \tTime: 54.25 seconds\n"
     ]
    },
    {
     "name": "stderr",
     "output_type": "stream",
     "text": [
      "\r",
      " 12%|█████████▋                                                                       | 34/285 [00:55<05:28,  1.31s/it]"
     ]
    },
    {
     "name": "stdout",
     "output_type": "stream",
     "text": [
      "Frame ID: 35 \tTime: 55.48 seconds\n"
     ]
    },
    {
     "name": "stderr",
     "output_type": "stream",
     "text": [
      "\r",
      " 12%|█████████▉                                                                       | 35/285 [00:56<05:21,  1.29s/it]"
     ]
    },
    {
     "name": "stdout",
     "output_type": "stream",
     "text": [
      "Frame ID: 36 \tTime: 56.71 seconds\n"
     ]
    },
    {
     "name": "stderr",
     "output_type": "stream",
     "text": [
      "\r",
      " 13%|██████████▏                                                                      | 36/285 [00:57<05:15,  1.27s/it]"
     ]
    },
    {
     "name": "stdout",
     "output_type": "stream",
     "text": [
      "Frame ID: 37 \tTime: 57.94 seconds\n"
     ]
    },
    {
     "name": "stderr",
     "output_type": "stream",
     "text": [
      "\r",
      " 13%|██████████▌                                                                      | 37/285 [00:59<05:12,  1.26s/it]"
     ]
    },
    {
     "name": "stdout",
     "output_type": "stream",
     "text": [
      "Frame ID: 38 \tTime: 59.18 seconds\n"
     ]
    },
    {
     "name": "stderr",
     "output_type": "stream",
     "text": [
      "\r",
      " 13%|██████████▊                                                                      | 38/285 [01:00<05:09,  1.25s/it]"
     ]
    },
    {
     "name": "stdout",
     "output_type": "stream",
     "text": [
      "Frame ID: 39 \tTime: 60.42 seconds\n"
     ]
    },
    {
     "name": "stderr",
     "output_type": "stream",
     "text": [
      "\r",
      " 14%|███████████                                                                      | 39/285 [01:01<05:07,  1.25s/it]"
     ]
    },
    {
     "name": "stdout",
     "output_type": "stream",
     "text": [
      "Frame ID: 40 \tTime: 61.66 seconds\n"
     ]
    },
    {
     "name": "stderr",
     "output_type": "stream",
     "text": [
      "\r",
      " 14%|███████████▎                                                                     | 40/285 [01:02<05:04,  1.24s/it]"
     ]
    },
    {
     "name": "stdout",
     "output_type": "stream",
     "text": [
      "Frame ID: 41 \tTime: 62.88 seconds\n"
     ]
    },
    {
     "name": "stderr",
     "output_type": "stream",
     "text": [
      "\r",
      " 14%|███████████▋                                                                     | 41/285 [01:04<05:18,  1.30s/it]"
     ]
    },
    {
     "name": "stdout",
     "output_type": "stream",
     "text": [
      "Frame ID: 42 \tTime: 64.33 seconds\n"
     ]
    },
    {
     "name": "stderr",
     "output_type": "stream",
     "text": [
      "\r",
      " 15%|███████████▉                                                                     | 42/285 [01:05<05:13,  1.29s/it]"
     ]
    },
    {
     "name": "stdout",
     "output_type": "stream",
     "text": [
      "Frame ID: 43 \tTime: 65.59 seconds\n"
     ]
    },
    {
     "name": "stderr",
     "output_type": "stream",
     "text": [
      "\r",
      " 15%|████████████▏                                                                    | 43/285 [01:06<05:08,  1.27s/it]"
     ]
    },
    {
     "name": "stdout",
     "output_type": "stream",
     "text": [
      "Frame ID: 44 \tTime: 66.82 seconds\n"
     ]
    },
    {
     "name": "stderr",
     "output_type": "stream",
     "text": [
      "\r",
      " 15%|████████████▌                                                                    | 44/285 [01:08<05:03,  1.26s/it]"
     ]
    },
    {
     "name": "stdout",
     "output_type": "stream",
     "text": [
      "Frame ID: 45 \tTime: 68.06 seconds\n"
     ]
    },
    {
     "name": "stderr",
     "output_type": "stream",
     "text": [
      "\r",
      " 16%|████████████▊                                                                    | 45/285 [01:09<05:00,  1.25s/it]"
     ]
    },
    {
     "name": "stdout",
     "output_type": "stream",
     "text": [
      "Frame ID: 46 \tTime: 69.29 seconds\n"
     ]
    },
    {
     "name": "stderr",
     "output_type": "stream",
     "text": [
      "\r",
      " 16%|█████████████                                                                    | 46/285 [01:10<04:59,  1.25s/it]"
     ]
    },
    {
     "name": "stdout",
     "output_type": "stream",
     "text": [
      "Frame ID: 47 \tTime: 70.54 seconds\n"
     ]
    },
    {
     "name": "stderr",
     "output_type": "stream",
     "text": [
      "\r",
      " 16%|█████████████▎                                                                   | 47/285 [01:11<04:56,  1.24s/it]"
     ]
    },
    {
     "name": "stdout",
     "output_type": "stream",
     "text": [
      "Frame ID: 48 \tTime: 71.77 seconds\n"
     ]
    },
    {
     "name": "stderr",
     "output_type": "stream",
     "text": [
      "\r",
      " 17%|█████████████▋                                                                   | 48/285 [01:13<04:55,  1.25s/it]"
     ]
    },
    {
     "name": "stdout",
     "output_type": "stream",
     "text": [
      "Frame ID: 49 \tTime: 73.02 seconds\n"
     ]
    },
    {
     "name": "stderr",
     "output_type": "stream",
     "text": [
      "\r",
      " 17%|█████████████▉                                                                   | 49/285 [01:14<05:09,  1.31s/it]"
     ]
    },
    {
     "name": "stdout",
     "output_type": "stream",
     "text": [
      "Frame ID: 50 \tTime: 74.48 seconds\n"
     ]
    },
    {
     "name": "stderr",
     "output_type": "stream",
     "text": [
      "\r",
      " 18%|██████████████▏                                                                  | 50/285 [01:15<05:02,  1.29s/it]"
     ]
    },
    {
     "name": "stdout",
     "output_type": "stream",
     "text": [
      "Frame ID: 51 \tTime: 75.71 seconds\n"
     ]
    },
    {
     "name": "stderr",
     "output_type": "stream",
     "text": [
      "\r",
      " 18%|██████████████▍                                                                  | 51/285 [01:16<04:59,  1.28s/it]"
     ]
    },
    {
     "name": "stdout",
     "output_type": "stream",
     "text": [
      "Frame ID: 52 \tTime: 76.97 seconds\n"
     ]
    },
    {
     "name": "stderr",
     "output_type": "stream",
     "text": [
      "\r",
      " 18%|██████████████▊                                                                  | 52/285 [01:18<04:57,  1.27s/it]"
     ]
    },
    {
     "name": "stdout",
     "output_type": "stream",
     "text": [
      "Frame ID: 53 \tTime: 78.24 seconds\n"
     ]
    },
    {
     "name": "stderr",
     "output_type": "stream",
     "text": [
      "\r",
      " 19%|███████████████                                                                  | 53/285 [01:19<04:54,  1.27s/it]"
     ]
    },
    {
     "name": "stdout",
     "output_type": "stream",
     "text": [
      "Frame ID: 54 \tTime: 79.49 seconds\n"
     ]
    },
    {
     "name": "stderr",
     "output_type": "stream",
     "text": [
      "\r",
      " 19%|███████████████▎                                                                 | 54/285 [01:20<04:51,  1.26s/it]"
     ]
    },
    {
     "name": "stdout",
     "output_type": "stream",
     "text": [
      "Frame ID: 55 \tTime: 80.74 seconds\n"
     ]
    },
    {
     "name": "stderr",
     "output_type": "stream",
     "text": [
      "\r",
      " 19%|███████████████▋                                                                 | 55/285 [01:21<04:50,  1.26s/it]"
     ]
    },
    {
     "name": "stdout",
     "output_type": "stream",
     "text": [
      "Frame ID: 56 \tTime: 82.00 seconds\n"
     ]
    },
    {
     "name": "stderr",
     "output_type": "stream",
     "text": [
      "\r",
      " 20%|███████████████▉                                                                 | 56/285 [01:23<04:47,  1.26s/it]"
     ]
    },
    {
     "name": "stdout",
     "output_type": "stream",
     "text": [
      "Frame ID: 57 \tTime: 83.24 seconds\n"
     ]
    },
    {
     "name": "stderr",
     "output_type": "stream",
     "text": [
      "\r",
      " 20%|████████████████▏                                                                | 57/285 [01:24<05:02,  1.33s/it]"
     ]
    },
    {
     "name": "stdout",
     "output_type": "stream",
     "text": [
      "Frame ID: 58 \tTime: 84.73 seconds\n"
     ]
    },
    {
     "name": "stderr",
     "output_type": "stream",
     "text": [
      "\r",
      " 20%|████████████████▍                                                                | 58/285 [01:25<04:54,  1.30s/it]"
     ]
    },
    {
     "name": "stdout",
     "output_type": "stream",
     "text": [
      "Frame ID: 59 \tTime: 85.97 seconds\n"
     ]
    },
    {
     "name": "stderr",
     "output_type": "stream",
     "text": [
      "\r",
      " 21%|████████████████▊                                                                | 59/285 [01:27<04:51,  1.29s/it]"
     ]
    },
    {
     "name": "stdout",
     "output_type": "stream",
     "text": [
      "Frame ID: 60 \tTime: 87.24 seconds\n"
     ]
    },
    {
     "name": "stderr",
     "output_type": "stream",
     "text": [
      "\r",
      " 21%|█████████████████                                                                | 60/285 [01:28<04:48,  1.28s/it]"
     ]
    },
    {
     "name": "stdout",
     "output_type": "stream",
     "text": [
      "Frame ID: 61 \tTime: 88.50 seconds\n"
     ]
    },
    {
     "name": "stderr",
     "output_type": "stream",
     "text": [
      "\r",
      " 21%|█████████████████▎                                                               | 61/285 [01:29<04:46,  1.28s/it]"
     ]
    },
    {
     "name": "stdout",
     "output_type": "stream",
     "text": [
      "Frame ID: 62 \tTime: 89.77 seconds\n"
     ]
    },
    {
     "name": "stderr",
     "output_type": "stream",
     "text": [
      "\r",
      " 22%|█████████████████▌                                                               | 62/285 [01:30<04:41,  1.26s/it]"
     ]
    },
    {
     "name": "stdout",
     "output_type": "stream",
     "text": [
      "Frame ID: 63 \tTime: 91.00 seconds\n"
     ]
    },
    {
     "name": "stderr",
     "output_type": "stream",
     "text": [
      "\r",
      " 22%|█████████████████▉                                                               | 63/285 [01:32<04:39,  1.26s/it]"
     ]
    },
    {
     "name": "stdout",
     "output_type": "stream",
     "text": [
      "Frame ID: 64 \tTime: 92.24 seconds\n"
     ]
    },
    {
     "name": "stderr",
     "output_type": "stream",
     "text": [
      "\r",
      " 22%|██████████████████▏                                                              | 64/285 [01:33<04:37,  1.26s/it]"
     ]
    },
    {
     "name": "stdout",
     "output_type": "stream",
     "text": [
      "Frame ID: 65 \tTime: 93.50 seconds\n"
     ]
    },
    {
     "name": "stderr",
     "output_type": "stream",
     "text": [
      "\r",
      " 23%|██████████████████▍                                                              | 65/285 [01:34<04:52,  1.33s/it]"
     ]
    },
    {
     "name": "stdout",
     "output_type": "stream",
     "text": [
      "Frame ID: 66 \tTime: 95.00 seconds\n"
     ]
    },
    {
     "name": "stderr",
     "output_type": "stream",
     "text": [
      "\r",
      " 23%|██████████████████▊                                                              | 66/285 [01:36<04:48,  1.32s/it]"
     ]
    },
    {
     "name": "stdout",
     "output_type": "stream",
     "text": [
      "Frame ID: 67 \tTime: 96.29 seconds\n"
     ]
    },
    {
     "name": "stderr",
     "output_type": "stream",
     "text": [
      "\r",
      " 24%|███████████████████                                                              | 67/285 [01:37<04:45,  1.31s/it]"
     ]
    },
    {
     "name": "stdout",
     "output_type": "stream",
     "text": [
      "Frame ID: 68 \tTime: 97.57 seconds\n"
     ]
    },
    {
     "name": "stderr",
     "output_type": "stream",
     "text": [
      "\r",
      " 24%|███████████████████▎                                                             | 68/285 [01:38<04:41,  1.30s/it]"
     ]
    },
    {
     "name": "stdout",
     "output_type": "stream",
     "text": [
      "Frame ID: 69 \tTime: 98.85 seconds\n"
     ]
    },
    {
     "name": "stderr",
     "output_type": "stream",
     "text": [
      "\r",
      " 24%|███████████████████▌                                                             | 69/285 [01:40<04:37,  1.28s/it]"
     ]
    },
    {
     "name": "stdout",
     "output_type": "stream",
     "text": [
      "Frame ID: 70 \tTime: 100.10 seconds\n"
     ]
    },
    {
     "name": "stderr",
     "output_type": "stream",
     "text": [
      "\r",
      " 25%|███████████████████▉                                                             | 70/285 [01:41<04:36,  1.28s/it]"
     ]
    },
    {
     "name": "stdout",
     "output_type": "stream",
     "text": [
      "Frame ID: 71 \tTime: 101.38 seconds\n"
     ]
    },
    {
     "name": "stderr",
     "output_type": "stream",
     "text": [
      "\r",
      " 25%|████████████████████▏                                                            | 71/285 [01:42<04:32,  1.27s/it]"
     ]
    },
    {
     "name": "stdout",
     "output_type": "stream",
     "text": [
      "Frame ID: 72 \tTime: 102.63 seconds\n"
     ]
    },
    {
     "name": "stderr",
     "output_type": "stream",
     "text": [
      "\r",
      " 25%|████████████████████▍                                                            | 72/285 [01:43<04:32,  1.28s/it]"
     ]
    },
    {
     "name": "stdout",
     "output_type": "stream",
     "text": [
      "Frame ID: 73 \tTime: 103.92 seconds\n"
     ]
    },
    {
     "name": "stderr",
     "output_type": "stream",
     "text": [
      "\r",
      " 26%|████████████████████▋                                                            | 73/285 [01:45<04:45,  1.35s/it]"
     ]
    },
    {
     "name": "stdout",
     "output_type": "stream",
     "text": [
      "Frame ID: 74 \tTime: 105.42 seconds\n"
     ]
    },
    {
     "name": "stderr",
     "output_type": "stream",
     "text": [
      "\r",
      " 26%|█████████████████████                                                            | 74/285 [01:46<04:37,  1.32s/it]"
     ]
    },
    {
     "name": "stdout",
     "output_type": "stream",
     "text": [
      "Frame ID: 75 \tTime: 106.68 seconds\n"
     ]
    },
    {
     "name": "stderr",
     "output_type": "stream",
     "text": [
      "\r",
      " 26%|█████████████████████▎                                                           | 75/285 [01:47<04:34,  1.31s/it]"
     ]
    },
    {
     "name": "stdout",
     "output_type": "stream",
     "text": [
      "Frame ID: 76 \tTime: 107.96 seconds\n"
     ]
    },
    {
     "name": "stderr",
     "output_type": "stream",
     "text": [
      "\r",
      " 27%|█████████████████████▌                                                           | 76/285 [01:49<04:32,  1.30s/it]"
     ]
    },
    {
     "name": "stdout",
     "output_type": "stream",
     "text": [
      "Frame ID: 77 \tTime: 109.25 seconds\n"
     ]
    },
    {
     "name": "stderr",
     "output_type": "stream",
     "text": [
      "\r",
      " 27%|█████████████████████▉                                                           | 77/285 [01:50<04:29,  1.30s/it]"
     ]
    },
    {
     "name": "stdout",
     "output_type": "stream",
     "text": [
      "Frame ID: 78 \tTime: 110.53 seconds\n"
     ]
    },
    {
     "name": "stderr",
     "output_type": "stream",
     "text": [
      "\r",
      " 27%|██████████████████████▏                                                          | 78/285 [01:51<04:28,  1.30s/it]"
     ]
    },
    {
     "name": "stdout",
     "output_type": "stream",
     "text": [
      "Frame ID: 79 \tTime: 111.83 seconds\n"
     ]
    },
    {
     "name": "stderr",
     "output_type": "stream",
     "text": [
      "\r",
      " 28%|██████████████████████▍                                                          | 79/285 [01:53<04:25,  1.29s/it]"
     ]
    },
    {
     "name": "stdout",
     "output_type": "stream",
     "text": [
      "Frame ID: 80 \tTime: 113.11 seconds\n"
     ]
    },
    {
     "name": "stderr",
     "output_type": "stream",
     "text": [
      "\r",
      " 28%|██████████████████████▋                                                          | 80/285 [01:54<04:36,  1.35s/it]"
     ]
    },
    {
     "name": "stdout",
     "output_type": "stream",
     "text": [
      "Frame ID: 81 \tTime: 114.60 seconds\n"
     ]
    },
    {
     "name": "stderr",
     "output_type": "stream",
     "text": [
      "\r",
      " 28%|███████████████████████                                                          | 81/285 [01:55<04:28,  1.32s/it]"
     ]
    },
    {
     "name": "stdout",
     "output_type": "stream",
     "text": [
      "Frame ID: 82 \tTime: 115.83 seconds\n"
     ]
    },
    {
     "name": "stderr",
     "output_type": "stream",
     "text": [
      "\r",
      " 29%|███████████████████████▎                                                         | 82/285 [01:57<04:22,  1.29s/it]"
     ]
    },
    {
     "name": "stdout",
     "output_type": "stream",
     "text": [
      "Frame ID: 83 \tTime: 117.07 seconds\n"
     ]
    },
    {
     "name": "stderr",
     "output_type": "stream",
     "text": [
      "\r",
      " 29%|███████████████████████▌                                                         | 83/285 [01:58<04:17,  1.27s/it]"
     ]
    },
    {
     "name": "stdout",
     "output_type": "stream",
     "text": [
      "Frame ID: 84 \tTime: 118.30 seconds\n"
     ]
    },
    {
     "name": "stderr",
     "output_type": "stream",
     "text": [
      "\r",
      " 29%|███████████████████████▊                                                         | 84/285 [01:59<04:15,  1.27s/it]"
     ]
    },
    {
     "name": "stdout",
     "output_type": "stream",
     "text": [
      "Frame ID: 85 \tTime: 119.56 seconds\n"
     ]
    },
    {
     "name": "stderr",
     "output_type": "stream",
     "text": [
      "\r",
      " 30%|████████████████████████▏                                                        | 85/285 [02:00<04:11,  1.26s/it]"
     ]
    },
    {
     "name": "stdout",
     "output_type": "stream",
     "text": [
      "Frame ID: 86 \tTime: 120.80 seconds\n"
     ]
    },
    {
     "name": "stderr",
     "output_type": "stream",
     "text": [
      "\r",
      " 30%|████████████████████████▍                                                        | 86/285 [02:02<04:08,  1.25s/it]"
     ]
    },
    {
     "name": "stdout",
     "output_type": "stream",
     "text": [
      "Frame ID: 87 \tTime: 122.02 seconds\n"
     ]
    },
    {
     "name": "stderr",
     "output_type": "stream",
     "text": [
      "\r",
      " 31%|████████████████████████▋                                                        | 87/285 [02:03<04:02,  1.23s/it]"
     ]
    },
    {
     "name": "stdout",
     "output_type": "stream",
     "text": [
      "Frame ID: 88 \tTime: 123.20 seconds\n"
     ]
    },
    {
     "name": "stderr",
     "output_type": "stream",
     "text": [
      "\r",
      " 31%|█████████████████████████                                                        | 88/285 [02:04<04:00,  1.22s/it]"
     ]
    },
    {
     "name": "stdout",
     "output_type": "stream",
     "text": [
      "Frame ID: 89 \tTime: 124.40 seconds\n"
     ]
    },
    {
     "name": "stderr",
     "output_type": "stream",
     "text": [
      "\r",
      " 31%|█████████████████████████▎                                                       | 89/285 [02:05<04:10,  1.28s/it]"
     ]
    },
    {
     "name": "stdout",
     "output_type": "stream",
     "text": [
      "Frame ID: 90 \tTime: 125.81 seconds\n"
     ]
    },
    {
     "name": "stderr",
     "output_type": "stream",
     "text": [
      "\r",
      " 32%|█████████████████████████▌                                                       | 90/285 [02:06<04:02,  1.24s/it]"
     ]
    },
    {
     "name": "stdout",
     "output_type": "stream",
     "text": [
      "Frame ID: 91 \tTime: 126.98 seconds\n"
     ]
    },
    {
     "name": "stderr",
     "output_type": "stream",
     "text": [
      "\r",
      " 32%|█████████████████████████▊                                                       | 91/285 [02:08<03:57,  1.22s/it]"
     ]
    },
    {
     "name": "stdout",
     "output_type": "stream",
     "text": [
      "Frame ID: 92 \tTime: 128.15 seconds\n"
     ]
    },
    {
     "name": "stderr",
     "output_type": "stream",
     "text": [
      "\r",
      " 32%|██████████████████████████▏                                                      | 92/285 [02:09<03:53,  1.21s/it]"
     ]
    },
    {
     "name": "stdout",
     "output_type": "stream",
     "text": [
      "Frame ID: 93 \tTime: 129.33 seconds\n"
     ]
    },
    {
     "name": "stderr",
     "output_type": "stream",
     "text": [
      "\r",
      " 33%|██████████████████████████▍                                                      | 93/285 [02:10<03:51,  1.20s/it]"
     ]
    },
    {
     "name": "stdout",
     "output_type": "stream",
     "text": [
      "Frame ID: 94 \tTime: 130.52 seconds\n"
     ]
    },
    {
     "name": "stderr",
     "output_type": "stream",
     "text": [
      "\r",
      " 33%|██████████████████████████▋                                                      | 94/285 [02:11<03:49,  1.20s/it]"
     ]
    },
    {
     "name": "stdout",
     "output_type": "stream",
     "text": [
      "Frame ID: 95 \tTime: 131.72 seconds\n"
     ]
    },
    {
     "name": "stderr",
     "output_type": "stream",
     "text": [
      "\r",
      " 33%|███████████████████████████                                                      | 95/285 [02:12<03:47,  1.20s/it]"
     ]
    },
    {
     "name": "stdout",
     "output_type": "stream",
     "text": [
      "Frame ID: 96 \tTime: 132.91 seconds\n"
     ]
    },
    {
     "name": "stderr",
     "output_type": "stream",
     "text": [
      "\r",
      " 34%|███████████████████████████▎                                                     | 96/285 [02:14<03:45,  1.19s/it]"
     ]
    },
    {
     "name": "stdout",
     "output_type": "stream",
     "text": [
      "Frame ID: 97 \tTime: 134.08 seconds\n"
     ]
    },
    {
     "name": "stderr",
     "output_type": "stream",
     "text": [
      "\r",
      " 34%|███████████████████████████▌                                                     | 97/285 [02:15<03:56,  1.26s/it]"
     ]
    },
    {
     "name": "stdout",
     "output_type": "stream",
     "text": [
      "Frame ID: 98 \tTime: 135.50 seconds\n"
     ]
    },
    {
     "name": "stderr",
     "output_type": "stream",
     "text": [
      "\r",
      " 34%|███████████████████████████▊                                                     | 98/285 [02:16<03:50,  1.23s/it]"
     ]
    },
    {
     "name": "stdout",
     "output_type": "stream",
     "text": [
      "Frame ID: 99 \tTime: 136.67 seconds\n"
     ]
    },
    {
     "name": "stderr",
     "output_type": "stream",
     "text": [
      "\r",
      " 35%|████████████████████████████▏                                                    | 99/285 [02:17<03:45,  1.21s/it]"
     ]
    },
    {
     "name": "stdout",
     "output_type": "stream",
     "text": [
      "Frame ID: 100 \tTime: 137.84 seconds\n"
     ]
    },
    {
     "name": "stderr",
     "output_type": "stream",
     "text": [
      "\r",
      " 35%|████████████████████████████                                                    | 100/285 [02:19<03:43,  1.21s/it]"
     ]
    },
    {
     "name": "stdout",
     "output_type": "stream",
     "text": [
      "Frame ID: 101 \tTime: 139.03 seconds\n"
     ]
    },
    {
     "name": "stderr",
     "output_type": "stream",
     "text": [
      "\r",
      " 35%|████████████████████████████▎                                                   | 101/285 [02:20<03:40,  1.20s/it]"
     ]
    },
    {
     "name": "stdout",
     "output_type": "stream",
     "text": [
      "Frame ID: 102 \tTime: 140.22 seconds\n"
     ]
    },
    {
     "name": "stderr",
     "output_type": "stream",
     "text": [
      "\r",
      " 36%|████████████████████████████▋                                                   | 102/285 [02:21<03:39,  1.20s/it]"
     ]
    },
    {
     "name": "stdout",
     "output_type": "stream",
     "text": [
      "Frame ID: 103 \tTime: 141.41 seconds\n"
     ]
    },
    {
     "name": "stderr",
     "output_type": "stream",
     "text": [
      "\r",
      " 36%|████████████████████████████▉                                                   | 103/285 [02:22<03:36,  1.19s/it]"
     ]
    },
    {
     "name": "stdout",
     "output_type": "stream",
     "text": [
      "Frame ID: 104 \tTime: 142.59 seconds\n"
     ]
    },
    {
     "name": "stderr",
     "output_type": "stream",
     "text": [
      "\r",
      " 36%|█████████████████████████████▏                                                  | 104/285 [02:23<03:35,  1.19s/it]"
     ]
    },
    {
     "name": "stdout",
     "output_type": "stream",
     "text": [
      "Frame ID: 105 \tTime: 143.78 seconds\n"
     ]
    },
    {
     "name": "stderr",
     "output_type": "stream",
     "text": [
      "\r",
      " 37%|█████████████████████████████▍                                                  | 105/285 [02:25<03:45,  1.25s/it]"
     ]
    },
    {
     "name": "stdout",
     "output_type": "stream",
     "text": [
      "Frame ID: 106 \tTime: 145.18 seconds\n"
     ]
    },
    {
     "name": "stderr",
     "output_type": "stream",
     "text": [
      "\r",
      " 37%|█████████████████████████████▊                                                  | 106/285 [02:26<03:39,  1.23s/it]"
     ]
    },
    {
     "name": "stdout",
     "output_type": "stream",
     "text": [
      "Frame ID: 107 \tTime: 146.34 seconds\n"
     ]
    },
    {
     "name": "stderr",
     "output_type": "stream",
     "text": [
      "\r",
      " 38%|██████████████████████████████                                                  | 107/285 [02:27<03:35,  1.21s/it]"
     ]
    },
    {
     "name": "stdout",
     "output_type": "stream",
     "text": [
      "Frame ID: 108 \tTime: 147.52 seconds\n"
     ]
    },
    {
     "name": "stderr",
     "output_type": "stream",
     "text": [
      "\r",
      " 38%|██████████████████████████████▎                                                 | 108/285 [02:28<03:32,  1.20s/it]"
     ]
    },
    {
     "name": "stdout",
     "output_type": "stream",
     "text": [
      "Frame ID: 109 \tTime: 148.70 seconds\n"
     ]
    },
    {
     "name": "stderr",
     "output_type": "stream",
     "text": [
      "\r",
      " 38%|██████████████████████████████▌                                                 | 109/285 [02:29<03:29,  1.19s/it]"
     ]
    },
    {
     "name": "stdout",
     "output_type": "stream",
     "text": [
      "Frame ID: 110 \tTime: 149.87 seconds\n"
     ]
    },
    {
     "name": "stderr",
     "output_type": "stream",
     "text": [
      "\r",
      " 39%|██████████████████████████████▉                                                 | 110/285 [02:31<03:27,  1.19s/it]"
     ]
    },
    {
     "name": "stdout",
     "output_type": "stream",
     "text": [
      "Frame ID: 111 \tTime: 151.05 seconds\n"
     ]
    },
    {
     "name": "stderr",
     "output_type": "stream",
     "text": [
      "\r",
      " 39%|███████████████████████████████▏                                                | 111/285 [02:32<03:26,  1.19s/it]"
     ]
    },
    {
     "name": "stdout",
     "output_type": "stream",
     "text": [
      "Frame ID: 112 \tTime: 152.24 seconds\n"
     ]
    },
    {
     "name": "stderr",
     "output_type": "stream",
     "text": [
      "\r",
      " 39%|███████████████████████████████▍                                                | 112/285 [02:33<03:25,  1.19s/it]"
     ]
    },
    {
     "name": "stdout",
     "output_type": "stream",
     "text": [
      "Frame ID: 113 \tTime: 153.42 seconds\n"
     ]
    },
    {
     "name": "stderr",
     "output_type": "stream",
     "text": [
      "\r",
      " 40%|███████████████████████████████▋                                                | 113/285 [02:34<03:35,  1.26s/it]"
     ]
    },
    {
     "name": "stdout",
     "output_type": "stream",
     "text": [
      "Frame ID: 114 \tTime: 154.84 seconds\n"
     ]
    },
    {
     "name": "stderr",
     "output_type": "stream",
     "text": [
      "\r",
      " 40%|████████████████████████████████                                                | 114/285 [02:35<03:30,  1.23s/it]"
     ]
    },
    {
     "name": "stdout",
     "output_type": "stream",
     "text": [
      "Frame ID: 115 \tTime: 156.01 seconds\n"
     ]
    },
    {
     "name": "stderr",
     "output_type": "stream",
     "text": [
      "\r",
      " 40%|████████████████████████████████▎                                               | 115/285 [02:37<03:25,  1.21s/it]"
     ]
    },
    {
     "name": "stdout",
     "output_type": "stream",
     "text": [
      "Frame ID: 116 \tTime: 157.18 seconds\n"
     ]
    },
    {
     "name": "stderr",
     "output_type": "stream",
     "text": [
      "\r",
      " 41%|████████████████████████████████▌                                               | 116/285 [02:38<03:23,  1.20s/it]"
     ]
    },
    {
     "name": "stdout",
     "output_type": "stream",
     "text": [
      "Frame ID: 117 \tTime: 158.36 seconds\n"
     ]
    },
    {
     "name": "stderr",
     "output_type": "stream",
     "text": [
      "\r",
      " 41%|████████████████████████████████▊                                               | 117/285 [02:39<03:20,  1.19s/it]"
     ]
    },
    {
     "name": "stdout",
     "output_type": "stream",
     "text": [
      "Frame ID: 118 \tTime: 159.53 seconds\n"
     ]
    },
    {
     "name": "stderr",
     "output_type": "stream",
     "text": [
      "\r",
      " 41%|█████████████████████████████████                                               | 118/285 [02:40<03:18,  1.19s/it]"
     ]
    },
    {
     "name": "stdout",
     "output_type": "stream",
     "text": [
      "Frame ID: 119 \tTime: 160.71 seconds\n"
     ]
    },
    {
     "name": "stderr",
     "output_type": "stream",
     "text": [
      "\r",
      " 42%|█████████████████████████████████▍                                              | 119/285 [02:41<03:17,  1.19s/it]"
     ]
    },
    {
     "name": "stdout",
     "output_type": "stream",
     "text": [
      "Frame ID: 120 \tTime: 161.91 seconds\n"
     ]
    },
    {
     "name": "stderr",
     "output_type": "stream",
     "text": [
      "\r",
      " 42%|█████████████████████████████████▋                                              | 120/285 [02:43<03:16,  1.19s/it]"
     ]
    },
    {
     "name": "stdout",
     "output_type": "stream",
     "text": [
      "Frame ID: 121 \tTime: 163.11 seconds\n"
     ]
    },
    {
     "name": "stderr",
     "output_type": "stream",
     "text": [
      "\r",
      " 42%|█████████████████████████████████▉                                              | 121/285 [02:44<03:26,  1.26s/it]"
     ]
    },
    {
     "name": "stdout",
     "output_type": "stream",
     "text": [
      "Frame ID: 122 \tTime: 164.52 seconds\n"
     ]
    },
    {
     "name": "stderr",
     "output_type": "stream",
     "text": [
      "\r",
      " 43%|██████████████████████████████████▏                                             | 122/285 [02:45<03:21,  1.24s/it]"
     ]
    },
    {
     "name": "stdout",
     "output_type": "stream",
     "text": [
      "Frame ID: 123 \tTime: 165.71 seconds\n"
     ]
    },
    {
     "name": "stderr",
     "output_type": "stream",
     "text": [
      "\r",
      " 43%|██████████████████████████████████▌                                             | 123/285 [02:46<03:15,  1.21s/it]"
     ]
    },
    {
     "name": "stdout",
     "output_type": "stream",
     "text": [
      "Frame ID: 124 \tTime: 166.84 seconds\n"
     ]
    },
    {
     "name": "stderr",
     "output_type": "stream",
     "text": [
      "\r",
      " 44%|██████████████████████████████████▊                                             | 124/285 [02:47<03:10,  1.18s/it]"
     ]
    },
    {
     "name": "stdout",
     "output_type": "stream",
     "text": [
      "Frame ID: 125 \tTime: 167.96 seconds\n"
     ]
    },
    {
     "name": "stderr",
     "output_type": "stream",
     "text": [
      "\r",
      " 44%|███████████████████████████████████                                             | 125/285 [02:49<03:06,  1.16s/it]"
     ]
    },
    {
     "name": "stdout",
     "output_type": "stream",
     "text": [
      "Frame ID: 126 \tTime: 169.09 seconds\n"
     ]
    },
    {
     "name": "stderr",
     "output_type": "stream",
     "text": [
      "\r",
      " 44%|███████████████████████████████████▎                                            | 126/285 [02:50<03:03,  1.15s/it]"
     ]
    },
    {
     "name": "stdout",
     "output_type": "stream",
     "text": [
      "Frame ID: 127 \tTime: 170.21 seconds\n"
     ]
    },
    {
     "name": "stderr",
     "output_type": "stream",
     "text": [
      "\r",
      " 45%|███████████████████████████████████▋                                            | 127/285 [02:51<03:00,  1.14s/it]"
     ]
    },
    {
     "name": "stdout",
     "output_type": "stream",
     "text": [
      "Frame ID: 128 \tTime: 171.33 seconds\n"
     ]
    },
    {
     "name": "stderr",
     "output_type": "stream",
     "text": [
      "\r",
      " 45%|███████████████████████████████████▉                                            | 128/285 [02:52<02:59,  1.14s/it]"
     ]
    },
    {
     "name": "stdout",
     "output_type": "stream",
     "text": [
      "Frame ID: 129 \tTime: 172.47 seconds\n"
     ]
    },
    {
     "name": "stderr",
     "output_type": "stream",
     "text": [
      "\r",
      " 45%|████████████████████████████████████▏                                           | 129/285 [02:53<03:08,  1.21s/it]"
     ]
    },
    {
     "name": "stdout",
     "output_type": "stream",
     "text": [
      "Frame ID: 130 \tTime: 173.83 seconds\n"
     ]
    },
    {
     "name": "stderr",
     "output_type": "stream",
     "text": [
      "\r",
      " 46%|████████████████████████████████████▍                                           | 130/285 [02:54<03:05,  1.19s/it]"
     ]
    },
    {
     "name": "stdout",
     "output_type": "stream",
     "text": [
      "Frame ID: 131 \tTime: 174.99 seconds\n"
     ]
    },
    {
     "name": "stderr",
     "output_type": "stream",
     "text": [
      "\r",
      " 46%|████████████████████████████████████▊                                           | 131/285 [02:56<03:01,  1.18s/it]"
     ]
    },
    {
     "name": "stdout",
     "output_type": "stream",
     "text": [
      "Frame ID: 132 \tTime: 176.13 seconds\n"
     ]
    },
    {
     "name": "stderr",
     "output_type": "stream",
     "text": [
      "\r",
      " 46%|█████████████████████████████████████                                           | 132/285 [02:57<02:58,  1.16s/it]"
     ]
    },
    {
     "name": "stdout",
     "output_type": "stream",
     "text": [
      "Frame ID: 133 \tTime: 177.26 seconds\n"
     ]
    },
    {
     "name": "stderr",
     "output_type": "stream",
     "text": [
      "\r",
      " 47%|█████████████████████████████████████▎                                          | 133/285 [02:58<02:55,  1.15s/it]"
     ]
    },
    {
     "name": "stdout",
     "output_type": "stream",
     "text": [
      "Frame ID: 134 \tTime: 178.39 seconds\n"
     ]
    },
    {
     "name": "stderr",
     "output_type": "stream",
     "text": [
      "\r",
      " 47%|█████████████████████████████████████▌                                          | 134/285 [02:59<02:53,  1.15s/it]"
     ]
    },
    {
     "name": "stdout",
     "output_type": "stream",
     "text": [
      "Frame ID: 135 \tTime: 179.54 seconds\n"
     ]
    },
    {
     "name": "stderr",
     "output_type": "stream",
     "text": [
      "\r",
      " 47%|█████████████████████████████████████▉                                          | 135/285 [03:00<02:51,  1.14s/it]"
     ]
    },
    {
     "name": "stdout",
     "output_type": "stream",
     "text": [
      "Frame ID: 136 \tTime: 180.66 seconds\n"
     ]
    },
    {
     "name": "stderr",
     "output_type": "stream",
     "text": [
      "\r",
      " 48%|██████████████████████████████████████▏                                         | 136/285 [03:01<02:49,  1.14s/it]"
     ]
    },
    {
     "name": "stdout",
     "output_type": "stream",
     "text": [
      "Frame ID: 137 \tTime: 181.79 seconds\n"
     ]
    },
    {
     "name": "stderr",
     "output_type": "stream",
     "text": [
      "\r",
      " 48%|██████████████████████████████████████▍                                         | 137/285 [03:03<02:57,  1.20s/it]"
     ]
    },
    {
     "name": "stdout",
     "output_type": "stream",
     "text": [
      "Frame ID: 138 \tTime: 183.12 seconds\n"
     ]
    },
    {
     "name": "stderr",
     "output_type": "stream",
     "text": [
      "\r",
      " 48%|██████████████████████████████████████▋                                         | 138/285 [03:04<02:52,  1.18s/it]"
     ]
    },
    {
     "name": "stdout",
     "output_type": "stream",
     "text": [
      "Frame ID: 139 \tTime: 184.25 seconds\n"
     ]
    },
    {
     "name": "stderr",
     "output_type": "stream",
     "text": [
      "\r",
      " 49%|███████████████████████████████████████                                         | 139/285 [03:05<02:49,  1.16s/it]"
     ]
    },
    {
     "name": "stdout",
     "output_type": "stream",
     "text": [
      "Frame ID: 140 \tTime: 185.38 seconds\n"
     ]
    },
    {
     "name": "stderr",
     "output_type": "stream",
     "text": [
      "\r",
      " 49%|███████████████████████████████████████▎                                        | 140/285 [03:06<02:46,  1.15s/it]"
     ]
    },
    {
     "name": "stdout",
     "output_type": "stream",
     "text": [
      "Frame ID: 141 \tTime: 186.50 seconds\n"
     ]
    },
    {
     "name": "stderr",
     "output_type": "stream",
     "text": [
      "\r",
      " 49%|███████████████████████████████████████▌                                        | 141/285 [03:07<02:44,  1.14s/it]"
     ]
    },
    {
     "name": "stdout",
     "output_type": "stream",
     "text": [
      "Frame ID: 142 \tTime: 187.62 seconds\n"
     ]
    },
    {
     "name": "stderr",
     "output_type": "stream",
     "text": [
      "\r",
      " 50%|███████████████████████████████████████▊                                        | 142/285 [03:08<02:42,  1.14s/it]"
     ]
    },
    {
     "name": "stdout",
     "output_type": "stream",
     "text": [
      "Frame ID: 143 \tTime: 188.75 seconds\n"
     ]
    },
    {
     "name": "stderr",
     "output_type": "stream",
     "text": [
      "\r",
      " 50%|████████████████████████████████████████▏                                       | 143/285 [03:09<02:40,  1.13s/it]"
     ]
    },
    {
     "name": "stdout",
     "output_type": "stream",
     "text": [
      "Frame ID: 144 \tTime: 189.87 seconds\n"
     ]
    },
    {
     "name": "stderr",
     "output_type": "stream",
     "text": [
      "\r",
      " 51%|████████████████████████████████████████▍                                       | 144/285 [03:10<02:39,  1.13s/it]"
     ]
    },
    {
     "name": "stdout",
     "output_type": "stream",
     "text": [
      "Frame ID: 145 \tTime: 191.00 seconds\n"
     ]
    },
    {
     "name": "stderr",
     "output_type": "stream",
     "text": [
      "\r",
      " 51%|████████████████████████████████████████▋                                       | 145/285 [03:12<02:49,  1.21s/it]"
     ]
    },
    {
     "name": "stdout",
     "output_type": "stream",
     "text": [
      "Frame ID: 146 \tTime: 192.39 seconds\n"
     ]
    },
    {
     "name": "stderr",
     "output_type": "stream",
     "text": [
      "\r",
      " 51%|████████████████████████████████████████▉                                       | 146/285 [03:13<02:47,  1.20s/it]"
     ]
    },
    {
     "name": "stdout",
     "output_type": "stream",
     "text": [
      "Frame ID: 147 \tTime: 193.58 seconds\n"
     ]
    },
    {
     "name": "stderr",
     "output_type": "stream",
     "text": [
      "\r",
      " 52%|█████████████████████████████████████████▎                                      | 147/285 [03:14<02:46,  1.21s/it]"
     ]
    },
    {
     "name": "stdout",
     "output_type": "stream",
     "text": [
      "Frame ID: 148 \tTime: 194.80 seconds\n"
     ]
    },
    {
     "name": "stderr",
     "output_type": "stream",
     "text": [
      "\r",
      " 52%|█████████████████████████████████████████▌                                      | 148/285 [03:15<02:45,  1.20s/it]"
     ]
    },
    {
     "name": "stdout",
     "output_type": "stream",
     "text": [
      "Frame ID: 149 \tTime: 196.00 seconds\n"
     ]
    },
    {
     "name": "stderr",
     "output_type": "stream",
     "text": [
      "\r",
      " 52%|█████████████████████████████████████████▊                                      | 149/285 [03:17<02:43,  1.20s/it]"
     ]
    },
    {
     "name": "stdout",
     "output_type": "stream",
     "text": [
      "Frame ID: 150 \tTime: 197.19 seconds\n"
     ]
    },
    {
     "name": "stderr",
     "output_type": "stream",
     "text": [
      "\r",
      " 53%|██████████████████████████████████████████                                      | 150/285 [03:18<02:43,  1.21s/it]"
     ]
    },
    {
     "name": "stdout",
     "output_type": "stream",
     "text": [
      "Frame ID: 151 \tTime: 198.42 seconds\n"
     ]
    },
    {
     "name": "stderr",
     "output_type": "stream",
     "text": [
      "\r",
      " 53%|██████████████████████████████████████████▍                                     | 151/285 [03:19<02:41,  1.21s/it]"
     ]
    },
    {
     "name": "stdout",
     "output_type": "stream",
     "text": [
      "Frame ID: 152 \tTime: 199.62 seconds\n"
     ]
    },
    {
     "name": "stderr",
     "output_type": "stream",
     "text": [
      "\r",
      " 53%|██████████████████████████████████████████▋                                     | 152/285 [03:20<02:40,  1.21s/it]"
     ]
    },
    {
     "name": "stdout",
     "output_type": "stream",
     "text": [
      "Frame ID: 153 \tTime: 200.82 seconds\n"
     ]
    },
    {
     "name": "stderr",
     "output_type": "stream",
     "text": [
      "\r",
      " 54%|██████████████████████████████████████████▉                                     | 153/285 [03:22<02:48,  1.28s/it]"
     ]
    },
    {
     "name": "stdout",
     "output_type": "stream",
     "text": [
      "Frame ID: 154 \tTime: 202.27 seconds\n"
     ]
    },
    {
     "name": "stderr",
     "output_type": "stream",
     "text": [
      "\r",
      " 54%|███████████████████████████████████████████▏                                    | 154/285 [03:23<02:46,  1.27s/it]"
     ]
    },
    {
     "name": "stdout",
     "output_type": "stream",
     "text": [
      "Frame ID: 155 \tTime: 203.51 seconds\n"
     ]
    },
    {
     "name": "stderr",
     "output_type": "stream",
     "text": [
      "\r",
      " 54%|███████████████████████████████████████████▌                                    | 155/285 [03:24<02:42,  1.25s/it]"
     ]
    },
    {
     "name": "stdout",
     "output_type": "stream",
     "text": [
      "Frame ID: 156 \tTime: 204.73 seconds\n"
     ]
    },
    {
     "name": "stderr",
     "output_type": "stream",
     "text": [
      "\r",
      " 55%|███████████████████████████████████████████▊                                    | 156/285 [03:25<02:39,  1.24s/it]"
     ]
    },
    {
     "name": "stdout",
     "output_type": "stream",
     "text": [
      "Frame ID: 157 \tTime: 205.93 seconds\n"
     ]
    },
    {
     "name": "stderr",
     "output_type": "stream",
     "text": [
      "\r",
      " 55%|████████████████████████████████████████████                                    | 157/285 [03:27<02:38,  1.24s/it]"
     ]
    },
    {
     "name": "stdout",
     "output_type": "stream",
     "text": [
      "Frame ID: 158 \tTime: 207.16 seconds\n"
     ]
    },
    {
     "name": "stderr",
     "output_type": "stream",
     "text": [
      "\r",
      " 55%|████████████████████████████████████████████▎                                   | 158/285 [03:28<02:38,  1.24s/it]"
     ]
    },
    {
     "name": "stdout",
     "output_type": "stream",
     "text": [
      "Frame ID: 159 \tTime: 208.43 seconds\n"
     ]
    },
    {
     "name": "stderr",
     "output_type": "stream",
     "text": [
      "\r",
      " 56%|████████████████████████████████████████████▋                                   | 159/285 [03:29<02:34,  1.23s/it]"
     ]
    },
    {
     "name": "stdout",
     "output_type": "stream",
     "text": [
      "Frame ID: 160 \tTime: 209.62 seconds\n"
     ]
    },
    {
     "name": "stderr",
     "output_type": "stream",
     "text": [
      "\r",
      " 56%|████████████████████████████████████████████▉                                   | 160/285 [03:31<02:42,  1.30s/it]"
     ]
    },
    {
     "name": "stdout",
     "output_type": "stream",
     "text": [
      "Frame ID: 161 \tTime: 211.08 seconds\n"
     ]
    },
    {
     "name": "stderr",
     "output_type": "stream",
     "text": [
      "\r",
      " 56%|█████████████████████████████████████████████▏                                  | 161/285 [03:32<02:38,  1.28s/it]"
     ]
    },
    {
     "name": "stdout",
     "output_type": "stream",
     "text": [
      "Frame ID: 162 \tTime: 212.30 seconds\n"
     ]
    },
    {
     "name": "stderr",
     "output_type": "stream",
     "text": [
      "\r",
      " 57%|█████████████████████████████████████████████▍                                  | 162/285 [03:33<02:34,  1.26s/it]"
     ]
    },
    {
     "name": "stdout",
     "output_type": "stream",
     "text": [
      "Frame ID: 163 \tTime: 213.52 seconds\n"
     ]
    },
    {
     "name": "stderr",
     "output_type": "stream",
     "text": [
      "\r",
      " 57%|█████████████████████████████████████████████▊                                  | 163/285 [03:34<02:32,  1.25s/it]"
     ]
    },
    {
     "name": "stdout",
     "output_type": "stream",
     "text": [
      "Frame ID: 164 \tTime: 214.76 seconds\n"
     ]
    },
    {
     "name": "stderr",
     "output_type": "stream",
     "text": [
      "\r",
      " 58%|██████████████████████████████████████████████                                  | 164/285 [03:35<02:30,  1.24s/it]"
     ]
    },
    {
     "name": "stdout",
     "output_type": "stream",
     "text": [
      "Frame ID: 165 \tTime: 215.98 seconds\n"
     ]
    },
    {
     "name": "stderr",
     "output_type": "stream",
     "text": [
      "\r",
      " 58%|██████████████████████████████████████████████▎                                 | 165/285 [03:37<02:28,  1.24s/it]"
     ]
    },
    {
     "name": "stdout",
     "output_type": "stream",
     "text": [
      "Frame ID: 166 \tTime: 217.21 seconds\n"
     ]
    },
    {
     "name": "stderr",
     "output_type": "stream",
     "text": [
      "\r",
      " 58%|██████████████████████████████████████████████▌                                 | 166/285 [03:38<02:27,  1.24s/it]"
     ]
    },
    {
     "name": "stdout",
     "output_type": "stream",
     "text": [
      "Frame ID: 167 \tTime: 218.44 seconds\n"
     ]
    },
    {
     "name": "stderr",
     "output_type": "stream",
     "text": [
      "\r",
      " 59%|██████████████████████████████████████████████▉                                 | 167/285 [03:39<02:25,  1.23s/it]"
     ]
    },
    {
     "name": "stdout",
     "output_type": "stream",
     "text": [
      "Frame ID: 168 \tTime: 219.67 seconds\n"
     ]
    },
    {
     "name": "stderr",
     "output_type": "stream",
     "text": [
      "\r",
      " 59%|███████████████████████████████████████████████▏                                | 168/285 [03:40<02:24,  1.23s/it]"
     ]
    },
    {
     "name": "stdout",
     "output_type": "stream",
     "text": [
      "Frame ID: 169 \tTime: 220.90 seconds\n"
     ]
    },
    {
     "name": "stderr",
     "output_type": "stream",
     "text": [
      "\r",
      " 59%|███████████████████████████████████████████████▍                                | 169/285 [03:42<02:30,  1.30s/it]"
     ]
    },
    {
     "name": "stdout",
     "output_type": "stream",
     "text": [
      "Frame ID: 170 \tTime: 222.35 seconds\n"
     ]
    },
    {
     "name": "stderr",
     "output_type": "stream",
     "text": [
      "\r",
      " 60%|███████████████████████████████████████████████▋                                | 170/285 [03:43<02:27,  1.28s/it]"
     ]
    },
    {
     "name": "stdout",
     "output_type": "stream",
     "text": [
      "Frame ID: 171 \tTime: 223.58 seconds\n"
     ]
    },
    {
     "name": "stderr",
     "output_type": "stream",
     "text": [
      "\r",
      " 60%|████████████████████████████████████████████████                                | 171/285 [03:44<02:24,  1.27s/it]"
     ]
    },
    {
     "name": "stdout",
     "output_type": "stream",
     "text": [
      "Frame ID: 172 \tTime: 224.83 seconds\n"
     ]
    },
    {
     "name": "stderr",
     "output_type": "stream",
     "text": [
      "\r",
      " 60%|████████████████████████████████████████████████▎                               | 172/285 [03:46<02:22,  1.26s/it]"
     ]
    },
    {
     "name": "stdout",
     "output_type": "stream",
     "text": [
      "Frame ID: 173 \tTime: 226.07 seconds\n"
     ]
    },
    {
     "name": "stderr",
     "output_type": "stream",
     "text": [
      "\r",
      " 61%|████████████████████████████████████████████████▌                               | 173/285 [03:47<02:19,  1.25s/it]"
     ]
    },
    {
     "name": "stdout",
     "output_type": "stream",
     "text": [
      "Frame ID: 174 \tTime: 227.29 seconds\n"
     ]
    },
    {
     "name": "stderr",
     "output_type": "stream",
     "text": [
      "\r",
      " 61%|████████████████████████████████████████████████▊                               | 174/285 [03:48<02:17,  1.24s/it]"
     ]
    },
    {
     "name": "stdout",
     "output_type": "stream",
     "text": [
      "Frame ID: 175 \tTime: 228.52 seconds\n"
     ]
    },
    {
     "name": "stderr",
     "output_type": "stream",
     "text": [
      "\r",
      " 61%|█████████████████████████████████████████████████                               | 175/285 [03:49<02:16,  1.24s/it]"
     ]
    },
    {
     "name": "stdout",
     "output_type": "stream",
     "text": [
      "Frame ID: 176 \tTime: 229.74 seconds\n"
     ]
    },
    {
     "name": "stderr",
     "output_type": "stream",
     "text": [
      "\r",
      " 62%|█████████████████████████████████████████████████▍                              | 176/285 [03:50<02:13,  1.22s/it]"
     ]
    },
    {
     "name": "stdout",
     "output_type": "stream",
     "text": [
      "Frame ID: 177 \tTime: 230.94 seconds\n"
     ]
    },
    {
     "name": "stderr",
     "output_type": "stream",
     "text": [
      "\r",
      " 62%|█████████████████████████████████████████████████▋                              | 177/285 [03:52<02:19,  1.29s/it]"
     ]
    },
    {
     "name": "stdout",
     "output_type": "stream",
     "text": [
      "Frame ID: 178 \tTime: 232.38 seconds\n"
     ]
    },
    {
     "name": "stderr",
     "output_type": "stream",
     "text": [
      "\r",
      " 62%|█████████████████████████████████████████████████▉                              | 178/285 [03:53<02:15,  1.27s/it]"
     ]
    },
    {
     "name": "stdout",
     "output_type": "stream",
     "text": [
      "Frame ID: 179 \tTime: 233.60 seconds\n"
     ]
    },
    {
     "name": "stderr",
     "output_type": "stream",
     "text": [
      "\r",
      " 63%|██████████████████████████████████████████████████▏                             | 179/285 [03:54<02:13,  1.26s/it]"
     ]
    },
    {
     "name": "stdout",
     "output_type": "stream",
     "text": [
      "Frame ID: 180 \tTime: 234.82 seconds\n"
     ]
    },
    {
     "name": "stderr",
     "output_type": "stream",
     "text": [
      "\r",
      " 63%|██████████████████████████████████████████████████▌                             | 180/285 [03:56<02:10,  1.25s/it]"
     ]
    },
    {
     "name": "stdout",
     "output_type": "stream",
     "text": [
      "Frame ID: 181 \tTime: 236.05 seconds\n"
     ]
    },
    {
     "name": "stderr",
     "output_type": "stream",
     "text": [
      "\r",
      " 64%|██████████████████████████████████████████████████▊                             | 181/285 [03:57<02:08,  1.24s/it]"
     ]
    },
    {
     "name": "stdout",
     "output_type": "stream",
     "text": [
      "Frame ID: 182 \tTime: 237.27 seconds\n"
     ]
    },
    {
     "name": "stderr",
     "output_type": "stream",
     "text": [
      "\r",
      " 64%|███████████████████████████████████████████████████                             | 182/285 [03:58<02:07,  1.24s/it]"
     ]
    },
    {
     "name": "stdout",
     "output_type": "stream",
     "text": [
      "Frame ID: 183 \tTime: 238.50 seconds\n"
     ]
    },
    {
     "name": "stderr",
     "output_type": "stream",
     "text": [
      "\r",
      " 64%|███████████████████████████████████████████████████▎                            | 183/285 [03:59<02:05,  1.23s/it]"
     ]
    },
    {
     "name": "stdout",
     "output_type": "stream",
     "text": [
      "Frame ID: 184 \tTime: 239.72 seconds\n"
     ]
    },
    {
     "name": "stderr",
     "output_type": "stream",
     "text": [
      "\r",
      " 65%|███████████████████████████████████████████████████▋                            | 184/285 [04:00<02:03,  1.23s/it]"
     ]
    },
    {
     "name": "stdout",
     "output_type": "stream",
     "text": [
      "Frame ID: 185 \tTime: 240.94 seconds\n"
     ]
    },
    {
     "name": "stderr",
     "output_type": "stream",
     "text": [
      "\r",
      " 65%|███████████████████████████████████████████████████▉                            | 185/285 [04:02<02:09,  1.29s/it]"
     ]
    },
    {
     "name": "stdout",
     "output_type": "stream",
     "text": [
      "Frame ID: 186 \tTime: 242.38 seconds\n"
     ]
    },
    {
     "name": "stderr",
     "output_type": "stream",
     "text": [
      "\r",
      " 65%|████████████████████████████████████████████████████▏                           | 186/285 [04:03<02:04,  1.26s/it]"
     ]
    },
    {
     "name": "stdout",
     "output_type": "stream",
     "text": [
      "Frame ID: 187 \tTime: 243.57 seconds\n"
     ]
    },
    {
     "name": "stderr",
     "output_type": "stream",
     "text": [
      "\r",
      " 66%|████████████████████████████████████████████████████▍                           | 187/285 [04:04<02:01,  1.24s/it]"
     ]
    },
    {
     "name": "stdout",
     "output_type": "stream",
     "text": [
      "Frame ID: 188 \tTime: 244.75 seconds\n"
     ]
    },
    {
     "name": "stderr",
     "output_type": "stream",
     "text": [
      "\r",
      " 66%|████████████████████████████████████████████████████▊                           | 188/285 [04:05<01:59,  1.23s/it]"
     ]
    },
    {
     "name": "stdout",
     "output_type": "stream",
     "text": [
      "Frame ID: 189 \tTime: 245.97 seconds\n"
     ]
    },
    {
     "name": "stderr",
     "output_type": "stream",
     "text": [
      "\r",
      " 66%|█████████████████████████████████████████████████████                           | 189/285 [04:07<01:58,  1.23s/it]"
     ]
    },
    {
     "name": "stdout",
     "output_type": "stream",
     "text": [
      "Frame ID: 190 \tTime: 247.19 seconds\n"
     ]
    },
    {
     "name": "stderr",
     "output_type": "stream",
     "text": [
      "\r",
      " 67%|█████████████████████████████████████████████████████▎                          | 190/285 [04:08<01:56,  1.23s/it]"
     ]
    },
    {
     "name": "stdout",
     "output_type": "stream",
     "text": [
      "Frame ID: 191 \tTime: 248.41 seconds\n"
     ]
    },
    {
     "name": "stderr",
     "output_type": "stream",
     "text": [
      "\r",
      " 67%|█████████████████████████████████████████████████████▌                          | 191/285 [04:09<01:54,  1.21s/it]"
     ]
    },
    {
     "name": "stdout",
     "output_type": "stream",
     "text": [
      "Frame ID: 192 \tTime: 249.60 seconds\n"
     ]
    },
    {
     "name": "stderr",
     "output_type": "stream",
     "text": [
      "\r",
      " 67%|█████████████████████████████████████████████████████▉                          | 192/285 [04:10<01:52,  1.21s/it]"
     ]
    },
    {
     "name": "stdout",
     "output_type": "stream",
     "text": [
      "Frame ID: 193 \tTime: 250.79 seconds\n"
     ]
    },
    {
     "name": "stderr",
     "output_type": "stream",
     "text": [
      "\r",
      " 68%|██████████████████████████████████████████████████████▏                         | 193/285 [04:12<01:56,  1.27s/it]"
     ]
    },
    {
     "name": "stdout",
     "output_type": "stream",
     "text": [
      "Frame ID: 194 \tTime: 252.20 seconds\n"
     ]
    },
    {
     "name": "stderr",
     "output_type": "stream",
     "text": [
      "\r",
      " 68%|██████████████████████████████████████████████████████▍                         | 194/285 [04:13<01:53,  1.24s/it]"
     ]
    },
    {
     "name": "stdout",
     "output_type": "stream",
     "text": [
      "Frame ID: 195 \tTime: 253.39 seconds\n"
     ]
    },
    {
     "name": "stderr",
     "output_type": "stream",
     "text": [
      "\r",
      " 68%|██████████████████████████████████████████████████████▋                         | 195/285 [04:14<01:50,  1.23s/it]"
     ]
    },
    {
     "name": "stdout",
     "output_type": "stream",
     "text": [
      "Frame ID: 196 \tTime: 254.59 seconds\n"
     ]
    },
    {
     "name": "stderr",
     "output_type": "stream",
     "text": [
      "\r",
      " 69%|███████████████████████████████████████████████████████                         | 196/285 [04:15<01:49,  1.23s/it]"
     ]
    },
    {
     "name": "stdout",
     "output_type": "stream",
     "text": [
      "Frame ID: 197 \tTime: 255.80 seconds\n"
     ]
    },
    {
     "name": "stderr",
     "output_type": "stream",
     "text": [
      "\r",
      " 69%|███████████████████████████████████████████████████████▎                        | 197/285 [04:17<01:48,  1.23s/it]"
     ]
    },
    {
     "name": "stdout",
     "output_type": "stream",
     "text": [
      "Frame ID: 198 \tTime: 257.04 seconds\n"
     ]
    },
    {
     "name": "stderr",
     "output_type": "stream",
     "text": [
      "\r",
      " 69%|███████████████████████████████████████████████████████▌                        | 198/285 [04:18<01:46,  1.22s/it]"
     ]
    },
    {
     "name": "stdout",
     "output_type": "stream",
     "text": [
      "Frame ID: 199 \tTime: 258.24 seconds\n"
     ]
    },
    {
     "name": "stderr",
     "output_type": "stream",
     "text": [
      "\r",
      " 70%|███████████████████████████████████████████████████████▊                        | 199/285 [04:19<01:45,  1.23s/it]"
     ]
    },
    {
     "name": "stdout",
     "output_type": "stream",
     "text": [
      "Frame ID: 200 \tTime: 259.49 seconds\n"
     ]
    },
    {
     "name": "stderr",
     "output_type": "stream",
     "text": [
      "\r",
      " 70%|████████████████████████████████████████████████████████▏                       | 200/285 [04:20<01:49,  1.29s/it]"
     ]
    },
    {
     "name": "stdout",
     "output_type": "stream",
     "text": [
      "Frame ID: 201 \tTime: 260.93 seconds\n"
     ]
    },
    {
     "name": "stderr",
     "output_type": "stream",
     "text": [
      "\r",
      " 71%|████████████████████████████████████████████████████████▍                       | 201/285 [04:22<01:46,  1.27s/it]"
     ]
    },
    {
     "name": "stdout",
     "output_type": "stream",
     "text": [
      "Frame ID: 202 \tTime: 262.16 seconds\n"
     ]
    },
    {
     "name": "stderr",
     "output_type": "stream",
     "text": [
      "\r",
      " 71%|████████████████████████████████████████████████████████▋                       | 202/285 [04:23<01:44,  1.26s/it]"
     ]
    },
    {
     "name": "stdout",
     "output_type": "stream",
     "text": [
      "Frame ID: 203 \tTime: 263.39 seconds\n"
     ]
    },
    {
     "name": "stderr",
     "output_type": "stream",
     "text": [
      "\r",
      " 71%|████████████████████████████████████████████████████████▉                       | 203/285 [04:24<01:43,  1.26s/it]"
     ]
    },
    {
     "name": "stdout",
     "output_type": "stream",
     "text": [
      "Frame ID: 204 \tTime: 264.64 seconds\n"
     ]
    },
    {
     "name": "stderr",
     "output_type": "stream",
     "text": [
      "\r",
      " 72%|█████████████████████████████████████████████████████████▎                      | 204/285 [04:25<01:43,  1.27s/it]"
     ]
    },
    {
     "name": "stdout",
     "output_type": "stream",
     "text": [
      "Frame ID: 205 \tTime: 265.95 seconds\n"
     ]
    },
    {
     "name": "stderr",
     "output_type": "stream",
     "text": [
      "\r",
      " 72%|█████████████████████████████████████████████████████████▌                      | 205/285 [04:27<01:41,  1.27s/it]"
     ]
    },
    {
     "name": "stdout",
     "output_type": "stream",
     "text": [
      "Frame ID: 206 \tTime: 267.22 seconds\n"
     ]
    },
    {
     "name": "stderr",
     "output_type": "stream",
     "text": [
      "\r",
      " 72%|█████████████████████████████████████████████████████████▊                      | 206/285 [04:28<01:39,  1.26s/it]"
     ]
    },
    {
     "name": "stdout",
     "output_type": "stream",
     "text": [
      "Frame ID: 207 \tTime: 268.44 seconds\n"
     ]
    },
    {
     "name": "stderr",
     "output_type": "stream",
     "text": [
      "\r",
      " 73%|██████████████████████████████████████████████████████████                      | 207/285 [04:29<01:37,  1.25s/it]"
     ]
    },
    {
     "name": "stdout",
     "output_type": "stream",
     "text": [
      "Frame ID: 208 \tTime: 269.68 seconds\n"
     ]
    },
    {
     "name": "stderr",
     "output_type": "stream",
     "text": [
      "\r",
      " 73%|██████████████████████████████████████████████████████████▍                     | 208/285 [04:30<01:35,  1.24s/it]"
     ]
    },
    {
     "name": "stdout",
     "output_type": "stream",
     "text": [
      "Frame ID: 209 \tTime: 270.90 seconds\n"
     ]
    },
    {
     "name": "stderr",
     "output_type": "stream",
     "text": [
      "\r",
      " 73%|██████████████████████████████████████████████████████████▋                     | 209/285 [04:32<01:39,  1.30s/it]"
     ]
    },
    {
     "name": "stdout",
     "output_type": "stream",
     "text": [
      "Frame ID: 210 \tTime: 272.34 seconds\n"
     ]
    },
    {
     "name": "stderr",
     "output_type": "stream",
     "text": [
      "\r",
      " 74%|██████████████████████████████████████████████████████████▉                     | 210/285 [04:33<01:35,  1.28s/it]"
     ]
    },
    {
     "name": "stdout",
     "output_type": "stream",
     "text": [
      "Frame ID: 211 \tTime: 273.57 seconds\n"
     ]
    },
    {
     "name": "stderr",
     "output_type": "stream",
     "text": [
      "\r",
      " 74%|███████████████████████████████████████████████████████████▏                    | 211/285 [04:34<01:33,  1.26s/it]"
     ]
    },
    {
     "name": "stdout",
     "output_type": "stream",
     "text": [
      "Frame ID: 212 \tTime: 274.80 seconds\n"
     ]
    },
    {
     "name": "stderr",
     "output_type": "stream",
     "text": [
      "\r",
      " 74%|███████████████████████████████████████████████████████████▌                    | 212/285 [04:35<01:30,  1.24s/it]"
     ]
    },
    {
     "name": "stdout",
     "output_type": "stream",
     "text": [
      "Frame ID: 213 \tTime: 275.99 seconds\n"
     ]
    },
    {
     "name": "stderr",
     "output_type": "stream",
     "text": [
      "\r",
      " 75%|███████████████████████████████████████████████████████████▊                    | 213/285 [04:37<01:29,  1.24s/it]"
     ]
    },
    {
     "name": "stdout",
     "output_type": "stream",
     "text": [
      "Frame ID: 214 \tTime: 277.22 seconds\n"
     ]
    },
    {
     "name": "stderr",
     "output_type": "stream",
     "text": [
      "\r",
      " 75%|████████████████████████████████████████████████████████████                    | 214/285 [04:38<01:27,  1.23s/it]"
     ]
    },
    {
     "name": "stdout",
     "output_type": "stream",
     "text": [
      "Frame ID: 215 \tTime: 278.42 seconds\n"
     ]
    },
    {
     "name": "stderr",
     "output_type": "stream",
     "text": [
      "\r",
      " 75%|████████████████████████████████████████████████████████████▎                   | 215/285 [04:39<01:28,  1.26s/it]"
     ]
    },
    {
     "name": "stdout",
     "output_type": "stream",
     "text": [
      "Frame ID: 216 \tTime: 279.76 seconds\n"
     ]
    },
    {
     "name": "stderr",
     "output_type": "stream",
     "text": [
      "\r",
      " 76%|████████████████████████████████████████████████████████████▋                   | 216/285 [04:40<01:25,  1.24s/it]"
     ]
    },
    {
     "name": "stdout",
     "output_type": "stream",
     "text": [
      "Frame ID: 217 \tTime: 280.96 seconds\n"
     ]
    },
    {
     "name": "stderr",
     "output_type": "stream",
     "text": [
      "\r",
      " 76%|████████████████████████████████████████████████████████████▉                   | 217/285 [04:42<01:27,  1.29s/it]"
     ]
    },
    {
     "name": "stdout",
     "output_type": "stream",
     "text": [
      "Frame ID: 218 \tTime: 282.37 seconds\n"
     ]
    },
    {
     "name": "stderr",
     "output_type": "stream",
     "text": [
      "\r",
      " 76%|█████████████████████████████████████████████████████████████▏                  | 218/285 [04:43<01:24,  1.26s/it]"
     ]
    },
    {
     "name": "stdout",
     "output_type": "stream",
     "text": [
      "Frame ID: 219 \tTime: 283.56 seconds\n"
     ]
    },
    {
     "name": "stderr",
     "output_type": "stream",
     "text": [
      "\r",
      " 77%|█████████████████████████████████████████████████████████████▍                  | 219/285 [04:44<01:21,  1.24s/it]"
     ]
    },
    {
     "name": "stdout",
     "output_type": "stream",
     "text": [
      "Frame ID: 220 \tTime: 284.75 seconds\n"
     ]
    },
    {
     "name": "stderr",
     "output_type": "stream",
     "text": [
      "\r",
      " 77%|█████████████████████████████████████████████████████████████▊                  | 220/285 [04:45<01:19,  1.23s/it]"
     ]
    },
    {
     "name": "stdout",
     "output_type": "stream",
     "text": [
      "Frame ID: 221 \tTime: 285.95 seconds\n"
     ]
    },
    {
     "name": "stderr",
     "output_type": "stream",
     "text": [
      "\r",
      " 78%|██████████████████████████████████████████████████████████████                  | 221/285 [04:47<01:17,  1.22s/it]"
     ]
    },
    {
     "name": "stdout",
     "output_type": "stream",
     "text": [
      "Frame ID: 222 \tTime: 287.14 seconds\n"
     ]
    },
    {
     "name": "stderr",
     "output_type": "stream",
     "text": [
      "\r",
      " 78%|██████████████████████████████████████████████████████████████▎                 | 222/285 [04:48<01:16,  1.21s/it]"
     ]
    },
    {
     "name": "stdout",
     "output_type": "stream",
     "text": [
      "Frame ID: 223 \tTime: 288.34 seconds\n"
     ]
    },
    {
     "name": "stderr",
     "output_type": "stream",
     "text": [
      "\r",
      " 78%|██████████████████████████████████████████████████████████████▌                 | 223/285 [04:49<01:15,  1.23s/it]"
     ]
    },
    {
     "name": "stdout",
     "output_type": "stream",
     "text": [
      "Frame ID: 224 \tTime: 289.60 seconds\n"
     ]
    },
    {
     "name": "stderr",
     "output_type": "stream",
     "text": [
      "\r",
      " 79%|██████████████████████████████████████████████████████████████▉                 | 224/285 [04:50<01:14,  1.23s/it]"
     ]
    },
    {
     "name": "stdout",
     "output_type": "stream",
     "text": [
      "Frame ID: 225 \tTime: 290.83 seconds\n"
     ]
    },
    {
     "name": "stderr",
     "output_type": "stream",
     "text": [
      "\r",
      " 79%|███████████████████████████████████████████████████████████████▏                | 225/285 [04:52<01:17,  1.28s/it]"
     ]
    },
    {
     "name": "stdout",
     "output_type": "stream",
     "text": [
      "Frame ID: 226 \tTime: 292.24 seconds\n"
     ]
    }
   ],
   "source": [
    "test_video = 'test_15-30.avi'\n",
    "\n",
    "video_dir = \"../dataset/videos\"\n",
    "\n",
    "det_dir = \"../dataset/detections\"\n",
    "\n",
    "feat_dir = \"../dataset/features\"\n",
    "\n",
    "loss_mode = \"cosine\"\n",
    "\n",
    "model = \"resources/networks/mars-small128.ckpt-68577\"\n",
    "\n",
    "print ('loading model..')\n",
    "PATH_TO_CKPT = '../object_detection/faster_rcnn_resnet101_coco_11_06_2017/frozen_inference_graph.pb'\n",
    "detection_graph = tf.Graph()\n",
    "with detection_graph.as_default():\n",
    "    od_graph_def = tf.GraphDef()\n",
    "    with tf.gfile.GFile(PATH_TO_CKPT, 'rb') as fid:\n",
    "        serialized_graph = fid.read()\n",
    "        od_graph_def.ParseFromString(serialized_graph)\n",
    "        tf.import_graph_def(od_graph_def, name='')\n",
    "label_map = label_map_util.load_labelmap(os.path.join('..', 'object_detection','data', 'mscoco_label_map.pbtxt'))\n",
    "categories = label_map_util.convert_label_map_to_categories(label_map, max_num_classes=90, use_display_name=True)\n",
    "category_index = label_map_util.create_category_index(categories)\n",
    "\n",
    "with detection_graph.as_default():\n",
    "    with tf.Session(graph=detection_graph) as sess:\n",
    "        videos = os.listdir(video_dir)\n",
    "        videos.sort()\n",
    "        for video_name in videos:\n",
    "\n",
    "            if(video_name != test_video and test_video != '' ): \n",
    "                continue\n",
    "\n",
    "            print('Processing Video:', video_name + '..')\n",
    "            detection(sess, \n",
    "                        video_path=os.path.join(video_dir, video_name),\n",
    "                        det_path=os.path.join(det_dir, video_name)\n",
    "                    )\n",
    "            \n",
    "# ==============================================================================\n",
    "\n",
    "f = create_box_encoder(model, batch_size=32, loss_mode=loss_mode)\n",
    "generate_detections(f, video_dir, det_dir, feat_dir)\n",
    "\n",
    "# ==============================================================================\n",
    "\n",
    "tracks_dir= \"../dataset/tracks\"\n",
    "\n",
    "min_confidence = 0.7\n",
    "\n",
    "min_detection_height = 0\n",
    "\n",
    "nms_max_overlap = 1.0\n",
    "\n",
    "max_cosine_distance = 0.25\n",
    "\n",
    "nn_budget = None\n",
    "\n",
    "display = True\n",
    "\n",
    "# ==============================================================================\n",
    "\"\"\"Parse command line arguments.\"\"\"\n",
    "parser = argparse.ArgumentParser(description=\"Re-ID feature extractor\")\n",
    "\n",
    "tracks_dir= \"../dataset/tracks\"\n",
    "\n",
    "min_confidence = 0.7\n",
    "\n",
    "min_detection_height = 0\n",
    "\n",
    "nms_max_overlap = 1.0\n",
    "\n",
    "max_cosine_distance = 0.25\n",
    "\n",
    "nn_budget = None\n",
    "\n",
    "display = False\n",
    "\n",
    "videos = os.listdir(video_dir)\n",
    "videos.sort()\n",
    "for video_name in videos:\n",
    "    if(video_name != test_video and test_video != '' ): \n",
    "        continue\n",
    "    try:\n",
    "        run_deepsort(\n",
    "            video_name = video_name,\n",
    "            video_path = os.path.join(video_dir, video_name), \n",
    "            feat_path  = os.path.join(feat_dir, video_name[:-3]+'npy'), \n",
    "            track_path = os.path.join(tracks_dir, video_name[:-3]+'csv'),\n",
    "            det_dir = os.path.join(det_dir, video_name[:-3]+'csv'),\n",
    "            min_confidence  = min_confidence, \n",
    "            nms_max_overlap = nms_max_overlap, \n",
    "            min_detection_height = min_detection_height,\n",
    "            max_cosine_distance  = max_cosine_distance, \n",
    "            nn_budget = nn_budget, \n",
    "            display   = display\n",
    "            )\n",
    "    except FileNotFoundError:\n",
    "        print(video_name + \" has not yet been generated.\")\n",
    "\n",
    "# ==============================================================================\n",
    "\n",
    "tracks = os.listdir(tracks_dir)\n",
    "tracks.sort()\n",
    "\n",
    "test_track = ''\n",
    "if(test_video != ''):\n",
    "    test_track = test_video[:-3]+'csv'\n",
    "\n",
    "for track in tracks:\n",
    "\n",
    "    if('join.csv' in track):\n",
    "        continue\n",
    "    if(track != test_track and test_track != '' ): \n",
    "        continue\n",
    "    print('\\nProcessing:', track)\n",
    "    run_concatenate(track_path = os.path.join(tracks_dir, track))"
   ]
  },
  {
   "cell_type": "code",
   "execution_count": null,
   "metadata": {},
   "outputs": [],
   "source": [
    "save_output = True\n",
    "\n",
    "out_dir = '../dataset/outputs'\n",
    "\n",
    "cap_dir = '../dataset/captures'\n",
    "\n",
    "concat = False\n",
    "\n",
    "smoothing = True\n",
    "\n",
    "save_fig = False\n",
    "\n",
    "is_plot = False\n",
    "\n",
    "videos = os.listdir(video_dir)\n",
    "videos.sort()\n",
    "for video_name in videos:\n",
    "    if(video_name != test_video and test_video != '' ): \n",
    "        continue\n",
    "    try:                \n",
    "        run_showresult(video_path = os.path.join(video_dir, video_name), \n",
    "            track_path = os.path.join(tracks_dir, video_name[:-3]+'csv'),\n",
    "            feat_path  = os.path.join(feat_dir, video_name[:-3]+'npy'), \n",
    "            save_output = save_output, # save tracking video \n",
    "            out_dir = out_dir,\n",
    "            cap_dir = os.path.join(cap_dir, video_name[:-4]),\n",
    "            concat = concat,\n",
    "            smoothing = smoothing,\n",
    "            save_fig = save_fig, # save captured human\n",
    "            is_plot = is_plot) # subplot of captured human\n",
    "\n",
    "    except FileNotFoundError:\n",
    "        print(video_name + \" has not yet been generated.\")"
   ]
  },
  {
   "cell_type": "code",
   "execution_count": null,
   "metadata": {},
   "outputs": [],
   "source": []
  }
 ],
 "metadata": {
  "kernelspec": {
   "display_name": "Python 3",
   "language": "python",
   "name": "python3"
  },
  "language_info": {
   "codemirror_mode": {
    "name": "ipython",
    "version": 3
   },
   "file_extension": ".py",
   "mimetype": "text/x-python",
   "name": "python",
   "nbconvert_exporter": "python",
   "pygments_lexer": "ipython3",
   "version": "3.7.4"
  }
 },
 "nbformat": 4,
 "nbformat_minor": 2
}
